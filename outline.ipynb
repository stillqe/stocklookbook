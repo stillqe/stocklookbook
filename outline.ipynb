{
 "cells": [
  {
   "cell_type": "markdown",
   "id": "85e2b438",
   "metadata": {},
   "source": [
    "# Stock visualization"
   ]
  },
  {
   "cell_type": "code",
   "execution_count": 97,
   "id": "13665b29",
   "metadata": {
    "ExecuteTime": {
     "end_time": "2021-10-07T20:18:51.597416Z",
     "start_time": "2021-10-07T20:18:51.594026Z"
    }
   },
   "outputs": [],
   "source": [
    "import pandas as pd\n",
    "import yfinance as yf\n",
    "import matplotlib.pyplot as plt\n",
    "import numpy as np\n",
    "import matplotlib.path as mpath\n",
    "import matplotlib.patches as mpatches\n",
    "import matplotlib.pyplot as plt\n",
    "import math"
   ]
  },
  {
   "cell_type": "markdown",
   "id": "5f6acab8",
   "metadata": {},
   "source": [
    "## Fetching data from yahoo financial"
   ]
  },
  {
   "cell_type": "code",
   "execution_count": 98,
   "id": "08402e76",
   "metadata": {
    "ExecuteTime": {
     "end_time": "2021-10-07T20:18:52.419136Z",
     "start_time": "2021-10-07T20:18:52.414198Z"
    }
   },
   "outputs": [
    {
     "ename": "SyntaxError",
     "evalue": "invalid syntax (<ipython-input-98-27dc3d6aaf61>, line 3)",
     "output_type": "error",
     "traceback": [
      "\u001b[0;36m  File \u001b[0;32m\"<ipython-input-98-27dc3d6aaf61>\"\u001b[0;36m, line \u001b[0;32m3\u001b[0m\n\u001b[0;31m    data = yf.download(tickers=tickers, period='1y')to\u001b[0m\n\u001b[0m                                                    ^\u001b[0m\n\u001b[0;31mSyntaxError\u001b[0m\u001b[0;31m:\u001b[0m invalid syntax\n"
     ]
    }
   ],
   "source": [
    "tickers = \"SPY AAPL TSLA\"\n",
    "\n",
    "data = yf.download(tickers=tickers, period='1y')to\n",
    "print(min(data['Low']['AAPL']))\n",
    "data['Low']['AAPL'].head()\n",
    "adjclose = data['Adj Close']\n",
    "\n",
    "#normalize the adjusted closes to see the relative performance of each stock \n",
    "\n",
    "normprice = adjclose/adjclose.iloc[0]*100\n",
    "\n",
    "normprice.plot(figsize=(18,10))"
   ]
  },
  {
   "cell_type": "code",
   "execution_count": 99,
   "id": "5433bd65",
   "metadata": {
    "ExecuteTime": {
     "end_time": "2021-10-07T20:18:53.116678Z",
     "start_time": "2021-10-07T20:18:52.983657Z"
    }
   },
   "outputs": [
    {
     "data": {
      "text/plain": [
       "(array([ 8., 27., 77., 90., 36., 11.,  2.,  0.,  0.,  1.]),\n",
       " array([-0.08549851, -0.05730745, -0.02911639, -0.00092533,  0.02726574,\n",
       "         0.0554568 ,  0.08364786,  0.11183892,  0.14002998,  0.16822105,\n",
       "         0.19641211]),\n",
       " [<matplotlib.patches.Polygon at 0x7fcbf85f30d0>])"
      ]
     },
     "execution_count": 99,
     "metadata": {},
     "output_type": "execute_result"
    },
    {
     "data": {
      "image/png": "[encoded data removed]",
      "text/plain": [
       "<Figure size 432x288 with 1 Axes>"
      ]
     },
     "metadata": {},
     "output_type": "display_data"
    }
   ],
   "source": [
    "returns = adjclose/adjclose.shift(1) - 1\n",
    "\n",
    "kwargs = dict(histtype='stepfilled', alpha=0.3, bins=10)\n",
    "plt.hist(returns['AAPL'], **kwargs)\n",
    "plt.hist(returns['SPY'], **kwargs)\n",
    "plt.hist(returns['TSLA'], **kwargs)"
   ]
  },
  {
   "cell_type": "code",
   "execution_count": 100,
   "id": "e44f12c4",
   "metadata": {
    "ExecuteTime": {
     "end_time": "2021-10-07T20:18:53.689015Z",
     "start_time": "2021-10-07T20:18:53.550298Z"
    }
   },
   "outputs": [
    {
     "data": {
      "image/png": "[encoded data removed]",
      "text/plain": [
       "<Figure size 432x288 with 1 Axes>"
      ]
     },
     "metadata": {},
     "output_type": "display_data"
    }
   ],
   "source": [
    "def ecdf(data):\n",
    "    \"\"\"Compute ECDF for a one dimensional arrary of measurements\"\"\"\n",
    "    x = np.sort(data)\n",
    "    y = np.arange(1, len(x)+1)/len(x)\n",
    "    return x, y\n",
    "\n",
    "x, y = ecdf(returns['AAPL'])\n",
    "plt.plot(x, y, marker='.', linestyle='none')\n",
    "\n",
    "x, y = ecdf(returns['TSLA'])\n",
    "plt.plot(x, y, marker='.',linestyle='none')\n",
    "\n",
    "x, y = ecdf(returns['SPY'])\n",
    "plt.plot(x, y, marker='.',linestyle='none')\n",
    "\n",
    "plt.show()"
   ]
  },
  {
   "cell_type": "markdown",
   "id": "148c1452",
   "metadata": {},
   "source": [
    "## stock info"
   ]
  },
  {
   "cell_type": "code",
   "execution_count": 101,
   "id": "0252d508",
   "metadata": {
    "ExecuteTime": {
     "end_time": "2021-10-07T20:19:04.661129Z",
     "start_time": "2021-10-07T20:18:57.471087Z"
    }
   },
   "outputs": [
    {
     "data": {
      "text/plain": [
       "30.19634"
      ]
     },
     "execution_count": 101,
     "metadata": {},
     "output_type": "execute_result"
    }
   ],
   "source": [
    "tickers = yf.Tickers('msft aapl goog')\n",
    "# ^ returns a named tuple of Ticker objects\n",
    "\n",
    "# access each ticker using (example)\n",
    "tickers.tickers[\"MSFT\"].info['trailingPE']\n",
    "tickers.tickers[\"AAPL\"].info['trailingPE']\n",
    "tickers.tickers[\"GOOG\"].info['trailingPE']\n"
   ]
  },
  {
   "cell_type": "code",
   "execution_count": 102,
   "id": "12d42d80",
   "metadata": {
    "ExecuteTime": {
     "end_time": "2021-10-07T20:19:04.760026Z",
     "start_time": "2021-10-07T20:19:04.755680Z"
    }
   },
   "outputs": [
    {
     "name": "stdout",
     "output_type": "stream",
     "text": [
      "dict_keys(['MSFT', 'AAPL', 'GOOG'])\n",
      "dict_keys(['MSFT', 'AAPL', 'GOOG'])\n",
      "dict_keys(['MSFT', 'AAPL', 'GOOG'])\n"
     ]
    }
   ],
   "source": [
    "for key in tickers.tickers:\n",
    "    print(tickers.tickers.keys())"
   ]
  },
  {
   "cell_type": "code",
   "execution_count": 103,
   "id": "ff09f1ed",
   "metadata": {
    "ExecuteTime": {
     "end_time": "2021-10-07T20:19:07.673076Z",
     "start_time": "2021-10-07T20:19:04.851255Z"
    }
   },
   "outputs": [],
   "source": [
    "#import multiprocessing\n",
    "# multiprocess for Jupyter notebook\n",
    "import multiprocess  \n",
    "\n",
    "tickers = yf.Tickers('msft aapl goog')\n",
    "\n",
    "def getinfo(key):\n",
    "    return tickers.tickers[key].get_info()\n",
    "with multiprocess.Pool() as p:\n",
    "    keys = list(tickers.tickers.keys())\n",
    "    infos = p.map(getinfo, keys)"
   ]
  },
  {
   "cell_type": "code",
   "execution_count": 104,
   "id": "e0d60564",
   "metadata": {
    "ExecuteTime": {
     "end_time": "2021-10-07T20:19:07.781684Z",
     "start_time": "2021-10-07T20:19:07.772831Z"
    }
   },
   "outputs": [
    {
     "data": {
      "text/plain": [
       "{'zip': '94043',\n",
       " 'sector': 'Communication Services',\n",
       " 'fullTimeEmployees': 144056,\n",
       " 'longBusinessSummary': 'Alphabet Inc. provides online advertising services in the United States, Europe, the Middle East, Africa, the Asia-Pacific, Canada, and Latin America. The company offers performance and brand advertising services. It operates through Google Services, Google Cloud, and Other Bets segments. The Google Services segment provides products and services, such as ads, Android, Chrome, hardware, Google Maps, Google Play, Search, and YouTube, as well as technical infrastructure; and digital content. The Google Cloud segment offers infrastructure and data analytics platforms, collaboration tools, and other services for enterprise customers. The Other Bets segment sells internet and TV services, as well as licensing and research and development services. The company was founded in 1998 and is headquartered in Mountain View, California.',\n",
       " 'city': 'Mountain View',\n",
       " 'phone': '650-253-0000',\n",
       " 'state': 'CA',\n",
       " 'country': 'United States',\n",
       " 'companyOfficers': [],\n",
       " 'website': 'http://www.abc.xyz',\n",
       " 'maxAge': 1,\n",
       " 'address1': '1600 Amphitheatre Parkway',\n",
       " 'industry': 'Internet Content & Information',\n",
       " 'ebitdaMargins': 0.34300998,\n",
       " 'profitMargins': 0.2857,\n",
       " 'grossMargins': 0.55723,\n",
       " 'operatingCashflow': 80858996736,\n",
       " 'revenueGrowth': 0.616,\n",
       " 'operatingMargins': 0.28448,\n",
       " 'ebitda': 75552997376,\n",
       " 'targetLowPrice': 2700,\n",
       " 'recommendationKey': 'buy',\n",
       " 'grossProfits': 97795000000,\n",
       " 'freeCashflow': 44609626112,\n",
       " 'targetMedianPrice': 3100,\n",
       " 'currentPrice': 2783.71,\n",
       " 'earningsGrowth': 1.691,\n",
       " 'currentRatio': 3.152,\n",
       " 'returnOnAssets': 0.12759,\n",
       " 'numberOfAnalystOpinions': 9,\n",
       " 'targetMeanPrice': 3106.11,\n",
       " 'debtToEquity': 11.829,\n",
       " 'returnOnEquity': 0.2829,\n",
       " 'targetHighPrice': 3425,\n",
       " 'totalCash': 135863001088,\n",
       " 'totalDebt': 28100999168,\n",
       " 'totalRevenue': 220265005056,\n",
       " 'totalCashPerShare': 203.768,\n",
       " 'financialCurrency': 'USD',\n",
       " 'revenuePerShare': 326.656,\n",
       " 'quickRatio': 3.027,\n",
       " 'recommendationMean': 1.6,\n",
       " 'exchange': 'NMS',\n",
       " 'shortName': 'Alphabet Inc.',\n",
       " 'longName': 'Alphabet Inc.',\n",
       " 'exchangeTimezoneName': 'America/New_York',\n",
       " 'exchangeTimezoneShortName': 'EDT',\n",
       " 'isEsgPopulated': False,\n",
       " 'gmtOffSetMilliseconds': '-14400000',\n",
       " 'quoteType': 'EQUITY',\n",
       " 'symbol': 'GOOG',\n",
       " 'messageBoardId': 'finmb_29096',\n",
       " 'market': 'us_market',\n",
       " 'annualHoldingsTurnover': None,\n",
       " 'enterpriseToRevenue': 7.826,\n",
       " 'beta3Year': None,\n",
       " 'enterpriseToEbitda': 22.817,\n",
       " '52WeekChange': 0.8487277,\n",
       " 'morningStarRiskRating': None,\n",
       " 'forwardEps': 105.81,\n",
       " 'revenueQuarterlyGrowth': None,\n",
       " 'sharesOutstanding': 320168000,\n",
       " 'fundInceptionDate': None,\n",
       " 'annualReportExpenseRatio': None,\n",
       " 'totalAssets': None,\n",
       " 'bookValue': 355.83,\n",
       " 'sharesShort': 2636694,\n",
       " 'sharesPercentSharesOut': 0.004,\n",
       " 'fundFamily': None,\n",
       " 'lastFiscalYearEnd': 1609372800,\n",
       " 'heldPercentInstitutions': 0.67143995,\n",
       " 'netIncomeToCommon': 62928998400,\n",
       " 'trailingEps': 92.187,\n",
       " 'lastDividendValue': None,\n",
       " 'SandP52WeekChange': 0.26596034,\n",
       " 'priceToBook': 7.823146,\n",
       " 'heldPercentInsiders': 0.00043000001,\n",
       " 'nextFiscalYearEnd': 1672444800,\n",
       " 'yield': None,\n",
       " 'mostRecentQuarter': 1625011200,\n",
       " 'shortRatio': 2.79,\n",
       " 'sharesShortPreviousMonthDate': 1628812800,\n",
       " 'floatShares': 580750189,\n",
       " 'beta': 1.025925,\n",
       " 'enterpriseValue': 1723867070464,\n",
       " 'priceHint': 2,\n",
       " 'threeYearAverageReturn': None,\n",
       " 'lastSplitDate': None,\n",
       " 'lastSplitFactor': None,\n",
       " 'legalType': None,\n",
       " 'lastDividendDate': None,\n",
       " 'morningStarOverallRating': None,\n",
       " 'earningsQuarterlyGrowth': 1.662,\n",
       " 'priceToSalesTrailing12Months': 8.433175,\n",
       " 'dateShortInterest': 1631664000,\n",
       " 'pegRatio': 1.17,\n",
       " 'ytdReturn': None,\n",
       " 'forwardPE': 26.308573,\n",
       " 'lastCapGain': None,\n",
       " 'shortPercentOfFloat': None,\n",
       " 'sharesShortPriorMonth': 2589529,\n",
       " 'impliedSharesOutstanding': 666755008,\n",
       " 'category': None,\n",
       " 'fiveYearAverageReturn': None,\n",
       " 'previousClose': 2747.08,\n",
       " 'regularMarketOpen': 2777.26,\n",
       " 'twoHundredDayAverage': 2546.1506,\n",
       " 'trailingAnnualDividendYield': None,\n",
       " 'payoutRatio': 0,\n",
       " 'volume24Hr': None,\n",
       " 'regularMarketDayHigh': 2803.089,\n",
       " 'navPrice': None,\n",
       " 'averageDailyVolume10Day': 1415187,\n",
       " 'regularMarketPreviousClose': 2747.08,\n",
       " 'fiftyDayAverage': 2822.4297,\n",
       " 'trailingAnnualDividendRate': None,\n",
       " 'open': 2777.26,\n",
       " 'toCurrency': None,\n",
       " 'averageVolume10days': 1415187,\n",
       " 'expireDate': None,\n",
       " 'algorithm': None,\n",
       " 'dividendRate': None,\n",
       " 'exDividendDate': None,\n",
       " 'circulatingSupply': None,\n",
       " 'startDate': None,\n",
       " 'regularMarketDayLow': 2771.32,\n",
       " 'currency': 'USD',\n",
       " 'trailingPE': 30.19634,\n",
       " 'regularMarketVolume': 900891,\n",
       " 'lastMarket': None,\n",
       " 'maxSupply': None,\n",
       " 'openInterest': None,\n",
       " 'marketCap': 1857533378560,\n",
       " 'volumeAllCurrencies': None,\n",
       " 'strikePrice': None,\n",
       " 'averageVolume': 1060280,\n",
       " 'dayLow': 2771.32,\n",
       " 'ask': 2786.13,\n",
       " 'askSize': 800,\n",
       " 'volume': 900891,\n",
       " 'fiftyTwoWeekHigh': 2936.41,\n",
       " 'fromCurrency': None,\n",
       " 'fiveYearAvgDividendYield': None,\n",
       " 'fiftyTwoWeekLow': 1465.09,\n",
       " 'bid': 2783.63,\n",
       " 'tradeable': False,\n",
       " 'dividendYield': None,\n",
       " 'bidSize': 900,\n",
       " 'dayHigh': 2803.089,\n",
       " 'regularMarketPrice': 2783.71,\n",
       " 'logo_url': 'https://logo.clearbit.com/abc.xyz'}"
      ]
     },
     "execution_count": 104,
     "metadata": {},
     "output_type": "execute_result"
    }
   ],
   "source": [
    "infos[2]"
   ]
  },
  {
   "cell_type": "markdown",
   "id": "0d82f484",
   "metadata": {},
   "source": [
    "## stock visualization"
   ]
  },
  {
   "cell_type": "code",
   "execution_count": 11,
   "id": "89af167e",
   "metadata": {
    "ExecuteTime": {
     "end_time": "2021-10-06T18:54:28.849560Z",
     "start_time": "2021-10-06T18:54:28.674128Z"
    }
   },
   "outputs": [
    {
     "data": {
      "image/png": "[encoded data removed]",
      "text/plain": [
       "<Figure size 144x72 with 1 Axes>"
      ]
     },
     "metadata": {
      "needs_background": "light"
     },
     "output_type": "display_data"
    }
   ],
   "source": [
    "apple = yf.Ticker('AAPL')\n",
    "history = apple.history(period='1y')\n",
    "close = history['Close']\n",
    "\n",
    "#normalize the adjusted closes to see the relative performance of each stock \n",
    "\n",
    "normprice = close/close.iloc[0]\n",
    "\n",
    "low = close.min()\n",
    "high = close.max()\n",
    "current = close.iloc[-1]\n",
    "\n",
    "\n",
    "\n",
    "fig, ax = plt.subplots(figsize=(2,1))\n",
    "\n",
    "ax.plot(normprice)\n",
    "ax.axhline(y=1, ls='dotted')\n",
    "\n",
    "plt.axis('off')\n",
    "plt.show()"
   ]
  },
  {
   "cell_type": "code",
   "execution_count": 12,
   "id": "a91acd04",
   "metadata": {
    "ExecuteTime": {
     "end_time": "2021-10-06T18:54:34.268403Z",
     "start_time": "2021-10-06T18:54:34.262897Z"
    }
   },
   "outputs": [],
   "source": [
    "from IPython.display import HTML\n",
    "import io\n",
    "import base64\n",
    "\n",
    "class FlowLayout(object):\n",
    "    ''' A class / object to display plots in a horizontal / flow layout below a cell '''\n",
    "    def __init__(self):\n",
    "        # string buffer for the HTML: initially some CSS; images to be appended\n",
    "        self.sHtml =  \"\"\"\n",
    "        <style>\n",
    "        .floating-box {\n",
    "        display: inline-block;\n",
    "        text-align: center;\n",
    "        margin: 5px;\n",
    "        border: 1px solid #888888;  \n",
    "        }\n",
    "        </style>\n",
    "        \"\"\"\n",
    "\n",
    "    def add_plot(self, oAxes, ticker):\n",
    "        ''' Saves a PNG representation of a Matplotlib Axes object '''\n",
    "        Bio=io.BytesIO() # bytes buffer for the plot\n",
    "        fig = oAxes.get_figure()\n",
    "        fig.canvas.print_png(Bio) # make a png of the plot in the buffer\n",
    "\n",
    "        # encode the bytes as string using base 64 \n",
    "        sB64Img = base64.b64encode(Bio.getvalue()).decode()\n",
    "        self.sHtml+= (\n",
    "            '<div class=\"floating-box\">'+ \n",
    "            '<img src=\"data:image/png;base64,{}\\n\">'.format(sB64Img)+\n",
    "            ticker+\n",
    "            '</div>')\n",
    "\n",
    "    def PassHtmlToCell(self):\n",
    "        ''' Final step - display the accumulated HTML '''\n",
    "        display(HTML(self.sHtml))\n"
   ]
  },
  {
   "cell_type": "code",
   "execution_count": 13,
   "id": "08b6fcd9",
   "metadata": {
    "ExecuteTime": {
     "end_time": "2021-10-06T18:54:35.136513Z",
     "start_time": "2021-10-06T18:54:35.133829Z"
    }
   },
   "outputs": [],
   "source": [
    "SP10 = \"AAPL MSFT AMZN FB GOOGL GOOG BRK-B TSLA NVDA JPM\"\n",
    "SP23 = \"AAPL MSFT AMZN FB GOOGL GOOG BRK-B TSLA NVDA JPM JNJ V UNH PYPL HD PG MA DIS ADBE BAC CMCSA XOM\"\n",
    "SP30 = \"AAPL MSFT AMZN FB GOOGL GOOG BRK-B TSLA NVDA JPM JNJ V UNH PYPL HD PG MA DIS ADBE BAC CMCSA XOM PFE CRM CSCO VZ NFLX KO PEP INTC ABT NKE ABBV TMO ACN T MRK LLY CVX WMT AVGO WFC COST\"\n",
    "mostV = \"TLRY PFE BA TDOC TEVA NAOV SPOT DUOL QS CAKE BTBT INFI AUPH SPRT U NEGG FB SNDL HMLP BB FLGC CLF GRVI GNRC BNTX WISH EVGO TLRY.TO MCD\""
   ]
  },
  {
   "cell_type": "code",
   "execution_count": 14,
   "id": "1770c649",
   "metadata": {
    "ExecuteTime": {
     "end_time": "2021-10-06T18:54:36.229311Z",
     "start_time": "2021-10-06T18:54:36.191666Z"
    }
   },
   "outputs": [],
   "source": [
    "import time\n",
    "import datetime\n",
    "import dateutil \n",
    "import yfinance as yf\n",
    "from finvizfinance.quote import finvizfinance as fv\n",
    "from finvizfinance.screener.overview import Overview\n",
    "from finvizfinance.screener.custom import Custom\n",
    "\n",
    "plt.style.use('dark_background')\n",
    "\n",
    "def get_startdate(period):\n",
    "    month_dic = {'1m':1, '3m':3, '6m':6, '1y':12, '2y':24, '3y':36, '5y':60}\n",
    "    delta = dateutil.relativedelta.relativedelta(months=month_dic[period])\n",
    "    start = datetime.date.today() - delta\n",
    "    return start  \n",
    "\n",
    "\n",
    "class Stocks:\n",
    "    \"\"\" Stocks class for calculating stock stats and \n",
    "    visualizing a stock based on the stats.\n",
    "    \n",
    "    Attributes:\n",
    "        tickers (list of str) a list of strings extracted from the tickers\n",
    "        data (dataframe) representing the historical stock data\n",
    "        info (nested dictionary) representing each stock's information\n",
    "        stats (nested dictionary) representing each stock's stats \n",
    "            \n",
    "    \"\"\"\n",
    "   \n",
    "    PERIODS = ['1m', '3m', '1y','2y','5y']\n",
    "    \n",
    "    def __init__(self, tickers=\"\",query=None, benchmark=\"SPY\"):\n",
    "        \n",
    "        if query is None:\n",
    "            if type(tickers) == str:\n",
    "                self.tickers=tickers.split(\" \")\n",
    "            else:\n",
    "                self.tickers=tickers\n",
    "\n",
    "            self.stats={}\n",
    "            for ticker in self.tickers:\n",
    "                self.stats[ticker]={} \n",
    "            self.m_stats = {}\n",
    "\n",
    "            start = time.time()\n",
    "            self.load_stocks(tickers, benchmark, Stocks.PERIODS[-1]) \n",
    "            print('load stock Time: {} seconds'.format(time.time() - start))\n",
    "            start = time.time()\n",
    "            self.calculate_stats(Stocks.PERIODS)\n",
    "            print('calculate stats Time: {} seconds'.format(time.time() - start))\n",
    "            start = time.time()\n",
    "            self.load_info()\n",
    "            print('load info Time: {} seconds'.format(time.time() - start))\n",
    "            \n",
    "        else:\n",
    "            fcustom = Custom()\n",
    "            #filters_dict = {'Index':'S&P 500','Country':'USA', 'Performance':'Year +100%' }\n",
    "            fcustom.set_filter(filters_dict=query)\n",
    "            start = time.time()\n",
    "            overview = fcustom.ScreenerView(order = 'Performance (Month)', ascend=False, columns=[0, 1, 2, 3, 6, 7, 42, 43, 65, 66, 67])\n",
    "            print('load overview Time: {} seconds'.format(time.time() - start))\n",
    "            print(overview.head())\n",
    "            self.tickers = overview.Ticker.tolist()\n",
    "            \n",
    "            self.stats={}\n",
    "            for ticker in self.tickers:\n",
    "                self.stats[ticker]={} \n",
    "            self.m_stats = {}\n",
    "            \n",
    "        \n",
    "            start = time.time()\n",
    "            self.load_stocks(self.tickers, benchmark, Stocks.PERIODS[-1]) \n",
    "            print('load stock Time: {} seconds'.format(time.time() - start))\n",
    "            start = time.time()\n",
    "            self.calculate_stats(Stocks.PERIODS)\n",
    "            print('calculate stats Time: {} seconds'.format(time.time() - start))\n",
    "            start = time.time()\n",
    "            self.load_info_fromoverview(overview)\n",
    "            print('load info from overview Time: {} seconds'.format(time.time() - start))\n",
    "    \n",
    "    def __repr__(self):\n",
    "        \"\"\"function to represent the instance of the stocks\"\"\"\n",
    "        return str([stock +\": \" + str(info['1y']['performance']) for stock, info in self.stats.items()])\n",
    "            \n",
    "    def calculate_stats(self, periods):\n",
    "        \"\"\"calcuate performance of each stock on given period and store it to dataframe\"\"\"\n",
    "        for period in periods:\n",
    "            start = get_startdate(period)\n",
    "            m_close = self.market[start:]['Adj Close']\n",
    "            m_returns = np.log(m_close/m_close.shift(1))\n",
    "            self.m_stats[period] = {'performance': m_close.iloc[-1]/m_close.iloc[0], \"volatility\":m_returns.std()} \n",
    "\n",
    "            close = self.data[start:]['Adj Close']\n",
    "            low = self.data[start:]['Low']\n",
    "            high = self.data[start:]['High']\n",
    "            \n",
    "            for ticker in self.tickers:       \n",
    "                #to do : exception process when ticker doesn't exist or only one ticker case\n",
    "\n",
    "                s_close = close[ticker].dropna()\n",
    "                s_low = low[ticker].dropna()\n",
    "                s_high = high[ticker].dropna()\n",
    "                if (len(s_close)>0):\n",
    "                    change = s_close.iloc[-1]/s_close.iloc[0]\n",
    "                    returns = np.log(s_close/ s_close.shift(1))\n",
    "                    half = int(len(returns)/2)\n",
    "                    vola1 = returns.iloc[:half].std()\n",
    "                    vola2 = returns.iloc[half:].std()\n",
    "                    self.stats[ticker][period] = {'performance':change, \n",
    "                                          'volatility1':vola1, 'volatility2':vola2, \n",
    "                                         \"low\":s_low.min(),\"high\":s_high.max(), \"current\":s_close.iloc[-1]}\n",
    "         \n",
    "            \n",
    "        \n",
    "    def load_stocks(self, tickers, benchmark, period='5y'):\n",
    "\n",
    "        print('downloading benchmark')\n",
    "        self.market = yf.download(tickers=benchmark, period=period)\n",
    "        print('downloading stock data')\n",
    "        self.data = yf.download(tickers=tickers, period=period)   \n",
    "    \n",
    "    def load_info(self):\n",
    "        self.fundamentals = {}\n",
    "        for ticker in self.tickers:\n",
    "            try:\n",
    "                self.fundamentals[ticker] = fv(ticker).TickerFundament()\n",
    "            except Exception as e:\n",
    "                self.fundamentals[ticker] = {\"P/E\":\"-\"}\n",
    "                print(e)\n",
    "    \n",
    "    def load_info_fromoverview(self, overview):\n",
    "        self.fundamentals = overview.set_index('Ticker').T.to_dict()\n",
    "\n",
    "            \n",
    "    def visualize(self, pallete = 'spring', period='1y'):\n",
    "        start = time.time()\n",
    "        oPlot = FlowLayout() # create an empty FlowLayout\n",
    "        m_perf = self.m_stats[period][\"performance\"]\n",
    "        m_vola = self.m_stats[period][\"volatility\"]\n",
    "        for ticker, stats in self.stats.items():       \n",
    "            #height =  math.ceil(stats[\"performance\"]/self.m_stats[period][\"performance\"])\n",
    "            fig, ax = plt.subplots(figsize=(1,2))    \n",
    "            ax.patch.set_facecolor('black')\n",
    "            self.pillarplot(ax, stats[period][\"performance\"]/m_perf, \n",
    "                            stats[period][\"volatility1\"]/m_vola,\n",
    "                            stats[period][\"volatility2\"]/m_vola, \n",
    "                            stats[period][\"low\"], stats[period][\"high\"], stats[period][\"current\"],\n",
    "                            self.get_color(self.fundamentals[ticker][\"P/E\"], pallete)\n",
    "                           ) \n",
    "\n",
    "            fig.savefig(\"stocklookbookapp/static/stocks/\"+ticker+\"_\"+period+\".svg\", bbox_inches='tight', pad_inches=0.0, format=\"svg\")\n",
    "            oPlot.add_plot(ax, ticker) # pass it to the FlowLayout to save as an image\n",
    "            plt.close() # this gets rid of the plot so it doesn't appear in the cell\n",
    "\n",
    "\n",
    "        oPlot.PassHtmlToCell()\n",
    "        print('visualizatio Time: {} seconds'.format(time.time() - start))\n",
    "        \n",
    "    \n",
    "    def pillarplot(self, ax, performance, vola1, vola2, low, high, current, color, width=1, height=1):\n",
    "    \n",
    "        \n",
    "        dw, dx1, dy1, dx2, dy2 = self.get_cpoints(vola1, vola2)\n",
    "\n",
    "        bottom_left = np.array([0,0]) \n",
    "        bottom_right = np.array([width,0])\n",
    "        top_left = bottom_left + [0, height*performance]\n",
    "        top_right = bottom_right + [0, height*performance]\n",
    "\n",
    "\n",
    "        c1_left = (bottom_left*3/4 + top_left/4) + [width*dx1,0] -[0, dy1]\n",
    "        c1_right = (bottom_right*3/4 + top_right/4) - [width*dx1,0] -[0, dy1]\n",
    "\n",
    "        waist_left = (bottom_left + top_left)/2 + [width*dw,0] \n",
    "        waist_right = (bottom_right + top_right)/2 - [width*dw,0]\n",
    "\n",
    "\n",
    "        c2_left = (bottom_left/4 + top_left*3/4) + [width*dx2, 0] + [0,dy2]\n",
    "        c2_right = (bottom_right/4 + top_right*3/4) - [width*dx2, 0] + [0,dy2]\n",
    "\n",
    "\n",
    "\n",
    "        Path = mpath.Path\n",
    "\n",
    "        codes = [Path.MOVETO, Path.CURVE3, Path.CURVE3, Path.CURVE3,Path.CURVE3, Path.LINETO, Path.CURVE3,Path.CURVE3,Path.CURVE3,Path.CURVE3, Path.CLOSEPOLY]\n",
    "        vertices = [bottom_left, c1_left, waist_left, c2_left, top_left, top_right, c2_right, waist_right, c1_right, bottom_right, bottom_left]\n",
    "        \n",
    "        \n",
    "        \n",
    "        pp = mpatches.PathPatch(Path(vertices, codes), color=color, alpha=1)\n",
    "\n",
    "        ax.add_patch(pp)\n",
    "        pos = (current-low)/(high-low)*width\n",
    "        ax.scatter(pos,0, color='w',s=10, zorder=2)\n",
    "\n",
    "        ax.axis('off')\n",
    "        ax.set_xlim([-0.25, 1.25])\n",
    "        ax.set_ylim([-0.1, 3.5])\n",
    "        ax.set_aspect('equal', 'box')\n",
    "        #fig.tight_layout()\n",
    "        \n",
    "        return\n",
    "    \n",
    "    @staticmethod\n",
    "    def get_cpoints(vola1, vola2):\n",
    "        \"\"\"calcaulate the points of quadratic bezier curve based on the volatility of stock\"\"\"\n",
    "\n",
    "        rv1 = (vola1-1)/10\n",
    "        rv2 = (vola2-1)/10\n",
    "        LIMIT = 4.8/10\n",
    "\n",
    "\n",
    "        dx1 = min(rv1, LIMIT)\n",
    "        dx2 = min(rv2, LIMIT)\n",
    "\n",
    "        dy = lambda x: 0 if (x < LIMIT) else min(1/(4/LIMIT)*(x-LIMIT), 1/4)\n",
    "        dy1 = dy(rv1)\n",
    "        dy2 = dy(rv2)\n",
    "\n",
    "        w = (dx1+dx2)/2\n",
    "\n",
    "        return w, dx1, dy1, dx2, dy2\n",
    "    \n",
    "    \n",
    "    @staticmethod\n",
    "    def get_color(PE, pallete):\n",
    "        \"\"\"get a color to represent P/E ratio\"\"\"\n",
    "        cm = plt.get_cmap(pallete)\n",
    "        \n",
    "        try:\n",
    "            num = float(PE)/100\n",
    "            if np.isnan(num):\n",
    "                color = (0.7, 0.7, 0.7)\n",
    "            else:\n",
    "                color = cm(num)\n",
    "        except:    \n",
    "            color = (0.7, 0.7, 0.7)\n",
    "                      \n",
    "        return color\n",
    "        \n",
    "    #def add_stocks(tickers):\n",
    "        "
   ]
  },
  {
   "cell_type": "code",
   "execution_count": 15,
   "id": "930ad061",
   "metadata": {
    "ExecuteTime": {
     "end_time": "2021-10-06T18:54:49.231067Z",
     "start_time": "2021-10-06T18:54:38.589799Z"
    }
   },
   "outputs": [
    {
     "name": "stdout",
     "output_type": "stream",
     "text": [
      "downloading benchmark\n",
      "[*********************100%***********************]  1 of 1 completed\n",
      "downloading stock data\n",
      "[*********************100%***********************]  29 of 29 completed\n",
      "load stock Time: 1.5436770915985107 seconds\n",
      "calculate stats Time: 0.27510690689086914 seconds\n",
      "404 Client Error: Not Found for url: https://finviz.com/quote.ashx?t=SPRT\n",
      "404 Client Error: Not Found for url: https://finviz.com/quote.ashx?t=TLRY.TO\n",
      "load info Time: 7.631693124771118 seconds\n"
     ]
    },
    {
     "data": {
      "text/html": [
       "\n",
       "        <style>\n",
       "        .floating-box {\n",
       "        display: inline-block;\n",
       "        text-align: center;\n",
       "        margin: 5px;\n",
       "        border: 1px solid #888888;  \n",
       "        }\n",
       "        </style>\n",
       "        <div class=\"floating-box\"><img src=\"data:image/png;base64,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\n",
       "\">TLRY</div><div class=\"floating-box\"><img src=\"data:image/png;base64,iVBORw0KGgoAAAANSUhEUgAAAEgAAACQCAYAAACrgC0FAAAAOXRFWHRTb2Z0d2FyZQBNYXRwbG90bGliIHZlcnNpb24zLjQuMiwgaHR0cHM6Ly9tYXRwbG90bGliLm9yZy8rg+JYAAAACXBIWXMAAAsTAAALEwEAmpwYAAADq0lEQVR4nO3dz0sUcRzG8WdmXGc0LSMlos0sM4kSIulQkFGXLu2lk127e+3eybuX/oSCrp06R4EdkkgirUT7/cOE2t87s98OlSDr9qTMZ7V43jB4msfZF7qMw4IeAAfVNH+rL2C7JyCSgEgCIgmIJCCSgEgCIgmIJCCSgEgCIgmIJCCSgEgCIgmIJCCSgEgCIgmIJCCSgEgCIgmIJCCSgEgCIgmIJCCSgEgCIgmIJCCSgEgCIgmIJCCSgEgCIgmIJCCSgEgCIgmIJCCSgEgCIgmIJCCSgEgCIgmIJCCSgEgCIgmIJCCSgEgCIgmIJCCSgEgCIgmIJCCSgEgCIgmIJCCSgEgCIgmIJCCSgEgCIgmIJCCSgEgCIgmIJCCSgEgCIgmIJCCSgEgCIgmIJCCSgEgCIrVZjE70jmOib9ximnZt6QbuFx6ntmcCNBhmMRhm4Xut/QEtJCXsz/SlumnyCh4UniBfL1pM06aLs6numQA9Ks4i8AKL6T/m4LBQfZvqpgnQQvXtlvxbt9nyq9Q3zd4kFmvvraabNlN6nvqmGdCz8oLV9LqVkjKell6kvmsGNFOcQ+xiq/mGKq6GucpS6rtmQHOVRRTrZav5htq8APP/GlAr36dDvx2L1fTf98yA5itL6PQjq/mGPtaWUUc99V0zoEK9hEJSsppv6GXljcmu6d8Cn+MVy/k1LVTfmeyaAn1qIdCb6keTXVOgD/Fny/nVSvUyPsTLJtu2QLWvlvOrxS7BSvLNZNsUqOZqlvOrOTjELjHZNgZqzZ20A8zu2v8LIABIDO6BAGOgfSk/3WtWAB97gl0m26ZAJ6JBy/nVuoJOHIsOmWybAh0Os5bzazrZMWyyawYUeSF2Bjus5hsaivpNds2AjoQHUGrh4459bb3w4KW+awY0FPa39HFHDTGymb2p75oBDUcH0emHVvMN1eoxjhr8mpkBndtxChkvYzXfUOSHON1xPPVdE6B2L4ML3aMW002L/HaM776U+q4J0PmuUVQ3cxc9thO4nv35dRMNRwPobevZ1LnNMgG60nMR3X4nEpf8/THWBTc5AIz3wU0OIBnr2tj5LkEAH5e6z6b6Wkw+vHDzyx283uADrMsjV3GmYwgA4HUEmB5Zwt3btzb8ve99f7jhc1huOxy5XM7l83nnnHP5fN7lcrktv6Zfx5ZfwBqkqamp7YTjvN9Kav30ETySgEgCIgmIJCCSgEgCIgmIJCCSgEgCIgmIJCCSgEgCIgmIJCDSDxKClNKxqkqJAAAAAElFTkSuQmCC\n",
       "\">PFE</div><div class=\"floating-box\"><img src=\"data:image/png;base64,iVBORw0KGgoAAAANSUhEUgAAAEgAAACQCAYAAACrgC0FAAAAOXRFWHRTb2Z0d2FyZQBNYXRwbG90bGliIHZlcnNpb24zLjQuMiwgaHR0cHM6Ly9tYXRwbG90bGliLm9yZy8rg+JYAAAACXBIWXMAAAsTAAALEwEAmpwYAAAEKklEQVR4nO3dPUsjfRjF4XszM05UFEQkWOgXMF1ARLDzrYmVjaWFCIIvhd/Czq8gdhaWaqHBgKBEBAsFFRW0iIVKJDGJk8ls5bIrOznL+r/HfR7OBXZ6Jvw0k8ko+E1EAqFQsa9+AP86BgIYCGAggIEABgIYCGAggIEABgIYCGAggIEABgIYCGAggIEABgIYCGAggIEABgIYCGAggIEABgIYCGAggIEABgIYCGAggIEABgIYCGAggIEABgIYCGAggIEABgIYCGAggIEABgIYCGAggIEABgIYCGAggIEABgIYCGAggIEABgIYCGAggIEABgIYCGAggIEABgIYCGAggIEABgIYCGAggIEABgIYCGAggIEABgIYCGAggIEABgIYCGAggIEABgIYCGAggIEAW2N0dHRUJicnNaahlZUVuby8NLanEsiyLOns7JSmpiaN+VCe50kQmP1PPCpPsUwmY/yB/ol8Pi9XV1dGN1UClctlyWQyUqvVNOZDj7mxsWF8V+0kvbm5Kb7va83/VjabNb6pFuj+/l4eHh605n/h+77s7++L53nGt1Vf5nd2dqRSqWgeQkREqtWq7O7uqmyrBspmsxKL6V9q+b4v5+fnKtuqj/7p6Unu7u40DyG+76u+aqp/e7e3t6VcLqvtv729yd7entq+eqCDgwOxLEttv1KpGL1y/kg9UKFQkOvra5Vtz/PUTs7vInmzurW1pfI0ez//aIokUC6XE9s2/7avWq3K7e2t8d2fRRKoUCjI4+Oj8d2TkxPjmx9Fdj/o6OjI6FuP19dXOTw8NLYXJrJAuVzO6FW14zhyenpqbC9MZIEuLi7EdV1je6VSSV5eXozthYksUKlUMvoTpH2F/i7Se9Im7w9Vq1VjW41EGsjkLdjW1lZjW438ZwPF43FjW41EFsiyLKO3PlpaWoxtNRJZoGQyafQk3dHRIe3t7cb2wkQWaHh42OjTol6vy+DgoLG9MJEEsm1bBgYGjD7F4vG4jI+PG9sLE0mgVCol9Xrd+G5PT490dXUZ3/2ZeiDHcWR2dlblpBqLxWRubs747i/HUF0XkampKWlra1PZtm1bksmk9Pf3q+yLKAfq7e2ViYkJ1WuWeDwui4uL0tzcrLKvFsiyLFleXhbHcbQO8YPrujIzM6OyrRZofn5euru7P/XKlUgkpK+vTxKJRMPPc11XhoaGZGxs7K+PFeabiBj/hdLIyIgsLCx86pUrkUhIKpUS27alVqvJ8fHxH/0qe2lpSW5ubv76uB+p/H3Q2dmZrK2tfWpjenr6x31s27bl+flZ1tfX4dfl8/lPHfd3gn/xI51OB8ViMQiCICgWi0E6nf6qx/L1MRpFWl1d/co4gco56P+Ef+UKMBDAQAADAQwEMBDAQAADAQwEMBDAQAADAQwEMBDAQAADAQwEfAeGfpandxrBkQAAAABJRU5ErkJggg==\n",
       "\">BA</div><div class=\"floating-box\"><img src=\"data:image/png;base64,iVBORw0KGgoAAAANSUhEUgAAAEgAAACQCAYAAACrgC0FAAAAOXRFWHRTb2Z0d2FyZQBNYXRwbG90bGliIHZlcnNpb24zLjQuMiwgaHR0cHM6Ly9tYXRwbG90bGliLm9yZy8rg+JYAAAACXBIWXMAAAsTAAALEwEAmpwYAAADUElEQVR4nO3dPywkYRzG8WcZ1lKoVEIpokKrVI9KMdW2ColWlEJFNKJVKkSFTkWhIRrRKHQahRXJyL7rz84VF3LJ2Tw5N7Puku8nmXJ/75tvdv5tsyVJmdBSx3dv4F9HIINABoEMAhkEMghkEMggkEEgg0AGgQwCGQQyCGQQyCCQQSCDQAaBDAIZBDIIZBDIIJBBIINABoEMAhkEMghkEMggkEEgg0AGgQwCGQQyCGQQyCCQQSCDQAaBDAIZBDIIZBDIIJBBIINABoEMAhkEMghkEMggkEEgg0AGgQwCGQQyCGQQyCCQQSCDQAaBDAIZBDIIZBDIIJBBIINABoEMAhkEMghkEMggkEEgg0AGgQwCGQQyCGQQyCCQQSCDQAaBDAIZBDIIZBDIIJBBIINABoEMAhkEMghkEMggkEEgg0AGgYyoiKETExOan59XqVQqYnxLzWZTi4uLqtVquc0sJNDt7a3u7+81MjKiKCpkid+8vb3p+PhY9Xo917klFfh36tPT05qbm1O5XFZHRzFn88vLi9I01dramq6urnKfX2ggSRocHNTKyor6+/vV3d2d6+wQgm5ubrS6uqo0TXOd/a7wQJLU29urpaUljY6OqqenJ5eZIQQdHR1pe3tbzWYzl5mfaUsgSSqVSqpWq4rjWOVy+a9mhRC0tbWlk5OTnHbXWtsCvYvjWNVq9cvfpBCClpeXC7nefKbtz0GHh4c6ODj40t2m0WhofX29bXGkb3pQ3N/fV1dX1x9/LoSgs7OzAnbU2rcEmpyc1PPz8x9/rq+vT8PDwwXsqLW2X4NmZ2eVJMmXLtTNZvPjNDs/Py9gd79rS6DOzk5NTU0pSRINDAz89a2+0Wjo+vpau7u7ury8zGmXnyssUBzHmpmZUa1W09DQkKIoUqVSyXWNer2ux8dH7e3t6fT0VE9PT7nOlwoKtLCwoI2NDUVRpNfXV11cXOju7i7vZST9fL769aU4SZJcQxXyJjk+Pv7xkhpFkR4eHrSzs1PEUh8qlYrGxsYUQsh9dpb3EcdxlqZplmVZlqZpFsdx7mu08ShmcBzH2ebm5v8eJ2v7bf5/w0+uBoEMAhkEMghkEMggkEEgg0AGgQwCGQQyCGQQyCCQQSCDQMYP9zhSCJJV8fsAAAAASUVORK5CYII=\n",
       "\">TDOC</div><div class=\"floating-box\"><img src=\"data:image/png;base64,iVBORw0KGgoAAAANSUhEUgAAAEgAAACQCAYAAACrgC0FAAAAOXRFWHRTb2Z0d2FyZQBNYXRwbG90bGliIHZlcnNpb24zLjQuMiwgaHR0cHM6Ly9tYXRwbG90bGliLm9yZy8rg+JYAAAACXBIWXMAAAsTAAALEwEAmpwYAAAD4klEQVR4nO3du0sjUQDF4TNx8rIQUug0FhZWRlDQUrC1CYgIaqX+AaYda3sbK1uVFBbWVkF8gCLYKWhhJQqiGKIDozGZ2WLZRZbNHhbvnX1wPkglnBt+5jkWOgBiSFupP30H/nYKRCgQoUCEAhEKRCgQoUCEAhEKRCgQoUCEAhEKRCgQoUCEAhEKRCgQoUCEAhEKRCgQoUCEAhEKRCgQoUCEAhEKRCgQoUCEAhEKRCgQoUCEAhEKRCgQoUCEAhEKRCgQoUCEAhEKRCgQoUCEAhEKRCgQoUCEAhEKRCgQoUCEAhEKRCgQoUCEAhEKRCgQoUCEAhEKRCgQoUCEAhEKRCgQoUCEAhEKRCgQoUCEAhEKRCgQoUCEAhEKRCgQoUCEAhEKRCgQoUCEAhEKRCgQoUCEAhEKRCgQoUCEa2M0lUqhs7PTxjQVBIHRPSuBJicnsbCwgPf3dxvzbWUyGSwvL+Pi4sLYppVABwcHmJmZSfRRFEURbm9vcXV1ZXTXymvQ4+MjVldX8fr6amP+pxqNBlZWVtBsNo3uWnuRPj09xd7eHt7e3mwd8V0YhlhfX8fd3Z3xbavvYpubm4hj+/+Es1aroVqtWtm2GigIAuzu7qLRaFg7IwxDbGxsWNu3/jloZ2fH6qPo5eUFx8fH1vatB6rX66hWq1be8sMwtP40TuST9Pb2NqIoMr4bhiEODw+N736USKCnpyccHR2h1WoZ2wzDEJVKxUr4jxL7Lra/v2/0c5Hrujg5OTG2105igS4vL5HNZo3t1et1PD8/G9trJ7FAYRji4eHB2N75+bmxrV9J9HKHqUBRFOHm5sbIFvNPXg+K4xipVDJ3PdFAvb29RnY6OjrQ399vZItJLFA6nUZXV5exvb6+PmNbv5JYoOHhYaPfyQqFArq7u43ttZNYoPn5eaMX0BzHwezsrLG9dhIJNDQ0hJ6eHqOb6XQa4+PjKBQKRnd/ZD1QPp/H0tIS8vm88W3HcVAul43vfmQ1kOM48H3f2m85k8lgcHDQ6lPNaqC5uTkUi0VkMhlrZ+RyOUxPT2N0dNTKvrVAExMTmJqaQi6X++nPPc9DsViE53mfPiubzcL3fQwMDHx660cOAONXm8bGxuD7fttLEZ7nYWRkBK7rotls4uzsDPf3958603EctFotlMtlo19DrPxd7Pr6GltbW21/vri4CNf9erTruqjVaqhUKkbONvmF+Js46VupVIqDIIjjOI6DIIhLpVLi9+E3bn/m4FKpFK+trf3tcWIrr0H/k3/yckeSFIhQIEKBCAUiFIhQIEKBCAUiFIhQIEKBCAUiFIhQIEKBCAUivgDjo36jWoWRjQAAAABJRU5ErkJggg==\n",
       "\">TEVA</div><div class=\"floating-box\"><img src=\"data:image/png;base64,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\n",
       "\">NAOV</div><div class=\"floating-box\"><img src=\"data:image/png;base64,iVBORw0KGgoAAAANSUhEUgAAAEgAAACQCAYAAACrgC0FAAAAOXRFWHRTb2Z0d2FyZQBNYXRwbG90bGliIHZlcnNpb24zLjQuMiwgaHR0cHM6Ly9tYXRwbG90bGliLm9yZy8rg+JYAAAACXBIWXMAAAsTAAALEwEAmpwYAAAEE0lEQVR4nO3dO0sraxjF8TXJxAwEUinZYOUFtBAbwcYPIBb5DmotFmKjhQZCGu1sFMRCxMYLaCuIIFramUYUk1K8ojGZycTMLg77cA5sXRx9Zzwb1g+mzPO+/g1zSYpYAALIu2LfvYH/OwUiFIhQIEKBCAUiFIhQIEKBCAUiFIhQIEKBCAUiFIhQIEKBCAUiFIhQIEKBCAUiFIhQIEKBCAUiFIhQIEKBCAUiFIhQIEKBCAUiFIhQIEKBCAUiFIhQIEKBCAUiFIhQIEKBCAUiFIhQIEKBCAUiFIhQIEKBCAUiFIhQIEKBCAUiFIhQIEKBCAUiFIhQIEKBCAUiFIhQIEKBCAUiFIhQIEKBCAUiFIhQIEKBCAUiFIhQIEKBCAUiFIhQIEKBCAUiFIhQIEKBCAUiFIhQIEKBCAUiFIhQIEKBCAUiFIiwwxoci31P+2azaXReKIGGh4cxMTGBIAgQBNH8xqRlWbAsC5OTk7i+vjY2N5R/8+npKUqlEnzfRywWi+TwPA8nJycol8tG/xYLIf2MqOM4yOfz6OjoQDKZDGOJv7mui6OjIywvLxt/x4YWCABs20Y+n0dPTw8SiUQoa7iui4ODA6yuroYyP9QzaaPRQKFQwOvra2jzS6US1tbWQpkPRHCZr1QqyOfz8DzP+OxarYZCoWD8yvVPkVyLLy4usLGxAdd1jc30PA+FQgFPT0/GZv5OZDcr+/v7OD8/R71e//KsWq2Gra0tFItFAzv7WKR3c4uLi18+H729veHq6grb29uGdvWxSANVq1Wsr6+jVqt9eobv+1hZWYnsBjTy54Hj4+MvnVTL5bLxm8GPRB7I930cHh5+KlK1WsXe3p75TX3gW54oLy8vP3VFsywr0ncP8E2B2tvbP/X40Ww28ePHjxB29L5vCdTf3494PP6fX+c4Dnp7e0PY0fsiD9Td3Y3Ozs5PvTYej2NkZATpdNrwrt4XaaBUKoW5ubkvPd07joPZ2VlYlmVwZ++LLFAikcDMzAxSqdSX53R1dWF0dNTMxohQP+74JZPJIJfLoa2tzdhnQ67rolgsYmFhAdVq1cjM3wk90ODgIKanp9HS0vKpE/NH6vU6Xl5ekMvlUCqVjM7+JbRA6XQa4+PjGBoaguM4yGQyaG1txd3dHW5uboyu5XkednZ2sLu7C9/3jc4OJVBfXx/m5+eRTCYRBAEymQwGBgZg2zYajQbOzs6MR4rFYnh4eMDU1BTu7++NzQ3lW43b29t/PW2PjY3Btv9ayrZtPD4+YnNzM4yl8fz8bHxmEPaRzWaDSqUSBEEQVCqVIJvNhr6mwSOahbLZbLC0tPSnxQkiucz/yfTdPKFAhAIRCkQoEKFAhAIRCkQoEKFAhAIRCkQoEKFAhAIRCkQoEPETH9aq0xxgac4AAAAASUVORK5CYII=\n",
       "\">SPOT</div><div class=\"floating-box\"><img src=\"data:image/png;base64,iVBORw0KGgoAAAANSUhEUgAAAEgAAACQCAYAAACrgC0FAAAAOXRFWHRTb2Z0d2FyZQBNYXRwbG90bGliIHZlcnNpb24zLjQuMiwgaHR0cHM6Ly9tYXRwbG90bGliLm9yZy8rg+JYAAAACXBIWXMAAAsTAAALEwEAmpwYAAAEjElEQVR4nO3dzytlfxzH8dc57vUjLBRRJEV+LGYyWEkWlnI3UhYWYqFGkVjI4lpNIwsbC7Y2yI+Ev4GslGQlCgvlR8zico9f53wXGjN+3O9rzJwfM/V61N24p8/n3VO653zuggHAgSRkBj3A306BCAUiFIhQIEKBCAUiFIhQIEKBCAUiFIhQIEKBCAUiFIhQIEKBCAUiFIhQIEKBCAUiFIhQIEKBCAUiFIhQIEKBCAUiFIhQIEKBCAUiFIhQIEKBCAUiFIhQIEKBCAUiFIhQIEKBCAUiFIhQIEKBCAUiFIhQIEKBCAUiFIhQIEKBCAUiFIhQIEKBCAUiFIhQIEKBCAUiFIhQIEKBCAUiFIhQIEKBCAUiFIhQIEKBCAUiFIhQIEKBCAUiFIhQIEKBCAUiFIhQIEKBCAUiFIhQIEKBCAUiFIhQICLkxaKmaSIlJcWLpal4PO7qep4EqqmpQTQaBQA8PDzAtm0vtnmSlJQE03z8Y2hvb8fFxYVraxvw4H8cGoaBT58+obm5GRUVFTAMA+Fw2O1tAACWZcE0Tayvr2NlZQX7+/uuru9JoJ/l5OSgra0NdXV1CIfDT7/pP3V3d4eHhwcsLS1hdXUVV1dXrqz7kueBvissLMTnz59RUlKC1NTU317Htm3c3d1hbW0NU1NT+Pbtm3tDvsG3QN9VVlaiu7sbWVlZ7w5lWRb29vYwOTmJo6MjjyZ8zvdAwOOn3ODgIKqqqn45kmVZmJubw+LiosfTPRfIfZBt2xgdHcXW1hYsy6LXW5aFhYUF3+MAAd4o2raNkZER7Ozs4Pb2NuF18Xgcy8vLmJ+f93G6HwK9k7ZtGxMTE/Sa2dlZnyZ6LfBHjbOzM5yenr75nm3b2NjY8PxG8/8EHggAYrFYwvcuLy99nOS1wAMZhoH8/Pw33zNNE+Xl5T5P9GKGQHcHUF9fj1Ao8SNhaWkpCgsLfZzouUADpaeno6urC2lpaQmvCYfD6OnpgWEYPk72Q6CBBgYG6I2iaZooKipCS0uLT1O92D+QXQE0Njbiw4cPSE5OptempqaitbUVZWVlPkz2XCCBPn78iM7Oznc9i6WkpGB4eBh5eXkeTvaa74Gqq6sRjUZ/68QxIyMDY2NjKCgo8GCyt/n6sFpbW4v+/v4/Oo61bRvX19cYGhrCwcGBe8Ml4FughoYGdHd3u3ZWfX19jWg0it3dXVfWS8SXQE1NTWhvb/+jg7K3xONxfPnyBdvb266u+zNPA6WlpaGvr+9d5z7vdXNzg+XlZczMzHjyzOZZoOLiYkSjUWRmZj59lOfm5iI7Oxvn5+c4OTlxbS/LsnB4eIivX7+6+o0G4FGgqqoqDA8PwzRNOM7j8rm5uaiurkYoFML9/T02NzddjWQYBuLxOHp7e11d15PvxY6PjzEzM/PsZx0dHU/PXKFQCJeXl5iennZ9by8O8R0/XpFIxInFYo7jOE4sFnMikYgv+7rw8m+zSCTijI+P/0txnEC+1fiXBH4e9LdTIEKBCAUiFIhQIEKBCAUiFIhQIEKBCAUiFIhQIEKBCAUiFIj4DwrUqcCXcgPDAAAAAElFTkSuQmCC\n",
       "\">DUOL</div><div class=\"floating-box\"><img src=\"data:image/png;base64,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\n",
       "\">QS</div><div class=\"floating-box\"><img src=\"data:image/png;base64,iVBORw0KGgoAAAANSUhEUgAAAEgAAACQCAYAAACrgC0FAAAAOXRFWHRTb2Z0d2FyZQBNYXRwbG90bGliIHZlcnNpb24zLjQuMiwgaHR0cHM6Ly9tYXRwbG90bGliLm9yZy8rg+JYAAAACXBIWXMAAAsTAAALEwEAmpwYAAAE7klEQVR4nO3bT0hUaxzG8WfGMzMWCtlmwMUYSJm1ECld5ML1LNxofxByIbVuFYmLWrURXITQzp2MbdoYhbgIgoJCNFyEYEOoOZChUOChOeKZOXdzjcu9zTzO8X3PyOX5QMv3d358G+fMnCwGIIBUFK/3AiedAhEKRCgQoUCEAhEKRCgQoUCEAhEKRCgQoUCEAhEKRCgQoUCEAhEKRCgQoUCEAhEKRCgQoUCEAhEKRCgQoUCEAhEKRCgQoUCEAhEKRCgQoUCEAhEKRCgQoUCEAhEKRCgQoUCEAhEKRCgQoUCEAhEKRCgQoUCEAhEKRCgQoUCEAhEKRCgQoUCEAhEKRCgQoUCEAhEKRCgQoUCEAhEKRCgQoUCEAhEKRCgQoUCEAhEKRCgQoUCEAhEKRCgQ4dgYmk6nceXKFRujqdevX2N/f9/YPCuBent7cffuXRwcHNgY/0exWAzJZBJfvnzB2tqasblWAr169Qr9/f1ob2+H41i5xH94noeXL18ajQNYeg8ql8t4/PgxPM+zMf6P19ve3sb09LTx2dbepH/+/ImnT5+iWCzausRvBwcHmJiYQKlUMj7b6l3s3bt3yOfz8H3f2jU8z8Pc3BwKhYKV+dZv80+ePLEaaG9vD8+ePbM233qgnZ0d5HI5Kz9qnudhcnLS6l9AJB8UX7x4Add1jc4slUpYWVnB6uqq0bn/FkmgcrmM2dlZo68i3/eRy+WMzasksq8ab968MfqjkM/nsbGxYWxeJZEF8n0fz58/N/LZqFgsRvLqASL+sjo/P29kzu7uLj59+mRkFhNpoGKxiJWVlWPN2N/fx8LCgpmFjiDyxx1v377Fr1+/jjVjcXHR0DZc5IE+fvyIRCIR+rzruvj27ZvBjaqLPJDrutja2gp1tlQq4f3794Y3qq4uTxQ/fPgQ6pbveR6WlpYsbFRZXQKtr6+HeurnOA42NzctbFRZXQIVCgXEYrGaz8Xjcezu7lrYqMo1I73a3/b29tDQ0FDzuagewP1TXQJ5nhfqUazJh/FHVZdALS0toR7oNzc3W9imuroEymQyoR+Pnj171vA21dUl0Llz55BKpWo+5/s+2traLGxUWV0CXbhwIdR7UCKRQCaTsbBRZZEHisfjuHjxYqizyWQSV69eNbxRdZEHunbtGpLJZOjznZ2daG1tNbhRdZEHun37Nk6dOhX6fENDA27dumVwo+oiDdTV1XXsu5DjOOjr68OZM2fMLEVEGmhkZORYr55DsVgMQ0NDBjbiIguUzWaN3aKTySSy2Sw6OjqMzKsmkkDt7e24c+cOGhsbjc1MpVJ4+PCh9U/X1gOdPn0ajx49CvXB8Cizx8fHQz0ZOCrrgR48eICmpiYrsxOJBM6fP4+bN29amQ9YDjQ8PIxLly4d63MP09jYiBs3bqCnp8fKfGuBrl+/jsHBwZrvWul0GpcvX0Y6nT7ymVQqhbGxMXR3d9e6JhUDEJge2t/fj/v376NcLtd07vCXPx3Hge/7WF5exvfv3498PggC3Lt3D1+/fq115Yqs/ALh58+fMTMzU/O50dHR319iHcfBjx8/av4n5p2dnZqvywQn5c/AwEDgum4QBEHgum4wMDBQ951OVKDDSFNTUyclTmDlPej/RP8VgVAgQoEIBSIUiFAgQoEIBSIUiFAgQoEIBSIUiFAgQoEIBSIUiPgLzcTOXIFaLyAAAAAASUVORK5CYII=\n",
       "\">CAKE</div><div class=\"floating-box\"><img src=\"data:image/png;base64,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\n",
       "\">BTBT</div><div class=\"floating-box\"><img src=\"data:image/png;base64,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\n",
       "\">INFI</div><div class=\"floating-box\"><img src=\"data:image/png;base64,iVBORw0KGgoAAAANSUhEUgAAAEgAAACQCAYAAACrgC0FAAAAOXRFWHRTb2Z0d2FyZQBNYXRwbG90bGliIHZlcnNpb24zLjQuMiwgaHR0cHM6Ly9tYXRwbG90bGliLm9yZy8rg+JYAAAACXBIWXMAAAsTAAALEwEAmpwYAAAE1ElEQVR4nO3dP0hbaxzG8SfHaKJVGqQ0Lv5ZHAQHgyLi1u5BhRaxYqmbOCiOQosg1aFDwSKFUjK2YhZxcBAEFztWQQSRIrpJpdAO6fGNqOcOxVtzk/Sxev7kwvMBlyS+58eXl4N5IyQEwIEUZQU9QKlTIEKBCAUiFIhQIEKBCAUiFIhQIEKBCAUiFIhQIEKBCAUiFIhQIEKBCAUiFIhQIEKBCAUiFIhQIEKBCAUiFIhQIEKBCAUiFIhQIEKBCAUiFIhQIEKBCAUiFIhQIEKBCAUiFIhQIEKBCAUiFIhQIEKBCAUiFIhQIEKBCAUiFIhQIEKBCAUiFIhQIEKBCAUiFIhQIEKBCAUiFIhQIEKBCAUiFIhQIEKBCAUiFIhQIEKBCAUiFIhQIEKBCAUiFIhQIEKBCAUiFIhQIEKBiLAXi9bX1yOZTHqxNJVKpZDNZl1bz5NAkUgEXV1diMViCIVCXlyioMPDQ1RWVroaKASPvh0qHA4jmUxiYGAAZWVlqKio8OIyMMbg5OQE7969w6dPn1xf37NAl6qrqzE2NoZEIoFoNOrq2tlsFsvLy1hYWMDZ2Zmra1/yPNClBw8eYHR0FOXl5SgrK7vVWqenp7BtG7Ozs9jd3XVpwsJ8CwQA8Xgcz58/R11d3Y13kzEGm5ubmJubg23bLk+Yz9dAAGBZFgYHB9HT04NIJPJXv2uMwdu3b7G+vu7RdPl8D3Spr68PT548ufZOymazmJ6exvb2tseT5QrsD8WlpSVsbGzAGENfa4zB+/fvfY8DBPyX9Pz8PPb393F6elr0NcYYrK6uYnV11cfJfgs00Pn5Oaanp/+4iw4ODpBKpXycKlfg78Vs28bKykrBXWTbNhYXF+E4wX3TaeCBAGBtba3g447jYGtry+dpcpVEoOPjY2QymbzHd3Z2cHFxEcBEv5VEIAAF70M/f/4MYJJcJROoqqoq77G7d+8GMEmukgh0//79goFaWlpgWcGOWBKBuru7i95rWlpafJ4mV+CBIpEI+vv7C77liEajePbsmf9DXRF4oN7eXoTDhQ82LctCU1MT2tra/B3q6gyBXRlATU0NHj169Mc3rNFoFCMjI74e3V4VaKCRkZFr3YRra2sD+xAgsECPHz9GZ2fntc6qKysr8fTpUyQSCR8myxVIoO7u7qI35mIikQgmJyfR0NDg4WT5fA/U3NyMiYmJvz5NBH5FmpmZQSwWc3+wInwN1NraipcvX974PNqyLNy5cwevX79GPB53ebrCfDtyffjwIUZHR2+0c/7r/PwcxhhMTU1hb2/PhemK8yXQ0NDQjQ7pGWMM5ubmsLGx4eq6V3kaqKKiAhMTE+jo6HD9Q8NL2WwW6XQa6XTak/U9C9TY2IgXL14gFou5snPi8Tju3buHb9++4evXrznPGWPw5csXvHr1Cj9+/Lj1ta7yJFAikcDU1BQsy3LluDQej6O9vR3hcBhnZ2f4/PlzXqRQKATbtjE+Pp733G148t8dR0dH+Pjxo2vrDQ8P//t+LRwO4/v37/jw4UPB17q9g4BfO6ikf5LJpJPJZBzHcZxMJuMkk0k/rx98gOtGevPmjd9xnMA+ev6/CPw8qNQpEKFAhAIRCkQoEKFAhAIRCkQoEKFAhAIRCkQoEKFAhAIRCkT8AyX5uzY3K4PNAAAAAElFTkSuQmCC\n",
       "\">AUPH</div><div class=\"floating-box\"><img src=\"data:image/png;base64,iVBORw0KGgoAAAANSUhEUgAAAEgAAACQCAYAAACrgC0FAAAAOXRFWHRTb2Z0d2FyZQBNYXRwbG90bGliIHZlcnNpb24zLjQuMiwgaHR0cHM6Ly9tYXRwbG90bGliLm9yZy8rg+JYAAAACXBIWXMAAAsTAAALEwEAmpwYAAAG8klEQVR4nO2dzW7TShiG37EdO46gSQohpUqJSmgpzQLCP01KgAUbGuUauARuhS1rbgKJu0BixQKxK9CkEIn8OJ6zyMmPGyfTUo/nOzrzSJESpxq/fTQez4zHDgPAoVmIoToAdbQgAVqQAC1IgBYkQAsSoAUJ0IIEaEECtCABWpAALUiAFiRACxKgBQnQggRYqgMAwJs3b/DixYu57d1uF+/evcOHDx8UpBpBogZ9/vwZ3W53bvtwOMSXL18UJJpCQtDXr18xHA7ntruui2/fvilINIWEoKOjIxjGfJR+v49+v68g0RQSgtrtNmzbntv++/dvBWmCkBDU6/VCD7Hj42MFaYKQEAQAnU5nbtvPnz8VJAlCRlBYbTk8PFSQJAgZQSdri+d5+P79u6I0U8gIOiljMBig3W6rCTMDGUGHh4eBhno4HKLVailMNIKMoFarFejzMMa0oFna7XagBiUSCS1ollarBcbY5LNpmrqjOEur1YJlTScX/vz5A87Vr8whI+j4+BiJRGLy+devXwrTTCEjyPf9wJQHhVM8QEgQEByc/vjxQ2GSKaQEzdYaCsMMgJigca3p9/skBqoAMUHjWjMYDEj0gQBigo6OjjAYDMA5JzEXBBAT1Ov14Ps+GGPo9Xqq4wAgJsjzPPi+D2B0mFGAnCDOORhj8DxPdRwABAUBo5F82By1CsgJ0jVoCbM1SLdBIegaJGBcawzD0ILCmD3EtKAQhsMhGGMwDGPSH1INKUGWZYFzDs556GIGFdBI8S/jKVff9wOziyohK8g0TcVpRpATxBgD5zwwga8ScoIAfYgtRNcgAWNB4/cUICVofFjpGrQA0zQn/R8tKATHcWAYBjjncBxHdRwAxAStrq4ikUiAMYZ0Oq06DgBigq5cuQJg1BZls1nFaUaQEnT58mUAgG3buHTpkuI0I0gJymQyk/fj2qQaUoIuXrw4eT+uTaohI8gwDCSTycnn2dqkEjKC0ul0YKJ+ZWVFYZopZARls9nANGsqlQqsWVQFKUGzaxI9zwu0SaogIyiTyQQmyTzPI9EOkRGUzWYD94xxzkl0FskIyuVygRrEGNOCZjnZMaQy3CAjaHV1NfA5kUiQ6CySERQ2eqcw3CAj6MKFC3PbKAxYSQiybTt0BlGf5v8lk8mE3h8fVqvihoSgbDYbuljBcRzlc9MkBBWLxdDFCt1uFxsbGwoSTSEhaGdnB67rzm1njKFUKilINIWEoJs3b4Zud10XOzs7MacJolyQYRi4evXqwu//94IKhcLS5Xbr6+tKF1MpF1QqlZbem+p5HtbX12NMFES5oO3tbaRSqYXfc86VNtTKBe3u7i79PplMLmzE40CpIMYYCoXC0r8xDAO3bt2KKVHI/pXtGcDa2tqpblpR2VlUKkjUQI/hnCOfz8eQaB6lgra2tgIXCxcxHA6VNdRKBZXL5VP1cVzXxdbWVgyJ5lEq6Nq1a6f6O8MwUC6XJadZsG8le8VoccJZesjFYlFimsUoE3T9+vUz3dFjWdbcxH4cKBN02gZ6zGAwUNJQKxNULpfPdD9GMpnEjRs3JCYKR4mgv5kIM00TlUpFUqLFKBH0t6fsUqkU+/JgJYKePHkS+nBbEZ7nxV6LlAja39//q6sVqVQK+/v7EhItJnZB+Xz+XBcE79+/H+sMY+yCHj58eO4ytre3I0hyOmIX9OzZs3M1tI7jYG9vL8JEy4lVUCqVwubm5rnKME0TtVotokRiYhV09+7dSJ7JsbKysvRSUZTEKqhery+doD8Ljx49iqQcEbEJMk0Td+7ciaQsx3FQr9cjKUtEbIJ2d3cjfWhSsViMZXlMbIKq1eqZRu8iBoMB7t27F1l5i4hN0N7eXqRPU0ilUnj69Glk5S0iFkEbGxuhy1vOy+3bt6UvsIpF0OPHj6UMDzzPkz5XHYuger3+V6N3Ea7rolqtRl7uLNIFpdNpaaszDMOQPuyQLqharUp9JqJt21KvmUkX1Gw2Iz29n8S2bRwcHEgrX6qgUqkk/VKNaZqR97FmkSro4OAglucA+b4vbaZRmiDHcVCr1WJ51Jbrumg2m1LKliaoVqvF+rsYa2trp77WfxakCWo2m1J6z4swTROvXr2KvFwpggqFwlzfJ5/Po1wuS1sIZVkWnj9/HnmbJ0XQy5cvYVkWfN+H7/vI5XKoVCrY3NxEpVJBLpebfBfly7ZtPHjwINL/RcpI7+PHj4HfLHz9+vVkUGlZFlqtFt6/fy9j1/j06VPkZXLZr0ajwTudDuec806nwxuNhvR9RviKZ0eNRoO/ffv2vyaHs7ElTTjKV9pTRwsSoAUJ0IIEaEECtCABWpAALUiAFiRACxKgBQnQggRoQQK0IAFakAAtSIAWJOAf4+mYzZdkGkcAAAAASUVORK5CYII=\n",
       "\">SPRT</div><div class=\"floating-box\"><img src=\"data:image/png;base64,iVBORw0KGgoAAAANSUhEUgAAAEgAAACQCAYAAACrgC0FAAAAOXRFWHRTb2Z0d2FyZQBNYXRwbG90bGliIHZlcnNpb24zLjQuMiwgaHR0cHM6Ly9tYXRwbG90bGliLm9yZy8rg+JYAAAACXBIWXMAAAsTAAALEwEAmpwYAAAFM0lEQVR4nO3dT0gUfRzH8c/qbG4dRCzwJnnJIi/iRaJD0EWE7dKlU+hBoUvQXcRQCAxUPAqBQa4oCpIe6loUQgmiRWmgEkIkK/5p251x/8xzCB+ecHc/rs5vxgc+L/C0M9/98madnV0EQwBcSEFlQS9w1ikQoUCEAhEKRCgQoUCEAhEKRCgQoUCEAhEKRCgQoUCEAhEKRCgQoUCEAhEKRCgQoUCEAhEKRCgQoUCEAhEKRCgQoUCEAhEKRCgQoUCEAhEKRCgQoUCEAhEKRCgQoUCEAhEKRCgQoUCEAhEKRCgQoUCEAhEKRCgQoUCEAhEKRCgQoUCEAhEKRCgQoUCEAhEKRCgQoUCEAhEKRCgQoUCEAhEKRCgQoUCEAhEKRCgQoUCEAhEKRCgQoUCEAhEKRFgmhl69ehV37twxMZoaGRnB7u6uZ/OMBKqqqsLNmzcRCoVMjC8onU4jFot5GsjIr9j8/DwmJiZg27aJ8Xk5joMnT55gc3PT07nGrkFjY2NYXFzEwcGBqaf4l23bGB8fx4cPHzyfbfQiPTAwgF+/fpl8CqTTaXz58gXT09NG5hsNlEql8PjxYziOY+w5kskk+vv7jc03/ja/vr6O0dFRI9cjx3HQ19eHRCLh+exDvtwHzc3NYXl5Gel02rOZtm1jcnISX79+9WxmPr7dKA4NDSGTyXg2Lx6PY2pqyrN5hfgWaH9/H6Ojo0ilUqee5TgOBgYGkMvlPNisOF8/arx69Qrb29unmnFwcIB3797h27dvHm1VnK+BcrkcBgcHT/Wuls1m8ezZMw+3Ks73D6urq6v4+PEjstlsyeemUim8ePEC+/v7BjbLL5BP87FY7EQXbNd18fr1awMbFRZIoO/fv2N1dbWkcxzHwezsrNGbznwC+z4oFouV/I728uVLQ9sUFligT58+IR6PH+vYTCaDN2/e+HrtORToN4ozMzPHehWl02nMzc35sNFRgQZ6//49ysvL6XG/f//G2tqaDxsdFWigRCKBjY2Nosdks1m8ffvWn4XyCPxL+8+fPxd93HGckt/xvBR4oO3t7aKf8nO5HHZ2dnzc6G+BB8rlcnDdwv9uOhQK+fKhtJDAA127dg3nzp0r+LhlWairq/Nxo78FHujKlStFH6+oqMD169d92uaoQANVVlbi4sWL9LiGhgaUlQWzaqCBOjs7i15/Dl24cAEtLS0+bHRUYIHq6+vR3NyMcDhMj41EImhra0NlZaUPm/0tkEBlZWV49OgRKioqjn2OZVno6OgwuFV+gQRqbW1FdXV1SeeEw2E0Nzejvr7e0Fb5+R7oxo0baGtrw/nz50s+NxKJoKenB5cvX/Z+sQJCAPhV0iO3b9/GgwcPSvrVyieZTKK7uxsrKysebVaYb4Gi0Sju37+PSCTiyTzbttHb24ulpSVP5hXiS6B79+7h7t27nsU5ZNs2+vv7jfxVxyGjgcLhMDo7O3Hr1i3P4xxyHAfPnz/H7OyskfnGAtXW1qKrqwvV1dUlX3Nqampw6dIlxONx/Pz5kx5v2zZWVlbw9OlT7O3tnXTlvIwEamxsRHd3N8rLy491p/xfNTU1aGpqgmVZyGQyWFhYOFakUCiEZDKJhw8fYmtr66SrH2HkbxR//PiB8fHxE53b3t4Oy/qzlmVZ2NnZwdjY2LHP9/oVBPx5BZ2Zn2g06iYSCdd1XTeRSLjRaDTonYKPki/S8PDwWYjj+nqj+H8U+BdmZ50CEQpEKBChQIQCEQpEKBChQIQCEQpEKBChQIQCEQpEKBChQMQ/gDQZQzq6bsoAAAAASUVORK5CYII=\n",
       "\">U</div><div class=\"floating-box\"><img src=\"data:image/png;base64,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\n",
       "\">NEGG</div><div class=\"floating-box\"><img src=\"data:image/png;base64,iVBORw0KGgoAAAANSUhEUgAAAEgAAACQCAYAAACrgC0FAAAAOXRFWHRTb2Z0d2FyZQBNYXRwbG90bGliIHZlcnNpb24zLjQuMiwgaHR0cHM6Ly9tYXRwbG90bGliLm9yZy8rg+JYAAAACXBIWXMAAAsTAAALEwEAmpwYAAAEH0lEQVR4nO3azWsUdxzH8c/M7FMejNmsbUMUGnxAFKxFoW2k9FC0BOoW0au2tQieqv0LRA/+A6H4D1Q8eLGtBQ998KAsWKiKTbCHaBREQx5MIrMms7szvx5KSquJn0PmO/HwecOSS/KZ2ddudtlhPQAOatn81T6B1z0BkQREEhBJQCQBkQREEhBJQCQBkQREEhBJQCQBkQREEhBJQCQBkQREEhBJQCQBkQREEhBJQCQBkQREEhBJQCQBkQREEhBJQCQBkQREEhBJQCQBkQREEhBJQCQBkQREEhBJQCQBkQREEhBJQCQBkQREEhBJQCQBkQREEhBJQCQBkQREEhBJQCQBkQREEhBJQCQBkQREEhBJQCQBkQREEhBJQCQBkQREEhBJQCQBkQREEhBJQCQBkQREEhBJQCQBkQREEhBJQCQBkQREylmMdgZt2Fjqs5imDdfHkCBJbc8E6Gz/MRzv+wwLSWQxv2ztfgmH/zqLi5NXU9s0Afp19ia+6B3E2lynxfyyzccRas+GU900eQ268vQGAi/7l7eR52N4FE2mumlyL5quhYsTVxEnscX8koWt5zj3+IfUd80e5vMTPyNM5q3mXyrv53Fp6lrqu2ZAtbkRlPyC1fxLjS08wWwrTH3XDChyDdwKR63m/1fLxbg8VTPZNn0lvTR1DVHSsDwEAKAez+PKzA2TbVOgX2b+QJQ0LQ8BACj5BdTmRky2TYFuh6PwM3i7vxWOInI2z1TTs0+Q4Prcn5aHQJQ08P3UdbN984f38nQN9XjBbH8haeK32Ztm++ZAt8NRNF3LbL/dL2K4Pma2bw40Un+Adr9otj/deoZ5ww/F5kBzcWj6L3a3/tBsG8jogtmDaNxs+079vtk2kBHQeOOpyW4jaeJRNGGyvVgmQLFL7wrff3MA4hSvHi5VJkA9uTUmu0U/j0quy2R7sUyAuo2AAODNfNlsG8gIqGx46bWvWDHbBjIAeiPfjZ683TPo/a7tZttABkAfd+8y/UTf5hexqbTebN8cqFrZg65ch+ERHPaWd5utmwIVvDw+rXxgeQh0BG34snfQbN8U6PO3PkEug/eBHR0b8W7nZpNts7P34eN0/1F05tqtDvFvJb+AM29/ZbJtBnRg3YfoCuxxACDwfOwr7zb5PoAJUNErYGjz11iTxrNnTwU4semfn68o5wX4dsvJlR/vhUyAvtlwCL2FHsQuWdltoAx3ahtwcAPcqW2IB8rL/q7v+Rgsv4eP1u5M9b6YfHnhx+kaAi9Y8c7+o0cwUHoHAOCVAvy+dRw/XfjulX9zp35vxcd9Mfe63qrVqgvD0DnnXBiGrlqtrsZ5rD4EQxoaGlotHOctKqml03cUSQIiCYgkIJKASAIiCYgkIJKASAIiCYgkIJKASAIiCYgkIJKASH8D28GqcQ9fxNcAAAAASUVORK5CYII=\n",
       "\">FB</div><div class=\"floating-box\"><img src=\"data:image/png;base64,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\n",
       "\">SNDL</div><div class=\"floating-box\"><img src=\"data:image/png;base64,iVBORw0KGgoAAAANSUhEUgAAAEgAAACQCAYAAACrgC0FAAAAOXRFWHRTb2Z0d2FyZQBNYXRwbG90bGliIHZlcnNpb24zLjQuMiwgaHR0cHM6Ly9tYXRwbG90bGliLm9yZy8rg+JYAAAACXBIWXMAAAsTAAALEwEAmpwYAAADV0lEQVR4nO3dv2sTYRzH8c9zaXtNg8Q6REEQUVFaUSlVQRGhIOJysYvg5KIIbv4YHTp0UbSDxb+hIA7FYkBcxEkorVSxWDedFK2tJNdGbZKvg0REbT4W73KtfF7wTDm+9+SdHw+Z4gAYZFle0htY7RSIUCBCgQgFIhSIUCBCgQgFIhSIUCBCgQgFIhSIUCBCgQgFIhSIUCBCgQgFIhSIUCBCgQgFIhSIUCBCgQgFIhSIUCBCgQgFIhSIUCBCgQgFIhSIUCBCgQgFIhSIUCBCgQgFIhSIUCBCgQgFIhSIUCBCgQgFIhSIUCBCgQgFIhSIUCBCgQgFIhSIUCBCgQgFIhSIUCBCgQgFIhSIUCBCgQgFIhSIUCBCgQgFIhSIUCBCgQgFIhSIUCBCgQgFIhSIUCBCgQgFIhSIUCBCgQgFIhSIUCBCgQgFIhSIUCBCgQgFIhSIUCBCgQgFIhSIUCBCgQgFIhSIaIljaA45nE6dwpzNYR6fULRibP/ZnnIesshig+tEFlncqt6OdL5DDP833+/lMdp2p+E1oYWooLKiuT58pF264TWtn9eteG4jsQT6VRZZ7Hbd2O11odf1YL/Xi27XBcDoE64LLYSDw9PaFMZtAlO1Z5i2l5ixVyijHOv+LYmVQ84GWwZswf9o1l5edlX9BZv339qF1HnrQEcSe00mUH0NtgxYxQ+XDTTvv7N+L5/Y/hI/xTZhY8PHPXjodOubs5llJPLKpJCyK6mLtujPNfyIWXvZiv57O+kFSb2Lmn/To+6IzbQ9t5L/gcapr5I/aw9bC7bL7fx/Ax12h+xJ22Mr+bN/HebnteSXbNGfs7utI7bdbWvKnptyzB90BzDUeg09bh8yLvPP85ZsCRVUMFodw9XqAF7bmwh2+WexBcoHeZw7fhY7Hm3FlsJmpJGG56I9E+qhCrUHuF4ZwoRNRjofiCnQ5fwl3Bi5CS/jwRYMtTNfgEI16tv84MGDcw4vatPo+3oCs5iNbHYsv8X2HNsLL/P93eIyDuN9k7h/byyOW/2miGLkMyP/YguCwMIwNDOzMAwtCBI7olfvKRYEgQ0PD6/1OM05xdayxH9qrHYKRCgQoUCEAhEKRCgQoUCEAhEKRCgQoUCEAhEKRCgQoUCEAhHfAJZT54cV7qewAAAAAElFTkSuQmCC\n",
       "\">HMLP</div><div class=\"floating-box\"><img src=\"data:image/png;base64,iVBORw0KGgoAAAANSUhEUgAAAEgAAACQCAYAAACrgC0FAAAAOXRFWHRTb2Z0d2FyZQBNYXRwbG90bGliIHZlcnNpb24zLjQuMiwgaHR0cHM6Ly9tYXRwbG90bGliLm9yZy8rg+JYAAAACXBIWXMAAAsTAAALEwEAmpwYAAAGE0lEQVR4nO3c30tTYRzH8c/ZHvWZP1L6gQ4MbwILFMW1oKu68XIQFHQZEQQSiIFEiE4lSqwuYjfRVVf2HyQRZJBWSHUVeZFBUAr5I1a58Jzt7JwuVltz06/aOec5wfcFgpvz2de385yzeVQDYINtKqB6AL/jQAQOROBABA5E4EAEDkTgQAQOROBABA5E4EAEDkTgQAQOROBABA5E4EAEDkTgQAQOROBABA5E4EAEDkTgQAQOROBABA5E4EAEDkTgQAQOROBABA5E4EAEDkTgQAQOROBABA5E4EAEDkTgQAQOROBABA5E4EAEDkTgQAQOROBABA5E4EAEDkTgQAQOROBABA5E4EAEDkTgQAQOROBABA5E4EAEDkTgQAQOROBABA5E4EAEDkTgQAThxqInT55ET08PNE1zY/lNWZaF/v5+LCwsOLamK4Hevn2LVCqFvXv3QghX7qJEOp3G/Pw8VlZWHF1Xg0v/7Laurg43btxAOBxGVVWVG3eRp+s6Xr9+jdu3byObzTq6tmuBAEBKiZGRERw6dMi1SLqu48mTJ7h37x5s2/kvxdVAAFBZWYlbt27h4MGDqKiocHRtXdfx/Plz3Llzx9F1/+b6XiydTmNwcBDfv3939OFvGAbev3+PRCLh2JrleLKbX1tbw9WrV7G+vu7IeqZpYnl5GdeuXYNlWY6suRnPjoOWlpYQj8eh6/o/rWNZFtbW1jAwMPDPa22HpweK8/PzuHnzJgzD2PUauq5jYGAA3759c26wLXh+JP3q1Svcv39/V999wzAwOjrq6IEgRclTjYcPH+Ljx4872mgbhoHJyUnMzc25OFkpZc/FEokETNPc9u0Nw8CDBw9cnKg8ZYEWFhbw6NGjbW2P1tfXcffuXU82yhspfTY/MTGBdDq95W0sy8KnT58wMzPj0VTFlAb688jY6vgok8m4eqRMUf560PT0NL58+VL2Y6ZpYmpqytO91kbKAwHA5ORk2e1LJpPB48ePFUxU4ItAs7OzCARKRzFNEx8+fFAwUYEvAiWTyZIfM8uy8OLFC0UTFfgiEAA8ffq0aI+m6zqePXumcKIc3wR6+fJl0TPzQCCAd+/eKZzo9xyqB/hjcXGx6KBxbm7O8ZdPd8M3gQDg69ev+fcXFxcVTlLgq0Crq6sAcrv3paUlxdPk+CrQjx8/AADZbBY/f/5UPE2OrwKFQiEAgKZpqKysVDxNji8DBYPB/Puq+SrQnj17AABCCDQ0NKgd5jffBBJCoKWlJX+5q6tL4TQFvgl0+PDhoiPpcDiMmpoahRPl+CbQ0aNHIaXMX06n02hvb1c4UY5vAh07dgzBYDB/ORQKIRqNKpwoxxeBampq0NTUVHRdIBBAJBJRNNFfc6geAMhtkDOZTMn1tbW1CIfDCiYqUB5ICIELFy6gurq65GPBYBAXL15UMFWB8kCnT5/edG8lhEBbWxs6Ozu9HeovSgMdOHAAZ86cKdp7bSSlRG9vr2en8m2kNFBPT8+2vvC6ujqcOnXK/YHKUBaoo6MD7e3t2wokpcTZs2exb98+DyYrpiRQbW0t+vr6tvzR2kgIgcuXL5f97YebPA9UXV2N8fFx1NfX7+jzhBBobW3FlStXPI3kaSApJcbGxtDU1LSrEzqllIhEIujr6/PsJHXPAlVVVeH69etobm7+pxfDpJQ4fvw4Ll265OB0m/MkUEVFBUZHR9HS0uLIK4VSSpw4ccKTg0jXAwkhEI/HHT+ZXEqJ7u5unDt3zrE1y3H1RPKGhgYMDw+jubl5R3usndB1HbOzs0gkEuS5RrvhWqAjR45gaGgIoVAof6zT2NiI/fv3Y3V11dFf6xiGgZWVFQwPD2N5edmxdQGXAkWjUQwODkLTtPzfTzQ2NiISiUAIAdM08ebNG0cjaZoGXdfR29u76flGu+HKE5zPnz9jYmKi6Lrz58/nH0lCCCSTyZLbOCGZTDq+pu3FWywWs1OplG3btp1KpexYLObJ/Trw5t2dxWIxO5FI/E9xbNf/HOp/p/wFM7/jQAQOROBABA5E4EAEDkTgQAQOROBABA5E4EAEDkTgQAQOROBABA5E+AUIX0Fyla7VNAAAAABJRU5ErkJggg==\n",
       "\">BB</div><div class=\"floating-box\"><img src=\"data:image/png;base64,iVBORw0KGgoAAAANSUhEUgAAAEgAAACQCAYAAACrgC0FAAAAOXRFWHRTb2Z0d2FyZQBNYXRwbG90bGliIHZlcnNpb24zLjQuMiwgaHR0cHM6Ly9tYXRwbG90bGliLm9yZy8rg+JYAAAACXBIWXMAAAsTAAALEwEAmpwYAAAEsElEQVR4nO3dP0gbfRzH8c8lp0kmqyBRHBQKCoLQhg6iiOIoZHITpItDBdHFoehgcSkuQjsIQqEiCA466pZBcFIEcXFQqaIgouK/oJfcJfcMoe0j2ufTPk8udw98XpDFxN/vmzfxvEuGGABcyC+F/B4g6BSIUCBCgQgFIhSIUCBCgQgFIhSIUCBCgQgFIhSIUCBCgQgFIhSIUCBCgQgFIhSIUCBCgQgFIhSIUCBCgQgFIhSIUCBCgQgFIhSIUCBCgQgFIhSIUCBCgQgFIhSIUCBCgQgFIhSIUCBCgQgFIhSIUCBCgQgFIhSIUCBCgQgFIhSIUCBCgQgFIhSIUCBCgQgFIhSIUCBCgQgFIhSIUCBCgQgFIhSIUCBCgQgFIhSIUCBCgQgFIhSIUCBCgQgFIhSIUCBCgQgFIhSIUCBCgQgFIhSIUCBCgQjTi0XD4TCi0Shct7Tf7RYKhZBOp4u6pieBuru7MTw8/OTntm0XbQ/DMGCaT8fv7e1FNpst3j7w6Cv8otEoampqUFtbi5aWFnR2dsI0TUQiEYTD4f+0tm3byOVyuL6+RiqVwv7+Pk5PT3F2dgbHcYr0DAo8C/RkI8NAU1MTuru70dHRgXA4jFgs9tu/n8/nkc1mcXd3h1QqhbW1NZycnHg4cUHJAv1dKBRCa2srRkZGfusVlc1mcXNzg48fP2Jvb69EUxb4Eui76upqTExMIB6PIxqNPvsYy7Kwvb2N6elpPDw8lHhCnwMBgGma+PDhA5qbm1FWVvboPsuysLKygrm5OX+GQwDOgxzHwdTU1JNXh+M4ODo6wvz8vE+TFfgeCADu7u7w5cuXR5FyuRw+ffqEfD7v42QBCQQA6+vrj04sj46OcHx87ONEBYEJZNs2tra2AACZTAapVMrniQoCEwgAdnd3kc1m4TgOvn375vc4AAIW6OTkBLZto7y8PBB/XkDAAn0/SIfDYViW5fM0BYEKVFVVBaBw5lxZWenzNAWBCtTa2opIJALXdfHmzRu/xwEQoEANDQ1oa2uDaZqIxWJ4+/btH13MeiUwgYaGhh5dapimib6+Ph8nKghEoP7+ftTX1yMU+jlOJBJBT08P2tvbfZzM54vVsrIyjI6OIpFI/PJqPpPJYGlpCYuLiyWersC3QBUVFZicnERdXR0ikcg/PtayLGxubmJ6erro7xgyJQ8UCoXQ1dWFgYEBxGKxZ99Xfk4mk8HFxQVmZmaws7Pj8ZQ/lTRQIpHAu3fv8OLFi3/9H8qyLOzv72N2dhaHh4fFHfAZJQn08uVLDA4Oor6+/pfHmj+Rz+dh2zY2Njbw9etXnJ+fF2HK53kWyDAMJBIJvH//Hq9evcLl5WXRn4jjOMjlctjY2MDy8jIODg6Kuj7gUaDGxkaMjY2hubkZr1+/hmmacBwHW1tbODs7K/Z2MAwDhmHg8PAQ4+PjuL29LdrannxweHV1hdXVVcTj8R8HYdM0cXV1hYWFBS+2/OH+/r7oa7pe3ZLJpJtOp13Xdd10Ou0mk0nP9vLw5u0GyWTS/fz58/81juv7xz5BF4hrsSBTIEKBCAUiFIhQIEKBCAUiFIhQIEKBCAUiFIhQIEKBCAUiFIj4Czjp0nshRcdoAAAAAElFTkSuQmCC\n",
       "\">FLGC</div><div class=\"floating-box\"><img src=\"data:image/png;base64,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\n",
       "\">CLF</div><div class=\"floating-box\"><img src=\"data:image/png;base64,iVBORw0KGgoAAAANSUhEUgAAAEgAAACQCAYAAACrgC0FAAAAOXRFWHRTb2Z0d2FyZQBNYXRwbG90bGliIHZlcnNpb24zLjQuMiwgaHR0cHM6Ly9tYXRwbG90bGliLm9yZy8rg+JYAAAACXBIWXMAAAsTAAALEwEAmpwYAAAEXklEQVR4nO3dzyt0fRzG8WvMzDEoJampEZJkNQuzshrFdrKgWVmwsfUj8RfMwk5kxZKFJIqFLLCTpPyIzSQbRIQmhjNjnGfhuT08d7puceacu65XzUb5fj+9O47zPZvxALAgnypwegC3UyBCgQgFIhSIUCBCgQgFIhSIUCBCgQgFIhSIUCBCgQgFIhSIUCBCgQgFIhSIUCBCgQgFIhSIUCBCgQgFIhSIUCBCgQgFIhSIUCBCgQgFIhSIUCBCgQgFIhSIUCBCgQgFIhSIUCBCgQgFIhSIUCBCgQgFIhSIUCBCgQgFIhSIUCBCgQgFIhSIUCBCgQgFIhSIUCBCgQgFIhSIUCBCgQgFIhSIUCBCgQgFIhSIUCBCgQgFIhSIUCBCgQgFIhSIUCBCgQgFIhSIUCBCgQgFIhSIUCBCgQgFIhSIUCBCgQgFIhSI8NmxaENDAwYHB+H1eu1Y/lPZbBa9vb14fHz8sTVtCXR6eor5+Xm0trairq4OuVwOfr/fjq3w/PwMy7Kwv7+PtbU1ZLPZH13fA5u/Z7W0tBTNzc1ob29HIBBAcXHxt9d8eXlBJpPBxcUF5ubmsLW1BdM0f2Da39ke6G0jjweRSATxeBy1tbXwer3w+b52AWcyGQDA9vY25ufnkUwm7Rj1g7wFeq+yshKdnZ2IRCIIBAJ/9DumaWJ5eRmLi4u4u7uzd8B3HAn0S1NTE/r6+mAYxqdXk2maSKVSSCQSOD4+zvOEDgcCgLKyMgwNDaGuru63q8k0TWxsbGByctK2ewzjeCDg9f40OjqKmpoaFBS8PpqZpon19XVMTEw4OpsrHhQty8LIyMiHf9HpdBpTU1MOTvXKFYEA4Pz8HAsLC8hkMkin0xgfH3fsz+o91wQCgMPDQ2SzWRiGgaOjI6fHAeCyQIZhAAByuRwKCwsdnuaVqwI1NjbCMAzkcjmEw2GnxwHgokBVVVVobW2F3+9HcXExenp6UFRU5PRY7gk0MDDw4UBrGAa6urqcG+hftpzmv6KkpAT9/f0IhUJvz0AAUFhYiJaWFqTTaUxPTyOXyzkyn6MPiuFwGMPDwwgEAm836P97enrC1dUVEokEzs7O8jyhQ4GCwSA6OjoQjUb/6LD66/XG7OwsVldXkUql8jDlq7wFMgwDTU1NaGtrQ3V1NTwez5dfoj09PaGgoAB7e3tYWlrC7u4uLMve8W0N5Pf70dDQgGg0img0imAwiFAohOvra1xeXn5r7XQ6jWw2i5WVFWxubuLk5AQvLy8/NPl/bAkUDoeRSCQ+/KyiogKRSAQ+nw/Pz8/Y2dn5diQAH27sABCPx93/Tvrm5gbJZBIHBwd4eHgAAHR3d7+98/H5fLi9vcXMzMyP7VleXo76+npbzm9WPj6xWMy6v7+3LMuy7u/vrVgslpd9f+CTv81isZg1Njb2N8WxXPHCzM1cc9RwKwUiFIhQIEKBCAUiFIhQIEKBCAUiFIhQIEKBCAUiFIhQIEKBiH8AOvK1tpdSqwIAAAAASUVORK5CYII=\n",
       "\">GRVI</div><div class=\"floating-box\"><img src=\"data:image/png;base64,iVBORw0KGgoAAAANSUhEUgAAAEgAAACQCAYAAACrgC0FAAAAOXRFWHRTb2Z0d2FyZQBNYXRwbG90bGliIHZlcnNpb24zLjQuMiwgaHR0cHM6Ly9tYXRwbG90bGliLm9yZy8rg+JYAAAACXBIWXMAAAsTAAALEwEAmpwYAAAE+klEQVR4nO3dz2scdRjH8c/+mJ1kNYHEopFUW6TbluaXHmwsHppSKJV2EYlFe+mfIPgf2IOe6iUIigevSv2NraII9qKBNEaQZJNuklLU7rZZEyFdN+7szowHu5LaxE+kz/OtyvOGpYeWZ2Zenex8Z3ZLEwBiWJuWvNs78G/PgEgGRDIgkgGRDIhkQCQDIhkQyYBIBkQyIJIBkQyIZEAkAyIZEMmASAZEMiCSAZEMiGRAJAMiGRDJgEgGRDIgkgGRDIhkQCQDIhkQyYBIBkQyIJIBkQyIZEAkAyIZEMmASAZEMiCSAZEMiGRAJAMiGRDJgEgGRDIgkgGRDIhkQCQDIhkQyYBIBkQyIJIBkQyIZEAkAyIZEMmASAZEMiCSAZEMiGRAJAMiGRDJgEgGRDIgUlpj6MAD9+PpPXs1RtPemJzEz7Wa2DwVoFODQ3jxwBNIJBIa4zctjCIUKhV8MDsrNlPlR+zNqW9RD0MkEwmnr7VmE+eKRdFjUQGaX17BzNKSxuhNC5pNvDX1HYIwFJ2r9iZ95ptxrNbrWuNvK4xjvHZxQnyuGtCHc3LvA1vp++vXsbjyi/hcNaBGGKmc8hu1Wq/j1fFxldmq66C3p6fxW7OpuQkAgJ9K4XxxXmW2KtBkqQQXF/qpchm1RkNltipQFMf48vJlzU2g1mjg7MyM2nz1W413CwXVq1kcxzg/r/PjBTgA+mJxEX4qpTa/GgSYX15Rm68OtFxbw8KKzgFEUYSPL11Smd3Kyd38e4UCAoWr2Y0gwEdzc+Jz1+cE6JNiEXWF9VBbOo0LV66Iz12fE6CpclnlPxCaLJWw1tBdZzkBimPg84UF0Zm1RgPvTOtd3ls5e6L4/uys+OX+swW9y3srZ0Bf//Aj0km5zTWjSOXm9K85A/ppdVV0XnF5WXTeZjl9aL8ouB6auHpVbNbf5RRoqlwWmVMNArFZLKdAF0slrAncdYdRhGlHj3SdAs0sVUQWjFnPQ6FSEdgjnlOga9UqkgIfBcUAbtSDO9+hLeQUqFL7FRmBO3uXHwY4BaoGgchaSOJ9bKs5Bepubxd5iN/h+wJ7s7WcAm3LZtEQALo3kxHYm63lFOi+9qzIXX0Ux86QnJ9BEp9yBGGIbdmswCSecyBP4CrWjKL/J9DIzh3Iet4dz8mkUtjf2yuwRzxnQIkEcHTXLpFZWc/D8/19IrNYzoAe63lQZBXd6vHeXrSlVb7/dUvOgI7vzomsolvVm00c3LlDbN5mOQM60dcHX/BvvCOTwTN79b8H6QRoe2cnct3dojOTySRG9+0TfYy74XZUp9/s9KERlS90+qkUTg0Nis9dnzrQ9s5OnOzvF33/adXh+3jl8GHVs0gd6PShEaQUDyDreapnkSqQ5tnTqsP38bLiWaQK9NLIQaQcfJn8HsWzSA3o0Z4enBwYQMbBYq7D93HmyBF0tbeJz1YBSieTOHviWZH7rtvavQc4+tQfv66r3fPw+rFj4ptTAXpheD8e6epCGEWyr1wO8egoMDyMeHQUYS735+95ySSe6+/Hkw8/JHosKuf/p/MLaEvLnz3HB4dw4OaDskQmgwm/Dee+unDLn9H4vCz+r7zy+XxcrVbjOI7jarUa5/N5F9u9+wf+T5HGxsZc4cSJlpK1cfZPMkkGRDIgkgGRDIhkQCQDIhkQyYBIBkQyIJIBkQyIZEAkAyIZEMmASL8DRCsMbRg5IMIAAAAASUVORK5CYII=\n",
       "\">GNRC</div><div class=\"floating-box\"><img src=\"data:image/png;base64,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\n",
       "\">BNTX</div><div class=\"floating-box\"><img src=\"data:image/png;base64,iVBORw0KGgoAAAANSUhEUgAAAEgAAACQCAYAAACrgC0FAAAAOXRFWHRTb2Z0d2FyZQBNYXRwbG90bGliIHZlcnNpb24zLjQuMiwgaHR0cHM6Ly9tYXRwbG90bGliLm9yZy8rg+JYAAAACXBIWXMAAAsTAAALEwEAmpwYAAADCUlEQVR4nO3VzUrjUByG8TdjSFvBr7ioWhQUBRduvYQuA96I4LW48hZc607ES3DnRhERLerOUqWtac4sZARHnMeBdCzD+4NDoISTP0/SJJIUZJ/68d0DjDoHAg4EHAg4EHAg4EDAgYADAQcCDgQcCDgQcCDgQMCBgAMBBwIOBBwIOBBwIOBAwIGAAwEHAg4EHAg4EHAg4EDAgYADAQcCDgQcCDgQcCDgQMCBgAMBBwIOBBwIOBBwIOBAwIGAAwEHAg4EHAg4EHAg4EDAgYADAQcCDgQcCDgQcCDgQMCBgAMBBwIOBBwIOBBwIOBAwIGAAwEHAg4EHAg4EHAg4EDAgYADAQcCDgQcCDgQcCDgQMCBgAMBBwIOBBwIOBBwIOBAwIGAAwEHAg4EHAg4EHAg4EDAgYADAQcCDgQcCDgQcCDgQMCBgAMBBwIOBOJhbDo5OanNzU11u111u131ej31ej0VRVHqdcbGxlStVlWpVN7W8fFxqdcYSqCNjQ3t7Ox8+fyXlxf1+/0Pv0dRpCRJFMdfH/Pk5KTUGxFJCqXtBiqViqanp9VoNNRoNLSysqLl5WXNzc29PQ2/DAYDFUWh5+dntVotXV5e6urqSjc3N2q1Wmq328rzfOgz/9NAf7K+vq7t7W3V63UVRaGzszPt7e3p7u7uW+caiZd0mqZaWFhQkiQKISiKIlWrVS0uLmpiYuJbZxvKE5RlmZrNpo6OjnRwcCDp9YWapqnq9bqWlpa0tram1dVVzc/PS3r9S42Pj7/b5+npSUmSqN/v6/b2Vufn57q4uND19bUeHh7UbrdLf/H/rvRAWZZpf39ftVpNeZ7r9PRU9/f3H84LIbw74qBR9O74ma2tLQ0Gg7+c+nOlf8WazaZqtdrr5nGsPM91eHiox8fH0u92HMeamZnR7Oys0jTV1NTUUJ6oUObKsix0Op0QQgidTidkWVbq/t+wyt80y7Kwu7v7P8QJI/OZH1Uj8ZkfZQ4EHAg4EHAg4EDAgYADAQcCDgQcCDgQcCDgQMCBgAMBBwI/AZ2QOnyWjtBPAAAAAElFTkSuQmCC\n",
       "\">WISH</div><div class=\"floating-box\"><img src=\"data:image/png;base64,iVBORw0KGgoAAAANSUhEUgAAAEgAAACQCAYAAACrgC0FAAAAOXRFWHRTb2Z0d2FyZQBNYXRwbG90bGliIHZlcnNpb24zLjQuMiwgaHR0cHM6Ly9tYXRwbG90bGliLm9yZy8rg+JYAAAACXBIWXMAAAsTAAALEwEAmpwYAAAEBUlEQVR4nO3dPUhyfRzG8Ss9vvRmOLQ0BkG1GNUkTS2BcFqCKBpqDnRriXCthiDuJWgP19oaIgKjoUFoCaIwGowgEAPppJ48z9Bze+f9vFw94On4wPUBIcX+58eXg+fvWewA4ED+kc/rAdqdAhEKRCgQoUCEAhEKRCgQoUCEAhEKRCgQoUCEAhEKRCgQoUCEAhEKRCgQoUCEAhEKRCgQoUCEAhEKRCgQoUCEAhEKRCgQoUCEAhEKRCgQoUCEAhEKRCgQoUCEAhEKRCgQoUCEAhEKRCgQoUCEAhEKRCgQoUCEAhEKRCgQoUCEAhEKRCgQoUCEAhEKRCgQoUCEAhEKRCgQoUCEAhEKRCgQoUCEAhEKRCgQoUCEAhEKRCgQoUCEAhEKRCgQoUCEAhEKRCgQoUCEAhEKRCgQoUCEAhEKRCgQoUCEAhEKRCgQoUCEAhEKRBhuLDoxMYF0Ou3G0tTy8jJKpVLL1uuACz9E6/f7MT4+jkQigVgshnq9jlAo1OrDAAAsy0JHRwfOz89xfHyMm5ublq7vSqDPuru7MTMzg7m5ORiGga6urpasa1kWSqUSMpkMstksbNtuybq/cz3QT4ZhYGpqCouLi4hGo+js7PzPa7y/v8O2bdzd3SGTyeDq6sqFSZt9W6DPYrEYkskk+vr6EA6Hv/Q/lmUhn89jb28PDw8PLk/4iyeBgI8zamlpCaZp/uvnk23bqNVq2N/fx8nJyTdO+MGzQD8NDg4inU4jGo3C52vedVSrVeTzeWxubqJYLHoyn+eBAGBgYAC7u7tNn0v1eh3Pz89IJpOwLMuz2dpio/j4+IitrS1UKpXGa9VqFRsbG57GAdokEADkcrmmDd7l5SWenp68G+hPbRMIAGq1WuPvz2eTl9om0NDQEPr7+xvP4/E4IpGIhxN9aItAfr8fa2trTZf7QCCA1dVVD6f64Hmg3t5erK+vIxqNNr0eDAYxOTmJlZUVGIYr36m/xNPLfDweRyqVQjAYRCAQ+Nv3vL294eXlBdvb27i9vf3mCT0KNDIygoWFBYyOjn75q0alUsHp6SmOjo5QKBRcnvCXbwsUiUQwPT2N2dlZ9PT0IBQK/WXnzNRqNdTrdRQKBRweHuLi4sL1q51rgUzTRCKRwP39PcLhcOO+0FfPGOb19RU+nw/ZbBZnZ2e4vr525ZaHK4FSqRR2dnZgGAZs20Yul3Nt0/f7WTg/P9/S3bcrl4exsbHGlccwDBSLRRwcHLhxqIZIJILh4WFUq9WWr+20+mGaplMulx3HcZxyueyYptnyY3zjw52FTdN0fvz48X+P47TF7Y525vlOut0pEKFAhAIRCkQoEKFAhAIRCkQoEKFAhAIRCkQoEKFAhAIRCkT8ASnajRbtTCeAAAAAAElFTkSuQmCC\n",
       "\">EVGO</div><div class=\"floating-box\"><img src=\"data:image/png;base64,iVBORw0KGgoAAAANSUhEUgAAAEgAAACQCAYAAACrgC0FAAAAOXRFWHRTb2Z0d2FyZQBNYXRwbG90bGliIHZlcnNpb24zLjQuMiwgaHR0cHM6Ly9tYXRwbG90bGliLm9yZy8rg+JYAAAACXBIWXMAAAsTAAALEwEAmpwYAAAD00lEQVR4nO3dP0jrehjG8ednG5QKgtAxzt0EV1dpC0rURcFRcHZw6OLqLnRyKAji4OAgiEMrOgiiOCiCuIiLiNihIFLapjHNHcR7/ng8z+HcpCmX5wNdIrx9+dLYX7vUAAggX+qLe4Fep0CEAhEKRCgQoUCEAhEKRCgQoUCEAhEKRCgQoUCEAhEKRCgQoUCEAhEKRCgQoUCEAhEKRCgQoUCEAhEKRCgQoUCEAhEKRCgQoUCEAhEKRCgQoUCEAhEKRCgQoUCEAhEKRCgQoUCEAhEKRCgQoUCEAhEKRCgQoUCEAhEKRCgQoUCEAhEKRCgQoUCEAhEKRCgQoUCEAhEKRCgQoUCEAhEKRCgQoUCEAhEKRCgQoUCEAhEKRCgQoUCEAhEKRCgQoUCEAhEKRCgQoUCEAhEKRCgQoUCEAhEKRCgQoUCEAhEKRCgQoUCEAhEKRCgQkYxiaCaTwfLyMhKJRBTjv+R5HgqFAprNZmgzIwlUrVZxenqKXC6H4eFhAEBfXzQvVt/3kUgk8PDwgHK5DN/3Q51vEPFvPWcyGczNzWFsbAzGGFiWFcrcVqsFYwyOj4+xt7eHp6enUOb+LPJAH9LpNGZnZ5HL5WCMwcDAwF/NaTabaLfb2N3dRaVSQaPRCHnTH3Ut0If+/n7Mz89jZmYGlmX98a3neR48z0OpVMLR0RE6nU7Em77reqAPtm1jZWUFIyMj9NXkui4uLi6wsbGB19fXLm34LrZAH5aWlpDP57+M5LouisUiTk5OurzZu9jPQaVSCefn52i1Wp/+1mq1sLm5GVscoAcCAcD6+jo8z/t0/e7uDgcHBzFs9E1PBOp0OqhWq5+u39/fx7DNj3oi0OjoKGzb/nQ9n88jnU7HsNE3sQeybRuFQuGX/6Qty8Lq6iqGhoZi2OxdbO9ilmVhYWEB09PTvz0PfX/+OTw87PKWMQSyLAvj4+NYXFzE4ODgH5+om80mHh8fsbW1hevrawRBd9buWiDbtjE1NYWJiQkEQYBUKvVXcxqNBtrtNvb391GpVPDy8hLuoj+JJJDjOMhmszg7O0OtVsPk5CRs20YikUAyGc4XCK7rwhiDm5sblMtlXF5e/vIs9V+FHshxHOzs7CCVSuHt7Q1XV1d4fn6O7JYwxsAYA9/3cXt7i7W1tVA/wIb+fVA2m/339kkmk6jVatje3g77ab7kum7oM4MwH47jBPV6PQiCIKjX64HjOKHOj+ER/lDHcYJisfh/iBPE/mm+18V+ku51CkQoEKFAhAIRCkQoEKFAhAIRCkQoEKFAhAIRCkQoEKFAhAIR/wDbtoslpSGv8wAAAABJRU5ErkJggg==\n",
       "\">TLRY.TO</div><div class=\"floating-box\"><img src=\"data:image/png;base64,iVBORw0KGgoAAAANSUhEUgAAAEgAAACQCAYAAACrgC0FAAAAOXRFWHRTb2Z0d2FyZQBNYXRwbG90bGliIHZlcnNpb24zLjQuMiwgaHR0cHM6Ly9tYXRwbG90bGliLm9yZy8rg+JYAAAACXBIWXMAAAsTAAALEwEAmpwYAAADH0lEQVR4nO3dv04UURTH8TMzu+yABQUSgcRobDAmNpqYwBOY4D6CvoBvYEssbHkAOqwtTayteAMbao2J/BmQLHfmWBgrI98t7tlxye+T0J678+XODDtssoWZuck/lX2/gP+dAgEFAgoEFAgoEFAgoEBAgYACAQUCCgQUCCgQUCCgQECBgAIBBQIKBBQIKBBQIKBAQIGAAgEFAgoEFAgoEFAgoEBAgYACAQUCCgQUCCgQUCCgQECBgAIBBQIKBBQIKBBQIKBAQIGAAgEFAgoEFAgoEFAgoEBAgYACAQUCCgQUCCgQUCCgQECBgAIBBQIKBBQIKBBQIKBAQIGAAgEFAgoEFAgoEFAgoEBAgYACAQUCCgQUCCgQUCCgQECBgAIBBQIKBBQIKBBQIDCIGHq/XrNny5sRo9HH74d22l5km1dYwBewfXryzraXH1nyNvfoa43Koe0eHdjbo/fZZobsoMpKW6rqiNHX6rzLPjPkGjTrnfNHZ25t5kghgbqevjbR3a3zvGvfqB3k5tZmXjskUO5tPi03s9bm4BS76lLEWOQ+J9eg49REjEXJWztLP7PODAn0bXIcMRa13mX/5YQE+pGaXk4zN7eTdJ51Zkigk3RuV97PdWguAh2nppdbfVWU83GKnaTz7H+wTWNYDOZjB+V+kdMalgM7TfneyZsFBTpNF1YURcToa3XeZb/2hQQ6SxdWFbN/FnfZTbLPDDmKy+7Kqh4eVk4C7pwhR1GXw+zviaaxUOR/vBUSaLEa9XMXK+clUDky7+k2n1vQDlow7+GhWWFmg6LKOjNsB/UheZt97ZBAS1U/gVrvsq8dEmhjtGLDzFt9GpMu2cZoJevMkEAP6nVbnOUu2rpt9nrTBttrdq++k3V0yP/FHt66a2Yzeja9tWrlm8dW1JUtPV+3na879mH/c7bxIYF2jw7s8PRLxOi/vHj5yrbq36dzUQ+sfLpqtp93DZ/nn/F47E3TuLt70zQ+Ho9zr9H/QeaItLe3FxHHQz68cJPo80FAgYACAQUCCgQUCCgQUCCgQECBgAIBBQIKBBQIKBBQIKBA4BdN1lA0h+DtLgAAAABJRU5ErkJggg==\n",
       "\">MCD</div>"
      ],
      "text/plain": [
       "<IPython.core.display.HTML object>"
      ]
     },
     "metadata": {},
     "output_type": "display_data"
    },
    {
     "name": "stdout",
     "output_type": "stream",
     "text": [
      "visualizatio Time: 1.187621831893921 seconds\n"
     ]
    }
   ],
   "source": [
    "mv = Stocks(tickers=mostV)\n",
    "mv.visualize()"
   ]
  },
  {
   "cell_type": "code",
   "execution_count": 18,
   "id": "87c597c7",
   "metadata": {
    "ExecuteTime": {
     "end_time": "2021-10-06T21:36:50.593279Z",
     "start_time": "2021-10-06T21:36:50.586619Z"
    }
   },
   "outputs": [
    {
     "data": {
      "text/plain": [
       "Date\n",
       "2016-10-06    123.676834\n",
       "2016-10-07    123.152420\n",
       "2016-10-10    124.983345\n",
       "2016-10-11    123.051186\n",
       "2016-10-12    122.517548\n",
       "                 ...    \n",
       "2021-09-30    219.940002\n",
       "2021-10-01    226.000000\n",
       "2021-10-04    223.789993\n",
       "2021-10-05    224.419998\n",
       "2021-10-06    224.050003\n",
       "Name: BA, Length: 1261, dtype: float64"
      ]
     },
     "execution_count": 18,
     "metadata": {},
     "output_type": "execute_result"
    }
   ],
   "source": [
    "mv.data['Adj Close']['BA']"
   ]
  },
  {
   "cell_type": "code",
   "execution_count": 35,
   "id": "ecb71c1c",
   "metadata": {
    "ExecuteTime": {
     "end_time": "2021-10-06T23:55:22.474703Z",
     "start_time": "2021-10-06T23:55:22.449882Z"
    }
   },
   "outputs": [],
   "source": [
    "selected = mv.data.stack(level=[1]).reset_index()[['Date', 'level_1', 'Adj Close']]\n",
    "selected.columns = ['Date', 'Ticker', 'Price']\n",
    " np.log(selected.Price/selected.Price.shift(1))"
   ]
  },
  {
   "cell_type": "code",
   "execution_count": 107,
   "id": "59d9cee8",
   "metadata": {
    "ExecuteTime": {
     "end_time": "2021-10-07T20:21:16.834816Z",
     "start_time": "2021-10-07T20:21:16.822166Z"
    }
   },
   "outputs": [
    {
     "data": {
      "text/html": [
       "<div>\n",
       "<style scoped>\n",
       "    .dataframe tbody tr th:only-of-type {\n",
       "        vertical-align: middle;\n",
       "    }\n",
       "\n",
       "    .dataframe tbody tr th {\n",
       "        vertical-align: top;\n",
       "    }\n",
       "\n",
       "    .dataframe thead th {\n",
       "        text-align: right;\n",
       "    }\n",
       "</style>\n",
       "<table border=\"1\" class=\"dataframe\">\n",
       "  <thead>\n",
       "    <tr style=\"text-align: right;\">\n",
       "      <th></th>\n",
       "      <th>Date</th>\n",
       "      <th>Ticker</th>\n",
       "      <th>Price</th>\n",
       "      <th>Return</th>\n",
       "    </tr>\n",
       "  </thead>\n",
       "  <tbody>\n",
       "    <tr>\n",
       "      <th>0</th>\n",
       "      <td>2016-10-06</td>\n",
       "      <td>AUPH</td>\n",
       "      <td>5.100000</td>\n",
       "      <td>NaN</td>\n",
       "    </tr>\n",
       "    <tr>\n",
       "      <th>1</th>\n",
       "      <td>2016-10-06</td>\n",
       "      <td>BA</td>\n",
       "      <td>123.676834</td>\n",
       "      <td>3.188431</td>\n",
       "    </tr>\n",
       "    <tr>\n",
       "      <th>2</th>\n",
       "      <td>2016-10-06</td>\n",
       "      <td>BB</td>\n",
       "      <td>7.940000</td>\n",
       "      <td>-2.745759</td>\n",
       "    </tr>\n",
       "    <tr>\n",
       "      <th>3</th>\n",
       "      <td>2016-10-06</td>\n",
       "      <td>CAKE</td>\n",
       "      <td>45.097214</td>\n",
       "      <td>1.736907</td>\n",
       "    </tr>\n",
       "    <tr>\n",
       "      <th>4</th>\n",
       "      <td>2016-10-06</td>\n",
       "      <td>CLF</td>\n",
       "      <td>5.283865</td>\n",
       "      <td>-2.144163</td>\n",
       "    </tr>\n",
       "    <tr>\n",
       "      <th>...</th>\n",
       "      <td>...</td>\n",
       "      <td>...</td>\n",
       "      <td>...</td>\n",
       "      <td>...</td>\n",
       "    </tr>\n",
       "    <tr>\n",
       "      <th>24760</th>\n",
       "      <td>2021-10-06</td>\n",
       "      <td>TEVA</td>\n",
       "      <td>9.825000</td>\n",
       "      <td>-2.551422</td>\n",
       "    </tr>\n",
       "    <tr>\n",
       "      <th>24761</th>\n",
       "      <td>2021-10-06</td>\n",
       "      <td>TLRY</td>\n",
       "      <td>10.875000</td>\n",
       "      <td>0.101536</td>\n",
       "    </tr>\n",
       "    <tr>\n",
       "      <th>24762</th>\n",
       "      <td>2021-10-06</td>\n",
       "      <td>TLRY.TO</td>\n",
       "      <td>13.700000</td>\n",
       "      <td>0.230929</td>\n",
       "    </tr>\n",
       "    <tr>\n",
       "      <th>24763</th>\n",
       "      <td>2021-10-06</td>\n",
       "      <td>U</td>\n",
       "      <td>129.990005</td>\n",
       "      <td>2.250062</td>\n",
       "    </tr>\n",
       "    <tr>\n",
       "      <th>24764</th>\n",
       "      <td>2021-10-06</td>\n",
       "      <td>WISH</td>\n",
       "      <td>4.952000</td>\n",
       "      <td>-3.267666</td>\n",
       "    </tr>\n",
       "  </tbody>\n",
       "</table>\n",
       "<p>24765 rows × 4 columns</p>\n",
       "</div>"
      ],
      "text/plain": [
       "            Date   Ticker       Price    Return\n",
       "0     2016-10-06     AUPH    5.100000       NaN\n",
       "1     2016-10-06       BA  123.676834  3.188431\n",
       "2     2016-10-06       BB    7.940000 -2.745759\n",
       "3     2016-10-06     CAKE   45.097214  1.736907\n",
       "4     2016-10-06      CLF    5.283865 -2.144163\n",
       "...          ...      ...         ...       ...\n",
       "24760 2021-10-06     TEVA    9.825000 -2.551422\n",
       "24761 2021-10-06     TLRY   10.875000  0.101536\n",
       "24762 2021-10-06  TLRY.TO   13.700000  0.230929\n",
       "24763 2021-10-06        U  129.990005  2.250062\n",
       "24764 2021-10-06     WISH    4.952000 -3.267666\n",
       "\n",
       "[24765 rows x 4 columns]"
      ]
     },
     "execution_count": 107,
     "metadata": {},
     "output_type": "execute_result"
    }
   ],
   "source": []
  },
  {
   "cell_type": "code",
   "execution_count": 93,
   "id": "443dfe37",
   "metadata": {
    "ExecuteTime": {
     "end_time": "2021-10-07T18:20:30.227779Z",
     "start_time": "2021-10-07T18:20:30.223415Z"
    }
   },
   "outputs": [
    {
     "data": {
      "text/plain": [
       "Index(['Adj Close', 'Close', 'High', 'Low', 'Open', 'Volume'], dtype='object')"
      ]
     },
     "execution_count": 93,
     "metadata": {},
     "output_type": "execute_result"
    }
   ],
   "source": [
    "df.columns.levels[0]"
   ]
  },
  {
   "cell_type": "code",
   "execution_count": 96,
   "id": "ac9aa224",
   "metadata": {
    "ExecuteTime": {
     "end_time": "2021-10-07T18:32:33.259264Z",
     "start_time": "2021-10-07T18:32:33.214422Z"
    }
   },
   "outputs": [
    {
     "data": {
      "text/html": [
       "<div>\n",
       "<style scoped>\n",
       "    .dataframe tbody tr th:only-of-type {\n",
       "        vertical-align: middle;\n",
       "    }\n",
       "\n",
       "    .dataframe tbody tr th {\n",
       "        vertical-align: top;\n",
       "    }\n",
       "\n",
       "    .dataframe thead tr th {\n",
       "        text-align: left;\n",
       "    }\n",
       "\n",
       "    .dataframe thead tr:last-of-type th {\n",
       "        text-align: right;\n",
       "    }\n",
       "</style>\n",
       "<table border=\"1\" class=\"dataframe\">\n",
       "  <thead>\n",
       "    <tr>\n",
       "      <th></th>\n",
       "      <th colspan=\"10\" halign=\"left\">Adj Close</th>\n",
       "      <th>...</th>\n",
       "      <th colspan=\"10\" halign=\"left\">Returns</th>\n",
       "    </tr>\n",
       "    <tr>\n",
       "      <th></th>\n",
       "      <th>AUPH</th>\n",
       "      <th>BA</th>\n",
       "      <th>BB</th>\n",
       "      <th>BNTX</th>\n",
       "      <th>BTBT</th>\n",
       "      <th>CAKE</th>\n",
       "      <th>CLF</th>\n",
       "      <th>DUOL</th>\n",
       "      <th>EVGO</th>\n",
       "      <th>FB</th>\n",
       "      <th>...</th>\n",
       "      <th>QS</th>\n",
       "      <th>SNDL</th>\n",
       "      <th>SPOT</th>\n",
       "      <th>SPRT</th>\n",
       "      <th>TDOC</th>\n",
       "      <th>TEVA</th>\n",
       "      <th>TLRY</th>\n",
       "      <th>TLRY.TO</th>\n",
       "      <th>U</th>\n",
       "      <th>WISH</th>\n",
       "    </tr>\n",
       "    <tr>\n",
       "      <th>Date</th>\n",
       "      <th></th>\n",
       "      <th></th>\n",
       "      <th></th>\n",
       "      <th></th>\n",
       "      <th></th>\n",
       "      <th></th>\n",
       "      <th></th>\n",
       "      <th></th>\n",
       "      <th></th>\n",
       "      <th></th>\n",
       "      <th></th>\n",
       "      <th></th>\n",
       "      <th></th>\n",
       "      <th></th>\n",
       "      <th></th>\n",
       "      <th></th>\n",
       "      <th></th>\n",
       "      <th></th>\n",
       "      <th></th>\n",
       "      <th></th>\n",
       "      <th></th>\n",
       "    </tr>\n",
       "  </thead>\n",
       "  <tbody>\n",
       "    <tr>\n",
       "      <th>2016-10-06</th>\n",
       "      <td>5.100000</td>\n",
       "      <td>123.676834</td>\n",
       "      <td>7.9400</td>\n",
       "      <td>NaN</td>\n",
       "      <td>NaN</td>\n",
       "      <td>45.097214</td>\n",
       "      <td>5.283865</td>\n",
       "      <td>NaN</td>\n",
       "      <td>NaN</td>\n",
       "      <td>128.740005</td>\n",
       "      <td>...</td>\n",
       "      <td>NaN</td>\n",
       "      <td>NaN</td>\n",
       "      <td>NaN</td>\n",
       "      <td>NaN</td>\n",
       "      <td>NaN</td>\n",
       "      <td>NaN</td>\n",
       "      <td>NaN</td>\n",
       "      <td>NaN</td>\n",
       "      <td>NaN</td>\n",
       "      <td>NaN</td>\n",
       "    </tr>\n",
       "    <tr>\n",
       "      <th>2016-10-07</th>\n",
       "      <td>4.700000</td>\n",
       "      <td>123.152420</td>\n",
       "      <td>7.8600</td>\n",
       "      <td>NaN</td>\n",
       "      <td>NaN</td>\n",
       "      <td>45.917004</td>\n",
       "      <td>5.302804</td>\n",
       "      <td>NaN</td>\n",
       "      <td>NaN</td>\n",
       "      <td>128.990005</td>\n",
       "      <td>...</td>\n",
       "      <td>NaN</td>\n",
       "      <td>NaN</td>\n",
       "      <td>NaN</td>\n",
       "      <td>1.011976</td>\n",
       "      <td>1.009064</td>\n",
       "      <td>0.992511</td>\n",
       "      <td>NaN</td>\n",
       "      <td>NaN</td>\n",
       "      <td>NaN</td>\n",
       "      <td>NaN</td>\n",
       "    </tr>\n",
       "    <tr>\n",
       "      <th>2016-10-10</th>\n",
       "      <td>4.750000</td>\n",
       "      <td>124.983345</td>\n",
       "      <td>7.8900</td>\n",
       "      <td>NaN</td>\n",
       "      <td>NaN</td>\n",
       "      <td>46.900745</td>\n",
       "      <td>5.416436</td>\n",
       "      <td>NaN</td>\n",
       "      <td>NaN</td>\n",
       "      <td>130.240005</td>\n",
       "      <td>...</td>\n",
       "      <td>NaN</td>\n",
       "      <td>NaN</td>\n",
       "      <td>NaN</td>\n",
       "      <td>0.993964</td>\n",
       "      <td>1.025150</td>\n",
       "      <td>0.999556</td>\n",
       "      <td>NaN</td>\n",
       "      <td>NaN</td>\n",
       "      <td>NaN</td>\n",
       "      <td>NaN</td>\n",
       "    </tr>\n",
       "    <tr>\n",
       "      <th>2016-10-11</th>\n",
       "      <td>4.470000</td>\n",
       "      <td>123.051186</td>\n",
       "      <td>7.6700</td>\n",
       "      <td>NaN</td>\n",
       "      <td>NaN</td>\n",
       "      <td>46.427082</td>\n",
       "      <td>5.283865</td>\n",
       "      <td>NaN</td>\n",
       "      <td>NaN</td>\n",
       "      <td>128.880005</td>\n",
       "      <td>...</td>\n",
       "      <td>NaN</td>\n",
       "      <td>NaN</td>\n",
       "      <td>NaN</td>\n",
       "      <td>0.982260</td>\n",
       "      <td>0.962617</td>\n",
       "      <td>0.989343</td>\n",
       "      <td>NaN</td>\n",
       "      <td>NaN</td>\n",
       "      <td>NaN</td>\n",
       "      <td>NaN</td>\n",
       "    </tr>\n",
       "    <tr>\n",
       "      <th>2016-10-12</th>\n",
       "      <td>4.280000</td>\n",
       "      <td>122.517548</td>\n",
       "      <td>7.6000</td>\n",
       "      <td>NaN</td>\n",
       "      <td>NaN</td>\n",
       "      <td>46.918945</td>\n",
       "      <td>5.425905</td>\n",
       "      <td>NaN</td>\n",
       "      <td>NaN</td>\n",
       "      <td>129.050003</td>\n",
       "      <td>...</td>\n",
       "      <td>NaN</td>\n",
       "      <td>NaN</td>\n",
       "      <td>NaN</td>\n",
       "      <td>1.000000</td>\n",
       "      <td>0.989684</td>\n",
       "      <td>0.990126</td>\n",
       "      <td>NaN</td>\n",
       "      <td>NaN</td>\n",
       "      <td>NaN</td>\n",
       "      <td>NaN</td>\n",
       "    </tr>\n",
       "    <tr>\n",
       "      <th>...</th>\n",
       "      <td>...</td>\n",
       "      <td>...</td>\n",
       "      <td>...</td>\n",
       "      <td>...</td>\n",
       "      <td>...</td>\n",
       "      <td>...</td>\n",
       "      <td>...</td>\n",
       "      <td>...</td>\n",
       "      <td>...</td>\n",
       "      <td>...</td>\n",
       "      <td>...</td>\n",
       "      <td>...</td>\n",
       "      <td>...</td>\n",
       "      <td>...</td>\n",
       "      <td>...</td>\n",
       "      <td>...</td>\n",
       "      <td>...</td>\n",
       "      <td>...</td>\n",
       "      <td>...</td>\n",
       "      <td>...</td>\n",
       "      <td>...</td>\n",
       "    </tr>\n",
       "    <tr>\n",
       "      <th>2021-09-30</th>\n",
       "      <td>22.129999</td>\n",
       "      <td>219.940002</td>\n",
       "      <td>9.7300</td>\n",
       "      <td>272.989990</td>\n",
       "      <td>7.23</td>\n",
       "      <td>47.000000</td>\n",
       "      <td>19.809999</td>\n",
       "      <td>166.360001</td>\n",
       "      <td>8.1500</td>\n",
       "      <td>339.390015</td>\n",
       "      <td>...</td>\n",
       "      <td>0.963865</td>\n",
       "      <td>1.002959</td>\n",
       "      <td>1.022785</td>\n",
       "      <td>NaN</td>\n",
       "      <td>1.007068</td>\n",
       "      <td>0.976931</td>\n",
       "      <td>1.016202</td>\n",
       "      <td>1.011283</td>\n",
       "      <td>1.003338</td>\n",
       "      <td>0.976744</td>\n",
       "    </tr>\n",
       "    <tr>\n",
       "      <th>2021-10-01</th>\n",
       "      <td>21.809999</td>\n",
       "      <td>226.000000</td>\n",
       "      <td>9.7000</td>\n",
       "      <td>254.789993</td>\n",
       "      <td>8.07</td>\n",
       "      <td>49.389999</td>\n",
       "      <td>19.660000</td>\n",
       "      <td>160.580002</td>\n",
       "      <td>8.2800</td>\n",
       "      <td>343.010010</td>\n",
       "      <td>...</td>\n",
       "      <td>0.998777</td>\n",
       "      <td>0.988201</td>\n",
       "      <td>1.017707</td>\n",
       "      <td>NaN</td>\n",
       "      <td>0.999211</td>\n",
       "      <td>0.995893</td>\n",
       "      <td>0.987600</td>\n",
       "      <td>0.983961</td>\n",
       "      <td>0.999762</td>\n",
       "      <td>0.979853</td>\n",
       "    </tr>\n",
       "    <tr>\n",
       "      <th>2021-10-04</th>\n",
       "      <td>21.090000</td>\n",
       "      <td>223.789993</td>\n",
       "      <td>9.6000</td>\n",
       "      <td>248.899994</td>\n",
       "      <td>7.59</td>\n",
       "      <td>48.439999</td>\n",
       "      <td>19.830000</td>\n",
       "      <td>150.869995</td>\n",
       "      <td>7.9500</td>\n",
       "      <td>326.230011</td>\n",
       "      <td>...</td>\n",
       "      <td>0.936760</td>\n",
       "      <td>0.940298</td>\n",
       "      <td>0.967645</td>\n",
       "      <td>NaN</td>\n",
       "      <td>0.965985</td>\n",
       "      <td>0.991753</td>\n",
       "      <td>0.963229</td>\n",
       "      <td>0.958894</td>\n",
       "      <td>0.949533</td>\n",
       "      <td>0.906542</td>\n",
       "    </tr>\n",
       "    <tr>\n",
       "      <th>2021-10-05</th>\n",
       "      <td>21.280001</td>\n",
       "      <td>224.419998</td>\n",
       "      <td>9.5200</td>\n",
       "      <td>250.119995</td>\n",
       "      <td>10.35</td>\n",
       "      <td>46.630001</td>\n",
       "      <td>20.760000</td>\n",
       "      <td>144.850006</td>\n",
       "      <td>8.0800</td>\n",
       "      <td>332.959991</td>\n",
       "      <td>...</td>\n",
       "      <td>0.985192</td>\n",
       "      <td>1.017460</td>\n",
       "      <td>1.017620</td>\n",
       "      <td>NaN</td>\n",
       "      <td>1.015686</td>\n",
       "      <td>1.011434</td>\n",
       "      <td>1.033520</td>\n",
       "      <td>1.031781</td>\n",
       "      <td>1.068419</td>\n",
       "      <td>0.985567</td>\n",
       "    </tr>\n",
       "    <tr>\n",
       "      <th>2021-10-06</th>\n",
       "      <td>19.891600</td>\n",
       "      <td>224.050003</td>\n",
       "      <td>9.3801</td>\n",
       "      <td>236.970001</td>\n",
       "      <td>11.69</td>\n",
       "      <td>46.930000</td>\n",
       "      <td>20.243500</td>\n",
       "      <td>137.414993</td>\n",
       "      <td>7.8817</td>\n",
       "      <td>333.764404</td>\n",
       "      <td>...</td>\n",
       "      <td>1.004421</td>\n",
       "      <td>0.997660</td>\n",
       "      <td>1.028873</td>\n",
       "      <td>NaN</td>\n",
       "      <td>1.013585</td>\n",
       "      <td>1.009764</td>\n",
       "      <td>0.979730</td>\n",
       "      <td>0.981375</td>\n",
       "      <td>1.015150</td>\n",
       "      <td>1.035983</td>\n",
       "    </tr>\n",
       "  </tbody>\n",
       "</table>\n",
       "<p>1261 rows × 203 columns</p>\n",
       "</div>"
      ],
      "text/plain": [
       "            Adj Close                                                    \\\n",
       "                 AUPH          BA      BB        BNTX   BTBT       CAKE   \n",
       "Date                                                                      \n",
       "2016-10-06   5.100000  123.676834  7.9400         NaN    NaN  45.097214   \n",
       "2016-10-07   4.700000  123.152420  7.8600         NaN    NaN  45.917004   \n",
       "2016-10-10   4.750000  124.983345  7.8900         NaN    NaN  46.900745   \n",
       "2016-10-11   4.470000  123.051186  7.6700         NaN    NaN  46.427082   \n",
       "2016-10-12   4.280000  122.517548  7.6000         NaN    NaN  46.918945   \n",
       "...               ...         ...     ...         ...    ...        ...   \n",
       "2021-09-30  22.129999  219.940002  9.7300  272.989990   7.23  47.000000   \n",
       "2021-10-01  21.809999  226.000000  9.7000  254.789993   8.07  49.389999   \n",
       "2021-10-04  21.090000  223.789993  9.6000  248.899994   7.59  48.439999   \n",
       "2021-10-05  21.280001  224.419998  9.5200  250.119995  10.35  46.630001   \n",
       "2021-10-06  19.891600  224.050003  9.3801  236.970001  11.69  46.930000   \n",
       "\n",
       "                                                       ...   Returns  \\\n",
       "                  CLF        DUOL    EVGO          FB  ...        QS   \n",
       "Date                                                   ...             \n",
       "2016-10-06   5.283865         NaN     NaN  128.740005  ...       NaN   \n",
       "2016-10-07   5.302804         NaN     NaN  128.990005  ...       NaN   \n",
       "2016-10-10   5.416436         NaN     NaN  130.240005  ...       NaN   \n",
       "2016-10-11   5.283865         NaN     NaN  128.880005  ...       NaN   \n",
       "2016-10-12   5.425905         NaN     NaN  129.050003  ...       NaN   \n",
       "...               ...         ...     ...         ...  ...       ...   \n",
       "2021-09-30  19.809999  166.360001  8.1500  339.390015  ...  0.963865   \n",
       "2021-10-01  19.660000  160.580002  8.2800  343.010010  ...  0.998777   \n",
       "2021-10-04  19.830000  150.869995  7.9500  326.230011  ...  0.936760   \n",
       "2021-10-05  20.760000  144.850006  8.0800  332.959991  ...  0.985192   \n",
       "2021-10-06  20.243500  137.414993  7.8817  333.764404  ...  1.004421   \n",
       "\n",
       "                                                                        \\\n",
       "                SNDL      SPOT      SPRT      TDOC      TEVA      TLRY   \n",
       "Date                                                                     \n",
       "2016-10-06       NaN       NaN       NaN       NaN       NaN       NaN   \n",
       "2016-10-07       NaN       NaN  1.011976  1.009064  0.992511       NaN   \n",
       "2016-10-10       NaN       NaN  0.993964  1.025150  0.999556       NaN   \n",
       "2016-10-11       NaN       NaN  0.982260  0.962617  0.989343       NaN   \n",
       "2016-10-12       NaN       NaN  1.000000  0.989684  0.990126       NaN   \n",
       "...              ...       ...       ...       ...       ...       ...   \n",
       "2021-09-30  1.002959  1.022785       NaN  1.007068  0.976931  1.016202   \n",
       "2021-10-01  0.988201  1.017707       NaN  0.999211  0.995893  0.987600   \n",
       "2021-10-04  0.940298  0.967645       NaN  0.965985  0.991753  0.963229   \n",
       "2021-10-05  1.017460  1.017620       NaN  1.015686  1.011434  1.033520   \n",
       "2021-10-06  0.997660  1.028873       NaN  1.013585  1.009764  0.979730   \n",
       "\n",
       "                                          \n",
       "             TLRY.TO         U      WISH  \n",
       "Date                                      \n",
       "2016-10-06       NaN       NaN       NaN  \n",
       "2016-10-07       NaN       NaN       NaN  \n",
       "2016-10-10       NaN       NaN       NaN  \n",
       "2016-10-11       NaN       NaN       NaN  \n",
       "2016-10-12       NaN       NaN       NaN  \n",
       "...              ...       ...       ...  \n",
       "2021-09-30  1.011283  1.003338  0.976744  \n",
       "2021-10-01  0.983961  0.999762  0.979853  \n",
       "2021-10-04  0.958894  0.949533  0.906542  \n",
       "2021-10-05  1.031781  1.068419  0.985567  \n",
       "2021-10-06  0.981375  1.015150  1.035983  \n",
       "\n",
       "[1261 rows x 203 columns]"
      ]
     },
     "execution_count": 96,
     "metadata": {},
     "output_type": "execute_result"
    }
   ],
   "source": [
    "returns = np.log(df['Adj Close']/df['Adj Close'].shift(1))\n",
    "returns.columns = pd.MultiIndex.from_product([['Return'], returns.columns])\n",
    "concated = pd.concat([df, returns], axis=1)\n",
    "print(concated.tail())\n",
    "\n",
    "selected = concated.stack(level=[1]).reset_index()[['Date', 'level_1', 'Adj Close', 'Return']]\n",
    "selected.columns = ['date', 'ticker', 'price', 'returns']\n",
    "start = time.time()\n",
    "selected.to_sql('histories', db.engine, if_exists='replace')\n",
    "print(\"to sql time:\"time.time() - start)\n",
    "print(pd.read_sql('histories', db.engine))"
   ]
  },
  {
   "cell_type": "code",
   "execution_count": 44,
   "id": "8a46a8ac",
   "metadata": {
    "ExecuteTime": {
     "end_time": "2021-09-29T20:10:27.199708Z",
     "start_time": "2021-09-29T20:10:18.688257Z"
    }
   },
   "outputs": [
    {
     "name": "stdout",
     "output_type": "stream",
     "text": [
      "load overview Time: 1.5158379077911377 seconds#####] 3/3 \n",
      "  Ticker                              Company       Sector    Market Cap  P/E  \\\n",
      "0   ATER                        Aterian, Inc.   Technology  3.762300e+08  NaN   \n",
      "1   AFRM                Affirm Holdings, Inc.   Technology  3.193000e+10  NaN   \n",
      "2   SNMP  Evolve Transition Infrastructure LP       Energy  7.079000e+07  NaN   \n",
      "3    DNN                  Denison Mines Corp.       Energy  1.210000e+09  NaN   \n",
      "4   SHIP     Seanergy Maritime Holdings Corp.  Industrials  2.541800e+08  NaN   \n",
      "\n",
      "   Perf Week  Perf Month   Price  Change      Volume  \n",
      "0    -0.1254      0.8701    9.91 -0.1284  16712768.0  \n",
      "1     0.0593      0.6866  112.66 -0.0162  15875611.0  \n",
      "2     0.4020      0.3003    1.14 -0.0947  15518588.0  \n",
      "3    -0.0213      0.2212    1.36 -0.0181  11546011.0  \n",
      "4     0.1333      0.2143    1.43 -0.0654  18139941.0  \n",
      "downloading benchmark\n",
      "[*********************100%***********************]  1 of 1 completed\n",
      "downloading stock data\n",
      "[*********************100%***********************]  59 of 59 completed\n",
      "load stock Time: 3.492810010910034 seconds\n",
      "calculate stats Time: 0.5302116870880127 seconds\n",
      "load info from overview Time: 0.009983062744140625 seconds\n"
     ]
    },
    {
     "data": {
      "text/html": [
       "\n",
       "        <style>\n",
       "        .floating-box {\n",
       "        display: inline-block;\n",
       "        text-align: center;\n",
       "        margin: 5px;\n",
       "        border: 1px solid #888888;  \n",
       "        }\n",
       "        </style>\n",
       "        <div class=\"floating-box\"><img src=\"data:image/png;base64,iVBORw0KGgoAAAANSUhEUgAAAEgAAACQCAYAAACrgC0FAAAAOXRFWHRTb2Z0d2FyZQBNYXRwbG90bGliIHZlcnNpb24zLjQuMiwgaHR0cHM6Ly9tYXRwbG90bGliLm9yZy8rg+JYAAAACXBIWXMAAAsTAAALEwEAmpwYAAAEwUlEQVR4nO3dP0gbfRzH8U/+yGlEFAUdXNyExEFdCi34DydtcBEHJRbXiFAHsRS7uXRruzk4KOgq6KToUMRB0EF0UsFBUUuCoqaeZzT3DKm2D/Xpp6W53D3weUPAiPx+X1/D6d1viA+ADfWf+d0ewOsJiCQgkoBIAiIJiCQgkoBIAiIJiCQgkoBIAiIJiCQgkoBIAiIJiCQgkoBIAiIJiCQgkoBIAiIJiCQgkoBIAiIJiCQgkoBIAiIJiCQgkoBIAiIJiCQgkoBIAiIJiCQgkoBIAiIJiCQgkoBIAiIJiCQgkoBIAiIJiCQgkoBIAiIJiCQgkoBIAiIJiCQgkoBIAiIJiCQgkoBIAiIJiCQgkoBIAiIJiCQgkoBIAiIJiCQgkoBIAiIJiCQgkoBIAiIJiCQgkoBIAiIJiCQgkoBIAiIJiBR0YtGSkhJEIhEnlqatr6/DtnP3iWCOAFVXV+P169coLi4GANze3iKdTjuxFQzDQDCY/TWSySR2dnaQSqVytr4PDn0Am9/vRzgcRlNTE1paWuDz+VBYWJjTPUzThGVZWFxcxNraGg4ODnK6PuAg0I8VFRXh5cuX6O7uht/v/2so0zRxfX2NqakpfP78GZlMJkeT/lxegB4yDAOdnZ3o6elBIBD4YyjTNJFKpTA1NYXV1VVHYR7KK9BDhmGgt7cXHR0dv41kWRYmJiawsrKSF5iHXAF6qKurC7FYDIZh/PLnbm5uMD4+jq2trTxN9j1XgQCgtbUVg4ODTyJlMhnc3NxgbGwMe3t7LkznASAAePbsGUZGRn5CsiwLw8PDODw8dGkyj/wnvb6+/hNCOp3G0tKSqziAR4AAYHZ2FqZpPr63bRtzc3MuTpTNM0AbGxv4+vUrgOy1Z3NzE4lEwuWpPARk2zbm5+dxe3sL0zQxPz/v9kgAPAQEACcnJ0in0wgEAjg9PXV7HAAeA7q8vAQAFBQUPH7tdp4CKisrA5D9C1ZaWuruMN/yFFB9fT0Mw0Amk0FdXZ3b4wDwEFB5eTna2toQDAYRCoXw6tUr+P3uj+f+BN+KxWL/AgmFQmhvb3dxomyeAKqpqUFTUxMKCgoev1dUVIT+/n6UlJS4OJkHgGpra/H+/fvHx6Y/FgqF8OHDB1RUVLgwWTZXb1YbGhrw9u3bXz4Tur+/x9XVFUZHR3F8fJzH6bK5BtTc3IyhoSH6LAjI3npcX1/j3bt32N/fz8N038s7UFVVFeLxOMLh8B8/crUsCysrK5ienn68b3O6vAEZhoGenh50dXUhEAg8ec35nR6OkCYnJ7G8vJzTM7CnygvQ8+fPEY/HYRhGzo5+TNNEIpHAx48fsbu7m5M1n8rRc7EXL16gr68PkUgE1dXVSCaT+PLlS073sSwLe3t7mJ2dxfb2dk7XBhwCqq2txdjYGMrKylBZWYnGxkYEg0Hc3d1hc3Mz50g+nw8+nw9HR0d48+YNLi4ucra2I0fPZ2dnWFhYAAAMDAw8Xm+CwSDOz88xMzPjxLYA4MjF23byFY1G7VQqZdu2badSKTsajTq6nwMv5zeJRqP2p0+f/o84tieOfbyc6/diXk9AJAGRBEQSEElAJAGRBEQSEElAJAGRBEQSEElAJAGRBEQSEOkfSZjducHBKjoAAAAASUVORK5CYII=\n",
       "\">ATER</div><div class=\"floating-box\"><img src=\"data:image/png;base64,iVBORw0KGgoAAAANSUhEUgAAAEgAAACQCAYAAACrgC0FAAAAOXRFWHRTb2Z0d2FyZQBNYXRwbG90bGliIHZlcnNpb24zLjQuMiwgaHR0cHM6Ly9tYXRwbG90bGliLm9yZy8rg+JYAAAACXBIWXMAAAsTAAALEwEAmpwYAAAE0ElEQVR4nO3dT0jTfxzH8dfmd/v6vVhIsLyYeNpFaNhhQRhEgih2SoRGpIsIhA5h0EEi6dQpaNfyInRol2mnvEoUgh6EYGAXvRgDtQ6j7/fL/nx/h7H181f+XoX77vs9vJ4guOk+e/uAyT6f72ERAB7UiUWDHiDsCYgkIJKASAIiCYgkIJKASAIiCYgkIJKASAIiCYgkIJKASAIiCYgkIJKASAIiCYgkIJKASAIiCYgkIJKASAIiCYgkIJKASAIiCYgkIJKASAIiCYgkIJKASAIiCYgkIJKASAIiCYgkIJKASAIiCYgkIJKASAIiCYgkIJKASAIiCYgkIJKASAIiCYgkIJKASAIiCYgkIJKASAIiCYgkIJKASAIiCYgkIJKASAIiCYgkIJKASAIiCYgkIJKASAIiCYgkIJKASAIiCYgkIJKASAIiCYhk+LGoaZro6+vzY2na7u5uW9fzBWhoaAhPnz4FALiui2q16sfTtIrH44jFYqjVashmszg6Omrb2hH49AFsAwMDmJqaQjqdBtD4I/zIcRx4nof3799jZWWlrTiAj0DNzp49i9u3b+Pq1auIxWKIRtvzb69SqaBWqyGfz+Pdu3dwXbct6/4334GaXbhwAQ8ePEB/fz8syzrVWq7rYmNjA69evcL379/bM+AJdQyoWTqdxtzcHCzLQnd391891rZtlEol5HI5fPnyxacJj9dxIACIxWLIZrO4fv36HyO5rovXr19jbW0Nnte5kQMBanbz5k1MT09TJMdx8Pz5c2xtbXVosp8FCgQAo6OjuH//PkzT/O3Pf/z4gcXFRRSLxQ5P1ihwIAC4fPky5ufnf0FyHAePHj3C3t5eQJOFZKvx6dMnFItF1Ov11n2u66JQKASKA4QECACWlpZQqVRat+v1OgqFQoATNQoN0O7uLra3t1Gv1+E4DvL5PGzbDnqs8AABwPr6emvr8PHjx6DHARAyoMPDQ3ieh3g8jsPDw6DHARAyoJ6eHgCNfVbz+6ALFdClS5dgmiY8z8PFixeDHgdAiIDOnz+PkZERGIYBy7Jw584dxGKxoMcKD9Ddu3fR1dXVum2aJiYmJgKcqFEogFKpFFKpFAzj5wFnd3c3bt26FdjRbbPAga5cuYKFhYXf7sVM08SLFy8wODgYwGSNAt2LjY+PI5vNnrhRbWbbNp49e4bPnz93aLKfBQIUjUaRyWRw48aNPz4PchwHL1++xIcPH3ye7ngdB0omk3j48CF6e3v/+kTRcRzs7Owgl8uhVCr5NOHxOgZ05swZ3Lt3D+l0mr6k/q9arYZqtYqVlRW8ffv22AbXj3wHikajGBsbw8zMDAzDaNt7G8dxYNs2crkcNjc327Lm7/INyDAMXLt2DZlMBpZlnepKRiKRwLlz53BwcPDLS8txHHz9+hXLy8u+QPkClEwm8eTJE/T09MDzvFMdsicSCQwPD8MwDFSrVWxtbf2CFIlEEIlEsL+/j8ePH7f1UpAvl56Pjo6wurralrVmZ2dbbyANw8C3b9/w5s2bE3+/XC635Xn/nRfmr8nJSa9cLnue53nlctmbnJzs9AzBI/wJUi6XCwLHC8VVjTAX+F4s7AmIJCCSgEgCIgmIJCCSgEgCIgmIJCCSgEgCIgmIJCCSgEgCIv0Dhr7eVPjejbsAAAAASUVORK5CYII=\n",
       "\">AFRM</div><div class=\"floating-box\"><img src=\"data:image/png;base64,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\n",
       "\">SNMP</div><div class=\"floating-box\"><img src=\"data:image/png;base64,iVBORw0KGgoAAAANSUhEUgAAAEgAAACQCAYAAACrgC0FAAAAOXRFWHRTb2Z0d2FyZQBNYXRwbG90bGliIHZlcnNpb24zLjQuMiwgaHR0cHM6Ly9tYXRwbG90bGliLm9yZy8rg+JYAAAACXBIWXMAAAsTAAALEwEAmpwYAAAHRklEQVR4nO2dTWgTXRSG38lMMtNKqo3WIqgQS8UYIUSqLkVBKtooEqi4EHEjIoo7FxWXgnRZ6kYRXOhCSpGKRUERKuiiClKCRVqLoaKgQSu2zUz+Zr5FPvtjJjlNnTt3FveBLJJOz7x5SO+ce++0lQBYEFTFxzuA1xGCCIQgAiGIQAgiEIIIhCACIYhACCIQggiEIAIhiEAIIhCCCIQgAiGIQAgiEIIIhCACIYhACCIQggiEIAIhiEAIIhCCCIQgAiGIQAgiEIIIhCACIYhACCIQggiEIAIhiEAIIhCCCIQgAiGIQAgiEIIIhCACIYhACCIQgggUFkWDwSDa2tpYlCZJpVIolUqO1WMiqLOzE6dPn0Y2m2VR3hZJkrBmzRr09PQglUo5VpeJoOHhYXR1dWH9+vUsyttSKBQwNjbmqByA0Rik6zquX7+OXC7HorwtuVwOvb29jtdlNkhPTk5iYGAAhmGwOsUChmGgt7cXv3//drw206vYwMAApqenUSwWmZ3DMAw8f/4c7969Y1KfqSDTNHHjxg1Hryp/Mz8/jzt37jCrz7wPymQyePToEZMfNV3XcfPmTaafUFcaxQcPHiCfzzta0zRNpNNpvHnzxtG6f+OKoFwuh9u3b0PXdcdqFgoF9Pf3O1avGq5NNUZGRvDt2zdHauXzeYyMjGB6etqRerVwTZBlWejr63OkNyqVSrh79+6/h1oBrk5WJycn8fbtWxQKhVXX0HUd9+7dw+zsrIPJquP6bP7WrVswTXPV3z87O4vh4WEHE9XGdUE/f/7E4ODgqi77hmGgv7+faV/1N1zWgwYHB1fVu6TTaWYdczW4CMrn83j27FldY1E2m8XDhw8ZprKH24ri06dP6x6LRkdHGaWpDjdBX79+xZcvX1Z0bLFYxIsXL5hOKarBdU16aGhoRd11sVjEkydPXEhUCVdBr169gs9HR8hkMq50zXZwFZTL5fD69eual21d1zE0NORiquVw3/Z5/PhxzZm+LMt4+fKli4mWw13QxMRE1WmDaZoYHR11dBWgXrgLAsq7IHaTWMMwXJ1W2OEJQalUyvYSHggE8OHDBw6JFvGEoHQ6DVVVK17PZDJcep+leEJQoVDAjx8/Kl6fmJjgkGY5nhAEVMrI5XIYHx/nlGYRzwgaHx9fNlAXi0VMTU1xTFTGM4KmpqaWjTeqqiKdTvML9D+eEfTp06dlA/XMzIyre/vV8IwgwzDw69evhecfP37kF2YJnhEEYGHMyefzeP/+Pec0ZTwl6PPnzwDKl/3v379zTlPGU4Lm5+dRKpVgWRbX+ddSPCUom82iWCxCkiRXb9+rhacE6boO0zQhSZL4BNlhGAZM04TP53PlzrSV4ClBiqJAkiSYpglFYXJ/ad14SpCmaZAkCZZl2c7ueeA5QbIsw7IsaJrGOw4AjwlSVRWyLAOAEGTHunXrIMsyfD4fgsEg7zgAPCZox44dAMqfnm3btnFOU8ZTgrZs2QIA8Pl8iEQinNOU8Yyg5ubmZZf2rVu3ckyziGcEhcPhZbfDaJqGpqYmjonKeEZQW1sbAoHAwvN8Po9wOMwxURnPCIpEIvD7/QvPA4GAJwZqzwj6W4bf7/fEQO0JQaqqYu3atRWv8/q1zqV4QlA4HLZdoA+FQtznZJ4QtH//flsRhUIB+/bt45BoEe6CFEXBwYMHbZc3GhoacOzYMQ6pFuEuaO/evTW/Hg6HsXHjRpfSVMJdUCKRQGNjY81jOjs7XUpTCVdBoVAI27dvr3lMIBDA4cOHV3SzJwu4Cjp06BAsi/4/uIqiIBaLuZCoEm6CJEnC0aNHV3QZb2xsRCKRcCFVJdwERaPRunqcWCzGZRGNm6Curq66llVN08SBAwcYJrKHi6BNmzaho6OjroFX0zR0d3e73llzEXTp0qVV7Xupqoru7m4GiarjuqA9e/agvb19YfeiHjRNw/Hjx9Ha2sogmT2uCvL7/bh48eI/benIsowLFy44mKo2rgpKJpNk10yhKAp27tyJeDzuUKrauCZow4YNSCaTjmwIapq26nGsXlwTdP78eUffUDAYdGWm74qgXbt2IRaLOSpI0zScOnUKzc3NjtW0g7kgn8+Hy5cvM9lrl2UZ586dc7zuUpgLOnnypO16sxP4/X50dHRg9+7dTOoDjAVFo1Ekk0k0NDQwO4emabhy5QpCoRCT+swENTU14erVq65MDVRVxbVr15isGTERJEkSenp6HB13WltbEY1GbbtoRVGwefNmnDlzxrHz/YGJoCNHjiASiUCWZZim+c+PlpYWxONxhMNhxONxtLS0VBwTCARw4sQJtLe3O/pemHRaY2NjuH//vmP1zp49u9AiKIqCmZmZqvVX+tcc6sHy+iORSFhzc3OWZVnW3NyclUgk3Dw/fwErldTX1+e2HEv6Y0lgD/d9Ma8jBBEIQQRCEIEQRCAEEQhBBEIQgRBEIAQRCEEEQhCBEEQgBBEIQQRCEIEQRPAfNVnlOYysrvYAAAAASUVORK5CYII=\n",
       "\">DNN</div><div class=\"floating-box\"><img src=\"data:image/png;base64,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\n",
       "\">SHIP</div><div class=\"floating-box\"><img src=\"data:image/png;base64,iVBORw0KGgoAAAANSUhEUgAAAEgAAACQCAYAAACrgC0FAAAAOXRFWHRTb2Z0d2FyZQBNYXRwbG90bGliIHZlcnNpb24zLjQuMiwgaHR0cHM6Ly9tYXRwbG90bGliLm9yZy8rg+JYAAAACXBIWXMAAAsTAAALEwEAmpwYAAAE9UlEQVR4nO3dT0jTfxzH8dfGd7OGEsRg8xCFf0A66KGDF2+SRLFbUEEIQp0LJD2qICaiCJ0SK9YhuqWHReQ5aAzqMvQm5KWSLEWm36/41W8Hf+ZvNH2Vfr/fz4LXA3aYzs/3zZPvtu/3u4ERAB7kUFHTA1Q7BSIUiFAgQoEIBSIUiFAgQoEIBSIUiFAgQoEIBSIUiFAgQoEIBSIUiFAgQoEIBSIUiFAgQoEIBSIUiFAgQoEIBSIUiFAgQoEIBSIUiFAgQoEIBSIUiFAgQoEIBSIUiFAgQoEIBSIUiFAgQoEIBSIUiFAgQoEIBSIUiFAgQoEIBSIUiFAgQoEIBSIUiFAgQoEIBSIUiFAgQoEIBSIUiFAgQoEIBSIUiFAgQoEIBSIUiFAgQoEIBSIUiFAgQoEIBSIUiFAgQoEIBSIUiLCCWDSZTKK9vT2Ipam3b9/CdV3f1gsk0Llz53Dnzh1Eo1Ffhz1KLBbD5uYmCoUCvn375tu6EQT036Hq6+vR29uL8+fP49SpU0Fs4hfHcZDP5zE1NYVSqeTr2oEF2tfV1YW7d+8GEsl1Xdi2jYcPH6JYLPq+PhBCIAC4cOECBgcHUVdXh3g87suajuNgaWkJw8PDWFtb82XNSkIJBACJRAL9/f24ePHiifcmx3Hw5s0bZLNZ7O7u+jRhZaEF2nf9+nXcvHkTNTU1x/p727YxPj6OQqHg82SVhR4IADo6OnD//v2/jmTbNvr6+vDp06dgBqvAyIHiu3fvkM1m4TjOH/+N4zgYGhoKNQ5g8Eg6l8shl8v9UaStrS1MTExgfn4+hMnKGT3VeP78OfL5PLa2tg59jG3byGazyOfzIU52wPi52OPHj+F5h78Mfv/+HblcLsSJyhkPtLGxgVevXlV8qtm2jenpaQNTHTAeCABmZ2crHs98+fIFHz9+NDDRgaoIZNs2Xr9+XXZiu7m5iZcvXxqcak9VBAKAYrFY9mIdi8WwsLBgcKI9VRNoeXkZkUjk133P87C+vm5woj1VE+j/capJ1QRqbGwsu+95Hurr6w1Nc6BqAl27dg2JROLX/Wg0isuXLxuc6L85TA8AAGfPnkVTU1PZz2KxGLq6uow/9aoiUGdnZ8Wj6Vgshra2NgMTHTAeqLW1FTdu3Kh46SORSKCvrw+pVMrAZHuMXA/a19DQgNHRUZw+ffrQx+zs7GB1dRX37t0z8rZvLFA6ncbk5CRqa2vpY13XxefPn9Hb2/tX15D8YOQp1tTUhLGxsbJ3raNYloV0Oo2RkREkk8mApysX6h5kWRa6u7tx9erVY12Tdl0X29vbePLkCebm5gKY8HehBWpubkZ/fz/OnDnjy6cai4uLGB8fx8rKik8TVhZ4oHg8jtu3bx97rznM/t709OlTzM3NHXnR7SQCCxSPx3HlyhXcunULlmWV7TWpVArJZBIrKytYXl4+0XZs28b6+jqePXuG9+/f+x4qkEAtLS0YGBhAbW3tbxfCUqkULl26BMuy4LouPnz4cOJIkUgEkUgEX79+xYMHD3z9pDWQb3f8+PEDMzMzFX/X09MDy9rbrGVZWF1dxYsXL3zbtt9fXgD29qDQbplMxiuVSp7neV6pVPIymUyo2z/GLfyNZjIZ79GjR/9CHM/oqca/wPjJarVTIEKBCAUiFIhQIEKBCAUiFIhQIEKBCAUiFIhQIEKBCAUiFIj4CThO9CUDlAhAAAAAAElFTkSuQmCC\n",
       "\">SOFI</div><div class=\"floating-box\"><img src=\"data:image/png;base64,iVBORw0KGgoAAAANSUhEUgAAAEgAAACQCAYAAACrgC0FAAAAOXRFWHRTb2Z0d2FyZQBNYXRwbG90bGliIHZlcnNpb24zLjQuMiwgaHR0cHM6Ly9tYXRwbG90bGliLm9yZy8rg+JYAAAACXBIWXMAAAsTAAALEwEAmpwYAAAFHklEQVR4nO3dQUiTfxzH8Y/u0c0IAgmHFz1mEgomEQ46e1E8JASdwhCERHbwnoSHPBoeQtJFdPM67NChS1EHFSKoUR0UIUJDlLk9W8+e538qsL/z49zv9zwFnxd4ie37fHuznm3PFjYACCBVNUa9wN9OgQgFIhSIUCBCgQgFIhSIUCBCgQgFIhSIUCBCgQgFIhSIUCBCgQgFIhSIUCBCgQgFIhSIUCBCgQgFIhSIUCBCgQgFIhSIUCBCgQgFIhSIUCBCgQgFIhSIUCBCgQgFIhSIUCBCgQgFIhSIUCBCgQgFIhSIUCBCgQgFIhSIUCBCgQgFIhSIUCBCgQgFIhSIUCBCgQgFIhSIUCBCgQgFIhSIUCBCgQgFIhSIUCBCgQgFIhSIUCBCgQgFIhSIcGwMvXDhArq6umyMptbW1uB5nrF5VgKlUilMTEygUCggCML5pQuxWAyJRALpdBpfvnwxNtdKoBcvXqC3txd9fX1IJBI2DvE/ruvi6dOnRuMAls5Bvu9jbm4OuVwO5XLZxiGOcF0X2WwWKysrxmdbO0lXKhXMzs7i4OAAvu/bOgzK5TI+fvyITCZjZb7VZ7FisYj79+9bfRQdHh7i4cOH1uZbf5rf3NzE48eP4bqu8dmlUgkzMzM4PDw0PvuXUF4HvXz5Eu/evUOpVDI203VdLC8v4+vXr8ZmHie0F4qPHj1CoVAwMsv3feRyOWSzWSPzThJaoFKphEwmg2KxWPesnz9/YnFx0cBWXKhvNV69eoV8Pl/XjEqlgo2NDWxubhra6mShBvJ9H0+ePKnrUeR5HpaWlgxudbLQ36y+efMGe3t7Z7qv53l4+/Ytvn37Znir6kIPFAQBVldXz/TaqFwuY3V11cJW1UVyuWN9fR2VSqXm+zmOg1wuZ2Gj6iIJtLW1daZLEp8+fTJ6KeM0IrtgtrGxUdPtXdfF69evLW1TXWSB1tfXa3o2830fHz58sLjR8SILtLu7W9O7/KamJvz48cPiRseLLND+/j4aGhpOfftYLGb1TWk1kQWKxWI1XY6tJaZJkQWKx+M1BQqCAE1NTRY3Ol5kgTo6OuA4p78k7rouOjs7LW50vMgC9ff313RB33EcXLlyxeJGx4ssUHd3d023b25uRn9/v6VtqoskUDKZRHNzc833u3TpUugn60gCXb9+/UwfKAZBgMuXL1vYqLrQA8Xjcdy6detMHyi2tLRgbGzMwlbVhR5oeHi4pmevP3V0dKCnp8fgRicLNdC5c+cwOjpa18fRiUQC4+PjBrc6WaiBbt68icbG+g/Z1taGa9euGdiICy1Qd3c3hoeHEY/H657V0tKCdDqN1tZWA5udrAGA9e+ntLa2YmFhAefPnzc20/M8bG9vI51OW72IZv0R5DgOZmZmjH8NxnEctLe3Y3Jy0ujcP1kPdO/ePbS3t9f1zFVNPB7HwMAABgcHjc/+xWqgkZERpFIpI+edahKJBO7evYve3l4r862dg0ZGRnD79m3j/7SSySQuXryI3d1dfP/+/fefu66LBw8e4P3790aPZyXQjRs3MD09bfyLU8lkElevXoXjOPA8D2tra0ci+b6PqakpbG1tGTumle8ofv78Gc+ePTM+986dO7/PZY7jYG9vD8+fPz9ym52dHePHDf6Vn6GhoSCfzwdBEAT5fD4YGhoK47jR/8VrjTQ/Px9WnCCUF4r/Mv1XBEKBCAUiFIhQIEKBCAUiFIhQIEKBCAUiFIhQIEKBCAUiFIhQIOI/cur24NnkZuUAAAAASUVORK5CYII=\n",
       "\">EQT</div><div class=\"floating-box\"><img src=\"data:image/png;base64,iVBORw0KGgoAAAANSUhEUgAAAEgAAACQCAYAAACrgC0FAAAAOXRFWHRTb2Z0d2FyZQBNYXRwbG90bGliIHZlcnNpb24zLjQuMiwgaHR0cHM6Ly9tYXRwbG90bGliLm9yZy8rg+JYAAAACXBIWXMAAAsTAAALEwEAmpwYAAACkElEQVR4nO3WMU4bQRxG8c/xItCCLai4Ax2io6dcDsAFqLkCR7A4BC2i5BA0nIAKWphdBBg2BZElCvQSByckej9ptI3nP6MnebWDJH30oW9/+wJfnYGAgYCBgIGAgYCBgIGAgYCBgIGAgYCBgIGAgYCBgIGAgYCBgIGAgYCBgIGAgYCBgIGAgYCBgIGAgYCBgIGAgYCBgIGAgYCBgIGAgYCBgIGAgYCBgIGAgYCBgIGAgYCBgIGAgYCBgIGAgYCBgIGAgYCBgIGAgYCBgIGAgYCBgIGAgYCBgIGAgYCBgIGAgYCBgIGAgYCBgIGAgYCBgIGAgYCBgIGAgYCBgIGAgYCBgIGAgYCBgIGAgYCBgIGAgYCBgIGAgYCBgIGAgYCBgIGAgYCBgIGAgYCBgIGAgYCBgIGAgYCBgIGAgYCBQLWIoZubmzk4OMjq6upsjUaj1HWd4XCYh4eHtG2btm3TdV26rsvNzU2urq7S9/3bxaoqOzs7WV9fT13Xqet6NmtlZSVPT09p2zallJRS0nVd2rbNZDKZzfgMgySfN+2H7e3tHB8fz7X35eUlw+Fw7rP39/e/fqAkaZome3t7ubi4yPn5Of5+PB7n6OgoW1tbWVpaytnZWU5PT/P4+LiI6/20hQQ6PDzMyclJqqrKdDrN5eVlbm9vf2rv6+trBoNBBoPBXGc3TTPXvo8s5B20u7ubqnobXVVVNjY2cn19nSR5fn5OKSX39/ezVUrJ3d1dptPpuznLy8sZj8dZW1vLaDR69/ydv+Gv6j97NU3Tl1L6vu/7UkrfNM2nn/EH12IGN03TTyaTfz1Ov7CX9P/CD0VgIGAgYCBgIGAgYCBgIGAgYCBgIGAgYCBgIGAgYCBgIPAdihQWPFNa/yMAAAAASUVORK5CYII=\n",
       "\">PROG</div><div class=\"floating-box\"><img src=\"data:image/png;base64,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\n",
       "\">DVN</div><div class=\"floating-box\"><img src=\"data:image/png;base64,iVBORw0KGgoAAAANSUhEUgAAAEgAAACQCAYAAACrgC0FAAAAOXRFWHRTb2Z0d2FyZQBNYXRwbG90bGliIHZlcnNpb24zLjQuMiwgaHR0cHM6Ly9tYXRwbG90bGliLm9yZy8rg+JYAAAACXBIWXMAAAsTAAALEwEAmpwYAAAFOElEQVR4nO3dP0wTfRzH8c+1d/QKhUEoURJJiJEwuBiDq3bQxEgXIQ4mDkQXVh1KoiwkBhITaHTFxcjiZkxddNCBAQ2DLJCwYQJxKf+K3PUP9wwGTJ8H+Pg83vXuST6vpEOb9HffvGl7vV8HDAAe5FixsAeIOgUiFIhQIEKBCAUiFIhQIEKBCAUiFIhQIEKBCAUiFIhQIEKBCAUiFIhQIEKBCAUiFIhQIEKBCAUiFIhQIEKBCAUiFIhQIEKBCAUiFIhQIEKBCAUiFIhQIEKBCAUiFIhQIEKBCAUiFIhQIEKBCAUiFIhQIEKBCAUiFIhQIEKBCAUiFIhQIEKBCAUiFIhQIEKBCAUiFIhQIEKBCAUiFIhQIEKBCAUiFIhQIEKBCAUiFIhQIEKBCAUiFIhQIEKBCAUiFIhQIEKBCAUizCAWPXXqFPr7+4NYmvrw4QNqtZpv6wUSqKurC/fv34dt26hUKr4OfBTLshCPx1EsFvH582dsbGz4traBgP75UXNzMwYGBnDr1i3E43HYth3EYbC3t4fd3V28evUKHz9+9P2PEVigA4lEAnfu3MHNmzdhWRZiMX8+9qrVKiqVCl68eIH3799jf3/fl3X/LvBAB3p6epDL5dDe3v7HrybHcbC0tIR8Po9isejThEdrWCAAiMViGBoawu3bt2GaJuLx+L96frlcRqVSwfPnzzE3NxfQlPUaGuhAV1cXHj9+jNOnT8OyrN96juM4WFxcRD6fx87OTsAT/hJKIABoaWnB1NQUOjs7YZonn0xd18XXr1/x5MmTwD5rjhPaF8Xd3V3kcjlsbm6eeOZxXRcrKyuYmJhoeBwgxFfQgXQ6jenpabS2tv7jDFcul/Ht2zfkcjm4rhvKfKEHAoDu7m5MTU0hkUjUPV4qlXDv3j38+PEjpMkici22urqK5eXlusdc18Xbt29DjQNEJBAAvH79Gnt7e4f3DcNAoVAIcaKfIhNocXER29vbAIBarYb5+XlsbW2FPFWEAgFAoVBAuVyG4zh49+5d2OMAiFig9fV1VCoVxONxrK+vhz0OgIgF2t7ehud5aGpqaui35ZNEKlAqlYJhGCiXy0ilUmGPAyBigQ4uO2q1GtLpdNjjAIhYoBs3biCRSCCRSOD69ethjwMgQoF6e3vR2dkJADBNE1euXEFzc3PIU0Uo0NDQEJqamg7ve56Ha9euhTjRT5EI1NHRgUuXLtVdrNq2jcHBQboVErTQA6VSKUxMTBy5V51MJvHo0SPf9rH/i1ADJZNJTE5Oor29/chXim3buHDhAh4+fAjDMEKYMMRAlmVhfHwcZ86cOXHb1bZtXL58GSMjIw2c7pdQ3uBtbW0YHR1FT09P3QfzcWzbRiaTwf7+PmZmZlCtVhsw5U8N3zC7evUqRkZGYFnWb2/YH3AcBzs7O3j69CmWlpYCmrBewwKl02k8ePAA586dQzKZ/KO1XNfFp0+fMDMzU7eHFITAA8ViMQwMDODu3bswTdO307brunBdF/l8Hl++fPFlzaMEFsg0TWQyGYyOjuLs2bPY3NzE9+/ffT+O4zhYW1vDy5cvsbCw4Pv6gQTq6+vD2NgYzp8/j4sXL8I0TVSrVSwsLAQSyTAMGIaBtbW1w5+S/BLIWaxYLOLNmzcYHh4+fEuZpomNjQ3Mzs4GcchDpVLJ9zW9oG7ZbNYrlUqe53leqVTystlsYMcK8BbsAbLZrPfs2bP/axwvEj8cRlnoF6tRp0CEAhEKRCgQoUCEAhEKRCgQoUCEAhEKRCgQoUCEAhEKRCgQ8RfLqfNnN4UqVQAAAABJRU5ErkJggg==\n",
       "\">RWLK</div><div class=\"floating-box\"><img src=\"data:image/png;base64,iVBORw0KGgoAAAANSUhEUgAAAEgAAACQCAYAAACrgC0FAAAAOXRFWHRTb2Z0d2FyZQBNYXRwbG90bGliIHZlcnNpb24zLjQuMiwgaHR0cHM6Ly9tYXRwbG90bGliLm9yZy8rg+JYAAAACXBIWXMAAAsTAAALEwEAmpwYAAADc0lEQVR4nO3XMUvrUBjG8afhBGyV4CaoWHRo0aEiLoKbUAchuvgtdBa/g05uzn4JBwdxKC5SrCCdRJAgDoJCKE3UnDv0VkSv9+FCYnrh+UGGQHvewx/SkxYAWMi3nLw3MOgUiFAgQoEIBSIUiFAgQoEIBSIUiFAgQoEIBSIUiFAgQoEIBSIUiFAgQoEIBSIUiFAgQoEIBSIUiFAgQoEIBSIUiFAgQoEIBSIUiFAgQoEIBSIUiFAgQoEIBSIUiFAgQoEIBSIUiFAgQoEIBSIUiFAgQoEIBSIUiFAgQoEIBSIUiFAgQoEIBSIUiFAgQoEIBSIUiFAgQoEIBSIUiFAgQoEIBSIUiFAgQoEIBSIUiFAgQoEIBSIUiFAgQoEIBSIUiFAgQoEIBSIUiFAgQoEIBSIUiFAgQoEIBSIUiFAgQoEIBSIUiFAgQoEIBSIUiFAgQoEIBSIUiFAgwmSxaLVaxc7ODowxKBQKWYz4wlqLOI6xvb2NKIpSW7cAwKa22m/FYhHz8/OYm5tDrVbD1NQUHMdBkiRwXTeVGXEcw3VddLtd3NzcoNlsot1u4+rqCkmSpDIDyCjQZ47joFwuY3Z2FisrK5iensbb2xuKxeI/rdPpdGCMQavVwtnZGdrtNu7v7zPadc+PBPrM8zwsLS2hXq9jZmYGSZJgaGjoj5/tR7m8vMTJyQkuLi5SfYSYXAJ95Hke1tbWsLm5Cdd14Ti9c+Pl5QVxHOPw8BCNRuNHo3yUe6C+crmMvb2998cuCALs7u7i6ekp130NzDF/d3eHTqfzfh8EQe5xgAEKtLW1heHh4ff7Wq2G1dXVHHfUk+sjZozB4uIi1tfXUalUvvxQR1GERqOB4+NjXF9f57LHHwnk+z7q9TrOz8/RarUwOTmJSqWC5eVlAECpVPr2u0mSIIoidLtdnJ6e4vb2FkEQIAgChGGY9dazCVStVrG/vw8AGBsbw8LCAowxeH19RbPZxMPDA6y1sPbfRvdPuL/Z2NhI9UUxk78acRzj+fkZYRhiYmICxvTGGGPw+PiIo6OjVOaMjo5ifHwcnudhZGQEpVIp1Th9NsvL930bhqG11towDK3v+5nOy+DKfojv+/bg4OB/jGMH5kVxUA3Me9CgUiBCgQgFIhSIUCBCgQgFIhSIUCBCgQgFIhSIUCBCgQgFIhSI+AUIx2b1I5BO+wAAAABJRU5ErkJggg==\n",
       "\">NAK</div><div class=\"floating-box\"><img src=\"data:image/png;base64,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\n",
       "\">MRO</div><div class=\"floating-box\"><img src=\"data:image/png;base64,iVBORw0KGgoAAAANSUhEUgAAAEgAAACQCAYAAACrgC0FAAAAOXRFWHRTb2Z0d2FyZQBNYXRwbG90bGliIHZlcnNpb24zLjQuMiwgaHR0cHM6Ly9tYXRwbG90bGliLm9yZy8rg+JYAAAACXBIWXMAAAsTAAALEwEAmpwYAAAEVUlEQVR4nO3dMUjrXBjG8Tc2pWknEaQuFhzEQRdxUgdx8ooUHHQSlA4uDuKqToLi5uDgILipg4PgIroUxbkOFsVuIrQiIkqJNmlrc6d7+Yba515zTrx8PD/omDenf+xpmhY0RMQT+lTTdy/gX8dAAAMBDAQwEMBAAAMBDAQwEMBAAAMBDAQwEMBAAAMBDAQwEMBAAAMBDAQwEMBAAAMBDAQwEMBAAAMBDAQwEMBAAAMBDAQwEMBAAAMBDAQwEMBAAAMBDAQwEMBAAAMBDAQwEMBAAAMBDAQwEMBAAAMBDAQwEMBAAAMBDAQwEMBAAAMBDAQwEMBAAAMBDAQwEMBAAAMBDAQwEMBAAAMBDAQwEMBAAAMBDAQwEMBAAAMBDAQwEMBAAAMBDAQwEMBAAAMBDAQwEMBAAAMBDASYOoZaliVtbW06RkP39/dSq9WUzdMSaGxsTKanp6VUKukYX5dhGBKLxWRpaUmy2ayyuVoCnZ6eyvj4uDQ3N+sYX1e1WpXb21u5vr5WOlfLHmTbtqyurorrujrG1+U4jqytrSl9eYlo3KRzuZzs7++L4zi6TvGb67qyvr4ur6+vymdrfRc7PDyUQqGg8xRSLpclnU7L1dWVlvna3+a3tra0vtRqtZrs7u5qm689UC6Xk2w2Kx8fH8pnO44jBwcHUiwWlc/+JZALxe3tbalWq8rnuq4rR0dHyuf+VyCBHh4eJJ1OS7lcVjazVCrJzs6O0pn1BPZRQ/U+Ydu2nJ2dKZ1ZT2CBisWisitc13Xl+PhYPE//v4gN9MPqycmJvL+/+55jGIacn58rWBEWaKBMJiNNTf5Pmc/n5enpScGKsEADVSoVubm58T3j4uJC0YqwwO8HXV5e+nrnKZfLviP/jcADFQoFqVQqXz7eNE3J5/MKV9RY4IHe3t58HR8Oh33P+BuBB2pra/O1UTuOE+jdysADJRIJiUQiXz7e8zxpb29XuKLGAg/U2dnp6y/IsixJJBIKV9RYoIFaWlqkq6vL14xQKCQ/fvxQcj31JwINNDU1peSJxWIxGR4eVrAiLLBAra2tMjQ0JOFw2PesaDQqMzMzEgqFFKyssUACGYYhc3NzSp+QZVkyOTmpbN5nAgmUSqWkp6dHTFPdt0zRaFQmJiZkcHBQ2cx6tAcaGRmR0dFRsSxL+exIJCILCwu+N/5GtAbq7e2V2dlZLXF+sSxLVlZWtF08ags0MDAgy8vL8KIwHo9Ld3e3xOPxL58rGo3KxsaGdHR0fHnGZwwRUX5brr+/XxYXF+Edv3g8Ln19fWKaplSrVclkMvL4+PilcxqGIZVKRebn55V+mNXy3fzd3d0f3YNOpVK/N27TNOXl5UX29vZ8nfv5+dnX8fV43/VIJpOebdue53mebdteMpn8trU0eHzvApLJpLe5ufmvxvG07EH/J/wJHsBAAAMBDAQwEMBAAAMBDAQwEMBAAAMBDAQwEMBAAAMBDAQwEPATfFaiT7scU5gAAAAASUVORK5CYII=\n",
       "\">UBER</div><div class=\"floating-box\"><img src=\"data:image/png;base64,iVBORw0KGgoAAAANSUhEUgAAAEgAAACQCAYAAACrgC0FAAAAOXRFWHRTb2Z0d2FyZQBNYXRwbG90bGliIHZlcnNpb24zLjQuMiwgaHR0cHM6Ly9tYXRwbG90bGliLm9yZy8rg+JYAAAACXBIWXMAAAsTAAALEwEAmpwYAAAEm0lEQVR4nO3dTWgcdRzG8ec/u5t9SdKU1DS9iIL0kItUsNQq+AKmEuhaxYtVBA8iSPHmRUQQi1DwIAQqohdFCkFMMUpbg5UEI40tSkGr9k0piLYmFMFsdmf27e9J2DTdfQ7+f1OV5wO5PpN8MzvtzG6pA+AhXUU3+hv4t1MgQoEIBSIUiFAgQoEIBSIUiFAgQoEIBSIUiFAgQoEIBSIUiFAgQoEIBSIUiFAgQoEIBSIUiFAgQoEIBSIUiFAgQoEIBSIUiFAgQoEIBSIUiFAgQoEIBSIUiFAgQoEIBSIUiFAgQoEIBSIUiFAgQoEIBSIUiFAgQoEIBSIUiFAgQoEIBSIUiFAgQoEIBSIUiFAgQoEIBSIUiFAgQoEIBSIUiFAgQoEIBSIUiFAgQoEIBSIUiFAgQoEIBSKyFqN3992JvcVHLKapAysH8Wv7crA9k0CPFibwXP9TyLiMxXxXdd/AXHICh+NwgUxeYu9WP0DsE4vpnhq+gSPx50E3TQJ93zyHy+0li+muWr6Fw/ExJAj7izG7SL+1+j6q7ZrV/DpVX8Pbq4eC7zoY/c8so9EILm35CgWXt5hfZ7l1FaNXtsEH/nHMzqDf28s43/zZan6Nlm/hw9qR4HEA478HTVU/TuViXfFVTMdHTbZNA83Es2j6luUhAAB9LocvkpMm26aBfmieR9VXLQ8BAJhPFtFAw2Tb/Fbjo9osWoZn0Up7FVO1GbN980DT8VFUDM+iPpfFsXjObN880HyyiD6XM9u/0LyE5fZVs33zQHXUsZCcMtlOfIKpqt3LC0jpccdUbQYr7dXguw3fxCfxZ8F3O6US6HiygIwLf6g2PL5t/hh8t1MqgX5p/Yaaj4PvnqyfDr55rdSeKJ5Ivgm6F/sEs8l80M3rSS3Qp8lc0Lv7xNtd/DuldwbVv0YTzWB7RVfA6caZYHvdpBboXPMnFF0x2N6V1pLZ7UWn1ALVfIwVXwm2d7F5KdhWL6m+7RPynqwR8OXaS6qBQj5dHHD9wbZ6STVQ3vUF2xpwpWBbvaQWyMEhh3A3raUo3AW/l9QCbYk2B31LZiQaDrbVS2qBJgoPBH38mkUWt2fHgu11k1qgvcU9GIjCXVhzLouHC7uC7XWTSqA88rgnvz3spsvj8dKeoJvXk0qg+/M7Uff14Lu3ZW/B5uim4LudUgm0f8MLGHQDwXe993hp8Pngu53MA+0uPIix7FZEBg/MilEBz/Q/gVszNwff/ptpoAwyODj0WtCL87VyyOKNoVfM9k0DPVt6EsPRRstDIOdy2JW/F9tz20z2zT7dMRJtwoXRLzEUDVrMr/Nd4yzuWHoILYR9k9LkDHJwmB5+B8U0PvoyXgD2D2HrxBgObHgx+LzJGbSv9DQmN75q8nGUNcaLiN7cBFeK4KttuH1/YMehcZxqhHuYb/IhzuP1Bbz85+sW02vsvusx7CzdBwBwpQiLO87g7HsXgx/H/1e/yuWyr1Qq3nvvK5WKL5fLFse58T/oP400OTlpFceb/Sn2f6F/ikAoEKFAhAIRCkQoEKFAhAIRCkQoEKFAhAIRCkQoEKFAhAIRCkT8BQfarrGDjH0jAAAAAElFTkSuQmCC\n",
       "\">BP</div><div class=\"floating-box\"><img src=\"data:image/png;base64,iVBORw0KGgoAAAANSUhEUgAAAEgAAACQCAYAAACrgC0FAAAAOXRFWHRTb2Z0d2FyZQBNYXRwbG90bGliIHZlcnNpb24zLjQuMiwgaHR0cHM6Ly9tYXRwbG90bGliLm9yZy8rg+JYAAAACXBIWXMAAAsTAAALEwEAmpwYAAAFLUlEQVR4nO3cTWgcdRjH8d9/9i2zL+3aVtpAGqW2HmylheTQaonxYpW6Kkgh0INYRIWe9ejRSw9CbsVD8Q2UFlSIIK2Him0qVVLpIRokrU0tsVWTTTK7m52dmb8XA0nd3Qfhef7V8Hwhp4TfZD/d19lNDQALrWPevf4F/uspEJECESkQkQIRKRCRAhEpEJECESkQkQIRKRCRAhEpEJECESkQkQIRKRCRAhEpEJECESkQkQIRKRCRAhEpEJECESkQkQIRKRCRAhEpEJECESkQkQIRKRCRAhEpEJECESkQkQIRKRCRAhEpEJECESkQkQIRKRCRAhEpEJECESkQkQIRKRCRAhEpEJECESkQkQIRKRCRAhEpEJECESkQkQIRKRCRAhEpEJECESkQkQIRKRBRWmL0zS3H8Nb9r0tMd80CqNw4jvP179g2RYBmwllYAEUvLzHfseWkiVvRHdZNkZvYmcVzCJOWxHTXvm1cxc/hDdZNEaAIEd6Zex/1ZFlivm1LcQ1v//4u+67YnfSp+c/gwUjN/6PQtvBV7RL7rhjQreg2JpvTUvNratkIHy18ASvwHxuLPsyfnD+NIK5LHgIA0ExCvFf9XGRbFOjM4lmkjcgD5ZoWkgATy5Mi26JAc/ECLjeuSh4CzSTEqeqnYvviz6RPzp/GYhyI7ceI8WF1TGxfHOjL4AJyJiu2HyR1TIXXxfbFgebiBdyJ58T2v6lPiG0Djl6sfl37XmS3ljRwNhgX2V7JCdC5YBxLcY19N7EJLqyHa9DFxhV4hv9QnvHwY/Ma++6aY4iu/910eBOxjdl3JxqTIs+eV+fshNkk8790YhOMN35g3WyXM6DpcIZ1r2GbuBb+yrrZLmdAU+EvrDezlo0w05pl2+uUM6CZ1izr+SEPZv0BxeC7BvleDjdbv7HtdcopUAoptr2WjbGU8D+3ujtnQLejP9Hj8b0mq8aLbFvdcga0nISs16CmDdm2uuUMKEIEMJ6jblo375o4fWc1QcK2FVu+rW45AzIwSBu+m1jWwalcwCFQ1mQQMT5RzJoM21a3nAEVvTwiG7HtFTyfbatbzoD6MltZH3nKqQ3wHPz6zoD6M72sJyZCG2JrejPjYvucAuUY7zdCG6E/08u21ylnQDsy2+F7PWx7BmZ9AT2ce4B1zzc5bM9sY91slzOgndl+1r2sl8Hu3EOsm+1yAtRjctiR7WPfHcoPsm/enROgQX83GgIfpurP9op/zM8J0FB+AL7hu4NeqZEsY7+/l313dU6ADhUPIuvxvzTIez6GCgPsu6sTBzIwGPAfEdnOmDSeLhwU2V5JHGhPbheslXtz79GeXaIvXMWBRjY+I3oBQtvCoeLjYvviQC+XXxC5/1lpQ6qIV8oviu2LAg327EHJK0geAgDwVPExsdMfokAvlZ9nfSejUy0b4bnSkyLbYkAePBwtH3byKddSqoBX7zsisi0GNJQfQMrhewL7/b3YlNrIvit2Cd7YcszpX/skSPCawLXIAPyfQOrP9OKnnWPwvRz3NDBcAg4UgEs14PzSmm/9EVWxbeoJ1s8AiFyDjm8aQcakEduY92u4AHuiDzi6GfZEH+Lhwprvl1MlHC4NsV4WkXvQD6pjWBD40Oaz+0ZwwH8QAGB8D5f3XcfYJx+v+ZmL9Svsx7X/l69KpWKDILDWWhsEga1UKi6Oe+8v+L9FGh0ddYVjRe6k11P6Z+FECkSkQEQKRKRARApEpEBECkSkQEQKRKRARApEpEBECkSkQEQKRKRARH8BxBIYzqj8uoYAAAAASUVORK5CYII=\n",
       "\">F</div><div class=\"floating-box\"><img src=\"data:image/png;base64,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\n",
       "\">CCL</div><div class=\"floating-box\"><img src=\"data:image/png;base64,iVBORw0KGgoAAAANSUhEUgAAAEgAAACQCAYAAACrgC0FAAAAOXRFWHRTb2Z0d2FyZQBNYXRwbG90bGliIHZlcnNpb24zLjQuMiwgaHR0cHM6Ly9tYXRwbG90bGliLm9yZy8rg+JYAAAACXBIWXMAAAsTAAALEwEAmpwYAAAD6UlEQVR4nO3dS2jUVxzF8XNnJmbsBI0koMRaiy9E1GZlqRQRpK78uykoxfpYFSoUkVJ040LEhdtYBFFKFQuupAsVQXGn2KoVJL7qoyTEmEh9JE6SmUnmXhdxIG0TDuj9/bVyPjBkETh3+GaeSWAcgACZUOZtX4F3nQIRCkQoEKFAhAIRCkQoEKFAhAIRCkQoEKFAhAIRCkQoEKFAhAIRCkQoEKFAhAIRCkQoEKFAhAIRCkQoEKFAhAIRCkQoEKFAhAIRCkQoEKFAhAIRCkQoEKFAhAIRCkQoEKFAhAIRCkQoEKFAhAIRCkQoEKFAhAIRCkQoEKFAhAIRCkQoEKFAhAIRCkQoEKFAhAIRCkQoEKFAhAIRCkQoEKFAhAIRCkQoEKFAhAIRCkQoEKFAhAIRCkQoEKFAhAIRCkQoEKFAhAIRCkQoEKFAhAIRCkQoEKFAhAIROYvRz6cuxjctayymqR33D+FR5Um0PZNASwpz8NX0Vci5rMX8hHwI2N/1a9RAJnexg90ncXuwEz54i/lxDVXLONJzBpdf3I66axLIw2PDjb0o+WGL+XGVfAXb7x2Ivmv2IH194AHOP7tmNf8Pg9Uy9nUeR9/IQPRt02ex/Q9PoN/gSv9bxjn83HPGZttk9ZVzT//AcKhaHgEAuNDXjt7KM5Nt00AeHoe7T6HsK2Zn9I8MoK3rhNm++QvFQ49OwQe7T0sOAE4/+c1s3zzQ/aFu3B16aLJd9R7Hes5ixPBunMpbjYt97Sa7g76ES/23TLZrUgl0c6ADQ9Vy9N0qPO4Z3TprUgnUUe5FJcR/0TjJ5dBZehx9d6xUAg37qsmH2js408cfIKVAM+ubUYf4b1wrYQQt9U3Rd8dKJVBrw1wUcpOj7zo4LCrMjr47ViqBlk1ZaLLbkM2jtWGeyXaNeaDpk6ZhSWGOyXbGZbBxxhdwcCb7QAqBNs1YDW/yED2qkMljReNSs33TQDmXxbYPv8QH2XqzMwrZPH74aL3Zvmmg72etQ2OuYHkEMi6DlY2tWNnYarLvAJvb/8z6Ztz59CgK2bzF/H90lHox79LX0V8XmdyCHByOLNyJuol+ab+8Cfhu/ujXSJrqpmD3x1ui7dWY3IK+bVmLHxdsQxhvenkzMrsWw+WzCKUq/J524OLfb3ymw+gPZtnVrbjy4s4b79WY/Nnn/PNr2PXXT+N+b83mTfgs/wkAwOWz+H1+L07+cjTa2X8OdkXbqglpXpIkCcViMYQQQrFYDEmSpHr+a1zSPzRJktDW1vZ/iBPMnsXeF/rnBUKBCAUiFIhQIEKBCAUiFIhQIEKBCAUiFIhQIEKBCAUiFIhQIOIlF7xm40FF/F4AAAAASUVORK5CYII=\n",
       "\">PCG</div><div class=\"floating-box\"><img src=\"data:image/png;base64,iVBORw0KGgoAAAANSUhEUgAAAEgAAACQCAYAAACrgC0FAAAAOXRFWHRTb2Z0d2FyZQBNYXRwbG90bGliIHZlcnNpb24zLjQuMiwgaHR0cHM6Ly9tYXRwbG90bGliLm9yZy8rg+JYAAAACXBIWXMAAAsTAAALEwEAmpwYAAAFZUlEQVR4nO3dS2xUVRzH8d/cmdtpJ9PpQ4RFoVDamBLbSkwU0bRGFyqECQk2kR0GNwYfcefKxISERKOJqRuCiZrgwgdhYUAlkYiNaC0KJAWltKmD6cPKw3Y6nbZ3Zu5xUUqKdvqD3nNOCfl/EsKm/M/lS+/ce89MQwiAgijKWe4DuNNJIEICERKIkECEBCIkECGBCAlESCBCAhESiJBAhAQiJBAhgQgJREggQgIREoiQQIQEIiQQIYEICURIIEICERKIkECEBCIkECGBCAlESCBCAhESiJBAhAQiJBAhgQgJREggQgIREoiQQIQEIiQQIYEICURIIEICERKIkECEBCIkECGBCAlESCBCAhESiJBAhAQiJBAhgQgJREggQgIREoiQQIQEIiQQIYEICURIIEICERKIiJgY+tSaRrz8QJuJ0dSrnYeQSl/TNs9IoMbqVXi6dgNKwmET44sq+D72xRJaAxk5xfb3nMS4N2VidFEF38f3w/3o+iulda6RQJ6fx+snv8SEN21i/IJmCnm81nlY+1xjL9IHe7sxUyiYGv8/XaMp9Fwd1j7XWKC87+OdM8cxmfNMLXFDxpvB3u5jRmYbvczv7zmJkMkFrhvJpnFiqM/IbKOBxr0pHOw9Ba+QN7bGhDeNvae+MTbf+I3i278eR0H5xubnlY9PL542Nt94oIH0Ffyk+dI7ZzqfQ8fZTuR8cxcDK48aB879iLSBS76vFD7pPaV97nxWAh1JnUOJo/+uemhyHP3jl7XPnc9KoMmchxND/VpnTuVz+Oj3Lq0zF2Ltaf7D37q0nmYKCp9dPKNtXjHWAh1Nndd6mg1OjGEgfUXbvGKsBcrmPfzy959aZuX9Ar7oP6tlFmN1w+zYpQtabhozOQ+dw3pf04qxGuiHkQFk87nAc2IRV/u2RjFWA3WPXkIs4gaeMzw5buS+aiFWA2XzHlITwXf7dN8yLMb6pv2JwWBP3RPeNL4LOON2WA90+vIgsgH2iHylcP7aiMYjWpz1QH1jl+EFeLgsi7joGzP7eDGf9UAD6SuIOEtfNucXrL1AA8sQ6OpUNtAdtc04wDIEyuRmEA7wHXTXB1JQUGrp/3NpIcCfXQrrgVaUxpHzl74Fu7KsXOPRcNYDrY5XBnoeq4yWwQnZeK9k1rIECnKSeIW81e8i64Fq4hWBrmKeX0BNvELjES3OeqC6RDVKI0v/UEkIQG15lb4DIqwH2l7XAie09GXjbhTb1jVpPKLFWQ20LlGNtYlg//phx0F7w0aEA0S+HVYDPdfwIKDj3Xql0FZTH3zOLbAaaPf9j6BMw4ZZ3I1iV+MmDUfEWQtUX7ECq+OVWmY5joMd9S1WTjNrgV5segyOxg/DKADb1zdrm1eMlUBr4lXY09yKUg2n15xESSneb2uHa+At7fmsBHqvdYeRv0giWopXWsx+3Nh4oIdW1eKZtRvgGvhIcNyN4s1NW1AVjWmfPcd4oANP7ETMLTE233XC2Ld5m7H5RgO1N2xEQ8W9JpdAacTFrg0P477KlUbmGwu0KlaOD57ciXhJ1NQSN5Q4ERzaujvQXncxRgKFEMLhrS8gFtF4ajXVAc+2zf7+H2HHwfrEPXjr0e361rsuBATanlnQS82t6Hi8PdDW6k2a6+A8vwWhqAs1k4P/8ddAzx83fUkIszeQmz5/F92jl/SsC0M/zPLtYC/e6Dqqbd621j3YHJ29hwpFXXRXKhz5+asFv/bCP6Pa1p2j7vRfyWRSZTIZpZRSmUxGJZNJm+svf4BbjdTR0WE7jjLyGnQ3kR/JJCQQIYEICURIIEICERKIkECEBCIkECGBCAlESCBCAhESiJBAhAQi/gXROOnQLtQD+gAAAABJRU5ErkJggg==\n",
       "\">SLB</div><div class=\"floating-box\"><img src=\"data:image/png;base64,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\n",
       "\">SNAP</div><div class=\"floating-box\"><img src=\"data:image/png;base64,iVBORw0KGgoAAAANSUhEUgAAAEgAAACQCAYAAACrgC0FAAAAOXRFWHRTb2Z0d2FyZQBNYXRwbG90bGliIHZlcnNpb24zLjQuMiwgaHR0cHM6Ly9tYXRwbG90bGliLm9yZy8rg+JYAAAACXBIWXMAAAsTAAALEwEAmpwYAAAEXElEQVR4nO3dT2scdQDG8Wdms7uTzTZqJdBDwApW/BNqoVr8gyCYgGgXcyjReuhFEHwBvfgOvCjkLXjoVchrqCISN8aQJo0ksRb/QGxou0l2dnbn10NJD0m6z2WerYHnC7k+k3yWndnZTUgEIMA9tvhJfwP/9wxEMhDJQCQDkQxEMhDJQCQDkQxEMhDJQCQDkQxEMhDJQCQDkQxEMhDJQCQDkQxEMhDJQCQDkQxEMhDJQCQDkQxEMhDJQCQDkQxEMhDJQCQDkQxEMhDJQCQDkQxEMhDJQCQDkQxEMhDJQCQDkQxEMhDJQCQDkQxEMhDJQCQDkQxEMhDJQCQDkQxEMhDJQCQDkQxEMhDJQCQDkQxEMhDJQCQDkQxEMhDJQCQDkQxEMhBpSDH6af0jfD46o5imXd36Ggud5cL2JECTw+9gsva2Yrpv7TzFuerLhQJJnmI/pk208l3FdN86yNBMi8MBREDNdBm90FNM9y2Jqlju/F7opgRoKV3DcJwopvt2K/sLGbJCNyVAHXRwu/uPYrpvP6W/Fr4pu8z/3P5NNX1ku/keru/NF74rA7rensde3lbNHyoLXTQLvHrtJwNqpsvohGLPB/2qxQkW09XCd2VAC+mNgZ6o/+39h92wV/iuDKgVdrDV21bNH2q+vSTZld6LLaYryvlHdUKGH9q/SLalQM10GXnIlYcAAOzlbaxmG5JtKdBKto4dwXnhYBEi3OxsSralQGvZ5kBuOWpxgvXuLcm2FqjzB5KoqjwEAGA7v4c0dCTbUqCt/A5y6M9BG9lt2bb8HcU/u3+rD4Gl9KZsWw600lmX7rfzFIud4l9B7ycHWkhvSE/U7ZBiLduU7cuBVrMN7OS6S30pKh1voLVsE0H4fyaHo+T4n6TLUVm2fy9voYuubF8OtNXbRlUItN27K9sGBgDUQ0/2Ig4A7uTHHAh4eK90HLeBAQENRSXZdkX49AUGBFSCgfocQHuISiT59PxRcqBqVJHesFaiimwbGADQ8+Vx7Abdxz9jpZPSE7Uc6NXKGYSgeyWdhS5OD43L9uVAr1VeQj2uyfa7oYuJyhnZvhzoQnIWJeFlfiQexkT1Rdm+HOgV4aMLAOWojAvVs7J9KdCp0hiejZ9WHgIA8O7wG7JtKdDHI5PoQf+pRiUq43x1QrItBbpyYhojwhP0ftWogkv1DyTbMqDRuI7zieZRPVglKuNy/aJkWwb0Ye09pLnubY6DjZVO4oXyc4XvyoC+GP0Eo6W6av5QMWJcOTEt2BV0emgcbybnFNOPLZl8Ble/+QrTjelCdyW3wl8+9RkqUXlwvwr8/gjib08hqcW4dukaZi7PYG5urpBpCdB397/H3fy+YvrILr4+g7dqD+/HkpEEU1NThQEBQDjuX41GI7RarRBCCK1WKzQajSL3n/wPWBTS7Oxs0Tgh2ldyR+e/FyMZiGQgkoFIBiIZiGQgkoFIBiIZiGQgkoFIBiIZiGQgkoFIBiI9APNGoaqBcticAAAAAElFTkSuQmCC\n",
       "\">BAC</div><div class=\"floating-box\"><img src=\"data:image/png;base64,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\n",
       "\">PLUG</div><div class=\"floating-box\"><img src=\"data:image/png;base64,iVBORw0KGgoAAAANSUhEUgAAAEgAAACQCAYAAACrgC0FAAAAOXRFWHRTb2Z0d2FyZQBNYXRwbG90bGliIHZlcnNpb24zLjQuMiwgaHR0cHM6Ly9tYXRwbG90bGliLm9yZy8rg+JYAAAACXBIWXMAAAsTAAALEwEAmpwYAAADfklEQVR4nO3dz2oTURzF8XMnmZq0CwXRRtCmoqCbFqQoqLjousZH0I0IgiD4GiJIn8BXqNR16VawO3EhbrT/rG1TIdBJJsl1IW5sZk5J7y9p4HygdJUz6ZcJTDqBOAAekika9hM47RSIUCBCgQgFIhSIUCBCgQgFIhSIUCBCgQgFIhSIUCBCgQgFIhSIUCBCgQgFIhSIUCBCgQgFIhSIUCBCgQgFIhSIUCBCgQgFIhSIUCBCgQgFIhSIUCBCgQgFIhSIUCBCgQgFIhSIUCBCgQgFIhSIUCBCgQgFIhSIUCBCgQgFIhSIUCBCgQgFIhSIUCBCgQgFIhSIUCBCgQgFIhSIUCBCgQgFIhSIUCBCgQgFIhSIUCBCgQgFIhSIUCBCgQgFIhSIUCBCgQgFIhSIUCBCgYiixeirwks8Lz61mKaepS+w0l0NtmcS6E40h+vRNYvpXIlPcNPdwArCBTJ5iX3139D1XYvpXAmaWPcbQTdNAn33P3CIQ4vpXA4YjUDrfgMp2hbTucYwNjqBHJzFdK4YMXaxG3TTLFAJZyymc+2jDh/4GwlNAtVRH8oZtOW3g2+aXSge4LfVdKbtkQrkD6ymM43UGbTr96ymM234zeCbZoF+YsdquqfEJ9jxv4LvmgWyON3ztJBiD/vBd80CbfotdHzHav6ILromL2uzQHt+H000reYzjxmaWaA66mgP8O1GARHqqAffNQvU9K3gV7V5HCKTM9YsUIp0oF9DHiFC6sOfsWaBWmhhkN/UHsEhRWqwa2Qc4wN9P9ZBB2WUg++aBaq4SRQRW80fkaKNipsMvmsW6JKroIyS1XxPIxWo6qYQucHdVSqiiEl3Mfiu2V8w5S5bTfdURmm0zqCKq1hN91RwBVTdVPBds0AX3Hmr6UxVdyX4pkmgGDHO4pzFdK6rbjr4pkmgWTeDZAj3xaZdFXHgSwuTQLejORRPeld7IQLexH9/H1OCBLNu5mTH/Y/JvfkH0T2UUOr//0ELBUTvxuAmHPzjArpPEuAD3yqjjLnoFj511vo7bg8mgV633+Kz/9L34x/OP8LdifsAADfh8HF+DctL74/12KXOct/HzeJP20+tVvONRsN7732j0fC1Wm2Yz2f4QbIiLS4uDjuOd/8qSW/6CB6hQIQCEQpEKBChQIQCEQpEKBChQIQCEQpEKBChQIQCEQpEKBDxBx77RLHihh9CAAAAAElFTkSuQmCC\n",
       "\">NLY</div><div class=\"floating-box\"><img src=\"data:image/png;base64,iVBORw0KGgoAAAANSUhEUgAAAEgAAACQCAYAAACrgC0FAAAAOXRFWHRTb2Z0d2FyZQBNYXRwbG90bGliIHZlcnNpb24zLjQuMiwgaHR0cHM6Ly9tYXRwbG90bGliLm9yZy8rg+JYAAAACXBIWXMAAAsTAAALEwEAmpwYAAAFDklEQVR4nO3cS2hcVRzH8d+588okk4ctVkUUcVFUEFQq2GIr+CBaGnwiCuJKETei7kRcKrhSIm6kuBALtkKimNKHNqUNaaxBwcZGw9iqoYKmteLMzWPm3nOPCxsJNJOfkP85reX/gdJN+d3bb2+HmXunNQAcVEvRhT6Bi50GIjQQoYEIDURoIEIDERqI0ECEBiI0EKGBCA1EaCBCAxEaiNBAhAYiNBChgQgNRGggQgMRGojQQIQGIjQQoYEIDURoIEIDERqI0ECEBiI0EKGBCA1EaCBCAxEaiNBAhAYiNBChgQgNRGggQgMRGojQQIQGIjQQoYEIDURoIEIDERqI0ECEBiI0EKGBCA1EaCBCAxEaiNBAhAYiNBChgQgNRGggQgMRGojQQIQGIjQQoYEIDURoIEIDEXkfo6+UXsKr5Zd9TK/IAXgofgoH0kNim14C/e5OAwA6TIeP+Zbm3TxOuzOimwYe/kfyCiqY6ZlC2ZSlp1dUtSexvrZBdNPLa1CMGEPJfmQu8zG/rFk3h3ca74nvenuRfrexHbOY8zV/nhwi7Gh+LL7rLdDh9Ajm3Lyv+fMMpyM46/4U3/UWyMHhw+YupC71dYh//ZXV8H5jh5dtr++DPkl2B/lr1mba8Hly0Mu210Bj6TjyyPk8BABgwk6ihrqXba+BLCyGkxGfh8C8m8dHzQFv+94/auxMBlF3sbf9DA5DyT5v+94D7U0OoIiCt/26izGVVb3tew/0hzuLanbSy7Z1Fp8mu71sLwryaX5ncxAN1xDfjd0sBpqXQKDPkr1oIhHfLZoiDqWj4rtLBQn0rf0OiZMPNJaOowH5K3OpYDfM9iRfiO7Nujnsag6Kbi4nWKDhdARxNiu2Z2ExZsfF9loJFmjcfoPMyN3+KKGE4/YHsb1WggWatFMooSS2V81OwMKK7bUSLJCFRTU7IbY3koyJba0k6FONw8kRkZ16VseoPSqyxQQNNGEnMedWf/sjg8OU/VHgjLiggaazU2gKvB8qmiKms1MCZ8QFDfSbm4GBWfVOCSXMnHu05FvQQB2mHU7gKVMGizLCPFIKGqjLdIrsNJGIbTFBA3WbLuQEDpkiRbfpEjgjLnwgs/qn3ZnLLs1Aa80asbuLa80akR0maKBthV7kBa6giunAPfktAmfEefnywnIqqOBMTxUlI/N57Cc7jetrt4hsrSTYFXRv4S4sCN52vTJah2vM1WJ7rQQL9FjhQXRHci+sGTJsLdwnttdKkEAGRvw302Ha8WTxUdHN5QQJ9EThEeSN/CPo2/O34YZovfjuUt5fpAso4JfuY7gqukJ82zqL/elBbI0fF99e5P0Kerb4NDpNxct2zuSwJb8JG3K3etkHPF9BZZTxa/dxXBb1+DoEMpfhaPo1NsW9Xva9XkEvlp5H0RR9HgKRiXBz/ibc7emNo7cr6LroWkx0jaIS6KvAP9tp3Fi7AwtYEN31cgVFiDDQ8QHaBJ9i4P4C8Gb5n5+XsS66HG+3vyF3vHO8XEEvlJ7DW+XXRW6OAQAeKCLa3gnTbuDmHLJn6sCe5nm/LGdy2FjrxZeCDxS9fNN+XzKM14zcn+a2zQ9jY/udAADTbvDV5mMYGlz+sfP32ZTYcRe5i/1HX1+fi+PYOedcHMeur68v5PEvfID/Gqm/vz90HBfsdsf/lf57MUIDERqI0ECEBiI0EKGBCA1EaCBCAxEaiNBAhAYiNBChgQgNRGgg4m9dn9hBu9RDcwAAAABJRU5ErkJggg==\n",
       "\">ET</div><div class=\"floating-box\"><img src=\"data:image/png;base64,iVBORw0KGgoAAAANSUhEUgAAAEgAAACQCAYAAACrgC0FAAAAOXRFWHRTb2Z0d2FyZQBNYXRwbG90bGliIHZlcnNpb24zLjQuMiwgaHR0cHM6Ly9tYXRwbG90bGliLm9yZy8rg+JYAAAACXBIWXMAAAsTAAALEwEAmpwYAAAEx0lEQVR4nO3bTWgcdRzG8WdmN5vdzaYmBrUYpUbBt0slp0hF0h5aBFdQsD0UBC/Sg2KhRy9e9CDioSePCqJUD7UQYkXTlDY1NWiMWIsabYqxFCrGbnYnm32Z+XuQSkizeUD+v6mW5wuht2eaT2eT2ZltAMBBdSy80X+B/3oCIgmIJCCSgEgCIgmIJCCSgEgCIgmIJCCSgEgCIgmIJCCSgEgCIgmIJCCSgEgCIgmIJCCSgEgCIgmIJCCSgEgCIgmIJCCSgEgCIgmIJCCSgEgCIgmIJCCSgEgCIgmIJCCSgEgCIgmIJCCSgEgCIgmIJCCSgEgCIgmIJCCSgEgCIgmIJCCSgEgCIgmIJCCSgEgCIgmIJCCSgEgCIgmIJCCSgEgCIgmIJCCSgEgCIgmIJCBS1mL0qdJOvNC312KadujKG/ixueBtzwRopPAI9pQeQzbIWMx3bDVp4oHckFcgk5fY+8tjaLimxfSmJUjwaTTlddME6FxjHkvxVYvpTRuvnfL+D2P2Q/rdyjE0kvTOokpcxTuVo953zYA+qIyjjdhq/rqyQRafRV943zUDOt/8GctxzWr+uiais2i6lvdd0+ugT6LTlvP/VI0jfFydMNk2BRqrnUQlhbMoG2TweTRtsm0KNBnNIB/kLA8BAPgzXsZi+7LJtinQ1WQZC63fLA+BxCWmL2Xz92LHqifQdm2z/WoSYax20mzfHOh4NIUoqZvt54NuTEYzZvvmQNP1OeSDbrP9C61FVJKq2b45UMM1Mbt63mS77do4Vj1hsn2tVO4HHa1OYDVpeN+NkjqOe35zur5UgE6s2FzlFsI8putz3nfXlgrQd42fkA/9/xy62LxkAr+2VICaroVfW/4v5M7Wv/W+ub7U7kl/6fmbiZI6ztS/8bq5UakBTa3MYsXj9VDbxfh69Xtve51KDWiu8QNaHq+oe8ICzjXmve11KjWgheYl5IIub3vLSS2V+96pAV2J/0A28PcQ5XL7d29bm5UakIPz+qa1bnDhuVGpPlnNebw31BMWvG1tVmpA3UEODom3vZsOqBQWvf4WKwZ5b1ublSpQ7PExkMVbl41KDej+3D2Inb+XWBeyGMj0edvrVGpAT/Q8jlJY9LbXcE3sKo542+tUakDl3lFkPH7aY0umhHJp1Ntep1IBGsj04e7sVu+7u0s7vG+uLxWgXcURk7cFpbCIoa67vO+uLRWgA/17sSVT8r4bIMDztzztfXdt5kDbux/ESGG7yXYxzOPgwHPoDXtM9oEUgF6//SC6DR8/hwjxYv9+s/0AgLMafyh3H74a+gjF0PaqtxJXcef8KFac/weUpmfQa7e97PUeUKeyQQYH+veZbJudQcP5h3F623vmZ8+1KnEV9/6yG0txxeuuyRnUhS4cGXzLFmdnCXjljr//BJAPcnh766veD2PyOemXbt2Poa5BxM7oM4o7exG+OYigEMI904fk0CKykzGe3bIHO5aGcaY+6+1QJkDjtVOmH1h4cngfHi1sAwAEhRAzwxcw9uERADC5ke/+b1/lctnVajXnnHO1Ws2Vy2XL4934b/jfIh0+fNgax5leB90M6b9DkQREEhBJQCQBkQREEhBJQCQBkQREEhBJQCQBkQREEhBJQCQBkf4C/ivJgBrZOvoAAAAASUVORK5CYII=\n",
       "\">HBAN</div><div class=\"floating-box\"><img src=\"data:image/png;base64,iVBORw0KGgoAAAANSUhEUgAAAEgAAACQCAYAAACrgC0FAAAAOXRFWHRTb2Z0d2FyZQBNYXRwbG90bGliIHZlcnNpb24zLjQuMiwgaHR0cHM6Ly9tYXRwbG90bGliLm9yZy8rg+JYAAAACXBIWXMAAAsTAAALEwEAmpwYAAAEcElEQVR4nO3aT2gcZRzG8Wf2X7obmwQTTEpVbEAwmItYinqIFAQR3EDwVsRDSsGrSEE0ePBgb4I5WAVLBWmxCKWtoh5Eag5apQnYFPsPSk2wJNbEtpndbDY77+uhRlLo5mnk/U0jPB9Ic8oz4cvuznQmEQAPaSpzr3+BjU6BCAUiFIhQIEKBCAUiFIhQIEKBCAUiFIhQIEKBCAUiFIhQIEKBCAUiFIhQIEKBCAUiFIhQIEKBCAUiFIhQIEKBCAUiFIhQIEKBCAUiFIhQIEKBCAUiFIhQIEKBCAUiFIhQIEKBCAUiFIhQIEKBCAUiFIhQIEKBCAUiFIhQIEKBCAUiFIhQIEKBCAUiFIhQIEKBCAUiFIhQIEKBCAUiFIhQIEKBCAUiFIhQIEKBCAUiFIhQIEKBCAUiFIhQIEKBCAUiFIhQICJnMTrUsROvd79sMU3tvvIOLiz9FmzPJFBPrhPbS31oyRQs5ptq+ASbs61BN03eYh/PHcPNpGIx3ZTzDmMLEzhd/TXorkmgZd/AyNX9iJOqxfwd1Xwde39/P/iu2Yf0wbkTqLqa1fxtnHf4IT6Dier54NtmgZZ9A+/NHsJismR1iH/FbhH7Zg6abJue5g/PfwNElke4JfEOJxfGTbZNA00vz+JC7YrlIdDwDRya/xoOzmTf/ELxw2tHTT+sa66OT+a+MNs3D/T5X98iF5lcbgEAbiYVjFfPme2bB5pPbuBUZdJke8nVceDP4ybbK1L5v9hH146aXDgmcPh0/qvgu6ulEujEje+RN3ibTddncWlpKvjuaqkEqroafqleDLqZeIdj108G3byT1G53jMUTSHy4U3HsqvipcjbYXjOpBTpVOYvYhTvd56Oc6dlrRWqBxqvngn4OOe8wVZ8JttdMaoGm67MoRPmge2lILZCHx0LAU/0fjflgW2tJ9Z50yCvqfMBX41pSC1SI8ihmWoLtbcl3BdtaS2qBevKdqLlw94a6ch3BttaSWqAH891o+CTYXjHTgpbI/qFAaoFeaH8m6Fus4hbxXNuOYHvNpBZouHMw6GOg9ux92NM1FGyvmVQCPVnqQ1vg51UA8HzbU2jNFIPvrpZKoOHOQWwyeIi47BsY6tgZfHe1CIC3PEBvYSsmHz+CUmaTyf7M8hy2TQ6i5m2enpi/gg488jYKNk+4AQCbMyWMbNlttm8aaLD9WWwv9SGXsQvUmi3ite5d6C1sNdk3e4u1Zoq43H8cD+Tvt5i/TcMl+LFyBgMX9wTfNnsFHdm277/9pcVAO7D3oVvf71Iuk8UTpcfwVs/w+o9HmLyCXu16CR88/AbceqcHOpB5txdRMQu/mMC9eRkYu35XPxr98++O868EvZFm8uHw3cJpjFzdv+6fe7F/F54uPgoAiIpZ/Nw/hS8/O7yujUu18Dfx/Ub5KpfLPo5j7733cRz7crl8z3+nDRVoJdLo6OhGiePNLxT/7/RXroQCEQpEKBChQIQCEQpEKBChQIQCEQpEKBChQIQCEQpEKBChQMTfoKyg5eTuwhYAAAAASUVORK5CYII=\n",
       "\">MU</div><div class=\"floating-box\"><img src=\"data:image/png;base64,iVBORw0KGgoAAAANSUhEUgAAAEgAAACQCAYAAACrgC0FAAAAOXRFWHRTb2Z0d2FyZQBNYXRwbG90bGliIHZlcnNpb24zLjQuMiwgaHR0cHM6Ly9tYXRwbG90bGliLm9yZy8rg+JYAAAACXBIWXMAAAsTAAALEwEAmpwYAAAEMElEQVR4nO3dT2gcZRzG8WdmdpOdTRpjQEPpQa2uDcFoD1pasJcgeOmAQtDinxY8Kb14KkK0tClSSL2YQy8aBftHEIOoESkeqhRRchA0eNCk0JiUbU1IUzu7O2kzOx5KoCXtPpB931cLzwf2Etjf7+ULmdmdHOIByCB35P/XB/i/UyBCgQgFIhSIUCBCgQgFIhSIUCBCgQgFIhSIUCBCgQgFIhSIUCBCgQgFIhSIUCBCgQgFIhSIUCBCgQgFIhSIUCBCgQgFIhSIUCBCgQgFIhSIUCBCgQgFIhSIUCBCgQgFIhSIUCBCgQgFIhSIUCBCgQgFIhSIUCBCgQgFIhSIUCBCgQgFIhSIUCBCgQgFIhSIUCBCgQgFIhSIUCBCgQgFIhSIUCBCgQgFIhSIUCBCgQgFIhSIUCBCgQgFIhSIUCBCgQgFIhSIUCBCgQgFIhSIUCBCgQgFIhSIUCBCgYicjaEdQRv6wkdsjKZ+iidRR93YPCuBBrr6Mbp5EJW0huvZio0VaxT8VhT8Fjz+2yuYrE0bm2sl0Mfz49hSeAD7ugfQmdtgY8Ua1TTBS9MHjMYBAA8W/43o/o2v4sCm19AWhLZWALgR57mp/fjuyoTx2VYv0sPl4xgun0AlrVnbUU0TvDA9aCUO4OAuNnRhFMcujSG2EKmaJthz7hC+WfrR+OxVTm7zb80ewx/JDFbqqbGZ1TTBJwvfYuzyGWMzb8fqNehmD7ZuxGTfKbQbuh7NLF9Ez68vIsmWjcy7E2cfFM8vlzE0N2rkehSnVew9N2Q9DuD4k/QH81/C95pfOX99CT9c/cXAiTingZbSq/hi8Xuk2fqvRXFaxdHyCYOnasz5d7HPF880dUfz4WPc4l1r7T7H/kz+aur9eT+H2WuXDJ2Gcx4o5wXw4K1/QHZjhivOA/V3PIm8t/6vgNV6gu3tjxk8UWPOAw109SMMWtf9/mJQwK7Opw2eqDGngXa092FrsdTUjLyXw+v3P4/ufJehUzXmLFCbH2KsdATFoND0rNBvxamHDxs4FeckkAcPH20eNPZsqMXPY1t7L97s3m1kXiPWv4u1eHl8VnoXz3Q8Zfy5UCVNMFw+jqELo0bn3sxqoA1BEae3vI8niiUjv1q3U0lrOLlwGm+cHzb6LHqVtUC94UP46tGj2JS/D4XVu9bOTmDbPcDEFeDskrFdlbSGn+PfsXv6bSysmJsLWAr0bMd2fN3zHgIEyFbH77wX/uESvDBAVktRf2cKOHvZ2E4PHv5JY2yd3IOZa2Vjc608tJ9ansXBuQ9v+dmu3pexI+wBAHhhgIneOYx/etL47r9XFo3PzFy8oijK4jjOsizL4jjOoihystfAy92yKIqykZGRuylO5uyR691Kf5snFIhQIEKBCAUiFIhQIEKBCAUiFIhQIEKBCAUiFIhQIEKBCAUi/gWuOIJuAuNlmwAAAABJRU5ErkJggg==\n",
       "\">JD</div><div class=\"floating-box\"><img src=\"data:image/png;base64,iVBORw0KGgoAAAANSUhEUgAAAEgAAACQCAYAAACrgC0FAAAAOXRFWHRTb2Z0d2FyZQBNYXRwbG90bGliIHZlcnNpb24zLjQuMiwgaHR0cHM6Ly9tYXRwbG90bGliLm9yZy8rg+JYAAAACXBIWXMAAAsTAAALEwEAmpwYAAAEL0lEQVR4nO3dPUsraQDF8ZNkEkcF4WKRdFqJYmntC4iFRVAQROwEG20UK7+AX8CvIDbWEoOQQmORwiABQVAjgqKIogZDjEnMbLWLdzE5u9fnGe8u5wd25oz+ycTJCxgA4EEaCn73D/C7UyBCgQgFIhSIUCBCgQgFIhSIUCBCgQgFIhSIUCBCgQgFIhSIUCBCgQgFIhSIUCBCgQgFIhSIUCBCgQgFIhSIUCBCgQgFIhSIUCBCgQgFIhSIUCBCgQgFIhSIUCBCgQgFIhSIUCBCgQgFIhSIUCBCgQgFIhSIUCBCgQgFIhSIUCBCgQgFIhSIUCBCgQgFIhSIUCBCgQgFIhSIUCBCgQgFIhSIUCBCgQgFIhSIUCBCgQgFIhSIUCBCgQgFIhSIUCBCgQgFIhSIUCDCsTE6OTmJmZkZG9NNeZ6HtbU1HB8fG9u0EqhQKCAUCsF1XRvzDVWrVRQKBaObVk6xdDqN9/d3G9NNXVxc4OrqyuimlUC1Wg2JRAKVSsXG/KdKpRK2traM71p7kN7e3rY1/alKpYLDw0Pju9YCPT4+4vT01Nb8T6rVKnZ3d1Gv141vW/0zn0wmUSqVbB4CAFCv15FKpaxsWw2UyWQQCoVsHgIAcH9/j5ubGyvbVgO9vb0hm81auet/PMbOzo61fetX0slkEuVy2dp+IBDA/v6+tX3rgXK5HDzP3v+ZzOfzeH5+trZvPVC9Xsfe3p6VC8dSqYREImF89yNfnqymUikrF42O4yCTyRjf/ciXQGdnZ1ZOs/Pzc6uPb4BPgTzPw9HRkdHNcrmMdDptdPMzvr0edHBwYPSiMRAIIJvNGttrxLdAuVwO4XDY2F65XMbt7a2xvUZ8C/Ty8oLX11dje/l83thWM76+5Prw8GBs6/r62thWM74GamlpMbbV2tpqbKuZ/2yg9vZ2Y1vN+BooEokY22prazO21YxvgTo6OoyeFl1dXca2mvEt0ODgoNHnY67roqenx9heI74FGh8fN/o2UCQSwdjYmLG9RnwJFIvFEIvFjG6GQiEMDQ1Zf8XSl0CLi4tWfpFgMIjp6Wnjuz8dw+o6gJGREfT19cFxzL+J67oupqam0N3dbXz7T1YD/fjxAwsLC1bfgg6Hw1hdXbV2qlkLFAgEsLKyYvTa5zPBYBCdnZ2YnZ21s29lFcD8/Dx6e3u/dGpFo1H09/cjGo02/T7XdTExMYHh4eFfPlYjAQDGX+obHR3F8vLyl97uiUajGBgYgOM4qNVqyGazuLu7o7dbWlrC5eXlLx/376x8/OXk5AQbGxtf2pibm/vr3uc4Dp6enrC5uUlv908i/lve7/gVj8e9YrHoeZ7nFYtFLx6Pf9fP8v0xmkVaX1//zjielceg/xN9iJNQIEKBCAUiFIhQIEKBCAUiFIhQIEKBCAUiFIhQIEKBCAUiFIj4A7X8kCDkRtySAAAAAElFTkSuQmCC\n",
       "\">BA</div><div class=\"floating-box\"><img src=\"data:image/png;base64,iVBORw0KGgoAAAANSUhEUgAAAEgAAACQCAYAAACrgC0FAAAAOXRFWHRTb2Z0d2FyZQBNYXRwbG90bGliIHZlcnNpb24zLjQuMiwgaHR0cHM6Ly9tYXRwbG90bGliLm9yZy8rg+JYAAAACXBIWXMAAAsTAAALEwEAmpwYAAAEUklEQVR4nO3dz2tcVQDF8XPnze/EtIJa1IUgLqTBFgoRClYUC7XYAevGLkQQ7MKF0L3/RVZiF+50Jd240I0IBYOmzUyTtjTW4qZYjT+StJNJk5k714U0GNPmKLzzasr5QlYt5yUfpnMnM9MkAEhw96x0vz+B/3sGIhmIZCCSgUgGIhmIZCCSgUgGIhmIZCCSgUgGIhmIZCCSgUgGIhmIZCCSgUgGIhmIZCCSgUgGIhmIZCCSgUgGIhmIZCCSgUgGIhmIZCCSgUgGIhmIZCCSgUgGIhmIZCCSgUgGIhmIZCCSgUgGIhmIZCCSgUgGIhmIZCCSgUgGIhmIZCCSgUgGIhmIZCCSgUgGIhmIZCCSgUgGIhmIZCCSgUgGIhmIZCCSgUgGIhmIZCCSgUhlxeiT4Qk8Xz6gmKZ92f8KPfRy2wsQ/Mj2T0Y+wuvV17Ce1vOe3rZ6qOFU7wN8uPZxbpuSW1A7zuENHMOu0phi/p4tDZdxJV7NdVNyH3R+cAGr6bZietuaoYF2nM11UwLUjrNohIZietsW0zKW081cNyVAi2kJN3P+RP9N7cFc7puyY74TL6qm71o/9XF2MJX7rgzobH8K/dRXzW9pJfVwPnZy35UBnYsdrKRV1fyW6qG+s/6JzQxmUQtV1fyWeqmHhfRr7rsyoF/SAtbSmmp+S7PxsmRX+r3Y5TivnN8opohvBt9KtqVA04O2cn6jFfR25i3oQryI7nBFeYmNLsUrkl0p0KU4j4iovAQAoIE6vo/XJNvy+6AivuVYSL9hHZpnDqRAXXRxK91SXgKA9jCQP6M4H3+Q7scUMT2Yke3Lgc4NOtJ95QkGFADUiXPyk0x1ggEFAKlPsiYashMMKADo6vAa6qEu2/89LcpOMKAAoMW0hCDcvzH8Wbhe0Otif6RF2fb14Q3ZNlAQ0FD4y4CHGMq2gYKAMuFlMmSybaAwIN0XUQmSl/Y2KgSoJLxM+UG4BVWFT7020ZRtAwUAPRoeQVnzCjcA4Jnsadk2UADQvmwct4UvQ4+FUewKuvcA6IHKe9EQPpLupVU8l+2V7cuBDpYnUAs12X41VLEvG5ft64GyCel+MzTwcuUF2b4UaDx7Fg+XdisvAQA4WjmMGjS3UinQ29U3URGeYHeKKeJo5bBkWwtUOyF9DHSnsdJDeLf2lmRbBjSRHcBI0D6I+3uvVF7ECEZy35UBvVd/Bw3ojvd/1scAJ6rHc9+VvMt1T3gMP+6e0bwm9moFeKkCfN0Hvtj8/qPrw5/w1NL+XJ8CkdyC3q+fRAUVxBTz/TiSIZ0eBU7WkU6PIh7JNv3542FP7nfWkiPm0/XP0BO8eerYoeM42PzrMU9oBnx3aA6fnzmz6e9MDaZzv27aKR+tVit1u92UUkrdbje1Wq0irnv/v/D/ijQ5OVkUTpLcST9I+X/7kAxEMhDJQCQDkQxEMhDJQCQDkQxEMhDJQCQDkQxEMhDJQCQDkf4Ezt/dmjr1mmkAAAAASUVORK5CYII=\n",
       "\">C</div><div class=\"floating-box\"><img src=\"data:image/png;base64,iVBORw0KGgoAAAANSUhEUgAAAEgAAACQCAYAAACrgC0FAAAAOXRFWHRTb2Z0d2FyZQBNYXRwbG90bGliIHZlcnNpb24zLjQuMiwgaHR0cHM6Ly9tYXRwbG90bGliLm9yZy8rg+JYAAAACXBIWXMAAAsTAAALEwEAmpwYAAAEOklEQVR4nO3dO0sraxjF8TUaE41apxFBUcQvIKSwjIgyiAg2Igh+AMFCG9tYiCjYWFhoYeGlFYwiFiJoEbARSSdYBEnwUkQyk9t7CtHtOfu4196HSSYc1g/SSHzy8Cck70wTC4CBfKvB7wXqnQIRCkQoEKFAhAIRCkQoEKFAhAIRCkQoEKFAhAIRCkQoEKFAhAIRCkQoEKFAhAIRCkQoEKFAhAIRCkQoEKFAhAIRCkQoEKFAhAIRCkQoEKFAhAIRCkQoEKFAhAIRCkQoEKFAhAIRCkQoEKFAhAIRCkQoEKFAhAIRCkQoEKFAhAIRCkQoEKFAhAIRCkQoEKFAhAIRCkQoEKFAhAIRCkQoEKFAhAIRCkQoEKFAhAIRCkQoEKFAhAIRCkQoEKFAhAIRCkQoEKFAhAIRCkQoEKFAhAIRCkQoEKFAhAIRCkQoEKFAhAIRgWoM7erqwuzsLCzLqsb4b5XLZcTjcbiu69nMqgTK5XJIp9MYHBxEW1sbKpUKGhqq82b9mJ3NZnF+fu75fAtV/CFay7LQ39+PkZERRKNRVCoVNDc3ezI7n8/DGIOTkxOcnZ3h4eHBk7n/VNVAX7W3t2N4eBhjY2NoampCOBz+4xmVSgWu6+L5+RmHh4e4uLhAsViswrY/1CzQh4aGBgwMDGBqagqRSAQtLS2/9X+O4+D29hb7+/tIpVJV3vKHmgf6fGHLgm3bmJ6eRlNTExobG//1eYVCAa7rYm1tDclkssZb+hjoQyQSwcLCAjo7O3/6fHJdF9fX19jc3MTb25sv+/keCHh/N62srKCnpweBwPsXq+M4OD09xdbWlq+71cVB0RiD5eXlz/NLuVxGJpPB9va2z5vVSSAAeHl5wc7ODvL5PFzXxfr6Okqlkt9r1U8gAEin06hUKggGg0in036vA6DOAvX19SEQCKBQKKC3t9fvdQDUUaCOjg5MTk4iFAohHA5jfn7+t89I1VQXgYLBIJaWlhAMBj//1tbWhrm5OR+3euf713xfXx8WFxfR3t7+0znIcRzc399jdXUVmUzGl/18CxQMBjEzM4OhoSGEQqFvn1cul1EsFrG9vY3j42MYU9t1ax6otbUVsVgMExMTaGlp+WWcrxzHQTabxcHBAS4vL2t2BKhZoO7uboyPjyMajcIY859ve3zc5kgkEjg6OkI2m/V407+rSiDbthGLxXB1dYXX11eMjo4iEon88qL0TxWLRRhjkEqlkEgkkEwmkc/nPZn9leeBbNvG3t4ewuEwSqUSbm5u8Pj4WLXPDsuyYFkWyuUy7u7uEI/HPb2w9fyWaywW+7wZFggE8PT0hN3dXa9f5luO43g+03j5sG3b5HI5Y4wxuVzO2Lbt6XwfHt4PtW3bbGxs/B/iGN8PivWuLi416pkCEQpEKBChQIQCEQpEKBChQIQCEQpEKBChQIQCEQpEKBChQMRf0CG9AEexmnAAAAAASUVORK5CYII=\n",
       "\">SKLZ</div><div class=\"floating-box\"><img src=\"data:image/png;base64,iVBORw0KGgoAAAANSUhEUgAAAEgAAACQCAYAAACrgC0FAAAAOXRFWHRTb2Z0d2FyZQBNYXRwbG90bGliIHZlcnNpb24zLjQuMiwgaHR0cHM6Ly9tYXRwbG90bGliLm9yZy8rg+JYAAAACXBIWXMAAAsTAAALEwEAmpwYAAADaklEQVR4nO3dvUojYRjF8ZN1VeJnQLugNyBYWKmdhZ1TeQVaeBFeRsDW0lZhg6SxkJBGQQJqoZYiFlbG8YN8zLvFrMiu6Nll50R3OT8YLJRnMv/MvElGwRyAAHvTl49+AJ+dAxEORDgQ4UCEAxEORDgQ4UCEAxEORDgQ4UCEAxEORDgQ4UCEAxEORDgQ4UCEAxEORDgQ4UCEAxEORDgQ4UCEAxEORDgQ4UCEAxEORDgQ4UCEAxEORDgQ4UCEAxEORDgQ4UCEAxEORDgQ4UCEAxEORDgQ4UCEAxEORDgQ4UCEAxEORDgQ4UCEAxEORDgQ4UCEAxEORDgQ4UCEAxEORDgQ4UCEAxEORDgQ4UCEAxEORDgQ4UCEAxEORDgQ4UCEAxEORDgQ4UCEAxEORDgQ4UCEAxFfFUPHxoDpacVkrlYDms3s5uUg+P9iGxvA6irw9JT15PcNDAArK8DWVrZzQ9ZbFCHc3iKE0N3t8RGhWMz8eLIP1NeHEMfdD1SvZ38skkW62QR2dxWT3/bwAGxuZj9X9iq2swM0GqrpryUJUKlkP1eySANAsQhcXAD5vGL6a7e3QKGQ/VzZGXR1lT7obqlWNXOlbxT39pTTX9zfA+WyZrY0UKXSnXUoBGB/XzNbtgYBwMQEcHamX4caDWB0VDNbegZdXqYvv2oHB7rZ8g+r5+fa+UkCHB7q5ssDHR1p58cxcHKimy8PdHysvcxCSNc5FXmg62ug1dLN7+1N96EiD3R3lz7LKj096WWmIg80MgLkcrr57TYwPKybLw9UKKTPskqno/kM9kweaHw8XSdUkiTdh4o80OIi0N+vm5/PA/PzuvmA4I7i85bLITQa+juJtZruGKRn0NSUcvqLmRndZSwNtLamvbyetVrA8rJuvuTUHBrq7o3709N/7BJbWdG+QfzV5CQwO6uZnXn1fB7h5oY961EIofTj69+fQZ0OQrUqOYuyH7q+jtBqIbTbb21RSJI4hBBCksSh3Y7e+dnf35IEYWEh22OR/G5+e/v97y8tLWJubhAAkMsN4uBgEeXyt0z2Xa9nMuYnksXtvS2KohDH6RkUx3GIoqjrj+EPto/ZcRRFoVQqffY4QXrT/n/gP6AiHIhwIMKBCAciHIhwIMKBCAciHIhwIMKBCAciHIhwIMKBCAcivgOHOhtSMsdGtwAAAABJRU5ErkJggg==\n",
       "\">SIRI</div><div class=\"floating-box\"><img src=\"data:image/png;base64,iVBORw0KGgoAAAANSUhEUgAAAEgAAACQCAYAAACrgC0FAAAAOXRFWHRTb2Z0d2FyZQBNYXRwbG90bGliIHZlcnNpb24zLjQuMiwgaHR0cHM6Ly9tYXRwbG90bGliLm9yZy8rg+JYAAAACXBIWXMAAAsTAAALEwEAmpwYAAADJElEQVR4nO3dvWtTYRiG8efkoyc2qfTDOpQS3APVRdBBKOho/gAntzr7Xzh3cXJ3cRAEV1cFBV0EJxFBWsSm7Wm+T14H6WZ6kfI++YD7gtAp9wm/NuccQqCJmQVTYyvM+gXMewKCBAQJCBIQJCBIQJCAIAFBAoIEBAkIEhAkIEhAkIAgAUECggQECQgSECQgSECQgCABQQKCBAQJCBIQJCBIQJCAIAFBAoIEBAkIEhAkIEhAkIAgAUECggQECQgSECQgSECQgCABQQKCBAQJCBIQJCBIQJCAIAFBAoIEBAkIEhAkIEhAkIAgAUECggQECQgSECQgSECQgCABQQKCBAQJCBIQJCBIQJCAIAFBAoIEBAkIEhAkIEhAkIAgAUECggQECQgSECQgSECQgCABQQKCSh6j1VJq9dq6xzT27fjA8jCKtucC9OLeY2vWb9lglHvMj61SLNvT9y/t+dd30TZdgAaj3JZLSx7TF3Y26EX/pbicg35kRx6z2DCM7LBzGnXTBehXp2WdYd9j+sKCBTvonETddAE66JxYf8rnHzOzUlK0w+6CAIUw/f9vmxZLi/EX9LubWZIkHtNYO/Jb2wWo1W9bKZn+PWh72Iu+6Qa0VHS5g7iw00E3+qYLUHvYt4JN/y123F8QIDOzdj79y3yr346+6QZ0Noh/PqCOemfRN92AZnEf1MkH0TfdgIYzAOrlw+ibbkAjm/6Nojkc0w3oarniNT22jXQl+qYb0MoMgK5fqUXfdAEqF4ozuVFcTxcEaCOtuZwwqdWl5eibPkCV6tQ/bjUzq5XT6JsuQPXqhoUZXMXyMLLNStwTtQtQY23LlouX/Ez6Zt3s0Z1/PyesOxxYY23rcscdkwvQ7Ws3rFQoWB5Gkz12ti3s7Zrdb1jY27V8Z3ui51fLqTVW4wK5XGqefXlrn//8nPh5Dx88sbtp2czMkrRsHzb79ubj64k2Xn3/NPFxqTAvj2azGbIsCyGEkGVZaDabM39NcwV0jrS/vz8vOCE5V1L/T19egAQECQgSECQgSECQgCABQQKCBAQJCBIQJCBIQJCAIAFBAoL+AvUDd+UgP+dKAAAAAElFTkSuQmCC\n",
       "\">MRK</div><div class=\"floating-box\"><img src=\"data:image/png;base64,iVBORw0KGgoAAAANSUhEUgAAAEgAAACQCAYAAACrgC0FAAAAOXRFWHRTb2Z0d2FyZQBNYXRwbG90bGliIHZlcnNpb24zLjQuMiwgaHR0cHM6Ly9tYXRwbG90bGliLm9yZy8rg+JYAAAACXBIWXMAAAsTAAALEwEAmpwYAAADN0lEQVR4nO3dS4hNcQDH8d8587p3pvFuPGbPxmMlZSEW05BOIomyG49GsqAo2bCwEpkVC6UsJiyklGSjlNiIpJRCSInGTI573WHO30IjJb4L/3M9+n3qbH/n3G+3e+65m5tICrKfSv/0BfztHAg4EHAg4EDAgYADAQcCDgQcCDgQcCDgQMCBgAMBBwIOBBwIOBBwIOBAwIGAAwEHAg4EHAg4EHAg4EDAgYADAQcCDgQcCDgQcCDgQMCBgAMBBwIOBBwIOBBwIOBAwIGAAwEHAg4EHAg4EHAg4EDAgYADAQcCDgQcCDgQcCDgQMCBgAMBBwIOBBwIOBBwIOBAwIGAAwEHAg4EHAg4EHAg4EDAgYADAQcCDgQcCDgQcCDgQMCBgAMBBwIOBBwIOBBwIOBAwIGAAwEHAg4EHAg4EHAg4EDAgYADAQcCDgQcCDgQcCDgQKC1jNGl1YU6PHuwjOlfKlRo64uDGp14H22zlEDj4ZMWV+drTusstSTNeZMWodDd+iO1qS3qbqKS/m++knTo6Jw92jlzozrTShmn+KZW1LXv1XGdHrmoEPnllBZo0uCMTTo2b68602op+x+KutY83aWbH+6Wsl96IEnaNn2DTvbujx4pn6ip/+mgbtXuRd39XlMCSdLA9PU62XtAXZEi1YuGVj0Z0J3agyh7P9O02/yZd5f0uPE8ylajGNfZd5dLjyM1+XvQ8OhVNYrx396ph4Yujl6PcEWsqYHWTVmpjrT9t3c6k4pWdy+PcEWsaYEO9WzXkuqCKFvtaZt2z9qitd0rouz9Sukf0tNaunVs7j5tnrpaXS1x72K14qMOvz6lE2/P6VP4HHV7UimBsixTf1+/dPu9tt5fofakTdW0I/ZpJEl5UdPI5zHteHlE1/Jb0fejB8qyTBeGL6jSVZHqhYoDzxRujMU8xQ9SpUqSRJLU83CV3kyMRNuO/izW19f3NY4kVVPdWfxMV84Pxz7ND1KlWta5SGNFvAfVSSHmkWVZyPM8hBBCnuchy7Ko+3/giD+aZVkYGhr6H+KEpj1q/Kv8iyJwIOBAwIGAAwEHAg4EHAg4EHAg4EDAgYADAQcCDgQcCDgQ+AJqMCs8qNHQmwAAAABJRU5ErkJggg==\n",
       "\">BABA</div><div class=\"floating-box\"><img src=\"data:image/png;base64,iVBORw0KGgoAAAANSUhEUgAAAEgAAACQCAYAAACrgC0FAAAAOXRFWHRTb2Z0d2FyZQBNYXRwbG90bGliIHZlcnNpb24zLjQuMiwgaHR0cHM6Ly9tYXRwbG90bGliLm9yZy8rg+JYAAAACXBIWXMAAAsTAAALEwEAmpwYAAAD9klEQVR4nO3dzWtUZwDF4XPvTDIzSdBEIprSGkoWsQihrmKpraLQVQfpQixtoV0UihQEN8VV/wHBRaBLN6Xrrrpw18aF6UeKmISG+pVWTG2tRCdznck0M/N2EQWrGU8X7xldnB8EN+G8k0e9uTcJJAEQ4DqWPusX8LxnIJKBSAYiGYhkIJKBSAYiGYhkIJKBSAYiGYhkIJKBSAYiGYhkIJKBSAYiGYhkIJKBSAYiGYhkIJKBSAYiGYhkIJKBSAYiGYhkIJKBSAYiGYhkIJKBSAYiGYhkIJKBSAYiGYhkIJKBSAYiGYhkIJKBSAYiGYhkIJKBSAYiGYhkIJKBSAYiGYhkIJKBSAYiGYhkIJKBSAYiGYhkIJKBSAYiGYhkIJKBSAYiGYhkIJKBSAYiGYhkIJKBSAYiGYhkIJKBSAYiGYhkIJKBSAYi5RWjQz0DeKV/l2Ka9lPlMtZDM9qeBOjM+Cc4tvNNNNrrivmOlXIFfPrLFzi7fC7apgRovrqEd3cewGDPgGK+Y/fW7+Ny7WbUTck1aKay2PV/PQDQlyvg59UrUTclQBdXr6GUKyimn9qNtduotRpRNyVAa+1/sFT/UzH91M6vzEfflH2a/25lTjW9adVmDd8KzpQBTd+dw2qzppp/ogQJvq8sRt+VAf1w71fkku7dhyZIcLX2R/Rd2UdwvX4LoYu/f3M+W5LsSv+KF0Qv+vFaoY1pwQUaEANNr8yjFdrKIwAAWbOOGcH1BxADzVQWkTXryiMAAL1pHrOVuDeID5MCzVauoDeVPM38p0a7ieXGHcm2FGi5cQeNdrwn605dql6Xbcs/D88JXzwANEML03d1N6VyoNnID4+Pd7+5hoXqb7J9OdC12i3UIz9APlpAwO9rt2X7cqBWaCGIf2O78lZCDpQmKYBEfIZuvwtAiZgHyCEn25YDjZVGUEh7ZPspUrxUHBbuizu4beLBfzNNA/ki9g/tke1LgVKk8m//pEmKA0MTun3ZMoC9W8aifo+qU+P9L6JP9DVwKdCJ0SMopb3KIwBs3E1/MHJYsi0D2prvx9EdbyDfhYfVgXwJn718VLItA/rohbfQ7uKXFHf0DuL1wfgXawlQX66Az8feQ3++GG9033bg+O6NPzuceXr843jnPUgCdHL0HWzp6UMrtOO8TQ4jnJoAjowinJpAa3L4ifcJACa37sahba9G/VgkF4iv/7oQ9enr7fc/xGvFjZeaFPP4cexvfPPVl5u+78Xq1YgnbxSe97dyuRyyLAshhJBlWSiXy908/9kD/F+kqampbuOE5KGS2zz/CB7JQCQDkQxEMhDJQCQDkQxEMhDJQCQDkQxEMhDJQCQDkQxEMhDpXw3Cptzx4cjxAAAAAElFTkSuQmCC\n",
       "\">AAPL</div><div class=\"floating-box\"><img src=\"data:image/png;base64,iVBORw0KGgoAAAANSUhEUgAAAEgAAACQCAYAAACrgC0FAAAAOXRFWHRTb2Z0d2FyZQBNYXRwbG90bGliIHZlcnNpb24zLjQuMiwgaHR0cHM6Ly9tYXRwbG90bGliLm9yZy8rg+JYAAAACXBIWXMAAAsTAAALEwEAmpwYAAADx0lEQVR4nO3dPWtTcRzF8XPvzUOb1FJbrbbSQhEVBREfENRFB3HQLL4AB8Wtr6Yg+gbcHB0EZxHcdFSHRsUo9sl6kyZN7v07lBZDmhyR/y8xcD4QOgROmm/S3DS30ACAg3QVDvob+N8pEKFAhAIRCkQoEKFAhAIRCkQoEKFAhAIRCkQoEKFAhAIRCkQoEKFAhAIRCkQoEKFAhAIRCkQoEKFAhAIRCkQoEKFAhAIRCkQoEKFAhAIRCkQoEKFAhAIRCkQoEKFAhAIRCkQoEKFAhAIRCkQoEKFAhAIRCkQoEKFAhAIRCkQoEKFAhAIRCkQoEKFAhAIRCkQoEKFAhAIRCkQoEKFAhAIRCkQoEKFAhAIRCkQoEKFAhAIRCkQoEKFAhAIRCkQoEKFAhAIRCkRkLEYDBMiFJtNUI2163TO5F08u38eD49fhXH//K04YhLj3+jGeLr/ytmkSKApCREEIBBbr3cXNOrJh5HXT5DXo/WYFzbRlMd1TyyX4VF31umkSqFxbwVbL72vB34iCEOXqitdNk0CfqqtIkVpM9zQa5fCltuZ10yxQdgBHsWqr4f0oZhKoUl9HfgCBKvUN75smgVLnsL5dtZjuqRz7ff0BDN9Jf91at5ru6sOvb943zQItez6aMI2kiY/xd++7ZoHeb/p/NHupJ03vRzDA9Bn0A7VWw2q+gwPwueb3TSJgGOhzbRXNNLGa75ALo+EL1E+5MIvv9Z/ed80CfamtIR9lreY7bDSrSA0+PTALtNL4hSjo36/zla0Nk13TTxQ3tmuW820qRu+7TAPFfTyKrRm9czcOVLecb7PWiE12TQNtNrcs59usbg9hoCjo30mTbOD3o9ZdpvfgWOGg5XybE+NHTXZNAx3Oj1vOt1koTpvsmgWayBYQ9PG0htWz1SzQXHEK9WTbar7DZG7M5AExCzRfOIR+njZspQmmR/z/SNs9gwqTyHk+iddLI21hrjDlfdcs0MLYNAqZvNV8hwDAfHGIAl0/ctpqel/FTB5XD530vmsSqJjJ49zEvMV0V5kwwt25S953TQLdOHIG9cTw1POFY8C9iztf/zAzOoGZ0QmvN2USqDR7AQeyI0hc6v9yfhZu8Rpw6xTc4jUk52f3rguDEDePnvV6X0xOfz768BLlms1pnzu3H+JKfufbDvIZvJmp4vm7Z3vXv6i89X6bbpgupVLJxXHsnHMujmNXKpWsb3Pwd/pfIi0tLfUjjgt2K8n+9FeuhAIRCkQoEKFAhAIRCkQoEKFAhAIRCkQoEKFAhAIRCkQoEKFAxG/eZqI/ZwZZKQAAAABJRU5ErkJggg==\n",
       "\">MSFT</div><div class=\"floating-box\"><img src=\"data:image/png;base64,iVBORw0KGgoAAAANSUhEUgAAAEgAAACQCAYAAACrgC0FAAAAOXRFWHRTb2Z0d2FyZQBNYXRwbG90bGliIHZlcnNpb24zLjQuMiwgaHR0cHM6Ly9tYXRwbG90bGliLm9yZy8rg+JYAAAACXBIWXMAAAsTAAALEwEAmpwYAAADP0lEQVR4nO3av08TcRzG8U/vWtpCAR10wUWJ8VeiIcaocdbJ/gMuujg4uPsnmDjJ5iqrg4Orq1EnBwYHg5gYUIKEH0cptNevA3GDvgt+P5QmzzshTH3u8qJcuQsFMwum9i3p9wkc9wQECQgSECQgSECQgCABQQKCBAQJCBIQJCBIQJCAIAFBAoIEBAkIEhAkIEhAkIAgAUECggQECQgSECQgSECQgCABQQKCBAQJCBIQJCBIQJCAIAFBAoIEBAkIEhAkIEhAkIAgAUECggQECQgSECQgSECQgCABQQKCBAQJCBIQJCBIQJCAIAFBAoIEBAkIEhAkIEhAkIAgAUECggQECQgSECQgSECQgCABQQKCBAQJCBIQJCBIQJCAIAFBAoIEBAkIEhAkIEhAkIAgAUFFj9FXV57ao4m7HtPY49mX9nrhfbQ9F6Ab4xdsKCl5TGNTY5NRgVx+xYbTssdsT40XR6Lu+QAl/QMaKw5H3XMBaoW2x2xPNTutqHsuQI1822O2p9bbm1H3XICyvOkx21OrrUEAam95zGLtkNt63oi66QK00S+gTm6bkd+9LkBrka8DvdYOuW22BwBoYfuPdULHY7preejYcms96qYL0LfGYt8+yeYav6LuuQDNbS1aO+Qe010bTsv2fWsAgOa3flup4HKb17VmpzUYF+mF5opV0qO/WV3aWY2+6XarkUX+NOmln83l6JtuD8xWWhte0/u2uL0SfdMNqNyH50HVZCj6phtQJY1/stRosRp90w/I4adJ1dIBAhpKjv5jfqRYib7pAlQspJZYwWO6ax5PMl2AamnVWn34S3okHZB30MXaGWvmOx7TXTtZqlk18rvIBej62Pn/uwbdPGX25NLu9wPUyLft6ujZwx93j1yupHdOXLZyUrL8MI88bp225Nk1K1SKFu5NWOf5F7OPSz29dDgt29TYpH1a+3rw4+6TC9CL+Tc2m/041GvvP3hotyu7p1WoFO3zuWV7NzPT8+vfLn041HG7FY7TV71eD1mWhRBCyLIs1Ov1fp9T/1H2Qpqenj4OOKHwT0ntnf79BRIQJCBIQJCAIAFBAoIEBAkIEhAkIEhAkIAgAUECggQECQj6Cxn6NIMkuzyyAAAAAElFTkSuQmCC\n",
       "\">KO</div><div class=\"floating-box\"><img src=\"data:image/png;base64,iVBORw0KGgoAAAANSUhEUgAAAEgAAACQCAYAAACrgC0FAAAAOXRFWHRTb2Z0d2FyZQBNYXRwbG90bGliIHZlcnNpb24zLjQuMiwgaHR0cHM6Ly9tYXRwbG90bGliLm9yZy8rg+JYAAAACXBIWXMAAAsTAAALEwEAmpwYAAADtklEQVR4nO3dv08TcRzG8ed71yu2CAiIymIYiMqCYdTof2AHdxNXEzf/AAfddONvMK4u/gPGxTg7GZ2MhIhgS0+E+/V1QI2JpY8x38/hJc8rIQwkT+k7d22vNMEB8JAjRcf9C/zvFIhQIEKBCAUiFIhQIEKBCAUiFIhQIEKBCAUiFIhQIEKBCAUiFIhQIEKBCAUiFIhQIEKBCAUiFIhQIEKBCAUiFIhQIEKBCAUiFIhQIEKBCAUiFIhQIEKBCAUiFIhQIEKBCAUiFIhQIEKBCAUiFIhQIEKBCAUiFIhQIEKBCAUiFIhQIEKBCAUiFIhQIEKBCAUiFIhQIEKBCAUiFIhQIEKBCAUiFIhQIEKBCAUiFIhQIEKBCAUiFIhQIEKBCAUiFIhQIEKBiJbF6KPzd3Hn7E2Laer2u4d49uVFsD2TQJc6S5iKJy2mx8qqHEsTi0E3TU6xrbxvMUtlPke/TINuGgX6YjFLlb5CvxgG3TQJtF0MkFeFxfRYHr4ZR1C/TJH53GJ6LAfXjCNoUKYofGkxPVbkIgzKr2E3g6790C9S+GP4t2WJi9EvG3AEhf4l/1bbJRgUDTiCdopdxK7+F+kHPkeJsKe22eugtksspscaFGGfwQDDB+nYxRbTY+0Uu8E3zc6DtNyzmj7SVtEPvmkWKPQLtr+xmW0H3zQLtJ0PrKaP9CH7FHzTLNBmvmM1PVJW5djMG3QEbWRbVtMjHfjc5F0Eu0D5Z6vpkUpfYbsIf1qbBdotvyKr6rxg9RgaPHOaBRqWe8h9fW95ODgMA1+oAsaBSl9Zzf8hchGGVYOOoP0qq/WKPoLDfpUZ7BqZaU3WesFa+BIz8cngu2b3YC6eRlLjBauHx1xrOviuWaCFZBYTUX2BHBzmWzPBd80CLbbnraZHil3UrCPobGvOanqktkuaFeh0cspqeqR2lOBMMht81+5BujVlNX2kxST8aW33NB/XH+hcUwKdjLqYjrsW02Nd7JwPvmkS6PLkMr5VBxbTY51L5tGNTgTdNAm01r1g+1eNa7PAvaXD77/Zq/ax2l0OelMmnw+6OrWKiSixuVi9PovowTJcJ4a/sYDq/lvg5eGnSbrRCaxNXsCr9E2wmzMJ9HjjCd7svbeYxo2VW7jSWQEAuE6M1ysf8fzpk18/f7YT7tNlP/kmffV6PZ+mqffe+zRNfa/Xs77N47/T/xJpfX29jjje/awko+ljwIQCEQpEKBChQIQCEQpEKBChQIQCEQpEKBChQIQCEQpEKBChQMR3snpwdi7W5NgAAAAASUVORK5CYII=\n",
       "\">CSCO</div><div class=\"floating-box\"><img src=\"data:image/png;base64,iVBORw0KGgoAAAANSUhEUgAAAEgAAACQCAYAAACrgC0FAAAAOXRFWHRTb2Z0d2FyZQBNYXRwbG90bGliIHZlcnNpb24zLjQuMiwgaHR0cHM6Ly9tYXRwbG90bGliLm9yZy8rg+JYAAAACXBIWXMAAAsTAAALEwEAmpwYAAAFBklEQVR4nO3cz28UdRzG8Wdmutvd7fYHtCCoFZuAEQ/KpVUTtSFcNLKJGtBoFA8aExONNw+e/QNMT96NB3/FaMRoYsEKobSS0HpAVAotbRMo0mAddmZ3Zufrwayp25bPwe/ni5rnlXB9pryzOzvbna0HwIA25N/sH+DfjoEEDCRgIAEDCRhIwEACBhIwkICBBAwkYCABAwkYSMBAAgYSMJCAgQQMJGAgAQMJGEjAQAIGEjCQgIEEDCRgIAEDCRhIwEACBhIwkICBBAwkYCABAwkYSMBAAgYSMJCAgQQMJGAgAQMJGEjAQAIGEjCQgIEEDCRgIAEDCRhIwEACBhIwkICBBAwkYCABAwkYSMBAAgYSMJCAgQQMJGAgAQMJGEjAQAIGEjCQgIEEbRqjW/xe7GnfrTEtGosmUUfd2p4Hhb/l+m7f23ix/BRiU7M9fUMlv4CXr7yF98JPrW2qPIKORON4tmM/eoIujfkNRVmM4/Epq5sq56CvqmNo99s1pm9oqXEVF9J5q5sqgVZMiKnaGY3pDSUmxYfXD1vfVXsVez/8DNUs0ppfIzIxPrn+tfVdtUCfV0fhwdOaX8PAYLI2bX1XLdBcuojl7JrW/BpHo3EYhT+urnqhOB6f1pz/S5TF+CY6obKtGuhofNLJeahuEpWnF6AcaCKeRopU8xAAgKJfwHTtrMq2aqAf6mdR8AqahwAAzCRzVt9erKYaKEGCX5JZzUMAAMbiSbVt9XfzY9EEMpOp7a9kIY7F36vtqwc6Fp9CaKpq+z58TMQ6J+g/95VN1KYQIFA8gsFMOqe2rh7oQjqPDHpPMa1XryYnv1E8rfTGNTUpRpUuEJucBDoSnUBi7F8PhVkVJ2tT1ndXcxLoTHIOVWP/irrNC/Bjcs767mpOAs2mCyq7Ra+AhfSSynaTm0DJIvLIWd+9lq2ov5VxEuhKdhWBZ/+lfiG9bH2zlbPPxZYaV61vnk8vWt9s5SyQxrnip/p565utnAX6tbFsda9m6ljK7D8qWzkLtJz9ZnUvNSlWstDq5nqcBVrJfre61zCZk99WOgvU49v9lDXwfHT4Jaub63EWaHPQY3Uv5+WsR1+Pu0B+j9W9vJfDJr/b6uZ6nAXq9jutb24NNlvfbOUsUJffYX2zN9hkfbOVs0AaT4f+YLv1zVZOAu3K3YlM4WPhe/K71D//dxJoqP0+lU82MjRwV27A+u5qTgI9UhhCV1C2vmsA3N++x/ruak4CDReGVHY7/Q617Sb1QHnkMZDrV9t/uDCotg04CLS3+AAiE6vt97dtxy1Bn9q+eqBXu55TuUhsypDh+fITavsq90k3dXplXN4xgaKve4fHTHIRO+f3qmyrPoIOlB9FAw3NQwAAtgV9uDd/t8q2aqDXul5AWeEtRqu8l8dLnU+rbKsF2tF2G3bndmrN/03Oa8Oh8pMqN0moBXqz+xX4nrsvEwVegGfKj1vfVTlJb/F7MXvHdygpn5yxrwQ8VASOR8BoFXPJIgbmh63eDqzyZZbXuw8h7+XQMIon6H0d8N/ZCq/kwxzoRPbGJdw+ug2PFYfxZfSttcOoBPogPKz+Vaj9gwfxYOlWAIBX8jE5+DO++Pgjlbs9zH/xX6VSMWEYGmOMCcPQVCoVrWPd/P/sP4k0MjKiGceoXkn/H/BLvQIGEjCQgIEEDCRgIAEDCRhIwEACBhIwkICBBAwkYCABAwkYSMBAgj8ADyXOT6Ht9l0AAAAASUVORK5CYII=\n",
       "\">WFC</div><div class=\"floating-box\"><img src=\"data:image/png;base64,iVBORw0KGgoAAAANSUhEUgAAAEgAAACQCAYAAACrgC0FAAAAOXRFWHRTb2Z0d2FyZQBNYXRwbG90bGliIHZlcnNpb24zLjQuMiwgaHR0cHM6Ly9tYXRwbG90bGliLm9yZy8rg+JYAAAACXBIWXMAAAsTAAALEwEAmpwYAAAD2klEQVR4nO3dv28TdxzG8ee+ZxL/KEnaBjEhqqBCVFKJVggJtaELE8RCLK3UhQ7tf8DMxF+QqUtXxIzatSypKiUZQolKCqEKECIRUPl19vkc330ZAC82fjp8Pwak5yVZWaznm7xl65xTpEQAPOSN3Nv+Bt51CkQoEKFAhAIRCkQoEKFAhAIRCkQoEKFAhAIRCkQoEKFAhAIRCkQoEKFAhAIRCkQoEKFAhAIRCkQoEKFAhAIRCkQoEKFAhAIRCkQoEKFAhAIRCkQoEKFAhAIRCkQoEKFAhAIRCkQoEKFAhAIRCkQoEKFAhAIRCkQoEKFAhAIRCkQoEKFAhAIRCkQoEKFAhAIRCkQoEKFAhAIRCkQoEKFAhAIRCkQoEKFAhAIRCkQoEKFAhAIRCkQoEKFAhAIRCkQoEKFAhAIRCkQoEKFAhAIRJYvRU+Nf4dzHcxbT1IWtn/FP606wPZNAZya+wbcfnbSYHigr2vjt6ULQQCZvsd+fLeFZ3rCYHqjjCywkK0E3TQL9kfyFXZHJi3OgDjr4N7sfdNMk0ObOAzSLlsX0QMuNv4Nvml3FbqQbVtN95T7Hn8n14LtmgRabqyh8YTXfo1GkuJbeCr5rFmileRONIrWa7xEhwmp6O/iuWaDV9DYKP7x/wDkajWA9uxd81yzQWmsD1bhsNd9ja+chOj4PvmsWKC0yPOo8sZrvcT1dN9k1/V1sLQ33iXaQ3OdYatww2TYNdCu7aznf1SwybLS3TLZNA61n97BTdCyPAPDyFbTZ3jbZNg202d5Gy2eWRwAA4sjhfvuhybZpoMed58iH8GGxFJXwX/7UZNs0UNvvWM53OTizs0wDZb5tOd8VRw5Z8R4GihFbznd5eJQim7NMA02X9w/lvlAzb+FQeb/JtmmgL6vTqMUVyyMAAC5yOFyZstk2WX3laO0zy/mumivji+ohk23TQJ+W91nOd7nI4Vj1sM22ySqAPaUPMTLE+9LTlU9Mds0CzVQOoFUM5zIPALtdDWNxLfiuWaDjH3yOshu1mu+RFi0cq4V/m5kF+mnyLMpuxGq+x+64ih8nzwTfNQl0pHIQk6WJsKMnxoHz+15+7cNFDvWJE6i6sHcxTQL9MDmHihtB7oswj9kx+ItTwHd74S9OIZ8d6/u8XSjh9PjXQX8Wk8vML4+uYLvzONje3Mz3OF45CACIKjEWZ+7i18uX+j736vPlYOe+5t/1R71e90mSeO+9T5LE1+v1YZ7/9gP830jz8/PDjuOj15WkP/2FGaFAhAIRCkQoEKFAhAIRCkQoEKFAhAIRCkQoEKFAhAIRCkQoEPECaUelbJZ/l+AAAAAASUVORK5CYII=\n",
       "\">CMCSA</div><div class=\"floating-box\"><img src=\"data:image/png;base64,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\n",
       "\">NIO</div><div class=\"floating-box\"><img src=\"data:image/png;base64,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\n",
       "\">FCX</div><div class=\"floating-box\"><img src=\"data:image/png;base64,iVBORw0KGgoAAAANSUhEUgAAAEgAAACQCAYAAACrgC0FAAAAOXRFWHRTb2Z0d2FyZQBNYXRwbG90bGliIHZlcnNpb24zLjQuMiwgaHR0cHM6Ly9tYXRwbG90bGliLm9yZy8rg+JYAAAACXBIWXMAAAsTAAALEwEAmpwYAAAEmUlEQVR4nO3dS2hcZRjG8WcuyUxuLUmjUdMqRuNCFFMoQroQ0k1AnI0VUZAouhIvKIirFguKWyU7F1rR0iooJeAiKN4gqbcg1FBNi21uam7TNDFzP2fOcaEJqXbyILzfqYbnByGLhPeb/PPNyZkzBxIDEEJqil/tB/Bfp0CEAhEKRCgQoUCEAhEKRCgQoUCEAhEKRCgQoUCEAhEKRCgQoUCEAhEKRCgQoUCEAhEKRCgQoUCEAhEKRCgQoUCEAhEKRCgQoUCEAhEKRCgQoUCEAhEKRCgQoUCEAhEKRCgQoUCEAhEKRCgQoUCEAhEKRCgQoUCEAhEKRCgQoUCEAhEKRCgQoUCEAhEKRCgQoUCEAhEKRCgQoUCEAhEKRCgQoUCEAhEKRCgQoUCEAhEKRCgQoUCEAhEKRCgQoUBE0sXQ5w7uxpFHu1yM3lIYAplDpzEyvmo200mgyfkS6hIxNKYTLsbXVPYC/LJUNp3p5Ck2NJrFrxdtHyjj+QE++HIRU/Ml07nOjkEvvvEz1gq+q/H/4FdDHH77gvlcZ4GGTmWxuOK5Gn8Zzw9wcmQJk3O2uwdwGCgMgZePTUayiyp+iFePTzuZ7fTP/NBoFvV17s8kLq15ODOVdzLb6aNfyfkYO/e7yyVQ8QK8+8m8s/nOf71Hh+eQK7p7mlX8AO9/sehsvvNAQ6NZ1CXcLZMrVnH6fM7ZfOeBsqsefrjg5gfw/ADHP1twMntdJK/F3hqeQ75YNZ9bqgQ4sR0CnRxZQiIRM59b9gKMnV0zn7tZJIEWLlUwMWP7Z9ivBnjvc3cH53WRXe4Y/u4igsDu/03miwE+/X7ZbF4tkQU6M1VAvmR3HIrHgYnZgtm8mus4X+EvE7N5GG4gpFNxnP+taDewhsgCnZ0toDFlt9zSigfPd/8vYiMLtFaoouwFZvOmF+xfuV9JpNekC2W7QKv5aK41RRrI8ilhuRu3Emmgtha7S+Cd7SmzWVuJLFBLY8L0bLpz1zYLtOeaNEqGx6BdO+vMZm0lskA3daQRhHbHoCAA2iOIFFmg/n1taG6we5+s4gXo62k1m1dLZIEeOtCBpOGFsx1NSTzWf53ZvFoiCbS3uxlNaful+npa0WB4dn4lkQR6uK8D9Un7pSp+iP59beZzN3MeKF0fxxP33uDk7Z+dTUm88OCN5nM3cx7o+YN7kHKwe9bddUsLDux1d7COAXD2kri1JYmZE/vR3ODkJpINEzN53P74NzA8i9jgdAe9NHAzEnH7a9F/19mewgP3XOtktrMd1HV9A8bfvBuNqWjuEZpfLqPrka9QNDxbBxztoHgc+PDIHahPOtg97b3AbU//+XmTHY1JvP5Ut/lyTnbQs/fvxmtPdtsPbt+P+J2HEEukEVZLCMZfAbKnNr6ciMfQ+8wYvv7R7n4AJ0fPj8eWcfio/c1M9w0MoLcnDQCIJdL4duFWfPTOscu+56dp+wv54f/lI5PJhLlcLgzDMMzlcmEmk4li3av/g//bSIODg1HFCZ2eB20HupGcUCBCgQgFIhSIUCBCgQgFIhSIUCBCgQgFIhSIUCBCgQgFIhSI+ANFJLLxhMJSSQAAAABJRU5ErkJggg==\n",
       "\">NVDA</div><div class=\"floating-box\"><img src=\"data:image/png;base64,iVBORw0KGgoAAAANSUhEUgAAAEgAAACQCAYAAACrgC0FAAAAOXRFWHRTb2Z0d2FyZQBNYXRwbG90bGliIHZlcnNpb24zLjQuMiwgaHR0cHM6Ly9tYXRwbG90bGliLm9yZy8rg+JYAAAACXBIWXMAAAsTAAALEwEAmpwYAAAFKElEQVR4nO3dXYhUZRzH8d8zMzvj7mggIi6uYlkRSi8SoUhvSF1l04UgQZCUEHlRgRddhBdCkcJGG21edNFVFISi5ctagoiVIYliYuRKrBu1awq6VjuzuzNn5vy7WKzFHH/N7POcMfp9YNmbPf/z8N3nzMuZFR0Ag9SVavUCbnYKRCgQoUCEAhEKRCgQoUCEAhEKRCgQoUCEAhEKRCgQoUCEAhEKRCgQoUCEAhEKRCgQoUCEAhEKRCgQoUCEAhEKRCgQoUCEAhEKRCgQoUCEAhEKRCgQoUCEAhEKRCgQoUCEAhEKRCgQoUCEAhEKRCgQoUCEAhEKRCgQoUCEAhEKRCgQoUCEAhEKRCgQoUCEAhEKRCgQoUCEAhEKRCgQoUCEAhEKRCgQoUCEAhEKRCgQoUCEAhEKRCgQoUBEJsTQZe4+PJN+OsRoqrvag0u45G1ekECPpVZhY/oVZFw6xPi6zAx7an04Yv4COQT4byPa0IaB3A9Y6Bb4Hl1XZBEOxAdRiNZ4nRvkMShChPXRiyhZKcT466qggg3Ry97nBnuQPhgfwuH4a0QWhTrFX0pWwpvVbgxj2PvsIJfYVQuwAGdzp9DhOkKdAgAwZMNYXF6CCP5/GUGf5ocwhI9qn6BilWDnGLVRbIo2B4kDBN5BAHC7W4zT2eNod+1B5l+x39BZXoQKwvwSgr9QHLBz+CY+GmT2uI3j3eq2YHGABHYQADziHkJf9lPMdDO9zh23cSws34nLuOx17lSJvNX4yo7gvP3qdWbVqthR2xU0DpDge7HXq1swaqPe5lUQYWvtLW/z6kks0PZ4J6qoept3PD6BfjvrbV49iQWKEOHtai/GbGzas0atiDdqWz2sikvkQfqq2ZiNodwAOqb5lD8Y/4TFlSWeVnVjid4PuoIrOBx/Oa0ZEzaB92sfeFoRl/gNsx3xLoxasenjq6hif/yFxxXdWKKXGAB0ohODuX7McLmmjh+xEcwpd3leVX2J76ALuIBha/5d9/7aAY+r4VpyT/qzeC9qVmv4uN/tD+yO9wVYUX0tCXQy/g5jaPzp3sHhtH0fYEX1tSTQjzaAGuKGj+tAO87ZYIAV1deSQDlk0cxzg8GQCfM5Q10tCdTlupBq4tQTmECXmx9gRfW1KNB8zMCMho+rIf5/BLrNLULWZRs+LgWHLiT3GmjynC2wMrWiqePa0Y4VqQc8r+bGEn8lfa+7B0ezh5v+pKNoRXSWb0UJyXzmlvgOei39KrJo/PL6m8Nz6We9rYefLcEdNA/zMJjrR7tr/AF6qmE7j4XlO2AJLD3RHbQx8xKchzm3YBYKqdUeJnGJ7aAVbjkOZT/39inriI1gafl+XMRFL/PqSSTQXMzFmdxJzHFzvM2MLMIpO42VlUe93uu+VvBLLI009mZ3YhZmeZ3b5tqwxN2Fnky317nXCh6oO7MFd7ulTb0wZPIuj/XpdVib8vs3QVMFvcSeT6/De5l3kA/81x1FK+HxyhP41o55nx1sB21Iv4BtvuKsTgE9mcnv1zHT5XEw24eH3YPTP9c1guygtak12J79GLHF03+tsjqN1Ic5uLyDlQzxujLQ98+7kQ4OVdSwrLIcZ6x/euecIsjNlZN2CpuizV5mPbnqKazMT+4Ml3c4tuoE9u3eU/fnf7ZfvJx3KruZvwqFghWLRTMzKxaLVigUkl5D6yP8m0i9vb2tiGOJv5v/r9E/RSAUiFAgQoEIBSIUiFAgQoEIBSIUiFAgQoEIBSIUiFAgQoEIBSL+BO5Q3y/gsFkGAAAAAElFTkSuQmCC\n",
       "\">PBR</div><div class=\"floating-box\"><img src=\"data:image/png;base64,iVBORw0KGgoAAAANSUhEUgAAAEgAAACQCAYAAACrgC0FAAAAOXRFWHRTb2Z0d2FyZQBNYXRwbG90bGliIHZlcnNpb24zLjQuMiwgaHR0cHM6Ly9tYXRwbG90bGliLm9yZy8rg+JYAAAACXBIWXMAAAsTAAALEwEAmpwYAAAEBUlEQVR4nO3azW8UdQDG8Wdmdme7UGgLaSC+oISihhhNfTmURA9oiAfXA+pRghdPEPgHmnD0ahMuHkm8mZggGOVCjIovSDCacmiUUAlQbZe2MPvW7ux4UBIMLI+J80w5PN9k08vm+W0/6e52JxsAyOD6Fq71A3jQMxDJQCQDkQxEMhDJQCQDkQxEMhDJQCQDkQxEMhDJQCQDkQxEMhDJQCQDkQxEMhDJQCQDkQxEMhDJQCQDkQxEMhDJQCQDkQxEMhDJQCQDkQxEMhDJQCQDkQxEMhDJQCQDkQxEMhDJQCQDkQxEMhDJQCQDkQxEMhDJQCQDkQxEMhDJQCQDkQxEMhDJQCQDkQxEMhDJQCQDkQxEMhDJQCQDkQxEMhDJQCQDkQxEMhDJQCQDkQxEMhDJQCQDkQxEMhDJQCQDkQxEMhDJQKSSZDSIMFRar5im1Vdv5ronAXp/+3s4/OibWO11FfN9i8My3p4+ik8WvsptUwJ0PplBM21jY8F/Rc20jenG5Vw3Ja9BJ+rfoBxI7O/blc48ZlpXct2UADXSNk4v/qiY7lsz7eDDaydz35W9ix2fO43lbkM1f1cBgI/nv8x9VwZ0ZukCBsJYNX9XS90Ev3f+yH1XBrTYvYXZdv4PuF9fLJ6T7Er/UTxV/xZpliqPAADc7DbwWf17ybYU6PMb55CkLeURAIBKGOPM0gXJthTo6+VfUA0ryiMAAFc781hYXZZsS4GavTYuNmaVRyDtpThV/062L/+w+mn9rPQjx61eS/YCDRQAdD6ZQbPXlu3HQRk/Jb/K9uVA043LiIJIesbVzoJsWw50qXUdsfBz2aXWNdk2UABQDz1cX7kh27/Y1L4JFHJF8c+VJdn2bHtOtg0UBLSSrcq2W70V2TZQEJDy8utoeUi2DRQFFAmB4mHZNlAQ0MbSOtn2aHlYtg0UALStsgVxUJbtjw+OybaBAoD2jIyjK7zkESDA0+u3y/blQG9s3o0NwqdYKYjwyvBzsn0p0EAY49WR55VHoBpV8M7WvbJ9KdC7W19DoDzgn55atw0vbHhSsi0DChFi8rH9GBQ+vW5XDWMcffyAZFsGtG/0JQxGVdX8vwqDEHuGx7Gj+lD+27kvAqiEZXwwdjC/F+fdm4FDY3//7FMpiHBs5+F8zrsjCdCRh9/ClngEadb7/7eJTcgmdwH7HkE2uQvpxKZ73i8MQuwdeREvDz2b6+8iuVBzon4WUZCP/esH9mNi4BkAQDAQ4Ycn5nDyo+N97/9z47dczr2z7EG+1Wq1LEmSLMuyLEmSrFarFf0Y1h7hvyBNTU2tBU4W3FZy987fUSQZiGQgkoFIBiIZiGQgkoFIBiIZiGQgkoFIBiIZiGQgkoFIBiL9BdxUnbyTo1azAAAAAElFTkSuQmCC\n",
       "\">FB</div><div class=\"floating-box\"><img src=\"data:image/png;base64,iVBORw0KGgoAAAANSUhEUgAAAEgAAACQCAYAAACrgC0FAAAAOXRFWHRTb2Z0d2FyZQBNYXRwbG90bGliIHZlcnNpb24zLjQuMiwgaHR0cHM6Ly9tYXRwbG90bGliLm9yZy8rg+JYAAAACXBIWXMAAAsTAAALEwEAmpwYAAAETElEQVR4nO3dTWgcdRzG8Wdm3/JmGrWibZIqVSRaq7SkaFUK9VCouCrVQy8WPZRahB56rYJ4FA8S0kMPQvD1oPUkLSoKrVo1tdoVtDZ9iQYpsQmxjdPNJrO7fw9tNEomjyz/36TI84Ekp31m802YnWEDCQA4SKJwsZ/A1U6BCAUiFIhQIEKBCAUiFIhQIEKBCAUiFIhQIEKBCAUiFIhQIEKBCAUiFIhQIEKBCAUiFIhQIEKBCAUiFIhQIEKBCAUiFIhQIEKBCAUiFIhQIEKBCAUiFIhQIEKBCAUiFIhQIEKBCAUiFIhQIEKBCAUiFIhQIEKBCAUiFIhQIEKBCAUiFIhQIEKBCAUiFIhQIEKBCAUiFIhQIEKBCAUiFIhQIEKBCAUiFIhQIEKBCAUiFIhQIEKBCAUiFIhQIEKBCAUiFIhQIEKBCAUiFIhQICJrMdrTvhxPrFhnMU31n/wYF+Oytz2TQJuWrcZL92yxmF5QGIT4ZPQHfDV+2t+mt6U5+oc+Qun3ETjnEAZhKh+VWox9pz71GgcwClR3Dls/34vpes1ifl5TtRi7v3nb+67ZSXpochQDZw9jqjpjdYi/RHEFu46+gXJt2vu26avYnuPvInb2v0XDl8bwzs9fmmybBrowU8aLpfdxqer/JzsriivY+fUAnNG/ajS/DnrtzCGECMz2RysX8cXYkNm+eaDJeAr7R46iZnDCjuIKXvnxgPfduVK5kn71pw8xVYu974ZBiLeGj3jf/ccxTNevODYxjKrByXpw/AyiasX77lyp3YsdGTvlda9Si3HgXMnr5nxSC3Tw3Pcoe7wmmq7F+Oz8SW97SVILNDh+FnG96m2vLduEYxPD3vaSpBZopDyOfOjv3niyOoU4hVuZ1AJdmCkjF2a87UWx7cl5VmqBnAMCwwtGK6kFuqVtqdebyRua2r1tLSS1QKuWdKLu/N0v1VwdK1qv97aXJLVAqzu60ZoteNuL6zWsWtLlbS9JaoEe7V6LrMeTdGu2gM2dd3vbS5JKoJ725ehpX+Z1Mxdm8PTKDSiEOa+7/5ZKoF09m7y+xP/N4cmbbd89MQ/UkW/BtpUPIufxInHWNblm7LnrMdPLB/NA/eu2IRPYfQPdLdfh2dsfMts3DbTxxjvxeHcvmjJ5s2O05Zrw8pqt6Gy51mTfLFBzJo83H9jp9aU9SSGTxcD6HSbbZoFev38HOvLNjQ+s6QKe6r38lciFWdy39FbsvmNz48dLEAD+3w7YfttG7Lv3GdQbnV7bhfC5DQgKWbjpKup7DwPf/rrgQ4Irn3sPvoDvJn5p7LjzMHlv/tD5E3i+9F7Dj3/k4e1YX7j81IJCFoM3lfFBaf9/euzpP35r+LhJ3NX2USwWXRRFzjnnoihyxWJxMZ/P4gdJitTX17fYcZzJOej/RH9hRigQoUCEAhEKRCgQoUCEAhEKRCgQoUCEAhEKRCgQoUCEAhEKRPwJOU+CSGvFPZAAAAAASUVORK5CYII=\n",
       "\">AMD</div><div class=\"floating-box\"><img src=\"data:image/png;base64,iVBORw0KGgoAAAANSUhEUgAAAEgAAACQCAYAAACrgC0FAAAAOXRFWHRTb2Z0d2FyZQBNYXRwbG90bGliIHZlcnNpb24zLjQuMiwgaHR0cHM6Ly9tYXRwbG90bGliLm9yZy8rg+JYAAAACXBIWXMAAAsTAAALEwEAmpwYAAAFOUlEQVR4nO3db4gUdRzH8c9vdu683VnR9Pxzp1HSdT2ICBFNMTqUKNSOCM5HFWRQQfTABz0oiHoQFPRIBH0kQRSIKKYYKV5okWb/SM2/XNofK/9EEXKzO3t3O/PrgSmSt352b+c3a/B5wT26me/87n2ze7PDwBkAFlKT1+oF3OoUiFAgQoEIBSIUiFAgQoEIBSIUiFAgQoEIBSIUiFAgQoEIBSIUiFAgQoEIBSIUiFAgQoEIBSIUiFAgQoEIBSIUiFAgQoEIBSIUiFAgQoEIBSIUiFAgQoEIBSIUiFAgQoEIBSIUiFAgQoEIBSIUiFAgQoEIBSIUiFAgQoEIBSIUiFAgQoEIBSIUiFAgQoEIBSIUiFAgQoEIBSIUiFAgQoEIBSIUiFAgQoEIBSIUiFAgQoEIBSIUiFAgQoEIBSIUiFAgQoEI38XQZ9qexNuT3nAx+qYSWKwsD+Bociy1mU4CDSVnMM1MQ7tpczG+pmEb4qK9lOpMJy+xL+KvsG50A0q27GL8uEq2jKej53HJ/pHqXANH/9vHh4+jwUHc492NnMm5OMQ1kY2wfWwXnqo8l/psZ4EAoNfrwXfB5whMwdUhAAAXkovoDRcgRJj6bKd/xYaSM3hnZB1KtuTsGKEtYU30opM4gOMzCAAKKOC3yadwm5ma+uzEJvg2PowHystTn32V8+ugMsp4rfImQpv+bzhCBS9VXk597vWcn0HAlTfsX4rH0e11pTazaqvYW92HVdHq1GaOJ5Mr6SqqWFt5FcMpnkWjGMPakVdSm1dLZh81tlV34PfkfCqzRuwIto59iB+Ss6nMu5lMXmJXLc/1YWdhM4omaGpO2ZbRE87HBXsxpZXVlumH1X3xZ/g+Po7EJhOeEdkIG0Y3ZRIHyPgMAoDFuYUYLOxA0RQntH9kK+ga7sVlXE55ZePL/HbHl/E3+NtO7IdLbIKPq3sziwO06H7QxtFNiGzU8H4hStg4usnBimrL/CUGAN2mC2eLR9BhOhra78/kL8wM74LNcMktOYPO2ws4kZxuaJ/YxvhgbEumcYAW3nIdrO5DbOO6tw9RwqfxAYcrGl/LAh2LTzZ0Q82DwelkyOGKah23RWZ4nWg37XVvHyNBp5nucEXja1mgeeZOdJhJdW/vWYO5Zo7DFdU4buZH/FePN6+h7TtMB+Z63Y5WU1tLAhkY3Je7t6F92k07FucWOlpRbS0JtNp/AtMmcIdxlf8Ier2e9Bd0E5lfKPrwca54Al3e7Ib3rdoqBqv7sTIacLCy8WV+Br3QtgaTJ/hB1Tc+HvKXYlFuQcqrqi3TM2iumYPjxUOYYqY0NedYfBKLSstQQSWlldWW2Rk028zCoeATBGjuZhlw5S/gnsJ2tKP+66iJyiRQp5mOQ8EgZpkZ8E3zjwPkTR4Lc/OxK78FvpvHC65xHmgqpuJgYS+6TRfaUnyYoWAKWOovxrb8+/Ac/hhOA800M3Ag2IM7vNsb+lhRr8AU8LDfh6359zAJ9V+VN8LZm/SS3CLsym/BZFNsPs4KH1iWA/bHwO7qDd8u2zJ+Ts5hRXkA5+yvzR3rP5wEWuU/ip35zTAwzd+/WdEG790AJjCwJYvk2RKwe+yGzQwMyohwf7gUP9qfmjvmdZy8w52Kh/D6yFupzHqs73EsCR4EAJjA4Ou+I/hox86a26f9ABVw5Qy6Zb/6+/ttGIbWWmvDMLT9/f1Zr6H1EeqJtH79+lbEsS25af9/oseACQUiFIhQIEKBCAUiFIhQIEKBCAUiFIhQIEKBCAUiFIhQIEKBiH8AoLPUUvXDbIwAAAAASUVORK5CYII=\n",
       "\">PBR-A</div><div class=\"floating-box\"><img src=\"data:image/png;base64,iVBORw0KGgoAAAANSUhEUgAAAEgAAACQCAYAAACrgC0FAAAAOXRFWHRTb2Z0d2FyZQBNYXRwbG90bGliIHZlcnNpb24zLjQuMiwgaHR0cHM6Ly9tYXRwbG90bGliLm9yZy8rg+JYAAAACXBIWXMAAAsTAAALEwEAmpwYAAAD00lEQVR4nO3dP0sjbRiF8TOTYRKiYqV2sTJFGhFsBEEru1QWQbAQLGwEG7ESkViKjYUQtBH1C4h/ioCFnUV6EQsbRUEQJCYzyZjZYnHZ4L6c9d15JrtwfpBCGO/n5iomGS1iAQgh/8nu9AJ/OwUiFIhQIEKBCAUiFIhQIEKBCAUiFIhQIEKBCAUiFIhQIEKBCAUiFIhQIEKBCAUiFIhQIEKBCAUiFIhQIEKBCAUiFIhQIEKBCAUiFIhQIEKBCAUiFIhQIEKBCAUiFIhQIEKBCAUiFIhQIEKBCAUiFIhQIEKBCAUiFIhQIEKBCAUiFIhQIEKBCAUiFIhQIEKBCAUiFIhQIEKBCAUiFIhQIEKBCAUiFIhQIEKBCAUiFIhQIEKBCAUiFIhQIEKBCAUiFIhQIEKBCAUiFIhQIEKBCAUiFIhQIEKBCAUiFIhQIEKBCAUiFIhQIEKBCMfEUNd10dfXZ2I0dX9/H+k8I4HGxsawvLyMIAjQaDRMHPFJKpWCbdtYWFjAw8NDZHONBLq8vER3dzfm5uaQTCaRSCRMHPNDo9FAtVrF1tZWpHEAwILBL8MeGBjAysoKMpkMUqmUkTM8z8PV1RV2dnZQq9Uin280EADYto35+XlMTU1FHsn3fZRKJZTL5Ujn/sx4oA/j4+NYWlqC67qw7T9782w2m6jValhfX8ft7W1EG/5abIEAIJPJoFgsoqenB67r/q8Znufh7u4OGxsbeH19jXjDz2INBABdXV1YXV3F0NAQksnkl37X8zxcXFygVCqh1WoZ2rBd7IEAwHEcrK2tIZfL/XYkz/NwcnKC/f19w9u168gn6SAIUCwWcX19jWazSa+v1+s4OzuLPQ7QwUeNIAiwt7eH9/d3eq3jODg4OIhhq886+iw2ODj4W/eSVquF/v7+GDb6rGOBJiYmsLi4iHQ6Ta9NJBLY3NxENpuNYbN2sd+ke3t7MTs7i8nJyS9/cPR9H4eHhzg/P4fv+4Y2bBdboGw2i+npaYyOjiIMwy+/xX+o1+uwLAvlchnHx8d4fHyMeNN2RgPNzMygUCjAdV28vb1F8in6Q7PZRKvVws3NDU5PT1GpVOB5XiSzf2Yk0PDwMHZ3dzEyMgLHcRAEASqVCp6enqI+CpZlwbKsHz8XCoVIH1qN/Lnj+fkZtm3Dcb6PdxwHLy8vODo6MnEcACCdTiOXyxm5N4UmXvl8PqxWq2EYhmG1Wg3z+byRc2J4mRuez+fD7e3tfzlO2JFnsX+J/qtBKBChQIQCEQpEKBChQIQCEQpEKBChQIQCEQpEKBChQIQCEQpEfAO9iXjQPpsuNwAAAABJRU5ErkJggg==\n",
       "\">FOLD</div><div class=\"floating-box\"><img src=\"data:image/png;base64,iVBORw0KGgoAAAANSUhEUgAAAEgAAACQCAYAAACrgC0FAAAAOXRFWHRTb2Z0d2FyZQBNYXRwbG90bGliIHZlcnNpb24zLjQuMiwgaHR0cHM6Ly9tYXRwbG90bGliLm9yZy8rg+JYAAAACXBIWXMAAAsTAAALEwEAmpwYAAADRUlEQVR4nO3dPWgTcRzG8eeuzUsTSm1rKb6DSKEodtFOLaIQQeU/6iAoOAqlDm4Oujh20K6OgoIWRHARpIOgaOugoEMFK76kb9oW66U1JLlzKLpofZb/L1V5PpD1ufDtJbm7pQGABLKmcL3fwN9OgQgFIhSIUCBCgQgFIhSIUCBCgQgFIhSIUCBCgQgFIhSIUCBCgQgFIhSIUCBCgQgFIhSIUCBCgQgFIhSIUCBCgQgFIhSIUCBCgQgFIhSIUCBCgQgFIhSIUCBCgQgFIhSIUCBCgQgFIhSIUCBCgQgFIhSIUCBCgQgFIhSIUCBCgQgFIhSIUCBCgQgFIhSIUCBCgQgFIhSIUCBCgQgFIhSIUCBCgQgFIhSIUCBCgQgFIhSIUCBCgQgFIhSIUCBCgQgFIhSIUCBCgQgFIhSIUCBCgQgFIhSIUCBCgQgFIhSIUCBCgQgFIhSIUCBCgYhGi9E00uhoaLOYpoq1Ga97JoEGmk9jqO0ClpMVi/nfChAgFzahb/o4HpWfedw1+GfYbeEGvNx8H50NGxEG9fkUl5MyxsovcHDmJGqoeds1CQQAu1NdGN90F01h1mL+F59ri9hVPIAv8Vevu2Z/3leV17heuoNvcdnqED9FcQnnFy57jwMYnkEA0BG24+3Wh8iHOatDAADeVN6hq3gIMWLv26ZfEJ/ieQwtXUMpXjY7RhSXMLBwySQOYHwGAUB72IritifIBGmT/bnaPDo/7DPZBupwoTgfL2K6Ome2P7ry2GwbqNOV9FRt1mx7svrebBuoU6Cdqe1m2z3pbrNtoA6B9qa60RI0m+33Z3vREtrtmwYKEeJGx1WzL2gASCOFK60XzfZNA51rPoMdjVtMbzeyYQYn8sfQl9lvsm/yM++cw+DRs+gf34PMqL/7oj9ZiiMcnj2Fp+XnXne9B3LO4fbNW8jks0iWY8SDs8ADuwvFHwIEqKCKnqkjmKhMetv1/rijUCggk1+9QQ1yIcZ6J3BvZMT3Ydb0ser3eRCwegZ5eznnkiiKkiRJkiiKEuec1/11ePkfdc4lw8PD/0OcxPxe7F+nh/aEAhEKRCgQoUCEAhEKRCgQoUCEAhEKRCgQoUCEAhEKRCgQoUDEdyWYKo4IZuFYAAAAAElFTkSuQmCC\n",
       "\">GOLD</div><div class=\"floating-box\"><img src=\"data:image/png;base64,iVBORw0KGgoAAAANSUhEUgAAAEgAAACQCAYAAACrgC0FAAAAOXRFWHRTb2Z0d2FyZQBNYXRwbG90bGliIHZlcnNpb24zLjQuMiwgaHR0cHM6Ly9tYXRwbG90bGliLm9yZy8rg+JYAAAACXBIWXMAAAsTAAALEwEAmpwYAAAEsklEQVR4nO3au0srWxzF8XVixgdiEBTsLEQ7wcJWW8Uif4AWotY21iI2FjYiRhTRSkQEjY1gIREsbESwsEnlqxBUfEF87ZjH3OJcDxeMrqizZ86F9YF0k9/efNHJzCS/ALiQD4WC3sDfToEIBSIUiFAgQoEIBSIUiFAgQoEIBSIUiFAgQoEIBSIUiFAgQoEIBSIUiFAgQoEIBSIUiFAgQoEIBSIUiFAgQoEIBSIUiFAgQoEIBSIUiFAgQoEIBSIUiFAgQoEIBSIUiFAgQoEIBSIUiFAgQoEIBSIUiFAgQoEIBSIUiFAgQoEIBSIUiFAgQoEIBSIUiFAgQoEIBSIUiFAgQoEIBSIUiFAgQoEIBSIUiFAgQoEIBSIUiFAgQoEIBSIUiFAgQoEIBSIUiFAgQoGIsI2hHR0d6OnpsTH6U67rYmxsDMfHx57NtBLo9vYWkUgEjuPYGP+hTCaDVCrl6Uwr/2IHBwdIJpPI5XI2xhdkjMH6+jqur689nWvtHDQzM4NsNmtr/DvGGKytrXk+11qgi4sLbG5uIp1O21riD2MMZmZm8Pr66vlsq59iKysr1gPl83mcnp5ib2/PynyrgYwxmJubw8vLi7U1MpkMYrGYtfnWr4N2d3dxfn6OfD7v+ex0Oo1EIoHz83PPZ7/x5UIxFoshk8l4PjeTyWBpacnzuf/lS6CzszMkEglPz0fGGMzOzuL5+dmzmYX4dquxuLjoWaBcLoeTkxPs7u56Mu8zvgUyxmBqagrGmB/PymazmJyc9GBXnK83q/v7+0gmkz+6gDTGIB6P4/Ly0sOdfcz3u/np6ekfBUqlUojH4x7u6HO+B7q5ucHy8vK3ro2MMZiYmPD1FiaQ50EbGxu4vb390nteX1+xt7eHZDJpaVeFBRIon89jYmLiS59quVwO8/PzFndVWGBPFI+OjnB4eFjUscYYrK6u4uHhwfKu3gv0kevW1haenp7ocaFQCDs7Oz7sqMDagaz6r8PDQ1RUVNDjUqnUl89ZXgk0UDqdRijEt2DjOU+xAg1UXV1d1E1sVVWVD7spLNBAra2tRV3TOI6D+vp6H3b0XmCBHMdBd3d3UeegkpIS9Pb2+rCr9wIL1NfXh+rq6qKOdRwHLS0taG9vt7upAgIJ1NzcjM7OTpSVlRX9nvLycgwODqKmpsbizt7zPVBbWxtGR0e/FOdNaWkpYrEYGhsbLeyssF8AXD8WCoVC6OvrQ1dXF8rLy3806+1poh8Xj74EqqysxPDwMJqamn4c540xBtvb21hYWLDyhcAb64EaGhowMjKCSCSC0tJST2cbY3B6eorx8XHc3d15OvuNtUCRSAQDAwNoa2uD4zgFr5jr6upQW1uLm5sbXF1dfWudbDaLXC6HeDyO9fV1z789sRKoubn5z4nYdQuPr6urQ2trK8LhMLLZLA4ODr4dCfh9jru7u8PQ0JCnf01Wfv5yfX1Nf0jQ39+PcPj38uFwGPf391heXv7x2jYeibhBvKLRqPv4+Oi6rus+Pj660Wg0kH0U8Qpu8Wg06sZisb85juvbddD/lX7ESSgQoUCEAhEKRCgQoUCEAhEKRCgQoUCEAhEKRCgQoUCEAhEKRPwDui4JvW4KXokAAAAASUVORK5CYII=\n",
       "\">NOK</div><div class=\"floating-box\"><img src=\"data:image/png;base64,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\n",
       "\">IDEX</div><div class=\"floating-box\"><img src=\"data:image/png;base64,iVBORw0KGgoAAAANSUhEUgAAAEgAAACQCAYAAACrgC0FAAAAOXRFWHRTb2Z0d2FyZQBNYXRwbG90bGliIHZlcnNpb24zLjQuMiwgaHR0cHM6Ly9tYXRwbG90bGliLm9yZy8rg+JYAAAACXBIWXMAAAsTAAALEwEAmpwYAAADUklEQVR4nO3Wz2vTdxzH8de3Tb5ZljQzHbHEQvwxfyA7bEwcKKIg9LDD96YXL1523EXEf8JjBxvstr9gsCIeenCwUXYoDCZCwaEo2tpancZvrU3zzceDEhV0T0eTpsLrAZ9DyIfP982T8P0kkhRk7zQ06AG2OgcCDgQcCDgQcCDgQMCBgAMBBwIOBBwIOBBwIOBAwIGAAwEHAg4EHAg4EHAg4EDAgYADAQcCDgQcCDgQcCDgQMCBgAMBBwIOBBwIOBBwIOBAwIGAAwEHAg4EHAg4EHAg4EDAgYADAQcCDgQcCDgQcCDgQMCBgAMBBwIOBBwIOBBwIOBAwIGAAwEHAg4EHAg4EHAg4EDAgYADAQcCDgQcCDgQcCDgQMCBgAMBBwIOBBwIOBBwIOBAwIGAAwEHAg4EHAg4EHAg4EDAgYADAQcCDgQcCDgQcCDgQMCBgAMBBwIOBBwIOBBwIOBAwIGAAwEHAg4Ecv049MT4Xv126rvu57S1pqXVVMurqZafrSjrdDZ0fjycU61YVq1YUq1Y1ke5fPe74clz6oSwofNf15dA9542NTN/U/VSRfVSReW4oHJc0J5PPu3uCSEoiqL3PvO/9j9pPdPCSlMLK01FiiT1LlBvT3sPpXysz0fr+qK2Q1+PNXR4rKF91Zo6naByXOjua2eZWiFTK8s093BRf967pdnF2/r7wbzmHi5pvZNtyrybHuhdjo9/ph9PntbOclWKIl25c10Xfv9Vc/8uDnSugb+k66WKvtl1UGcOHNKukVHlhoYlBR2t79aZA1/pxPhebSsUBzZf335BSZJoYmJC09PTmpqaUq1YVmOkqv3Vmg5vb+jojt06ODqm/NCw1rK2yvn4ZZxX1tptrWbr+jiXV7O1pqvL8/pj4Yb+Wrqrfx7f1+3mIz1urfZj/K6+BLpw9ltd/OkHKc5LrXXp58vStZtv7AkhvFj/Y9AoivDFHn9/vqfvp77cYl8eO/IijiTFec1Wh/TLzKWePyeStK1QVGOkqp2VUdVLFbU3+BfibUKvV5IkIU3TEEIIaZqGJEl6/oxNXP05OEmSMDk5+aHHCVvmmt+qBn7Nb3UOBBwIOBBwIOBAwIGAAwEHAg4EHAg4EHAg4EDAgYADAQcCzwGR9TliUEch1AAAAABJRU5ErkJggg==\n",
       "\">BEKE</div><div class=\"floating-box\"><img src=\"data:image/png;base64,iVBORw0KGgoAAAANSUhEUgAAAEgAAACQCAYAAACrgC0FAAAAOXRFWHRTb2Z0d2FyZQBNYXRwbG90bGliIHZlcnNpb24zLjQuMiwgaHR0cHM6Ly9tYXRwbG90bGliLm9yZy8rg+JYAAAACXBIWXMAAAsTAAALEwEAmpwYAAAEkElEQVR4nO3dT2ibdQDG8eeXpGmaPxa3dqNz4p+5gSiKKOI6GJ6KByMo7KIwPOwgTkTwsIuoBy/+wUN7cBMLssGEsQ0RFRV0IMgkbNR19OJWWkG3dUs7l7750yTv+/OgharLngV+v7dVng+EnvIk/fZNm+QN1ACwkI4Sq30H1joFIhSIUCBCgQgFIhSIUCBCgQgFIhSIUCBCgQgFIhSIUCBCgQgFIhSIUCBCgQgFIhSIUCBCgQgFIhSIUCBCgQgFIhSIUCBCgQgFIhSIUCBCgQgFIhSIUCBCgQgFIhSIUCBCgQgFIhSIUCBCgQgFIhSIUCBCgQgFIhSIUCBCgQgFIhSIUCBCgQgFIhSIUCBCgQgFIhSIUCBCgQgFIhSIUCBCgQgFIhSIUCBCgQgFIhSIUCBCgQgFIhSIUCBCgQgFIhSIUCBCgYiUj9G8yWFr8m4f09SZ9hQiRM72vATal30J+/J7UbV1H/MdFUweT/2+G18ufets08DD//bZkrwTkwPfIWv6XE/fUDlawO2XH0YDDWebXn4HTYezOFQ/ioZd8jF/XUFUxauVN53GATwdQQAwYNZjdrCEXCLrY/5fzrdnsK28A9bxt+Ptr1jZzuP96gHUrduf6PVUogCvLL7uPA7g8QgCgM2JTTg3+AMyJuPrJgAAC9FVDF6+3+lfr2Venwf9Gl3ARGvK502gaZsYr3/iJQ4QwxPFsdo4KtGit/02QnxUO+xt33ugTxtfIWmS3van27/g53Da2773QHXUcazxBUIbOt8OoirGauPOd1eK5bXY/tpB1Dw8q06ZFI40PnO+u1IsgU62TmHRBs53v146gWu24nx3pdhezR+sH3X6MLsWVfBx/YizvU5iC3SydQqBrTrbS5s0Sq0JZ3udxBbodGsSaZN2trdkm7gQXXK210lsgX6LLqJpW872zrT9PgFdFus7itPhrLOt081JZ1s3EmugufCKk52WbeFiNOdki4k1kI9X277FGuiO5GYnOz2mB/ek7nKyxcQaaCi50dnW1uT/LFAKKfSbgrM9V0cjE1ugnenHULU1Z3u3JYcwYNY72+sktkAvZp9H3uSc7YU2xLN9Tzvb68TrW67LCiaPuQ1n0ef4rddz7RlsKw873fynWI6gXZkiQtt2vrspsREPpu5zvruS9yMob3KYGSxhILHO+XbbtlFq/YQdC0Xn28u8H0HvFd5ADn7OsKZMCg+k7sXuzC4v+4DnI+jRnodwYt0x76egK9EitlzZjrKdd77t7QhKI43D/R/Ecn6+16RxoP8dL9veAh3qH8NQckN3VxrpBd4q/Pm1C72mFyPpx/Fydk93t3cTvDzE9vQ9hw9vebe7k3kjGST23wqTTcDWIkQvXAW+ufnT1gYGAPDI/BOYaJ/t9i535OXzQd83f8RrwdtdXefJ4WewPbsTAGCyCZSGp/D58eNd3/b5cKbr6zB2LVyKxaINgsBaa20QBLZYLK76ffrrsup34G+RRkdH11IcG8tLjf8yfcqVUCBCgQgFIhSIUCBCgQgFIhSIUCBCgQgFIhSIUCBCgQgFIhSI+AMScaW1x5KRywAAAABJRU5ErkJggg==\n",
       "\">ITUB</div><div class=\"floating-box\"><img src=\"data:image/png;base64,iVBORw0KGgoAAAANSUhEUgAAAEgAAACQCAYAAACrgC0FAAAAOXRFWHRTb2Z0d2FyZQBNYXRwbG90bGliIHZlcnNpb24zLjQuMiwgaHR0cHM6Ly9tYXRwbG90bGliLm9yZy8rg+JYAAAACXBIWXMAAAsTAAALEwEAmpwYAAADV0lEQVR4nO3dvWsUQRzG8Wf23t0ipY1G8QXBRgikEVQED9NstNCgIlEDImkkWmktadQqlWgjSREMKAY1IBYBOwsJBEEU4x/gC2jc7G6Sy45FFJRonsKZjcrzgW1/M3zvmN295gwAC/mtYK038LdTIEKBCAUiFIhQIEKBCAUiFIhQIEKBCAUiFIhQIEKBCAUiFIhQIEKBCAUiFIhQIEKBCAUiFIhQIEKBCAUiFIhQIEKBCAUiFIhQIEKBCAUiFIhQIEKBCAUiFIhQIEKBCAUiFIhQIEKBCAUiFIhQIEKBCAUiFIhQIEKBCAUiFIhQIEKBCAUiFIhQIEKBCAUiFIhQIEKBCAUiFIhQIEKBCAUiFIhQIEKBCAUiFIhQIEKBCAUiFIhQIEKBCAUiFIhQIEKBCAUiFIhQIEKBCAUiFIhQIEKBCAUiFIhQIEKBCAUiFIhQIEKBCAUiFIhQIEKBiLKPoSFCbAu2+BhNTecvYB3+fbWXQEfKh3C7cQOpTbGABR9LrNBAA1VTxc65TrzMXzmb6yXQcGsUG+c34HL1ItpMm48lftKyLaTIcCw94zQOABh4/Dv1/aW9eNAYQ2jW+VoCuc3xwX7E7qSJGfvW+Xyvh/Tk0lP0pKeQ2MTbGrP4gj3JQS9xgALuYhNLj9GfXfASKbZzOJB047V943z2d4Xc5odbo7gyfxWxjZ3NTG2Kw+lxPM+nnM38Fa9n0I8CBJgJp7E5aP/jWYt2EeOtRzia9TrY2eoKe1DMkWNw4ZqTb1GGDIML1x3siiv0SbqMMoyDJe23WUUoLFAJJZytnHZyy6+hir7KSQe74goLNFK/hR3BdiezaqaG3soJnK/0O5m3Gu+H9CbTjpH6TXSUdiE0odPZiU1wp3UPA9klzGLW6ezvvASKoghdzS40JivoedKNGqooGz9nRmozpEhwLhvA3da40xdVwEOgKIowNjqGelgH5izyvgR2YtHlEisYGARm+bRYH2/FO/ve2WznH2uz2VyOAwChwbN9U3h4f9z1MisYGHQGHfhkPzufbV1eURTZOI6ttdbGcWyjKHI6fw0u90OjKLJDQ0P/Qxxb2KvGv0q/SRMKRCgQoUCEAhEKRCgQoUCEAhEKRCgQoUCEAhEKRCgQoUCEAhFfASA7Q0CxJFoAAAAAAElFTkSuQmCC\n",
       "\">KGC</div><div class=\"floating-box\"><img src=\"data:image/png;base64,iVBORw0KGgoAAAANSUhEUgAAAEgAAACQCAYAAACrgC0FAAAAOXRFWHRTb2Z0d2FyZQBNYXRwbG90bGliIHZlcnNpb24zLjQuMiwgaHR0cHM6Ly9tYXRwbG90bGliLm9yZy8rg+JYAAAACXBIWXMAAAsTAAALEwEAmpwYAAAEsElEQVR4nO3dX2jVZRzH8c/zO+fs39kupKAutFAyzW76Q07bYkEXkXQsIcsgAr3pPrwpg7KLFIKKBYUFgSBF7MKikqICQWsybZmSlTXDbaYXJW07f9rOfs/ThRgxdvYZ+z3PMwefFxx2c37f5+HN77ffzm+DGQAO0lCy2Bu41ikQoUCEAhEKRCgQoUCEAhEKRCgQoUCEAhEKRCgQoUCEAhEKRCgQoUCEAhEKRCgQoUCEAhEKRCgQoUCEAhEKRCgQoUCEAhEKRCgQoUCEAhEKRCgQoUCEAhEKRCgQoUCEAhEKRCgQoUCEAhEKRCgQoUCEAhEKRCgQoUCEAhEKRCgQoUCEAhEKRCgQoUCEAhEKRCgQoUCEAhEKRCgQoUCEAhEKRCgQoUCEAhEKRCgQoUCEAhEKRCgQoUCEAhEKRCgQoUCEAhEKRORDDN2a34I9zS+FGD0nC4vNtSfwsz3rbWaQQKP2Am4yy1EwhRDjG/rbjWHMjXudGeQS67cD2Dn5AsquEmL8rKquhlLtcVx0l7zODfY9qLf+Nk6kg6i7eqgl/lNxFbwx9RaOpv3eZxsE/O9QK8xynCkeR7sphloCAHDeDuPWyl2YwpT32UHvYiNuFLsmdwe91Kquim21HUHiABFu82/W92HInoN11vvsmqvh/XofjtkB77OvCnqJXdWV24DPWw96v9SqroYV5dtwGZe9zv2/KD8ofpMew7Ad8Tqz7ur4oN4XNA4Q8SfpF6dewYSb8DZvGtPYM/Wat3mNRAt0cPoT1Nw/3uYdSb/FkDvnbV4j0QKlSHGg/iFSl2aeNebG8W59v4ddcVE/rH6Rfo0yypnntKAZh9MjHnbERQ10NO1HK1ozz/nDXcSf7i8PO+KiBqqiip/sL5lmWGdxaPpLTzvioj8P+s6ezHR8FVWcSAf9bGYeogf61Q5l+gA77VKMuAsedzS36IHKroIUGe5kBlEfoyzJR64GJtpa0QOtSVajxbQs+PgECVYmN3vcEVsvsntznZmOb0cR63N3e9oNFz3Q2mR1puMTk6Art8HTbuaxXrSVAKwyK708W1mXrEESaetRAz1T2I6chyUtLDbnN3nYERflgRkAtKENl9p/Q4dp9zLvh/Q07qh2eZk1l2hn0PbCU15vz7ckq9CZ3ONtXiNRzqACChgunsGNyQ3eZlpn8VV6GA/WHvU2czZRzqC9TbvRYTq8zrxyN+vE1vwWr3NnCn4G3Z+7D5+19qHNtAWZP+4mcHtlPUYDfT4LGmgZluFscRDXJ9eFWgJ1V8f39hQ2Vh+Ahf9fLQW7xAwMDrS+4+2u1UjBFLAuWYvnm3YGmR8s0OvNe9GT60azaW78podywKvNV75m0G6KeK7pWWzLP5ZpzmyCXGJP55/E/tZ9cz+g35RH8l4RpmjgKg52RwU4NL3gNQ0MHBzurHbjtP1xwXNmCvL3Qf3pceyafHnO9zzc8wg2FrsBAKZoMNBzEp9+9HHmtX+35zPPmMktxqtUKrlyueycc65cLrtSqbQo+5jHa/EWL5VKrre391qO46J9FluqluQj15gUiFAgQoEIBSIUiFAgQoEIBSIUiFAgQoEIBSIUiFAgQoEIBSL+BeQWuPWzplvwAAAAAElFTkSuQmCC\n",
       "\">GGB</div><div class=\"floating-box\"><img src=\"data:image/png;base64,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\n",
       "\">CLF</div><div class=\"floating-box\"><img src=\"data:image/png;base64,iVBORw0KGgoAAAANSUhEUgAAAEgAAACQCAYAAACrgC0FAAAAOXRFWHRTb2Z0d2FyZQBNYXRwbG90bGliIHZlcnNpb24zLjQuMiwgaHR0cHM6Ly9tYXRwbG90bGliLm9yZy8rg+JYAAAACXBIWXMAAAsTAAALEwEAmpwYAAADzElEQVR4nO3dPU/qYBjG8atSItWoiQziSPwA+DKgxolB49DBwYTFCVcX/QSuDg6uri4uxE0SExYmw+BrTGTTicU4iNiSQs9AjtGouc45aSknuX4JQzE8z52/UksXDAA+5EcDUQ/Q7xSIUCBCgQgFIhSIUCBCgQgFIhSIUCBCgQgFIhSIUCBCgQgFIhSIUCBCgQgFIhSIUCBCgQgFIhSIUCBCgQgFIhSIUCBCgQgFIhSIUCBCgQgFIhSIUCBCgQgFIhSIUCBCgQgFIhSIUCBCgQgFIhSIUCBCgQgFIhSIUCBCgQgFIhSIUCBCgQgFIhSIUCBCgQgFIhSIUCBCgQgFIhSIUCBCgQgFIhSIUCBCgQgFIhSIUCBCgQgFIhSIUCBCgQgFIhSIUCBCgQgFIhSIUCBCgQgFIhSIUCBCgQgFIhSIUCBCgQgFIhSIUCBCgQgFIhSIMMNY1LIspNNpOI4TxvI/Ghoawu3tbaBrhhIom81iZ2fn/djzPLiuG8ZWGB4e/nScz+fx+voa2PoGQvoybMuykMlksLi4iGw2C6D7Gw5Ku91Gq9WC4zioVCo4Pz/H3d0dPM8LbA8gxEAfxWIxTE9PY2VlBXNzc/A8759jNZtNAEClUsHZ2Rnu7++DHPWLngT6KJFIIJvNIp/PI5lMwrKsP3qd4zio1WooFou4vLxEu90OedKungf6aGFhAZubmxgZGfkxlOM4eHh4wOHhYeh/Ld+JNBAADAwMYG1tDfl8HolE4tPPHMfB3t4eqtVqRNP1QaDfVldXUSgUMDg4CKAbZ3d3N/B/23+rby4UT09P8fj4CADodDoolUqRxwH6KJBpmhgbGwPQfdtNTExEPFFX3wTa3t7G6Ojo+/HMzAxs245woq7Iz0GTk5MoFArIZDJfTtKu66JUKuH4+BgvLy+RzBdZoGQyiY2NDSwtLSEWi8E0v//U47oufN/HyckJisUi3t7eejpnTwONj49jfn4euVwO6XQahmEgHo//0Wtd14VhGLi5uUG5XEa1Wu1JrNAC2baN5eVlXF1d4fn5GblcDqlUCp1O58tb6W81m03E43HUajWUy2VcX1+jXq8HNPlnoQTa2trC/v4+TNOE53m4uLhAvV6H7we7lWEYMAzj03Pr6+uB3mYJ5XbH7Ozs+znFNE08PT3h6OgojK3epVIpTE1NodVqBb62H/TDtm2/0Wj4vu/7jUbDt2078D16+AhnYdu2/YODg/89jh/5dVC/65sr6X6lQIQCEQpEKBChQIQCEQpEKBChQIQCEQpEKBChQIQCEQpEKBDxC/vye1uStwiXAAAAAElFTkSuQmCC\n",
       "\">TNXP</div><div class=\"floating-box\"><img src=\"data:image/png;base64,iVBORw0KGgoAAAANSUhEUgAAAEgAAACQCAYAAACrgC0FAAAAOXRFWHRTb2Z0d2FyZQBNYXRwbG90bGliIHZlcnNpb24zLjQuMiwgaHR0cHM6Ly9tYXRwbG90bGliLm9yZy8rg+JYAAAACXBIWXMAAAsTAAALEwEAmpwYAAAEFUlEQVR4nO3dMUh6axzG8efoCRVqi4ymlqBGi4aiKYqGcAvahNYaKoqEhsaGtrJZanAIGhoip6ZWhWpsLwgkMwSPHuu9Q/zv/XOz+5ieo/8Lzwfcet/353c4nHMcsgAYyLcC3R7gT6dAhAIRCkQoEKFAhAIRCkQoEKFAhAIRCkQoEKFAhAIRCkQoEKFAhAIRCkQoEKFAhAIRCkQoEKFAhAIRCkQoEKFAhAIRCkQoEKFAhAIRCkQoEKFAhAIRCkQoEKFAhAIRCkQoEKFAhAIRCkQoEKFAhAIRCkQoEKFAhAIRCkQoEKFAhAIRCkQoEKFAhAIRCkQoEKFAhAIRCkQoEKFAhAIRCkQoEKFAhAIRCkQoEKFAhAIRCkQoEKFAhAIRCkQoEKFAhAIRCkQoEKFAhAIRCkQoEKFAhAIRCkQoEKFAhAIRCkQoEGH7sWlvby9GRkb82Jq6u7vDx8eHZ/v5EigWi2FnZwe1Wg21Ws2PI76IRCKwLAurq6t4fHz0bF9fAt3c3CAQCGBtbQ2RSATBYNCPY/5Wq9VQKpWwv7/vaRwAsODjP6KNRqPY3d3F0NAQwuGwL2c4joN8Po/Dw0NUKhXP9/c1EAAEAgEkk0mMj497HslxHJydneH8/NzTfX/neyDgM9L29jYmJyc9i+Q4DjKZDC4uLjzZ7zsdCQQAlmVhc3MTU1NTbUeqVqs4OTnB5eWlR9N9r2OBgM9IGxsbmJ6ebjmS4zhIp9PIZrMeT9dYR28UjTFIpVIolUotrXddF7e3tx2LA3ThTrper+Pg4ADVavXHa13XRSqV8mGq73XlUePh4QG5XA7v7+9Nr/l1UX57e/Nxsq+69ix2dXUFx3Ga/nvbtnF9fe3jRI11LVCpVEIg0PzxxhhfbgSZrgWKxWI/CuS6LsbGxnycqLGuBAoGg5ifn0coFGp6TSgUwtzcnI9TNdbxQL8ePQYGBn60LhgMYmZmBktLSz5N1lhHA1mWhfX1dcRisZZuFMPhMJaXl7G4uOjDdI117E56eHgYW1tbGBwcbPtRw3Ec3N/f4/j4GMVi0aMJG/M9UCgUQiKRwMLCAnp6en50Yf4vruuiXq/j9PQU2WzW07eIv/MtkG3bmJ2dRSKRQDgcbnhBjkaj6O/vR6FQwPPzc0vnVCoVFAoFpNNp5HK5dsf+wpdAo6Oj2NvbQ19fH4wxMObrEdFoFBMTE7BtG/V6Hfl8vuVIlmXBsiw8PT0hmUzi9fW1zW/wD19eub68vND3NCsrK7Dtz+Nt20axWEQmk2n77HK53PYe/2a68YnH46ZcLhtjjCmXyyYej3dljiY+3Ts8Ho+bo6OjPzmO6egLs/8j/bJKKBChQIQCEQpEKBChQIQCEQpEKBChQIQCEQpEKBChQIQCEQpE/AUzs5PaoBCE7gAAAABJRU5ErkJggg==\n",
       "\">DKNG</div><div class=\"floating-box\"><img src=\"data:image/png;base64,iVBORw0KGgoAAAANSUhEUgAAAEgAAACQCAYAAACrgC0FAAAAOXRFWHRTb2Z0d2FyZQBNYXRwbG90bGliIHZlcnNpb24zLjQuMiwgaHR0cHM6Ly9tYXRwbG90bGliLm9yZy8rg+JYAAAACXBIWXMAAAsTAAALEwEAmpwYAAAEX0lEQVR4nO3dT2gcZRzG8eednc02syvuaosIxaitUXuopcZDg0hBzSkLooJ6k1ZRD4qKSEA9KAbqNZf2oqBo9aBLhCK1FIUGEf8gaKktkR7UFv9stYmZ/Z95Xw8iKrp9hLzvaOH5wBLYw++dfHcymXcIxABwkKGi//oA/u8UiFAgQoEIBSIUiFAgQoEIBSIUiFAgQoEIBSIUiFAgQoEIBSIUiFAgQoEIBSIUiFAgQoEIBSIUiFAgQoEIBSIUiFAgQoEIBSIUiFAgQoEIBSIUiFAgQoEIBSIUiFAgQoEIBSIUiFAgQoEIBSIUiFAgQoEIBSIUiFAgQoEIBSIUiFAgQoEIBSIUiFAgQoEIBSIUiFAgQoEIBSIUiFAgQoEIBSIUiFAgQoEIBSIUiFAgQoEIBSIUiFAgQoEIBSIUiFAgQoEIBSIUiFAgQoEIBSIUiIhDDL2jNI1nK0+EGH1OFg53Lt2Hxeykt5lBAi27X3B1vAmxCTJ+qI7rooee15lBfsQO949gb/tltGw7xPh/1LJt7Fp+DF9np7zONQj0H+qKKOKL9e9hvHAlIhP2UtexXbzdO4h7lh/yPjtYIAC4pnAVPlt/CKNmXaglAAA/2yWMNSeQupb32UE/2hPZV2h038HADYKtkdoWnl7ZEyQOEPgMAoDLoo04sWEh2Fn0Y3YGG5vbMUCYDyH4fdA39hT2dxroub732altYSadDRYHyOEMAoBLo0twcsOHGDWjXueezr7HWHMCGTKvc/8slzvp7+wP2N+ZR+b8fSMrNsUz6QtB4wA5bjVe7b7p9UJaNEXMdw96mzdMboEW+h+h4PHG/ejqcZx1S97mDZNboAwZ3u2972VW23bwWuctL7OYXHfzh/tH0LadNc8ZYIAP+p94OCIu10DHVhfRx9p/3ZdNgi+zRQ9HxOUaqGl/QuRhSQuLtlv7mfhv5BooMaNebroMIsRhntT8Ta6BtsTjiGDWPKfjuthcuMLDEXG5BtoaX4uySdY8x8FiSzzu4Yi4XANNlXZ6eTZUNgluHrnRwxFxuQXaUZzA5sLlXmbFJsa9yV2omaqXeeeSW6DZyozXRx7GAY8m93ubN3Qd5LCb3x5vxcLF80g87+ZXbAtjzYmgW47gZ1DVXIgDtVe8xwGAERNjvvaSl3urYYIGMjBoVF/ERVE1yPySKeH6+DrMVmaCzAcCB3qu8iRuKG5DyZSCrVGOEjyS7MZ06dYg84MFejjZjcfLD6ASlf94c6oEPH/Bb189SqIEb1T3YefIpNe5QKCL9N2l2/B6bS+ss3C/j59ah2hfDSaJ4NoW9sGzwKGutzUNDFaRYduZW3Dc40Y2yIbm09XP8dTKnr+8Nz15O3YkNwEATBLh48ljONBoeF/7W3va+0yXx6ter7s0TZ1zzqVp6ur1ei7renjlt1i9Xndzc3PnUxyXy43i+Ux/QEUoEKFAhAIRCkQoEKFAhAIRCkQoEKFAhAIRCkQoEKFAhAIRCkT8Cvt4jVnTKDV4AAAAAElFTkSuQmCC\n",
       "\">BBD</div><div class=\"floating-box\"><img src=\"data:image/png;base64,iVBORw0KGgoAAAANSUhEUgAAAEgAAACQCAYAAACrgC0FAAAAOXRFWHRTb2Z0d2FyZQBNYXRwbG90bGliIHZlcnNpb24zLjQuMiwgaHR0cHM6Ly9tYXRwbG90bGliLm9yZy8rg+JYAAAACXBIWXMAAAsTAAALEwEAmpwYAAADeklEQVR4nO3dv0ojURzF8ZNwo6NDCu0UtTeVCBEEn0CYNxBs7ESSQtBGW9HSxjQWFlY+QyBFChHsxcI0ggqiIkkmmuhYLLuwSjzN787+4Xwg7bnhC2Yyk8IMgATSV/ZPv4G/nQIRCkQoEKFAhAIRCkQoEKFAhAIRCkQoEKFAhAIRCkQoEKFAhAIRCkQoEKFAhAIRCkQoEKFAhAIRCkQoEKFAhAIRCkQoEKFAhAIRCkQoEKFAhAIRCkQoEKFAhAIRCkQoEKFAhAIRCkQoEKFAhAIRCkQoEKFAhAIRCkQoEKFAhAIRCkQoEKFAhAIRCkQoEKFAhAIRCkQoEKFAhAIRCkQoEKFAhAIRCkQoEKFAhAIRCkQoEKFAhAIRCkQoEKFAhAIRCkQoEKFAhAIRCkQoEKFAhAIRCkQoEKFAhAIRCkQoEKFAhAIRzsfo6OgoZmdnfUxTtVoNvV7PbM9LoEKhgFKphG63a/pmv5PL5QAAFxcXuL6+Ntv1EqheryOXy2F1dRVDQ0M+jvii1Wphe3vbNA4AZODxP/UuLCygXC5jcHDQ1xEAgHa7jc3NTTQaDfNtrx/S9XodBwcHeHl58XZGp9PB1taWlzhAClexarWKWq3mJVKn00GlUsHl5aX59k+pXOYPDw/NA729vaHRaKBarZrufpZKoDiOcXR0hDiOzTa73S4qlYrZXj+pfVE8PT2Fc3YXzTiOcXV1ZbbXT2qBnp+fcXt7a7Z3dnZmtvWdVG81np6eTHbe399xf39vssWkGiifz5vsZLNZjIyMmGzRs1I5BUAYhhgfHzfbKxaLZlvfSS3Q3Nyc6X1ZPp/H5OSk2V4/qQQaGBjA8vIyhoeHzTadc1hZWTHb6yeVQEtLSwjD0HTTOYdCoYD5+XnT3c+8ByoWi1hcXEQQBObbQRCgXC57/VPzGmhmZgYbGxte7+aDIMDu7i7Gxsa87HsLVCqVcHJygqmpKV9HAPhxyQ/DEHt7e5iYmDDf9/I8aH19HTs7O3DOodfr4fz8HHd3d9bH/CaTyeD19RVra2u4ubkx2/XyRHF6evrXfZdzDo+Pjzg+PvZx1BcPDw/mm4n1K4qipNlsJkmSJM1mM4miyPyMFF9+hqMoSvb39//1OInXZ9L/A/1wSCgQoUCEAhEKRCgQoUCEAhEKRCgQoUCEAhEKRCgQoUCEAhEKRHwA4xRI4T/lFkIAAAAASUVORK5CYII=\n",
       "\">ZNGA</div><div class=\"floating-box\"><img src=\"data:image/png;base64,iVBORw0KGgoAAAANSUhEUgAAAEgAAACQCAYAAACrgC0FAAAAOXRFWHRTb2Z0d2FyZQBNYXRwbG90bGliIHZlcnNpb24zLjQuMiwgaHR0cHM6Ly9tYXRwbG90bGliLm9yZy8rg+JYAAAACXBIWXMAAAsTAAALEwEAmpwYAAAErElEQVR4nO3dT2hcVRzF8XPvm84fppSkaCt1I9SkVbQWEY3R2mixC3UoFiyipBRdiqC4cNuN3bjLyoULF6JgpURoVYRiiUSCSlv/NlFUUgRD46bJTGYmM+9dF5KSyAwH5HefVs4HsivnpV9u37yZFOIABEhf/t/+Bv7rFIhQIEKBCAUiFIhQIEKBCAUiFIhQIEKBCAUiFIhQIEKBCAUiFIhQIEKBCAUiFIhQIEKBCAUiFIhQIEKBCAUiFIhQIEKBCAUiFIhQIEKBCAUiFIhQIEKBCAUiFIhQIEKBCAUiFIhQIEKBCAUiFIhQIEKBCAUiFIhQIEKBCAUiFIhQIEKBCAUiFIhQIEKBCAUiFIhQIEKBCAUiFIhQIEKBCAUiFIhQIEKBCAUiFIhQIEKBCAUiFIhQIEKBCAUiCjFGR/y9OJaMx5imjndewwIWzPaiBBr1I3i+cBQFF2W+ryxkeDt9FwuZXSCHCL9Xo4gi5iuzuMltt57uqxu6+DSbwsF2zXQ3yj1oFat4efVVLIXlGPM9ddDBi6uvmO9Gu0mfTE+hhVas+Q2ykOGzbBpz4Ufz7WiBUqQ40XkdjdCIdYlrVtDE8c6JKNtR7kFrqqhiofIrNrtqrEsAAL7NvsOe1n1RtqM+BzXQwBvdN9EO7WjXWArL0U4PEPkEAcBtbje+LE+hGukUrYQVDDR3oINOlP3oT9KXwmzUV7Oz6blocYCc3mq8n04iDan57lJYxjvpe+a76+US6GR6Cg3Yv5qVUMRH6Sfmu+vlEujzbAZllM13fwo/4yqumu+ul0ugFCkuh9/Mdy9kX5tv/l1uH3d8n/1gutcKLZzPLppu9pJboK+y8+iGrtleC21cyubM9vrJLdClMIcGVsz2NqGA2fA/CrQY/kAwfCYtooQrYdFsr5/cAi2HOpzhXgKPJpqGi73lFihDZrqX12/PzS1Q0W0y/UslzsPn8O3nFmgrtprutUIbgxg03ewlt0BDfidKKJrttdDCkN9pttdPboHudHeg4ipmewk8ht2Q2V4/+QXyt5vuVVHFbj9sutlLjv/EbjXd887jHn+36WbP60S/AoBdbhiVCO/mR/0ICnF+9nlNLoGeTGpIkJjvdtHFPv+A+e56uQR6tvA0ys7+BG1GFUeSw+a760X/0H4btmG+MouyK0XZvxIWsb15S5RtIIcT9FxhHCnsP49eU0EFD/v90fajnqASSvi98gsG3UCsSwAAptMZPNg+EGU76gk6mjwT/VUGAPb6Pdjr7oqyHe0EeXhcLs/hZr8jxvwGaUhxJv0Yh1aPmG9HO0FPJYexxW2JNb9B4hI8mjyCXc7+yTrKCaqggvnKLG50N/T+A48lwAEPnM2AD21u4GlIMZ3NYH/7oMnemig3iJcKL2AQA71/mvp4Av9WEa7qEMYDsmNN4IxNpH1+FGP+IZzLpkz2gEiBJtPTcH0+YH1i7BDur/719OuqDl+MXcDpyQ/Mrn0x+8Zsa03I86tWq4V6vR5CCKFer4darZbr9f/BV/4XrdVqYWJi4nqIE6K/1bje6X/aEwpEKBChQIQCEQpEKBChQIQCEQpEKBChQIQCEQpEKBChQIQCEX8C75ieBWFCKeQAAAAASUVORK5CYII=\n",
       "\">VALE</div>"
      ],
      "text/plain": [
       "<IPython.core.display.HTML object>"
      ]
     },
     "metadata": {},
     "output_type": "display_data"
    },
    {
     "name": "stdout",
     "output_type": "stream",
     "text": [
      "visualizatio Time: 2.914829969406128 seconds\n"
     ]
    }
   ],
   "source": [
    "trendings = Stocks(query={'Analyst Recom.':'Buy or better','Current Volume':'Over 10M','Average Volume':'Over 2M', 'Relative Volume':'Over 0.5'})\n",
    "\n",
    "trendings.visualize('spring')"
   ]
  },
  {
   "cell_type": "code",
   "execution_count": 37,
   "id": "3e0f89f4",
   "metadata": {
    "ExecuteTime": {
     "end_time": "2021-09-28T18:48:07.229661Z",
     "start_time": "2021-09-28T18:48:05.279923Z"
    }
   },
   "outputs": [
    {
     "name": "stdout",
     "output_type": "stream",
     "text": [
      "[Info] loading page [##############################] 3/3 \r"
     ]
    },
    {
     "data": {
      "text/html": [
       "<div>\n",
       "<style scoped>\n",
       "    .dataframe tbody tr th:only-of-type {\n",
       "        vertical-align: middle;\n",
       "    }\n",
       "\n",
       "    .dataframe tbody tr th {\n",
       "        vertical-align: top;\n",
       "    }\n",
       "\n",
       "    .dataframe thead th {\n",
       "        text-align: right;\n",
       "    }\n",
       "</style>\n",
       "<table border=\"1\" class=\"dataframe\">\n",
       "  <thead>\n",
       "    <tr style=\"text-align: right;\">\n",
       "      <th></th>\n",
       "      <th>Ticker</th>\n",
       "      <th>Company</th>\n",
       "      <th>Sector</th>\n",
       "      <th>Market Cap</th>\n",
       "      <th>P/E</th>\n",
       "      <th>Perf Week</th>\n",
       "      <th>Perf Month</th>\n",
       "      <th>Price</th>\n",
       "      <th>Change</th>\n",
       "      <th>Volume</th>\n",
       "    </tr>\n",
       "  </thead>\n",
       "  <tbody>\n",
       "    <tr>\n",
       "      <th>0</th>\n",
       "      <td>ATER</td>\n",
       "      <td>Aterian, Inc.</td>\n",
       "      <td>Technology</td>\n",
       "      <td>4.119700e+08</td>\n",
       "      <td>NaN</td>\n",
       "      <td>0.0614</td>\n",
       "      <td>2.0145</td>\n",
       "      <td>11.41</td>\n",
       "      <td>-0.0835</td>\n",
       "      <td>15653608.0</td>\n",
       "    </tr>\n",
       "    <tr>\n",
       "      <th>1</th>\n",
       "      <td>AFRM</td>\n",
       "      <td>Affirm Holdings, Inc.</td>\n",
       "      <td>Technology</td>\n",
       "      <td>3.579000e+10</td>\n",
       "      <td>NaN</td>\n",
       "      <td>0.1919</td>\n",
       "      <td>0.8344</td>\n",
       "      <td>117.00</td>\n",
       "      <td>-0.0886</td>\n",
       "      <td>10921369.0</td>\n",
       "    </tr>\n",
       "    <tr>\n",
       "      <th>2</th>\n",
       "      <td>KOS</td>\n",
       "      <td>Kosmos Energy Ltd.</td>\n",
       "      <td>Energy</td>\n",
       "      <td>1.180000e+09</td>\n",
       "      <td>NaN</td>\n",
       "      <td>0.3216</td>\n",
       "      <td>0.3889</td>\n",
       "      <td>3.10</td>\n",
       "      <td>0.0336</td>\n",
       "      <td>14080744.0</td>\n",
       "    </tr>\n",
       "    <tr>\n",
       "      <th>3</th>\n",
       "      <td>DNN</td>\n",
       "      <td>Denison Mines Corp.</td>\n",
       "      <td>Energy</td>\n",
       "      <td>1.260000e+09</td>\n",
       "      <td>NaN</td>\n",
       "      <td>0.0213</td>\n",
       "      <td>0.3333</td>\n",
       "      <td>1.39</td>\n",
       "      <td>-0.0347</td>\n",
       "      <td>13427433.0</td>\n",
       "    </tr>\n",
       "    <tr>\n",
       "      <th>4</th>\n",
       "      <td>SNMP</td>\n",
       "      <td>Evolve Transition Infrastructure LP</td>\n",
       "      <td>Energy</td>\n",
       "      <td>6.967000e+07</td>\n",
       "      <td>NaN</td>\n",
       "      <td>0.4091</td>\n",
       "      <td>0.3319</td>\n",
       "      <td>1.34</td>\n",
       "      <td>0.0806</td>\n",
       "      <td>10819581.0</td>\n",
       "    </tr>\n",
       "  </tbody>\n",
       "</table>\n",
       "</div>"
      ],
      "text/plain": [
       "  Ticker                              Company      Sector    Market Cap  P/E  \\\n",
       "0   ATER                        Aterian, Inc.  Technology  4.119700e+08  NaN   \n",
       "1   AFRM                Affirm Holdings, Inc.  Technology  3.579000e+10  NaN   \n",
       "2    KOS                   Kosmos Energy Ltd.      Energy  1.180000e+09  NaN   \n",
       "3    DNN                  Denison Mines Corp.      Energy  1.260000e+09  NaN   \n",
       "4   SNMP  Evolve Transition Infrastructure LP      Energy  6.967000e+07  NaN   \n",
       "\n",
       "   Perf Week  Perf Month   Price  Change      Volume  \n",
       "0     0.0614      2.0145   11.41 -0.0835  15653608.0  \n",
       "1     0.1919      0.8344  117.00 -0.0886  10921369.0  \n",
       "2     0.3216      0.3889    3.10  0.0336  14080744.0  \n",
       "3     0.0213      0.3333    1.39 -0.0347  13427433.0  \n",
       "4     0.4091      0.3319    1.34  0.0806  10819581.0  "
      ]
     },
     "execution_count": 37,
     "metadata": {},
     "output_type": "execute_result"
    }
   ],
   "source": [
    "query = {'Analyst Recom.':'Buy or better', 'Current Volume':'Over 10M', 'Average Volume':'Over 2M', 'Relative Volume':'Over 0.5'}\n",
    "fcustom = Custom()\n",
    "fcustom.set_filter(filters_dict=query)\n",
    "overview = fcustom.ScreenerView(order='Performance (Month)', ascend=False,\n",
    "                                columns=[0, 1, 2, 3, 6, 7, 42, 43, 65, 66, 67])\n"
   ]
  },
  {
   "cell_type": "code",
   "execution_count": 49,
   "id": "34132360",
   "metadata": {
    "ExecuteTime": {
     "end_time": "2021-09-29T21:19:46.758551Z",
     "start_time": "2021-09-29T21:19:46.753741Z"
    }
   },
   "outputs": [
    {
     "name": "stdout",
     "output_type": "stream",
     "text": [
      "TopLosers\n"
     ]
    }
   ],
   "source": [
    "# imports string module\n",
    "import string\n",
    " \n",
    "sentence = 'top-losers'\n",
    " \n",
    "# sep parameter is left None\n",
    "formatted = string.capwords(sentence, sep = '-').replace('-','')\n",
    " \n",
    "print(formatted)"
   ]
  },
  {
   "cell_type": "code",
   "execution_count": 26,
   "id": "3323e868",
   "metadata": {
    "ExecuteTime": {
     "end_time": "2021-09-22T23:54:50.882690Z",
     "start_time": "2021-09-22T23:54:50.877773Z"
    }
   },
   "outputs": [
    {
     "data": {
      "text/plain": [
       "{'AA',\n",
       " 'AAPL',\n",
       " 'AFRM',\n",
       " 'AMD',\n",
       " 'APA',\n",
       " 'ATER',\n",
       " 'ATVI',\n",
       " 'AUPH',\n",
       " 'BA',\n",
       " 'BABA',\n",
       " 'BAC',\n",
       " 'BB',\n",
       " 'BBD',\n",
       " 'BEKE',\n",
       " 'BNTX',\n",
       " 'BP',\n",
       " 'BTBT',\n",
       " 'C',\n",
       " 'CAKE',\n",
       " 'CCL',\n",
       " 'CIDM',\n",
       " 'CLF',\n",
       " 'CMCSA',\n",
       " 'COP',\n",
       " 'CRVS',\n",
       " 'CSCO',\n",
       " 'CVE',\n",
       " 'CVX',\n",
       " 'CX',\n",
       " 'DAL',\n",
       " 'DIS',\n",
       " 'DKNG',\n",
       " 'DNN',\n",
       " 'DUOL',\n",
       " 'DVAX',\n",
       " 'DVN',\n",
       " 'EDU',\n",
       " 'ET',\n",
       " 'EVGO',\n",
       " 'F',\n",
       " 'FB',\n",
       " 'FCX',\n",
       " 'FDX',\n",
       " 'FLGC',\n",
       " 'GE',\n",
       " 'GGB',\n",
       " 'GM',\n",
       " 'GNRC',\n",
       " 'GOLD',\n",
       " 'GRVI',\n",
       " 'HBAN',\n",
       " 'HMLP',\n",
       " 'HOOD',\n",
       " 'INFI',\n",
       " 'ITUB',\n",
       " 'JPM',\n",
       " 'KGC',\n",
       " 'KO',\n",
       " 'LPTX',\n",
       " 'LVS',\n",
       " 'MCD',\n",
       " 'MGM',\n",
       " 'MRO',\n",
       " 'MSFT',\n",
       " 'MU',\n",
       " 'NAOV',\n",
       " 'NCLH',\n",
       " 'NEGG',\n",
       " 'NIO',\n",
       " 'NLY',\n",
       " 'NNDM',\n",
       " 'NOK',\n",
       " 'NVDA',\n",
       " 'OPEN',\n",
       " 'PBR',\n",
       " 'PCG',\n",
       " 'PFE',\n",
       " 'PLUG',\n",
       " 'PTON',\n",
       " 'QS',\n",
       " 'RWLK',\n",
       " 'SAVA',\n",
       " 'SESN',\n",
       " 'SIRI',\n",
       " 'SKLZ',\n",
       " 'SLB',\n",
       " 'SNAP',\n",
       " 'SNDL',\n",
       " 'SOFI',\n",
       " 'SPOT',\n",
       " 'SPRT',\n",
       " 'TDOC',\n",
       " 'TEVA',\n",
       " 'TLRY',\n",
       " 'TLRY.TO',\n",
       " 'TME',\n",
       " 'TNXP',\n",
       " 'U',\n",
       " 'UBER',\n",
       " 'VALE',\n",
       " 'VICI',\n",
       " 'VIPS',\n",
       " 'WFC',\n",
       " 'WISH',\n",
       " 'ZNGA'}"
      ]
     },
     "execution_count": 26,
     "metadata": {},
     "output_type": "execute_result"
    }
   ],
   "source": [
    "trends = set(trendings.tickers)\n",
    "ts.update(trends)\n",
    "ts"
   ]
  },
  {
   "cell_type": "code",
   "execution_count": 9,
   "id": "15ad766a",
   "metadata": {
    "ExecuteTime": {
     "end_time": "2021-09-21T18:07:45.372263Z",
     "start_time": "2021-09-21T18:07:05.594847Z"
    }
   },
   "outputs": [
    {
     "name": "stdout",
     "output_type": "stream",
     "text": [
      "load overview Time: 8.570163011550903 seconds######] 26/26 \n",
      "downloading benchmark\n",
      "[*********************100%***********************]  1 of 1 completed\n",
      "downloading stock data\n",
      "[*********************100%***********************]  505 of 505 completed\n",
      "load stock Time: 27.06856894493103 seconds\n",
      "calculate stats Time: 4.053231239318848 seconds\n",
      "load info from overview Time: 0.07501792907714844 seconds\n"
     ]
    },
    {
     "data": {
      "text/plain": [
       "['COG',\n",
       " 'CZR',\n",
       " 'PWR',\n",
       " 'APA',\n",
       " 'FANG',\n",
       " 'OXY',\n",
       " 'BKR',\n",
       " 'ETSY',\n",
       " 'BKNG',\n",
       " 'PENN',\n",
       " 'MRNA',\n",
       " 'DVN',\n",
       " 'CTLT',\n",
       " 'LUMN',\n",
       " 'NTAP',\n",
       " 'EOG',\n",
       " 'EXPE',\n",
       " 'KMX',\n",
       " 'TECH',\n",
       " 'CF',\n",
       " 'NOW',\n",
       " 'DXCM',\n",
       " 'KLAC',\n",
       " 'BAX',\n",
       " 'MAR',\n",
       " 'MGM',\n",
       " 'FTI',\n",
       " 'LYV',\n",
       " 'PRGO',\n",
       " 'NCLH',\n",
       " 'COP',\n",
       " 'HST',\n",
       " 'MOS',\n",
       " 'DRI',\n",
       " 'AAL',\n",
       " 'MCHP',\n",
       " 'RCL',\n",
       " 'TSLA',\n",
       " 'SIVB',\n",
       " 'HLT',\n",
       " 'HAL',\n",
       " 'CTXS',\n",
       " 'OKE',\n",
       " 'DAL',\n",
       " 'MRO',\n",
       " 'GNRC',\n",
       " 'CCL',\n",
       " 'TMO',\n",
       " 'NOV',\n",
       " 'FMC',\n",
       " 'NVDA',\n",
       " 'IR',\n",
       " 'PXD',\n",
       " 'HES',\n",
       " 'PAYC',\n",
       " 'NFLX',\n",
       " 'WLTW',\n",
       " 'ALK',\n",
       " 'TSCO',\n",
       " 'WY',\n",
       " 'MPC',\n",
       " 'AMZN',\n",
       " 'XLNX',\n",
       " 'CDNS',\n",
       " 'REG',\n",
       " 'AMAT',\n",
       " 'ZION',\n",
       " 'BDX',\n",
       " 'VLO',\n",
       " 'WMB',\n",
       " 'AVGO',\n",
       " 'LUV',\n",
       " 'ALGN',\n",
       " 'AON',\n",
       " 'KEYS',\n",
       " 'TDG',\n",
       " 'ODFL',\n",
       " 'ABMD',\n",
       " 'TXN',\n",
       " 'MSCI',\n",
       " 'HIG',\n",
       " 'VRSK',\n",
       " 'VTR',\n",
       " 'INFO',\n",
       " 'HCA',\n",
       " 'FOX',\n",
       " 'FITB',\n",
       " 'DIS',\n",
       " 'SLB',\n",
       " 'UAL',\n",
       " 'CRL',\n",
       " 'CBRE',\n",
       " 'IT',\n",
       " 'MU',\n",
       " 'AJG',\n",
       " 'FOXA',\n",
       " 'CPRT',\n",
       " 'HD',\n",
       " 'SPGI',\n",
       " 'LVS',\n",
       " 'ULTA',\n",
       " 'IVZ',\n",
       " 'FRT',\n",
       " 'ABC',\n",
       " 'GOOGL',\n",
       " 'LRCX',\n",
       " 'A',\n",
       " 'EXR',\n",
       " 'CRM',\n",
       " 'ADM',\n",
       " 'INTU',\n",
       " 'RSG',\n",
       " 'TER',\n",
       " 'WELL',\n",
       " 'EQIX',\n",
       " 'FFIV',\n",
       " 'EXC',\n",
       " 'INCY',\n",
       " 'XOM',\n",
       " 'WBA',\n",
       " 'DGX',\n",
       " 'EFX',\n",
       " 'SNPS',\n",
       " 'KEY',\n",
       " 'ADI',\n",
       " 'NDAQ',\n",
       " 'GOOG',\n",
       " 'KIM',\n",
       " 'SYK',\n",
       " 'CMA',\n",
       " 'DHR',\n",
       " 'LOW',\n",
       " 'MCK',\n",
       " 'ACN',\n",
       " 'PKI',\n",
       " 'AES',\n",
       " 'F',\n",
       " 'CFG',\n",
       " 'VRSN',\n",
       " 'INTC',\n",
       " 'WAB',\n",
       " 'ALB',\n",
       " 'PVH',\n",
       " 'AXP',\n",
       " 'ESS',\n",
       " 'TFX',\n",
       " 'HAS',\n",
       " 'SPG',\n",
       " 'BIO',\n",
       " 'MCD',\n",
       " 'SYY',\n",
       " 'VNO',\n",
       " 'BF-B',\n",
       " 'WM',\n",
       " 'CMG',\n",
       " 'AMT',\n",
       " 'CNC',\n",
       " 'MMC',\n",
       " 'USB',\n",
       " 'XYL',\n",
       " 'GM',\n",
       " 'ADBE',\n",
       " 'CTAS',\n",
       " 'HBI',\n",
       " 'CVX',\n",
       " 'AIG',\n",
       " 'OMC',\n",
       " 'CAH',\n",
       " 'FTNT',\n",
       " 'RMD',\n",
       " 'CVS',\n",
       " 'GE',\n",
       " 'ICE',\n",
       " 'IPG',\n",
       " 'HSIC',\n",
       " 'BLL',\n",
       " 'ANTM',\n",
       " 'UDR',\n",
       " 'HOLX',\n",
       " 'TRMB',\n",
       " 'NWS',\n",
       " 'PNC',\n",
       " 'FB',\n",
       " 'RTX',\n",
       " 'APH',\n",
       " 'GRMN',\n",
       " 'EBAY',\n",
       " 'EW',\n",
       " 'DISH',\n",
       " 'FLT',\n",
       " 'NWSA',\n",
       " 'ZBH',\n",
       " 'MAA',\n",
       " 'NXPI',\n",
       " 'MDT',\n",
       " 'MO',\n",
       " 'PYPL',\n",
       " 'WRK',\n",
       " 'PBCT',\n",
       " 'ANSS',\n",
       " 'XRAY',\n",
       " 'JCI',\n",
       " 'PM',\n",
       " 'NWL',\n",
       " 'WST',\n",
       " 'ORLY',\n",
       " 'MTB',\n",
       " 'URI',\n",
       " 'PCAR',\n",
       " 'ABT',\n",
       " 'COST',\n",
       " 'SRE',\n",
       " 'EXPD',\n",
       " 'MSFT',\n",
       " 'FRC',\n",
       " 'JPM',\n",
       " 'PH',\n",
       " 'CAG',\n",
       " 'RHI',\n",
       " 'DXC',\n",
       " 'MTD',\n",
       " 'CTSH',\n",
       " 'GILD',\n",
       " 'EIX',\n",
       " 'GD',\n",
       " 'CHRW',\n",
       " 'STE',\n",
       " 'MS',\n",
       " 'T',\n",
       " 'PEAK',\n",
       " 'BA',\n",
       " 'KMI',\n",
       " 'MSI',\n",
       " 'TGT',\n",
       " 'IQV',\n",
       " 'HBAN',\n",
       " 'AWK',\n",
       " 'CPB',\n",
       " 'AVY',\n",
       " 'JBHT',\n",
       " 'BSX',\n",
       " 'PG',\n",
       " 'MCO',\n",
       " 'ECL',\n",
       " 'AVB',\n",
       " 'AMP',\n",
       " 'GPC',\n",
       " 'MET',\n",
       " 'BBWI',\n",
       " 'KHC',\n",
       " 'LNC',\n",
       " 'RJF',\n",
       " 'STZ',\n",
       " 'GPN',\n",
       " 'CI',\n",
       " 'TWTR',\n",
       " 'TXT',\n",
       " 'SBAC',\n",
       " 'LKQ',\n",
       " 'ZBRA',\n",
       " 'HPQ',\n",
       " 'PPL',\n",
       " 'VIAC',\n",
       " 'VZ',\n",
       " 'ETR',\n",
       " 'NVR',\n",
       " 'AMD',\n",
       " 'SNA',\n",
       " 'MKC',\n",
       " 'ALLE',\n",
       " 'EQR',\n",
       " 'SBUX',\n",
       " 'TYL',\n",
       " 'WAT',\n",
       " 'AAP',\n",
       " 'REGN',\n",
       " 'GIS',\n",
       " 'HUM',\n",
       " 'NLOK',\n",
       " 'FTV',\n",
       " 'UPS',\n",
       " 'CSCO',\n",
       " 'TFC',\n",
       " 'CTVA',\n",
       " 'HWM',\n",
       " 'AAPL',\n",
       " 'CARR',\n",
       " 'RF',\n",
       " 'LEG',\n",
       " 'BAC',\n",
       " 'IBM',\n",
       " 'IEX',\n",
       " 'BWA',\n",
       " 'COO',\n",
       " 'BBY',\n",
       " 'ORCL',\n",
       " 'BEN',\n",
       " 'LIN',\n",
       " 'AIZ',\n",
       " 'AZO',\n",
       " 'LH',\n",
       " 'DRE',\n",
       " 'BXP',\n",
       " 'SWK',\n",
       " 'PSX',\n",
       " 'WFC',\n",
       " 'J',\n",
       " 'PLD',\n",
       " 'IRM',\n",
       " 'CHD',\n",
       " 'KMB',\n",
       " 'SCHW',\n",
       " 'PSA',\n",
       " 'IDXX',\n",
       " 'HII',\n",
       " 'ROP',\n",
       " 'TROW',\n",
       " 'ALL',\n",
       " 'RL',\n",
       " 'PEP',\n",
       " 'CDW',\n",
       " 'NEE',\n",
       " 'NOC',\n",
       " 'OGN',\n",
       " 'CMS',\n",
       " 'PEG',\n",
       " 'DLR',\n",
       " 'ANET',\n",
       " 'LHX',\n",
       " 'SYF',\n",
       " 'NRG',\n",
       " 'CL',\n",
       " 'UNH',\n",
       " 'STT',\n",
       " 'SHW',\n",
       " 'C',\n",
       " 'SO',\n",
       " 'CLX',\n",
       " 'PKG',\n",
       " 'CHTR',\n",
       " 'HSY',\n",
       " 'ZTS',\n",
       " 'ROK',\n",
       " 'PNR',\n",
       " 'SWKS',\n",
       " 'BRK-B',\n",
       " 'FCX',\n",
       " 'JKHY',\n",
       " 'IP',\n",
       " 'FAST',\n",
       " 'GS',\n",
       " 'ISRG',\n",
       " 'AKAM',\n",
       " 'PFG',\n",
       " 'CB',\n",
       " 'DPZ',\n",
       " 'IPGP',\n",
       " 'AMGN',\n",
       " 'PGR',\n",
       " 'UHS',\n",
       " 'CMCSA',\n",
       " 'FBHS',\n",
       " 'DFS',\n",
       " 'TRV',\n",
       " 'K',\n",
       " 'CMI',\n",
       " 'ROL',\n",
       " 'PTC',\n",
       " 'L',\n",
       " 'LMT',\n",
       " 'ED',\n",
       " 'NEM',\n",
       " 'FIS',\n",
       " 'POOL',\n",
       " 'MNST',\n",
       " 'LDOS',\n",
       " 'DG',\n",
       " 'CBOE',\n",
       " 'CNP',\n",
       " 'ARE',\n",
       " 'WHR',\n",
       " 'CE',\n",
       " 'PRU',\n",
       " 'VRTX',\n",
       " 'APD',\n",
       " 'SEE',\n",
       " 'WMT',\n",
       " 'AME',\n",
       " 'KO',\n",
       " 'MA',\n",
       " 'WDC',\n",
       " 'V',\n",
       " 'AMCR',\n",
       " 'JNPR',\n",
       " 'CME',\n",
       " 'TEL',\n",
       " 'MDLZ',\n",
       " 'EL',\n",
       " 'BLK',\n",
       " 'DTE',\n",
       " 'WRB',\n",
       " 'HON',\n",
       " 'LEN',\n",
       " 'MAS',\n",
       " 'BR',\n",
       " 'DE',\n",
       " 'TPR',\n",
       " 'DISCK',\n",
       " 'CCI',\n",
       " 'UA',\n",
       " 'O',\n",
       " 'DHI',\n",
       " 'QRVO',\n",
       " 'QCOM',\n",
       " 'TT',\n",
       " 'WU',\n",
       " 'D',\n",
       " 'UNM',\n",
       " 'TSN',\n",
       " 'DOV',\n",
       " 'LNT',\n",
       " 'ADP',\n",
       " 'STX',\n",
       " 'GWW',\n",
       " 'PAYX',\n",
       " 'BK',\n",
       " 'TJX',\n",
       " 'CINF',\n",
       " 'TDY',\n",
       " 'TAP',\n",
       " 'NI',\n",
       " 'WEC',\n",
       " 'APTV',\n",
       " 'FE',\n",
       " 'DISCA',\n",
       " 'YUM',\n",
       " 'ETN',\n",
       " 'FDX',\n",
       " 'EVRG',\n",
       " 'ITW',\n",
       " 'LW',\n",
       " 'ENPH',\n",
       " 'EMR',\n",
       " 'KSU',\n",
       " 'CAT',\n",
       " 'RE',\n",
       " 'DUK',\n",
       " 'NTRS',\n",
       " 'DD',\n",
       " 'AEE',\n",
       " 'NKE',\n",
       " 'ILMN',\n",
       " 'AFL',\n",
       " 'COF',\n",
       " 'GLW',\n",
       " 'DOW',\n",
       " 'WYNN',\n",
       " 'GL',\n",
       " 'CERN',\n",
       " 'MHK',\n",
       " 'EA',\n",
       " 'LYB',\n",
       " 'VMC',\n",
       " 'MMM',\n",
       " 'SJM',\n",
       " 'HPE',\n",
       " 'FISV',\n",
       " 'OTIS',\n",
       " 'AEP',\n",
       " 'NSC',\n",
       " 'PNW',\n",
       " 'MLM',\n",
       " 'JNJ',\n",
       " 'TTWO',\n",
       " 'AOS',\n",
       " 'MRK',\n",
       " 'ATVI',\n",
       " 'PHM',\n",
       " 'ES',\n",
       " 'EMN',\n",
       " 'PPG',\n",
       " 'DVA',\n",
       " 'PFE',\n",
       " 'VTRS',\n",
       " 'XEL',\n",
       " 'UAA',\n",
       " 'ATO',\n",
       " 'IFF',\n",
       " 'ABBV',\n",
       " 'MKTX',\n",
       " 'HRL',\n",
       " 'ROST',\n",
       " 'VFC',\n",
       " 'TMUS',\n",
       " 'CSX',\n",
       " 'UNP',\n",
       " 'BMY',\n",
       " 'BIIB',\n",
       " 'KR',\n",
       " 'GPS',\n",
       " 'DLTR',\n",
       " 'NLSN',\n",
       " 'ADSK',\n",
       " 'LLY',\n",
       " 'NUE']"
      ]
     },
     "execution_count": 9,
     "metadata": {},
     "output_type": "execute_result"
    }
   ],
   "source": [
    "usa = Stocks(query={'Index':'S&P 500'})\n",
    "usa.tickers"
   ]
  },
  {
   "cell_type": "code",
   "execution_count": null,
   "id": "f790e767",
   "metadata": {
    "ExecuteTime": {
     "end_time": "2021-09-21T18:05:24.320598Z",
     "start_time": "2021-09-21T18:05:24.288759Z"
    }
   },
   "outputs": [],
   "source": [
    "usa.tickers"
   ]
  },
  {
   "cell_type": "code",
   "execution_count": null,
   "id": "e6f4cbcd",
   "metadata": {
    "ExecuteTime": {
     "end_time": "2021-09-13T18:04:05.828516Z",
     "start_time": "2021-09-13T18:04:03.957201Z"
    }
   },
   "outputs": [],
   "source": [
    "fstocks.visualize('viridis')"
   ]
  },
  {
   "cell_type": "code",
   "execution_count": null,
   "id": "aa07edc5",
   "metadata": {
    "ExecuteTime": {
     "end_time": "2021-09-13T18:04:33.338172Z",
     "start_time": "2021-09-13T18:04:31.486689Z"
    }
   },
   "outputs": [],
   "source": [
    "fstocks.visualize('Wistia_r')"
   ]
  },
  {
   "cell_type": "code",
   "execution_count": null,
   "id": "d3b80ada",
   "metadata": {
    "ExecuteTime": {
     "end_time": "2021-09-13T18:04:40.880899Z",
     "start_time": "2021-09-13T18:04:38.900981Z"
    }
   },
   "outputs": [],
   "source": [
    "fstocks.visualize('tab20b')"
   ]
  },
  {
   "cell_type": "markdown",
   "id": "cb7273ea",
   "metadata": {},
   "source": [
    "## Creating a database with SQLAlchemy"
   ]
  },
  {
   "cell_type": "code",
   "execution_count": null,
   "id": "9076725d",
   "metadata": {
    "ExecuteTime": {
     "end_time": "2021-09-15T22:57:28.140599Z",
     "start_time": "2021-09-15T22:57:23.387681Z"
    }
   },
   "outputs": [],
   "source": [
    "pip install sqlalchemy"
   ]
  },
  {
   "cell_type": "code",
   "execution_count": null,
   "id": "5f3ffb75",
   "metadata": {
    "ExecuteTime": {
     "end_time": "2021-09-16T18:35:50.260474Z",
     "start_time": "2021-09-16T18:35:50.256426Z"
    }
   },
   "outputs": [],
   "source": [
    "trendings"
   ]
  },
  {
   "cell_type": "code",
   "execution_count": 109,
   "id": "1f25e229",
   "metadata": {
    "ExecuteTime": {
     "end_time": "2021-10-07T20:22:43.431557Z",
     "start_time": "2021-10-07T20:22:43.347913Z"
    }
   },
   "outputs": [
    {
     "name": "stderr",
     "output_type": "stream",
     "text": [
      "<ipython-input-109-18cb472db204>:29: SAWarning: Can't validate argument 'primanry_key'; can't locate any SQLAlchemy dialect named 'primanry'\n",
      "  id = Column(Integer, primanry_key=True)\n"
     ]
    },
    {
     "ename": "ArgumentError",
     "evalue": "Mapper mapped class History->history could not assemble any primary key columns for mapped table 'history'",
     "output_type": "error",
     "traceback": [
      "\u001b[0;31m---------------------------------------------------------------------------\u001b[0m",
      "\u001b[0;31mArgumentError\u001b[0m                             Traceback (most recent call last)",
      "\u001b[0;32m<ipython-input-109-18cb472db204>\u001b[0m in \u001b[0;36m<module>\u001b[0;34m\u001b[0m\n\u001b[1;32m     24\u001b[0m \u001b[0;34m\u001b[0m\u001b[0m\n\u001b[1;32m     25\u001b[0m \u001b[0;34m\u001b[0m\u001b[0m\n\u001b[0;32m---> 26\u001b[0;31m \u001b[0;32mclass\u001b[0m \u001b[0mHistory\u001b[0m\u001b[0;34m(\u001b[0m\u001b[0mBase\u001b[0m\u001b[0;34m)\u001b[0m\u001b[0;34m:\u001b[0m\u001b[0;34m\u001b[0m\u001b[0;34m\u001b[0m\u001b[0m\n\u001b[0m\u001b[1;32m     27\u001b[0m     \u001b[0m__tablename__\u001b[0m \u001b[0;34m=\u001b[0m \u001b[0;34m'history'\u001b[0m\u001b[0;34m\u001b[0m\u001b[0;34m\u001b[0m\u001b[0m\n\u001b[1;32m     28\u001b[0m \u001b[0;34m\u001b[0m\u001b[0m\n",
      "\u001b[0;32m~/anaconda/envs/worldbank/lib/python3.9/site-packages/sqlalchemy/orm/decl_api.py\u001b[0m in \u001b[0;36m__init__\u001b[0;34m(cls, classname, bases, dict_, **kw)\u001b[0m\n\u001b[1;32m     70\u001b[0m \u001b[0;34m\u001b[0m\u001b[0m\n\u001b[1;32m     71\u001b[0m         \u001b[0;32mif\u001b[0m \u001b[0;32mnot\u001b[0m \u001b[0mcls\u001b[0m\u001b[0;34m.\u001b[0m\u001b[0m__dict__\u001b[0m\u001b[0;34m.\u001b[0m\u001b[0mget\u001b[0m\u001b[0;34m(\u001b[0m\u001b[0;34m\"__abstract__\"\u001b[0m\u001b[0;34m,\u001b[0m \u001b[0;32mFalse\u001b[0m\u001b[0;34m)\u001b[0m\u001b[0;34m:\u001b[0m\u001b[0;34m\u001b[0m\u001b[0;34m\u001b[0m\u001b[0m\n\u001b[0;32m---> 72\u001b[0;31m             \u001b[0m_as_declarative\u001b[0m\u001b[0;34m(\u001b[0m\u001b[0mreg\u001b[0m\u001b[0;34m,\u001b[0m \u001b[0mcls\u001b[0m\u001b[0;34m,\u001b[0m \u001b[0mdict_\u001b[0m\u001b[0;34m)\u001b[0m\u001b[0;34m\u001b[0m\u001b[0;34m\u001b[0m\u001b[0m\n\u001b[0m\u001b[1;32m     73\u001b[0m         \u001b[0mtype\u001b[0m\u001b[0;34m.\u001b[0m\u001b[0m__init__\u001b[0m\u001b[0;34m(\u001b[0m\u001b[0mcls\u001b[0m\u001b[0;34m,\u001b[0m \u001b[0mclassname\u001b[0m\u001b[0;34m,\u001b[0m \u001b[0mbases\u001b[0m\u001b[0;34m,\u001b[0m \u001b[0mdict_\u001b[0m\u001b[0;34m)\u001b[0m\u001b[0;34m\u001b[0m\u001b[0;34m\u001b[0m\u001b[0m\n\u001b[1;32m     74\u001b[0m \u001b[0;34m\u001b[0m\u001b[0m\n",
      "\u001b[0;32m~/anaconda/envs/worldbank/lib/python3.9/site-packages/sqlalchemy/orm/decl_base.py\u001b[0m in \u001b[0;36m_as_declarative\u001b[0;34m(registry, cls, dict_)\u001b[0m\n\u001b[1;32m    124\u001b[0m     \u001b[0;31m# args passed separately.\u001b[0m\u001b[0;34m\u001b[0m\u001b[0;34m\u001b[0m\u001b[0;34m\u001b[0m\u001b[0m\n\u001b[1;32m    125\u001b[0m \u001b[0;34m\u001b[0m\u001b[0m\n\u001b[0;32m--> 126\u001b[0;31m     \u001b[0;32mreturn\u001b[0m \u001b[0m_MapperConfig\u001b[0m\u001b[0;34m.\u001b[0m\u001b[0msetup_mapping\u001b[0m\u001b[0;34m(\u001b[0m\u001b[0mregistry\u001b[0m\u001b[0;34m,\u001b[0m \u001b[0mcls\u001b[0m\u001b[0;34m,\u001b[0m \u001b[0mdict_\u001b[0m\u001b[0;34m,\u001b[0m \u001b[0;32mNone\u001b[0m\u001b[0;34m,\u001b[0m \u001b[0;34m{\u001b[0m\u001b[0;34m}\u001b[0m\u001b[0;34m)\u001b[0m\u001b[0;34m\u001b[0m\u001b[0;34m\u001b[0m\u001b[0m\n\u001b[0m\u001b[1;32m    127\u001b[0m \u001b[0;34m\u001b[0m\u001b[0m\n\u001b[1;32m    128\u001b[0m \u001b[0;34m\u001b[0m\u001b[0m\n",
      "\u001b[0;32m~/anaconda/envs/worldbank/lib/python3.9/site-packages/sqlalchemy/orm/decl_base.py\u001b[0m in \u001b[0;36msetup_mapping\u001b[0;34m(cls, registry, cls_, dict_, table, mapper_kw)\u001b[0m\n\u001b[1;32m    175\u001b[0m             \u001b[0mcfg_cls\u001b[0m \u001b[0;34m=\u001b[0m \u001b[0m_ClassScanMapperConfig\u001b[0m\u001b[0;34m\u001b[0m\u001b[0;34m\u001b[0m\u001b[0m\n\u001b[1;32m    176\u001b[0m \u001b[0;34m\u001b[0m\u001b[0m\n\u001b[0;32m--> 177\u001b[0;31m         \u001b[0;32mreturn\u001b[0m \u001b[0mcfg_cls\u001b[0m\u001b[0;34m(\u001b[0m\u001b[0mregistry\u001b[0m\u001b[0;34m,\u001b[0m \u001b[0mcls_\u001b[0m\u001b[0;34m,\u001b[0m \u001b[0mdict_\u001b[0m\u001b[0;34m,\u001b[0m \u001b[0mtable\u001b[0m\u001b[0;34m,\u001b[0m \u001b[0mmapper_kw\u001b[0m\u001b[0;34m)\u001b[0m\u001b[0;34m\u001b[0m\u001b[0;34m\u001b[0m\u001b[0m\n\u001b[0m\u001b[1;32m    178\u001b[0m \u001b[0;34m\u001b[0m\u001b[0m\n\u001b[1;32m    179\u001b[0m     \u001b[0;32mdef\u001b[0m \u001b[0m__init__\u001b[0m\u001b[0;34m(\u001b[0m\u001b[0mself\u001b[0m\u001b[0;34m,\u001b[0m \u001b[0mregistry\u001b[0m\u001b[0;34m,\u001b[0m \u001b[0mcls_\u001b[0m\u001b[0;34m)\u001b[0m\u001b[0;34m:\u001b[0m\u001b[0;34m\u001b[0m\u001b[0;34m\u001b[0m\u001b[0m\n",
      "\u001b[0;32m~/anaconda/envs/worldbank/lib/python3.9/site-packages/sqlalchemy/orm/decl_base.py\u001b[0m in \u001b[0;36m__init__\u001b[0;34m(self, registry, cls_, dict_, table, mapper_kw)\u001b[0m\n\u001b[1;32m    312\u001b[0m             \u001b[0mself\u001b[0m\u001b[0;34m.\u001b[0m\u001b[0m_setup_inheritance\u001b[0m\u001b[0;34m(\u001b[0m\u001b[0mmapper_kw\u001b[0m\u001b[0;34m)\u001b[0m\u001b[0;34m\u001b[0m\u001b[0;34m\u001b[0m\u001b[0m\n\u001b[1;32m    313\u001b[0m \u001b[0;34m\u001b[0m\u001b[0m\n\u001b[0;32m--> 314\u001b[0;31m             \u001b[0mself\u001b[0m\u001b[0;34m.\u001b[0m\u001b[0m_early_mapping\u001b[0m\u001b[0;34m(\u001b[0m\u001b[0mmapper_kw\u001b[0m\u001b[0;34m)\u001b[0m\u001b[0;34m\u001b[0m\u001b[0;34m\u001b[0m\u001b[0m\n\u001b[0m\u001b[1;32m    315\u001b[0m \u001b[0;34m\u001b[0m\u001b[0m\n\u001b[1;32m    316\u001b[0m     \u001b[0;32mdef\u001b[0m \u001b[0m_setup_declared_events\u001b[0m\u001b[0;34m(\u001b[0m\u001b[0mself\u001b[0m\u001b[0;34m)\u001b[0m\u001b[0;34m:\u001b[0m\u001b[0;34m\u001b[0m\u001b[0;34m\u001b[0m\u001b[0m\n",
      "\u001b[0;32m~/anaconda/envs/worldbank/lib/python3.9/site-packages/sqlalchemy/orm/decl_base.py\u001b[0m in \u001b[0;36m_early_mapping\u001b[0;34m(self, mapper_kw)\u001b[0m\n\u001b[1;32m    198\u001b[0m \u001b[0;34m\u001b[0m\u001b[0m\n\u001b[1;32m    199\u001b[0m     \u001b[0;32mdef\u001b[0m \u001b[0m_early_mapping\u001b[0m\u001b[0;34m(\u001b[0m\u001b[0mself\u001b[0m\u001b[0;34m,\u001b[0m \u001b[0mmapper_kw\u001b[0m\u001b[0;34m)\u001b[0m\u001b[0;34m:\u001b[0m\u001b[0;34m\u001b[0m\u001b[0;34m\u001b[0m\u001b[0m\n\u001b[0;32m--> 200\u001b[0;31m         \u001b[0mself\u001b[0m\u001b[0;34m.\u001b[0m\u001b[0mmap\u001b[0m\u001b[0;34m(\u001b[0m\u001b[0mmapper_kw\u001b[0m\u001b[0;34m)\u001b[0m\u001b[0;34m\u001b[0m\u001b[0;34m\u001b[0m\u001b[0m\n\u001b[0m\u001b[1;32m    201\u001b[0m \u001b[0;34m\u001b[0m\u001b[0m\n\u001b[1;32m    202\u001b[0m \u001b[0;34m\u001b[0m\u001b[0m\n",
      "\u001b[0;32m~/anaconda/envs/worldbank/lib/python3.9/site-packages/sqlalchemy/orm/decl_base.py\u001b[0m in \u001b[0;36mmap\u001b[0;34m(self, mapper_kw)\u001b[0m\n\u001b[1;32m    990\u001b[0m         return self.set_cls_attribute(\n\u001b[1;32m    991\u001b[0m             \u001b[0;34m\"__mapper__\"\u001b[0m\u001b[0;34m,\u001b[0m\u001b[0;34m\u001b[0m\u001b[0;34m\u001b[0m\u001b[0m\n\u001b[0;32m--> 992\u001b[0;31m             \u001b[0mmapper_cls\u001b[0m\u001b[0;34m(\u001b[0m\u001b[0mself\u001b[0m\u001b[0;34m.\u001b[0m\u001b[0mcls\u001b[0m\u001b[0;34m,\u001b[0m \u001b[0mself\u001b[0m\u001b[0;34m.\u001b[0m\u001b[0mlocal_table\u001b[0m\u001b[0;34m,\u001b[0m \u001b[0;34m**\u001b[0m\u001b[0mself\u001b[0m\u001b[0;34m.\u001b[0m\u001b[0mmapper_args\u001b[0m\u001b[0;34m)\u001b[0m\u001b[0;34m,\u001b[0m\u001b[0;34m\u001b[0m\u001b[0;34m\u001b[0m\u001b[0m\n\u001b[0m\u001b[1;32m    993\u001b[0m         )\n\u001b[1;32m    994\u001b[0m \u001b[0;34m\u001b[0m\u001b[0m\n",
      "\u001b[0;32m<string>\u001b[0m in \u001b[0;36m__init__\u001b[0;34m(self, class_, local_table, properties, primary_key, non_primary, inherits, inherit_condition, inherit_foreign_keys, always_refresh, version_id_col, version_id_generator, polymorphic_on, _polymorphic_map, polymorphic_identity, concrete, with_polymorphic, polymorphic_load, allow_partial_pks, batch, column_prefix, include_properties, exclude_properties, passive_updates, passive_deletes, confirm_deleted_rows, eager_defaults, legacy_is_orphan, _compiled_cache_size)\u001b[0m\n",
      "\u001b[0;32m~/anaconda/envs/worldbank/lib/python3.9/site-packages/sqlalchemy/util/deprecations.py\u001b[0m in \u001b[0;36mwarned\u001b[0;34m(fn, *args, **kwargs)\u001b[0m\n\u001b[1;32m    296\u001b[0m                         \u001b[0mstacklevel\u001b[0m\u001b[0;34m=\u001b[0m\u001b[0;36m3\u001b[0m\u001b[0;34m,\u001b[0m\u001b[0;34m\u001b[0m\u001b[0;34m\u001b[0m\u001b[0m\n\u001b[1;32m    297\u001b[0m                     )\n\u001b[0;32m--> 298\u001b[0;31m             \u001b[0;32mreturn\u001b[0m \u001b[0mfn\u001b[0m\u001b[0;34m(\u001b[0m\u001b[0;34m*\u001b[0m\u001b[0margs\u001b[0m\u001b[0;34m,\u001b[0m \u001b[0;34m**\u001b[0m\u001b[0mkwargs\u001b[0m\u001b[0;34m)\u001b[0m\u001b[0;34m\u001b[0m\u001b[0;34m\u001b[0m\u001b[0m\n\u001b[0m\u001b[1;32m    299\u001b[0m \u001b[0;34m\u001b[0m\u001b[0m\n\u001b[1;32m    300\u001b[0m         \u001b[0mdoc\u001b[0m \u001b[0;34m=\u001b[0m \u001b[0mfn\u001b[0m\u001b[0;34m.\u001b[0m\u001b[0m__doc__\u001b[0m \u001b[0;32mis\u001b[0m \u001b[0;32mnot\u001b[0m \u001b[0;32mNone\u001b[0m \u001b[0;32mand\u001b[0m \u001b[0mfn\u001b[0m\u001b[0;34m.\u001b[0m\u001b[0m__doc__\u001b[0m \u001b[0;32mor\u001b[0m \u001b[0;34m\"\"\u001b[0m\u001b[0;34m\u001b[0m\u001b[0;34m\u001b[0m\u001b[0m\n",
      "\u001b[0;32m~/anaconda/envs/worldbank/lib/python3.9/site-packages/sqlalchemy/orm/mapper.py\u001b[0m in \u001b[0;36m__init__\u001b[0;34m(self, class_, local_table, properties, primary_key, non_primary, inherits, inherit_condition, inherit_foreign_keys, always_refresh, version_id_col, version_id_generator, polymorphic_on, _polymorphic_map, polymorphic_identity, concrete, with_polymorphic, polymorphic_load, allow_partial_pks, batch, column_prefix, include_properties, exclude_properties, passive_updates, passive_deletes, confirm_deleted_rows, eager_defaults, legacy_is_orphan, _compiled_cache_size)\u001b[0m\n\u001b[1;32m    683\u001b[0m             \u001b[0mself\u001b[0m\u001b[0;34m.\u001b[0m\u001b[0m_configure_properties\u001b[0m\u001b[0;34m(\u001b[0m\u001b[0;34m)\u001b[0m\u001b[0;34m\u001b[0m\u001b[0;34m\u001b[0m\u001b[0m\n\u001b[1;32m    684\u001b[0m             \u001b[0mself\u001b[0m\u001b[0;34m.\u001b[0m\u001b[0m_configure_polymorphic_setter\u001b[0m\u001b[0;34m(\u001b[0m\u001b[0;34m)\u001b[0m\u001b[0;34m\u001b[0m\u001b[0;34m\u001b[0m\u001b[0m\n\u001b[0;32m--> 685\u001b[0;31m             \u001b[0mself\u001b[0m\u001b[0;34m.\u001b[0m\u001b[0m_configure_pks\u001b[0m\u001b[0;34m(\u001b[0m\u001b[0;34m)\u001b[0m\u001b[0;34m\u001b[0m\u001b[0;34m\u001b[0m\u001b[0m\n\u001b[0m\u001b[1;32m    686\u001b[0m             \u001b[0mself\u001b[0m\u001b[0;34m.\u001b[0m\u001b[0mregistry\u001b[0m\u001b[0;34m.\u001b[0m\u001b[0m_flag_new_mapper\u001b[0m\u001b[0;34m(\u001b[0m\u001b[0mself\u001b[0m\u001b[0;34m)\u001b[0m\u001b[0;34m\u001b[0m\u001b[0;34m\u001b[0m\u001b[0m\n\u001b[1;32m    687\u001b[0m             \u001b[0mself\u001b[0m\u001b[0;34m.\u001b[0m\u001b[0m_log\u001b[0m\u001b[0;34m(\u001b[0m\u001b[0;34m\"constructed\"\u001b[0m\u001b[0;34m)\u001b[0m\u001b[0;34m\u001b[0m\u001b[0;34m\u001b[0m\u001b[0m\n",
      "\u001b[0;32m~/anaconda/envs/worldbank/lib/python3.9/site-packages/sqlalchemy/orm/mapper.py\u001b[0m in \u001b[0;36m_configure_pks\u001b[0;34m(self)\u001b[0m\n\u001b[1;32m   1325\u001b[0m             \u001b[0;32mor\u001b[0m \u001b[0mlen\u001b[0m\u001b[0;34m(\u001b[0m\u001b[0mself\u001b[0m\u001b[0;34m.\u001b[0m\u001b[0m_pks_by_table\u001b[0m\u001b[0;34m[\u001b[0m\u001b[0mself\u001b[0m\u001b[0;34m.\u001b[0m\u001b[0mpersist_selectable\u001b[0m\u001b[0;34m]\u001b[0m\u001b[0;34m)\u001b[0m \u001b[0;34m==\u001b[0m \u001b[0;36m0\u001b[0m\u001b[0;34m\u001b[0m\u001b[0;34m\u001b[0m\u001b[0m\n\u001b[1;32m   1326\u001b[0m         ):\n\u001b[0;32m-> 1327\u001b[0;31m             raise sa_exc.ArgumentError(\n\u001b[0m\u001b[1;32m   1328\u001b[0m                 \u001b[0;34m\"Mapper %s could not assemble any primary \"\u001b[0m\u001b[0;34m\u001b[0m\u001b[0;34m\u001b[0m\u001b[0m\n\u001b[1;32m   1329\u001b[0m                 \u001b[0;34m\"key columns for mapped table '%s'\"\u001b[0m\u001b[0;34m\u001b[0m\u001b[0;34m\u001b[0m\u001b[0m\n",
      "\u001b[0;31mArgumentError\u001b[0m: Mapper mapped class History->history could not assemble any primary key columns for mapped table 'history'"
     ]
    }
   ],
   "source": [
    "#Configuration\n",
    "\n",
    "import sys\n",
    "from sqlalchemy import Column, ForeignKey, Integer, String, Float, Date\n",
    "from sqlalchemy.ext.declarative import declarative_base\n",
    "from sqlalchemy.orm import relationship, sessionmaker\n",
    "from sqlalchemy import create_engine\n",
    "\n",
    "\n",
    "Base = declarative_base()\n",
    "\n",
    "\n",
    "\n",
    "\n",
    "#Class and Table\n",
    "\n",
    "class StockInfo(Base):\n",
    "    __tablename__ = 'stock_info'\n",
    "    ticker = Column(String(10), primary_key=True)\n",
    "    name = Column(String(250), nullable=False)\n",
    "    \n",
    "    \n",
    "    \n",
    "    \n",
    "    \n",
    "class History(Base):\n",
    "    __tablename__ = 'history'\n",
    "    \n",
    "    id = Column(Integer, primanry_key=True)\n",
    "    date = Column(Date, nullable=False)\n",
    "    ticker = Column(String(10), ForeignKey('stock_info.ticker'))\n",
    "    price = Column(Float , nullable=True)\n",
    "    stock_info = relationship(StockInfo)\n",
    "    \n",
    "\n",
    "\n",
    "\n",
    "engine = create_engine('sqlite:///stocksn.db')\n",
    "Base.metadata.create_all(engine)"
   ]
  },
  {
   "cell_type": "code",
   "execution_count": null,
   "id": "ec2083a4",
   "metadata": {
    "ExecuteTime": {
     "end_time": "2021-09-16T21:15:57.169376Z",
     "start_time": "2021-09-16T21:15:57.157275Z"
    }
   },
   "outputs": [],
   "source": [
    "trendings.data.columns.get_level_values(0).unique()"
   ]
  },
  {
   "cell_type": "code",
   "execution_count": null,
   "id": "ac16f8b6",
   "metadata": {
    "ExecuteTime": {
     "end_time": "2021-09-16T22:19:16.228738Z",
     "start_time": "2021-09-16T22:19:16.225645Z"
    }
   },
   "outputs": [],
   "source": [
    "DBSession = sessionmaker(bind = engine)\n",
    "session = DBSession()"
   ]
  },
  {
   "cell_type": "code",
   "execution_count": null,
   "id": "51bbcded",
   "metadata": {
    "ExecuteTime": {
     "end_time": "2021-09-17T01:13:13.596870Z",
     "start_time": "2021-09-17T01:13:13.588275Z"
    }
   },
   "outputs": [],
   "source": [
    "firstResult = session.query(text(close)).first()"
   ]
  },
  {
   "cell_type": "code",
   "execution_count": null,
   "id": "abf94302",
   "metadata": {
    "ExecuteTime": {
     "end_time": "2021-09-18T23:22:52.353545Z",
     "start_time": "2021-09-18T23:22:52.350815Z"
    }
   },
   "outputs": [],
   "source": [
    "df = trendings.data"
   ]
  },
  {
   "cell_type": "code",
   "execution_count": null,
   "id": "0d7f8bd3",
   "metadata": {
    "ExecuteTime": {
     "end_time": "2021-09-16T23:26:14.773061Z",
     "start_time": "2021-09-16T23:26:14.247470Z"
    }
   },
   "outputs": [],
   "source": [
    "trendings.data.to_sql('stocks', engine, dtype={'date':Date, 'ticker':String(8), 'price':Float, 'volumne':Integer})"
   ]
  },
  {
   "cell_type": "code",
   "execution_count": null,
   "id": "30f82d62",
   "metadata": {
    "ExecuteTime": {
     "end_time": "2021-09-18T23:45:04.924496Z",
     "start_time": "2021-09-18T23:44:59.546869Z"
    }
   },
   "outputs": [],
   "source": [
    "df = trendings.data\n",
    "selected = df.stack(level=[1]).reset_index()[['Date', 'level_1', 'Adj Close']]\n",
    "selected.columns = ['Date', 'Ticker', 'Price']\n",
    "selected.to_sql('history', engine, if_exists = 'replace')"
   ]
  },
  {
   "cell_type": "code",
   "execution_count": null,
   "id": "3bafb794",
   "metadata": {
    "ExecuteTime": {
     "end_time": "2021-09-17T17:34:25.138281Z",
     "start_time": "2021-09-17T17:34:25.133730Z"
    }
   },
   "outputs": [],
   "source": [
    "df.columns.get_level_values(1)"
   ]
  },
  {
   "cell_type": "code",
   "execution_count": null,
   "id": "fa884146",
   "metadata": {
    "ExecuteTime": {
     "end_time": "2021-09-17T20:07:02.613300Z",
     "start_time": "2021-09-17T20:07:02.583524Z"
    }
   },
   "outputs": [],
   "source": [
    "reset_df.head()"
   ]
  },
  {
   "cell_type": "code",
   "execution_count": 106,
   "id": "ccdc231f",
   "metadata": {
    "ExecuteTime": {
     "end_time": "2021-10-07T20:20:53.756176Z",
     "start_time": "2021-10-07T20:20:53.747581Z"
    }
   },
   "outputs": [
    {
     "ename": "NameError",
     "evalue": "name 'engine' is not defined",
     "output_type": "error",
     "traceback": [
      "\u001b[0;31m---------------------------------------------------------------------------\u001b[0m",
      "\u001b[0;31mNameError\u001b[0m                                 Traceback (most recent call last)",
      "\u001b[0;32m<ipython-input-106-19e32784f387>\u001b[0m in \u001b[0;36m<module>\u001b[0;34m\u001b[0m\n\u001b[0;32m----> 1\u001b[0;31m \u001b[0mdf\u001b[0m\u001b[0;34m.\u001b[0m\u001b[0mto_sql\u001b[0m\u001b[0;34m(\u001b[0m\u001b[0;34m'history'\u001b[0m\u001b[0;34m,\u001b[0m \u001b[0mengine\u001b[0m\u001b[0;34m,\u001b[0m \u001b[0mif_exists\u001b[0m \u001b[0;34m=\u001b[0m \u001b[0;34m'replace'\u001b[0m\u001b[0;34m)\u001b[0m\u001b[0;34m\u001b[0m\u001b[0;34m\u001b[0m\u001b[0m\n\u001b[0m",
      "\u001b[0;31mNameError\u001b[0m: name 'engine' is not defined"
     ]
    }
   ],
   "source": [
    "df.to_sql('history', engine, if_exists = 'replace')"
   ]
  },
  {
   "cell_type": "code",
   "execution_count": null,
   "id": "0126b474",
   "metadata": {
    "ExecuteTime": {
     "end_time": "2021-09-17T01:14:42.377741Z",
     "start_time": "2021-09-17T01:14:42.353221Z"
    }
   },
   "outputs": [],
   "source": [
    "engine.execute('SELECT DATE, AAPL FROM close LIMIT 10 WHERE AAPL OVER 140').fetchall()"
   ]
  },
  {
   "cell_type": "code",
   "execution_count": null,
   "id": "ee19b355",
   "metadata": {
    "ExecuteTime": {
     "end_time": "2021-09-17T00:37:21.319233Z",
     "start_time": "2021-09-17T00:37:21.311612Z"
    }
   },
   "outputs": [],
   "source": []
  },
  {
   "cell_type": "markdown",
   "id": "69faaafa",
   "metadata": {},
   "source": [
    "# portfolio Optimization"
   ]
  },
  {
   "cell_type": "markdown",
   "id": "98a6f1e0",
   "metadata": {},
   "source": [
    "The following single line of code generates a random array of weights that sum to 1.0. In the portfolio, one of the assumptions is that all funds will deployed to the assets in the portfolio according to some weighting."
   ]
  },
  {
   "cell_type": "code",
   "execution_count": null,
   "id": "81cc6eb3",
   "metadata": {
    "ExecuteTime": {
     "end_time": "2021-09-09T21:37:58.281025Z",
     "start_time": "2021-09-09T21:37:58.277503Z"
    },
    "scrolled": true
   },
   "outputs": [],
   "source": [
    "weights = np.random.dirichlet(np.ones(6), size=1)\n",
    "weights = weights[0]\n",
    "print(weights)"
   ]
  },
  {
   "cell_type": "markdown",
   "id": "58d6741e",
   "metadata": {},
   "source": [
    "From these weights, we can calculate the expected weighted return of the portfolio of assets using these random weights."
   ]
  },
  {
   "cell_type": "code",
   "execution_count": null,
   "id": "005e313c",
   "metadata": {
    "ExecuteTime": {
     "end_time": "2021-09-09T21:37:59.559533Z",
     "start_time": "2021-09-09T21:37:59.536038Z"
    }
   },
   "outputs": [],
   "source": [
    "exp_port_return = np.sum(returns.mean()*weights)*252\n",
    "print('portfolio mean: ',exp_port_return)"
   ]
  },
  {
   "cell_type": "code",
   "execution_count": null,
   "id": "5440e17c",
   "metadata": {
    "ExecuteTime": {
     "end_time": "2021-05-15T09:07:33.542737Z",
     "start_time": "2021-05-15T09:07:33.535198Z"
    }
   },
   "outputs": [],
   "source": [
    "np.dot(returns.cov()*252, weights)"
   ]
  },
  {
   "cell_type": "code",
   "execution_count": null,
   "id": "1f376635",
   "metadata": {
    "ExecuteTime": {
     "end_time": "2021-05-15T09:07:00.320379Z",
     "start_time": "2021-05-15T09:07:00.314011Z"
    }
   },
   "outputs": [],
   "source": [
    "port_var = np.dot(weights.T, np.dot(returns.cov()*252, weights))\n",
    "port_vol = np.sqrt(port_var)\n",
    "print(port_var)\n",
    "print('portfolio volatility: ', port_vol)"
   ]
  },
  {
   "cell_type": "code",
   "execution_count": null,
   "id": "ddabc82f",
   "metadata": {
    "ExecuteTime": {
     "end_time": "2021-07-14T06:33:58.035546Z",
     "start_time": "2021-07-14T06:33:58.028808Z"
    }
   },
   "outputs": [],
   "source": [
    "import time\n",
    "\n",
    "def portfolio_simulation(assets, startdate, iterations):\n",
    "    '''\n",
    "    Runs a simulation by randomly selecting portfolio weights a specified\n",
    "    number of times (iterations), returns the list of results and plots \n",
    "    all the portfolios as well.\n",
    "    \n",
    "    Parameters:\n",
    "    -----------  \n",
    "        assets: list\n",
    "            all the assets that are to be pulled from Quandl to comprise\n",
    "            our portfolio.    \n",
    "        iterations: int \n",
    "            the number of randomly generated portfolios to build.\n",
    "    \n",
    "    Returns:\n",
    "    --------\n",
    "        port_returns: array\n",
    "            array of all the simulated portfolio returns.\n",
    "        port_vols: array\n",
    "            array of all the simulated portfolio volatilities.\n",
    "    '''\n",
    "    \n",
    "    start = time.time()\n",
    "    num_assets = len(assets.split())\n",
    "    \n",
    "    data = yf.download(tickers=assets, start=startdate)\n",
    "    acp = data['Adj Close']\n",
    "    returns = np.log(acp/acp.shift(1))\n",
    "    \n",
    "    port_returns = []\n",
    "    port_volats = []\n",
    "    \n",
    "    for i in range(iterations):\n",
    "        weights = np.random.dirichlet(np.ones(num_assets), size=1)\n",
    "        weights = weights[0]\n",
    "        port_returns.append(np.sum(returns.mean()*weights) * 252)\n",
    "        port_volats.append(np.sqrt(np.dot(weights.T, np.dot(returns.cov()*252, weights))))\n",
    "        \n",
    "    port_returns = np.array(port_returns)\n",
    "    port_volats = np.array(port_volats)\n",
    "    \n",
    "    plt.figure(figsize=(18,10))\n",
    "    plt.scatter(port_volats, port_returns, c=port_returns/port_volats, marker='o')\n",
    "    plt.xlim(left=0)\n",
    "    plt.ylim(bottom=0)\n",
    "    plt.xlabel('Portfolio Volatility')\n",
    "    plt.ylabel('Portfolio Return')\n",
    "    plt.colorbar(label = 'Sharpe ratio')\n",
    "    \n",
    "    print('Elapsed Time: {} seconds'.format(time.time() - start))\n",
    "\n",
    "        print('Elapsed Time: {} seconds'.format(time.time() - start))\n",
    "\n",
    "    return port_returns, port_volats\n",
    "    \n",
    "\n",
    "    "
   ]
  },
  {
   "cell_type": "code",
   "execution_count": null,
   "id": "b9e1ecce",
   "metadata": {
    "ExecuteTime": {
     "end_time": "2021-07-14T23:40:42.930254Z",
     "start_time": "2021-07-14T23:40:42.927700Z"
    }
   },
   "outputs": [],
   "source": [
    "assets = \"SPY AAPL MSFT QQQ VWO GLD\"\n",
    "startdate = \"2015-01-01\""
   ]
  },
  {
   "cell_type": "code",
   "execution_count": null,
   "id": "9cfaec57",
   "metadata": {
    "ExecuteTime": {
     "end_time": "2021-07-14T23:40:50.339439Z",
     "start_time": "2021-07-14T23:40:43.779363Z"
    }
   },
   "outputs": [],
   "source": [
    "portfolio_simulation(assets, startdate, 5000)"
   ]
  },
  {
   "cell_type": "code",
   "execution_count": null,
   "id": "8876339a",
   "metadata": {
    "ExecuteTime": {
     "end_time": "2021-07-15T01:01:34.705746Z",
     "start_time": "2021-07-15T01:01:34.701128Z"
    }
   },
   "outputs": [],
   "source": [
    "def portfolio_stats(weights):\n",
    "    '''\n",
    "    We can gather the portfolio performance metrics for a specific set of weights.\n",
    "    This function will be important because we'll want to pass it to an optmization\n",
    "    function to get the portfolio with the best desired characteristics.\n",
    "    \n",
    "    Note: Sharpe ratio here uses a risk-free short rate of 0.\n",
    "    \n",
    "    Paramaters: \n",
    "    -----------\n",
    "        weights: array, \n",
    "            asset weights in the portfolio.\n",
    "        returns: dataframe\n",
    "            a dataframe of returns for each asset in the trial portfolio    \n",
    "    \n",
    "    Returns: \n",
    "    --------\n",
    "        dict of portfolio statistics - mean return, volatility, sharp ratio.\n",
    "    '''\n",
    "    \n",
    "    # Convert to array in case list was passed instead.\n",
    "    weights = np.array(weights)\n",
    "    port_return = np.sum(returns.mean()*weights)*252\n",
    "    port_volat = np.sqrt(np.dot(weights.T, np.dot(returns.cov()*252, weights)))\n",
    "    sharpe = port_return/port_volat\n",
    "    \n",
    "    return {'return': port_return, 'volatility':port_volat, 'sharpe':sharpe}"
   ]
  },
  {
   "cell_type": "markdown",
   "id": "47088092",
   "metadata": {},
   "source": [
    "## Minimization Functions\n"
   ]
  },
  {
   "cell_type": "code",
   "execution_count": null,
   "id": "c2b1cd6a",
   "metadata": {
    "ExecuteTime": {
     "end_time": "2021-07-15T01:02:07.857701Z",
     "start_time": "2021-07-15T01:02:07.853309Z"
    }
   },
   "outputs": [],
   "source": [
    "def minimize_sharpe(weights):  \n",
    "    return -portfolio_stats(weights)['sharpe'] \n",
    "\n",
    "def minimize_volatility(weights):  \n",
    "    # Note that we don't return the negative of volatility here because we \n",
    "    # want the absolute value of volatility to shrink, unlike sharpe.\n",
    "    return portfolio_stats(weights)['volatility'] \n",
    "\n",
    "def minimize_return(weights): \n",
    "    return -portfolio_stats(weights)['return']"
   ]
  },
  {
   "cell_type": "markdown",
   "id": "2616d849",
   "metadata": {},
   "source": [
    "## The Optimization Function\n",
    "\n",
    "The scipy.optimize function accepts several parameters in order to optimize on your desired variable. Some of these are especially important in the portfolio optimization process.\n",
    "\n",
    "- constraints: In this case, our key constraint is that all the portfolio weights should sum to 1.0. What this means, practically, is that all of our cash should be invested in an asset or ETF.\n",
    "- bounds: Bounds is going to refer to how much of our portfolio one asset can take up, from 0.0 to 1.0. 0.0 being a 0% position, and 1.0 being a 100% position (That stock or ETF is our only holding). Note that we can change this if we want so that we don’t take on too much concentration risk. Concentration risk is the loss of diversification benefits you can encouter if one stock or ETF takes up too much of your portfolio. In reality, you might want to set these bounds to (0, 0.2), which means a single stock can only take up a maximum of 20% of the portfolio.\n",
    "- initializer: Initializer just sets the initial weights of the optimization algorithm so that it has a starting point. Here we’ll just set them so that each stock takes up an equal percentage of the portfolio."
   ]
  },
  {
   "cell_type": "code",
   "execution_count": null,
   "id": "4213336a",
   "metadata": {
    "ExecuteTime": {
     "end_time": "2021-07-15T01:02:08.742380Z",
     "start_time": "2021-07-15T01:02:08.737690Z"
    }
   },
   "outputs": [],
   "source": [
    "num_assets = 6\n",
    "constraints = ({'type' : 'eq', 'fun': lambda x: np.sum(x) -1})\n",
    "bounds = tuple((0,1) for x in range(num_assets))\n",
    "initializer = num_assets * [1./num_assets,]\n",
    "\n",
    "print (initializer)\n",
    "print (bounds)"
   ]
  },
  {
   "cell_type": "code",
   "execution_count": null,
   "id": "f1572972",
   "metadata": {
    "ExecuteTime": {
     "end_time": "2021-07-15T01:02:09.621339Z",
     "start_time": "2021-07-15T01:02:09.541894Z"
    }
   },
   "outputs": [],
   "source": [
    "import scipy.optimize as optimize\n",
    "optimal_sharpe=optimize.minimize(minimize_sharpe,\n",
    "                                 initializer,\n",
    "                                 method = 'SLSQP',\n",
    "                                 bounds = bounds,\n",
    "                                 constraints = constraints)\n",
    "print(optimal_sharpe)"
   ]
  },
  {
   "cell_type": "code",
   "execution_count": null,
   "id": "945eb3e2",
   "metadata": {
    "ExecuteTime": {
     "end_time": "2021-07-15T01:02:12.674463Z",
     "start_time": "2021-07-15T01:02:12.669183Z"
    }
   },
   "outputs": [],
   "source": [
    "optimal_sharpe_weights=optimal_sharpe['x'].round(4)\n",
    "list(zip(assets,list(optimal_sharpe_weights)))"
   ]
  },
  {
   "cell_type": "code",
   "execution_count": null,
   "id": "cb1ac9e5",
   "metadata": {
    "ExecuteTime": {
     "end_time": "2021-07-15T01:02:56.654613Z",
     "start_time": "2021-07-15T01:02:56.646879Z"
    }
   },
   "outputs": [],
   "source": [
    "optimal_stats = portfolio_stats(optimal_sharpe_weights)\n",
    "print(optimal_stats)\n",
    "\n",
    "print('Optimal Portfolio Return: ', round(optimal_stats['return']*100,4))\n",
    "print('Optimal Portfolio Volatility: ', round(optimal_stats['volatility']*100,4))\n",
    "print('Optimal Portfolio Sharpe Ratio: ', round(optimal_stats['sharpe'],4))"
   ]
  },
  {
   "cell_type": "code",
   "execution_count": null,
   "id": "cbc15265",
   "metadata": {
    "ExecuteTime": {
     "end_time": "2021-05-13T18:14:43.175958Z",
     "start_time": "2021-05-13T18:14:42.980610Z"
    }
   },
   "outputs": [],
   "source": [
    "df = px.data.stocks(indexed=True) - 1\n",
    "fig = px.area(df, facet_col=\"company\", facet_col_wrap=3)\n",
    "fig.show()"
   ]
  },
  {
   "cell_type": "code",
   "execution_count": null,
   "id": "362ef3c8",
   "metadata": {
    "ExecuteTime": {
     "end_time": "2021-07-14T06:29:27.771734Z",
     "start_time": "2021-07-14T06:29:26.460867Z"
    }
   },
   "outputs": [],
   "source": [
    "# Using plotly.express\n",
    "import plotly.express as px\n",
    "\n",
    "fig = px.line(adjclose)\n",
    "\n",
    "fig.update_xaxes(\n",
    "    rangeslider_visible=True,\n",
    "    rangeselector=dict(\n",
    "        buttons=list([\n",
    "            dict(count=1, label=\"1m\", step=\"month\", stepmode=\"backward\"),\n",
    "            dict(count=6, label=\"6m\", step=\"month\", stepmode=\"backward\"),\n",
    "            dict(count=1, label=\"YTD\", step=\"year\", stepmode=\"todate\"),\n",
    "            dict(count=1, label=\"1y\", step=\"year\", stepmode=\"backward\"),\n",
    "            dict(step=\"all\")\n",
    "        ])\n",
    "    )\n",
    ")\n",
    "\n",
    "fig.show()"
   ]
  },
  {
   "cell_type": "code",
   "execution_count": null,
   "id": "e5332d5a",
   "metadata": {
    "ExecuteTime": {
     "end_time": "2021-07-14T23:45:15.144978Z",
     "start_time": "2021-07-14T23:45:14.767254Z"
    },
    "scrolled": true
   },
   "outputs": [],
   "source": [
    "df = pd.read_csv('https://raw.githubusercontent.com/plotly/datasets/master/finance-charts-apple.csv')\n",
    "\n",
    "fig = px.line(df, x='Date', y='AAPL.High', title='Time Series with Range Slider and Selectors')\n",
    "\n",
    "fig.update_xaxes(\n",
    "    rangeslider_visible=True,\n",
    "    rangeselector=dict(\n",
    "        buttons=list([\n",
    "            dict(count=1, label=\"1m\", step=\"month\", stepmode=\"backward\"),\n",
    "            dict(count=6, label=\"6m\", step=\"month\", stepmode=\"backward\"),\n",
    "            dict(count=1, label=\"YTD\", step=\"year\", stepmode=\"todate\"),\n",
    "            dict(count=1, label=\"1y\", step=\"year\", stepmode=\"backward\"),\n",
    "            dict(step=\"all\")\n",
    "        ])\n",
    "    )\n",
    ")\n",
    "fig.show()"
   ]
  },
  {
   "cell_type": "markdown",
   "id": "fe43fd47",
   "metadata": {},
   "source": [
    "# references\n",
    "\n",
    "https://kevinvecmanis.io/finance/optimization/2019/04/02/Algorithmic-Portfolio-Optimization.html"
   ]
  },
  {
   "cell_type": "code",
   "execution_count": null,
   "id": "53901157",
   "metadata": {
    "ExecuteTime": {
     "end_time": "2021-09-09T21:40:10.236465Z",
     "start_time": "2021-09-09T21:40:10.204550Z"
    }
   },
   "outputs": [],
   "source": [
    "#!/usr/bin/env python\n",
    "# -*- coding: utf-8 -*-\n",
    "#\n",
    "# Yahoo! Finance market data downloader (+fix for Pandas Datareader)\n",
    "# https://github.com/ranaroussi/yfinance\n",
    "#\n",
    "# Copyright 2017-2019 Ran Aroussi\n",
    "#\n",
    "# Licensed under the Apache License, Version 2.0 (the \"License\");\n",
    "# you may not use this file except in compliance with the License.\n",
    "# You may obtain a copy of the License at\n",
    "#\n",
    "#     http://www.apache.org/licenses/LICENSE-2.0\n",
    "#\n",
    "# Unless required by applicable law or agreed to in writing, software\n",
    "# distributed under the License is distributed on an \"AS IS\" BASIS,\n",
    "# WITHOUT WARRANTIES OR CONDITIONS OF ANY KIND, either express or implied.\n",
    "# See the License for the specific language governing permissions and\n",
    "# limitations under the License.\n",
    "#\n",
    "\n",
    "from __future__ import print_function\n",
    "\n",
    "import requests as _requests\n",
    "import re as _re\n",
    "import pandas as _pd\n",
    "import numpy as _np\n",
    "import sys as _sys\n",
    "import re as _re\n",
    "\n",
    "try:\n",
    "    import ujson as _json\n",
    "except ImportError:\n",
    "    import json as _json\n",
    "\n",
    "\n",
    "user_agent_headers = {'User-Agent': 'Mozilla/5.0 (Macintosh; Intel Mac OS X 10_10_1) AppleWebKit/537.36 (KHTML, like Gecko) Chrome/39.0.2171.95 Safari/537.36'}\n",
    "\n",
    "def empty_df(index=[]):\n",
    "    empty = _pd.DataFrame(index=index, data={\n",
    "        'Open': _np.nan, 'High': _np.nan, 'Low': _np.nan,\n",
    "        'Close': _np.nan, 'Adj Close': _np.nan, 'Volume': _np.nan})\n",
    "    empty.index.name = 'Date'\n",
    "    return empty\n",
    "\n",
    "\n",
    "def get_html(url, proxy=None, session=None):\n",
    "    session = session or _requests\n",
    "    html = session.get(url=url, proxies=proxy, headers=user_agent_headers).text\n",
    "    return html\n",
    "\n",
    "\n",
    "def get_json(url, proxy=None, session=None):\n",
    "\n",
    "    session = session or _requests\n",
    "    start = time.time()\n",
    "    html = session.get(url=url, proxies=proxy, headers=user_agent_headers).text\n",
    "    if \"QuoteSummaryStore\" not in html:\n",
    "        html = session.get(url=url, proxies=proxy).text\n",
    "     \n",
    "        if \"QuoteSummaryStore\" not in html:\n",
    "            return {}\n",
    "\n",
    "    json_str = html.split('root.App.main =')[1].split(\n",
    "        '(this)')[0].split(';\\n}')[0].strip()\n",
    "    \n",
    "    data = _json.loads(json_str)[\n",
    "        'context']['dispatcher']['stores']['QuoteSummaryStore']\n",
    "    # return data\n",
    "    new_data = _json.dumps(data).replace('{}', 'null')\n",
    "    new_data = _re.sub(\n",
    "        r'\\{[\\'|\\\"]raw[\\'|\\\"]:(.*?),(.*?)\\}', r'\\1', new_data)\n",
    "    \n",
    "    return _json.loads(new_data)\n",
    "\n",
    "\n",
    "def camel2title(o):\n",
    "    return [_re.sub(\"([a-z])([A-Z])\", r\"\\g<1> \\g<2>\", i).title() for i in o]\n",
    "\n",
    "\n",
    "def auto_adjust(data):\n",
    "    df = data.copy()\n",
    "    ratio = df[\"Close\"] / df[\"Adj Close\"]\n",
    "    df[\"Adj Open\"] = df[\"Open\"] / ratio\n",
    "    df[\"Adj High\"] = df[\"High\"] / ratio\n",
    "    df[\"Adj Low\"] = df[\"Low\"] / ratio\n",
    "\n",
    "    df.drop(\n",
    "        [\"Open\", \"High\", \"Low\", \"Close\"],\n",
    "        axis=1, inplace=True)\n",
    "\n",
    "    df.rename(columns={\n",
    "        \"Adj Open\": \"Open\", \"Adj High\": \"High\",\n",
    "        \"Adj Low\": \"Low\", \"Adj Close\": \"Close\"\n",
    "    }, inplace=True)\n",
    "\n",
    "    df = df[[\"Open\", \"High\", \"Low\", \"Close\", \"Volume\"]]\n",
    "    return df[[\"Open\", \"High\", \"Low\", \"Close\", \"Volume\"]]\n",
    "\n",
    "\n",
    "def back_adjust(data):\n",
    "    \"\"\" back-adjusted data to mimic true historical prices \"\"\"\n",
    "\n",
    "    df = data.copy()\n",
    "    ratio = df[\"Adj Close\"] / df[\"Close\"]\n",
    "    df[\"Adj Open\"] = df[\"Open\"] * ratio\n",
    "    df[\"Adj High\"] = df[\"High\"] * ratio\n",
    "    df[\"Adj Low\"] = df[\"Low\"] * ratio\n",
    "\n",
    "    df.drop(\n",
    "        [\"Open\", \"High\", \"Low\", \"Adj Close\"],\n",
    "        axis=1, inplace=True)\n",
    "\n",
    "    df.rename(columns={\n",
    "        \"Adj Open\": \"Open\", \"Adj High\": \"High\",\n",
    "        \"Adj Low\": \"Low\"\n",
    "    }, inplace=True)\n",
    "\n",
    "    return df[[\"Open\", \"High\", \"Low\", \"Close\", \"Volume\"]]\n",
    "\n",
    "\n",
    "def parse_quotes(data, tz=None):\n",
    "    timestamps = data[\"timestamp\"]\n",
    "    ohlc = data[\"indicators\"][\"quote\"][0]\n",
    "    volumes = ohlc[\"volume\"]\n",
    "    opens = ohlc[\"open\"]\n",
    "    closes = ohlc[\"close\"]\n",
    "    lows = ohlc[\"low\"]\n",
    "    highs = ohlc[\"high\"]\n",
    "\n",
    "    adjclose = closes\n",
    "    if \"adjclose\" in data[\"indicators\"]:\n",
    "        adjclose = data[\"indicators\"][\"adjclose\"][0][\"adjclose\"]\n",
    "\n",
    "    quotes = _pd.DataFrame({\"Open\": opens,\n",
    "                            \"High\": highs,\n",
    "                            \"Low\": lows,\n",
    "                            \"Close\": closes,\n",
    "                            \"Adj Close\": adjclose,\n",
    "                            \"Volume\": volumes})\n",
    "\n",
    "    quotes.index = _pd.to_datetime(timestamps, unit=\"s\")\n",
    "    quotes.sort_index(inplace=True)\n",
    "\n",
    "    if tz is not None:\n",
    "        quotes.index = quotes.index.tz_localize(tz)\n",
    "\n",
    "    return quotes\n",
    "\n",
    "\n",
    "def parse_actions(data, tz=None):\n",
    "    dividends = _pd.DataFrame(columns=[\"Dividends\"])\n",
    "    splits = _pd.DataFrame(columns=[\"Stock Splits\"])\n",
    "\n",
    "    if \"events\" in data:\n",
    "        if \"dividends\" in data[\"events\"]:\n",
    "            dividends = _pd.DataFrame(\n",
    "                data=list(data[\"events\"][\"dividends\"].values()))\n",
    "            dividends.set_index(\"date\", inplace=True)\n",
    "            dividends.index = _pd.to_datetime(dividends.index, unit=\"s\")\n",
    "            dividends.sort_index(inplace=True)\n",
    "            if tz is not None:\n",
    "                dividends.index = dividends.index.tz_localize(tz)\n",
    "\n",
    "            dividends.columns = [\"Dividends\"]\n",
    "\n",
    "        if \"splits\" in data[\"events\"]:\n",
    "            splits = _pd.DataFrame(\n",
    "                data=list(data[\"events\"][\"splits\"].values()))\n",
    "            splits.set_index(\"date\", inplace=True)\n",
    "            splits.index = _pd.to_datetime(splits.index, unit=\"s\")\n",
    "            splits.sort_index(inplace=True)\n",
    "            if tz is not None:\n",
    "                splits.index = splits.index.tz_localize(tz)\n",
    "            splits[\"Stock Splits\"] = splits[\"numerator\"] / \\\n",
    "                splits[\"denominator\"]\n",
    "            splits = splits[\"Stock Splits\"]\n",
    "\n",
    "    return dividends, splits\n",
    "\n",
    "\n",
    "class ProgressBar:\n",
    "    def __init__(self, iterations, text='completed'):\n",
    "        self.text = text\n",
    "        self.iterations = iterations\n",
    "        self.prog_bar = '[]'\n",
    "        self.fill_char = '*'\n",
    "        self.width = 50\n",
    "        self.__update_amount(0)\n",
    "        self.elapsed = 1\n",
    "\n",
    "    def completed(self):\n",
    "        if self.elapsed > self.iterations:\n",
    "            self.elapsed = self.iterations\n",
    "        self.update_iteration(1)\n",
    "        print('\\r' + str(self), end='')\n",
    "        _sys.stdout.flush()\n",
    "        print()\n",
    "\n",
    "    def animate(self, iteration=None):\n",
    "        if iteration is None:\n",
    "            self.elapsed += 1\n",
    "            iteration = self.elapsed\n",
    "        else:\n",
    "            self.elapsed += iteration\n",
    "\n",
    "        print('\\r' + str(self), end='')\n",
    "        _sys.stdout.flush()\n",
    "        self.update_iteration()\n",
    "\n",
    "    def update_iteration(self, val=None):\n",
    "        val = val if val is not None else self.elapsed / float(self.iterations)\n",
    "        self.__update_amount(val * 100.0)\n",
    "        self.prog_bar += '  %s of %s %s' % (\n",
    "            self.elapsed, self.iterations, self.text)\n",
    "\n",
    "    def __update_amount(self, new_amount):\n",
    "        percent_done = int(round((new_amount / 100.0) * 100.0))\n",
    "        all_full = self.width - 2\n",
    "        num_hashes = int(round((percent_done / 100.0) * all_full))\n",
    "        self.prog_bar = '[' + self.fill_char * \\\n",
    "            num_hashes + ' ' * (all_full - num_hashes) + ']'\n",
    "        pct_place = (len(self.prog_bar) // 2) - len(str(percent_done))\n",
    "        pct_string = '%d%%' % percent_done\n",
    "        self.prog_bar = self.prog_bar[0:pct_place] + \\\n",
    "            (pct_string + self.prog_bar[pct_place + len(pct_string):])\n",
    "\n",
    "    def __str__(self):\n",
    "        return str(self.prog_bar)"
   ]
  },
  {
   "cell_type": "code",
   "execution_count": null,
   "id": "f0aed90e",
   "metadata": {
    "ExecuteTime": {
     "end_time": "2021-09-09T21:40:11.495725Z",
     "start_time": "2021-09-09T21:40:11.487355Z"
    }
   },
   "outputs": [],
   "source": [
    "ap = TickerBase('AAPL')\n",
    "ap.get_info()"
   ]
  },
  {
   "cell_type": "code",
   "execution_count": null,
   "id": "10b284c3",
   "metadata": {
    "ExecuteTime": {
     "end_time": "2021-09-09T21:40:15.143207Z",
     "start_time": "2021-09-09T21:40:15.131493Z"
    }
   },
   "outputs": [],
   "source": [
    "get_json('https://finance.yahoo.com/quote/AAPL')"
   ]
  },
  {
   "cell_type": "code",
   "execution_count": null,
   "id": "b9db8ab1",
   "metadata": {
    "ExecuteTime": {
     "end_time": "2021-09-09T21:42:14.617361Z",
     "start_time": "2021-09-09T21:40:20.406907Z"
    }
   },
   "outputs": [],
   "source": [
    "base = 'https://finance.yahoo.com/quote/'\n",
    "info = {}\n",
    "with multiprocessing.Pool() as p:\n",
    "    for key in ['AAPL','MSFT', 'GOOGL']:\n",
    "        infos = p.map(get_json, base+key)"
   ]
  },
  {
   "cell_type": "code",
   "execution_count": null,
   "id": "5bbb0831",
   "metadata": {
    "ExecuteTime": {
     "end_time": "2021-09-09T21:42:42.761170Z",
     "start_time": "2021-09-09T21:42:42.752742Z"
    }
   },
   "outputs": [],
   "source": [
    "infos(0)"
   ]
  },
  {
   "cell_type": "code",
   "execution_count": null,
   "id": "635636cb",
   "metadata": {
    "ExecuteTime": {
     "end_time": "2021-09-09T21:42:14.626999Z",
     "start_time": "2021-09-09T21:40:46.571Z"
    }
   },
   "outputs": [],
   "source": [
    "import http.client\n",
    "\n",
    "conn = http.client.HTTPSConnection(\"apidojo-yahoo-finance-v1.p.rapidapi.com\")\n",
    "\n",
    "headers = {\n",
    "    'x-rapidapi-host': \"apidojo-yahoo-finance-v1.p.rapidapi.com\",\n",
    "    'x-rapidapi-key': \"e71460c88cmsh80ec8df46a33373p1464d5jsn538bf9eaf0f6\"\n",
    "    }\n",
    "\n",
    "conn.request(\"GET\", \"/stock/v2/get-summary?symbol=AMRN&region=US\", headers=headers)\n",
    "\n",
    "res = conn.getresponse()\n",
    "data = res.read()\n",
    "\n",
    "print(data.decode(\"utf-8\"))"
   ]
  },
  {
   "cell_type": "code",
   "execution_count": null,
   "id": "afb89caf",
   "metadata": {
    "ExecuteTime": {
     "end_time": "2021-09-09T21:42:14.630906Z",
     "start_time": "2021-09-09T21:40:48.755Z"
    }
   },
   "outputs": [],
   "source": [
    "import http.client\n",
    "\n",
    "conn = http.client.HTTPSConnection(\"apidojo-yahoo-finance-v1.p.rapidapi.com\")\n",
    "\n",
    "headers = {\n",
    "    'x-rapidapi-host': \"apidojo-yahoo-finance-v1.p.rapidapi.com\",\n",
    "    'x-rapidapi-key': \"e71460c88cmsh80ec8df46a33373p1464d5jsn538bf9eaf0f6\"\n",
    "    }\n",
    "\n",
    "conn.request(\"GET\", \"/market/get-trending-tickers?region=US\", headers=headers)\n",
    "\n",
    "res = conn.getresponse()\n",
    "data = res.read()\n",
    "\n",
    "print(data.decode(\"utf-8\"))"
   ]
  },
  {
   "cell_type": "code",
   "execution_count": null,
   "id": "0df02132",
   "metadata": {
    "ExecuteTime": {
     "end_time": "2021-09-08T01:23:40.446293Z",
     "start_time": "2021-09-08T01:23:40.104037Z"
    }
   },
   "outputs": [],
   "source": [
    "import pandas as pd\n",
    "\n",
    "stock = fv('tsla')\n",
    "info = stock.TickerFundament()"
   ]
  },
  {
   "cell_type": "code",
   "execution_count": null,
   "id": "2695bc92",
   "metadata": {
    "ExecuteTime": {
     "end_time": "2021-09-09T21:43:50.994706Z",
     "start_time": "2021-09-09T21:43:46.202232Z"
    }
   },
   "outputs": [],
   "source": [
    "from finvizfinance.screener.overview import Overview\n",
    "from finvizfinance.screener.custom import Custom\n",
    "\n",
    "#foverview = Overview()\n",
    "fcustom = Custom()\n",
    "filters_dict = {'Index':'S&P 500','Country':'USA', 'Performance':'Year +100%' }\n",
    "#foverview.set_filter(filters_dict=filters_dict)\n",
    "#df = foverview.ScreenerView()\n",
    "fcustom.set_filter(filters_dict=filters_dict)\n",
    "df = fcustom.ScreenerView(order = 'Performance (Month)', ascend=False, columns=[0, 1, 2, 3, 6, 7, 42, 43, 65, 66, 67])\n",
    "df.head()\n",
    "\n",
    "tickers = df.Ticker.tolist()\n",
    "perf_stocks = Stocks(tickers, benchmark='SPY', overview=df)\n",
    "perf_stocks.visualize()"
   ]
  },
  {
   "cell_type": "code",
   "execution_count": null,
   "id": "1e54e656",
   "metadata": {
    "ExecuteTime": {
     "end_time": "2021-09-09T07:28:59.944520Z",
     "start_time": "2021-09-09T07:28:59.939183Z"
    }
   },
   "outputs": [],
   "source": [
    "float(perf_stocks.fundamentals['FANG']['P/E'])"
   ]
  },
  {
   "cell_type": "code",
   "execution_count": null,
   "id": "4315d944",
   "metadata": {
    "ExecuteTime": {
     "end_time": "2021-09-09T06:23:40.285003Z",
     "start_time": "2021-09-09T06:23:40.252509Z"
    }
   },
   "outputs": [],
   "source": [
    "df.set_index('Ticker').T.to_dict()"
   ]
  },
  {
   "cell_type": "code",
   "execution_count": null,
   "id": "c1d4ad4f",
   "metadata": {
    "ExecuteTime": {
     "end_time": "2021-09-08T21:44:09.253743Z",
     "start_time": "2021-09-08T21:44:09.247506Z"
    }
   },
   "outputs": [],
   "source": [
    "columns = {\n",
    "    0: 'No.',\n",
    "    1: 'Ticker',\n",
    "    2: 'Company',\n",
    "    3: 'Sector',\n",
    "    4: 'Industry',\n",
    "    5: 'Country',\n",
    "    6: 'Market Cap.',\n",
    "    7: 'P/E',\n",
    "    8: 'Forward P/E',\n",
    "    9: 'PEG',\n",
    "    10: 'P/S',\n",
    "    11: 'P/B',\n",
    "    12: 'P/Cash',\n",
    "    13: 'P/Free Cash Flow',\n",
    "    14: 'Dividend Yield',\n",
    "    15: 'Payout Ratio',\n",
    "    16: 'EPS',\n",
    "    17: 'EPS growth this year',\n",
    "    18: 'EPS growth next year',\n",
    "    19: 'EPS growth past 5 years',\n",
    "    20: 'EPS growth next 5 years',\n",
    "    21: 'Sales growth past 5 years',\n",
    "    22: 'EPS growth qtr over qtr',\n",
    "    23: 'Sales growth qtr over qtr',\n",
    "    24: 'Shares Outstanding',\n",
    "    25: 'Shares Float',\n",
    "    26: 'Insider Ownership',\n",
    "    27: 'Insider Transactions',\n",
    "    28: 'Institutional Ownership',\n",
    "    29: 'Institutional Transactions',\n",
    "    30: 'Float Short',\n",
    "    31: 'Short Ratio',\n",
    "    32: 'Return on Assets',\n",
    "    33: 'Return on Equity',\n",
    "    34: 'Return on Investments',\n",
    "    35: 'Current Ratio',\n",
    "    36: 'Quick Ratio',\n",
    "    37: 'Long Term Debt/Equity',\n",
    "    38: 'Total Debt/Equity',\n",
    "    39: 'Gross Margin',\n",
    "    40: 'Operating Margin',\n",
    "    41: 'Net Profit Margin',\n",
    "    42: 'Performance (Week)',\n",
    "    43: 'Performance (Month)',\n",
    "    44: 'Performance (Quarter)',\n",
    "    45: 'Performance (Half Year)',\n",
    "    46: 'Performance (Year)',\n",
    "    47: 'Performance (YearToDate)',\n",
    "    48: 'Beta',\n",
    "    49: 'Average True Range',\n",
    "    50: 'Volatility (Week)',\n",
    "    51: 'Volatility (Month)',\n",
    "    52: '20-Day Simple Moving Average',\n",
    "    53: '50-Day Simple Moving Average',\n",
    "    54: '200-Day Simple Moving Average',\n",
    "    55: '50-Day High',\n",
    "    56: '50-Day Low',\n",
    "    57: '52-Week High',\n",
    "    58: '52-Week Low',\n",
    "    59: 'RSI',\n",
    "    60: 'Change from Open',\n",
    "    61: 'Gap',\n",
    "    62: 'Analyst Recom.',\n",
    "    63: 'Average Volume',\n",
    "    64: 'Relative Volume',\n",
    "    65: 'Price',\n",
    "    66: 'Change',\n",
    "    67: 'Volume',\n",
    "    68: 'Earnings Date',\n",
    "    69: 'Target Price',\n",
    "    70: 'IPO Date'\n",
    "}"
   ]
  },
  {
   "cell_type": "code",
   "execution_count": null,
   "id": "4db17e67",
   "metadata": {
    "ExecuteTime": {
     "end_time": "2021-09-08T18:54:09.185562Z",
     "start_time": "2021-09-08T18:53:52.582787Z"
    }
   },
   "outputs": [],
   "source": [
    "sp500.visualize()"
   ]
  },
  {
   "cell_type": "code",
   "execution_count": null,
   "id": "a4474d54",
   "metadata": {
    "ExecuteTime": {
     "end_time": "2021-09-08T18:54:18.085121Z",
     "start_time": "2021-09-08T18:54:17.731823Z"
    }
   },
   "outputs": [],
   "source": [
    "stock.TickerCharts()"
   ]
  },
  {
   "cell_type": "code",
   "execution_count": null,
   "id": "31e15305",
   "metadata": {
    "ExecuteTime": {
     "end_time": "2021-09-01T23:20:57.275796Z",
     "start_time": "2021-09-01T23:20:57.069817Z"
    }
   },
   "outputs": [],
   "source": [
    "fv('AAPL').TickerFundament()"
   ]
  },
  {
   "cell_type": "code",
   "execution_count": null,
   "id": "58d6ccf6",
   "metadata": {},
   "outputs": [],
   "source": []
  }
 ],
 "metadata": {
  "hide_input": false,
  "kernelspec": {
   "display_name": "Python 3",
   "language": "python",
   "name": "python3"
  },
  "language_info": {
   "codemirror_mode": {
    "name": "ipython",
    "version": 3
   },
   "file_extension": ".py",
   "mimetype": "text/x-python",
   "name": "python",
   "nbconvert_exporter": "python",
   "pygments_lexer": "ipython3",
   "version": "3.9.0"
  },
  "toc": {
   "base_numbering": 1,
   "nav_menu": {},
   "number_sections": true,
   "sideBar": true,
   "skip_h1_title": false,
   "title_cell": "Table of Contents",
   "title_sidebar": "Contents",
   "toc_cell": false,
   "toc_position": {},
   "toc_section_display": true,
   "toc_window_display": false
  },
  "varInspector": {
   "cols": {
    "lenName": 16,
    "lenType": 16,
    "lenVar": 40
   },
   "kernels_config": {
    "python": {
     "delete_cmd_postfix": "",
     "delete_cmd_prefix": "del ",
     "library": "var_list.py",
     "varRefreshCmd": "print(var_dic_list())"
    },
    "r": {
     "delete_cmd_postfix": ") ",
     "delete_cmd_prefix": "rm(",
     "library": "var_list.r",
     "varRefreshCmd": "cat(var_dic_list()) "
    }
   },
   "types_to_exclude": [
    "module",
    "function",
    "builtin_function_or_method",
    "instance",
    "_Feature"
   ],
   "window_display": false
  }
 },
 "nbformat": 4,
 "nbformat_minor": 5
}
